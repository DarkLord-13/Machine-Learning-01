{
  "nbformat": 4,
  "nbformat_minor": 0,
  "metadata": {
    "colab": {
      "provenance": [],
      "authorship_tag": "ABX9TyNc9kdh/jCZOocVoJ5LxNzK",
      "include_colab_link": true
    },
    "kernelspec": {
      "name": "python3",
      "display_name": "Python 3"
    },
    "language_info": {
      "name": "python"
    }
  },
  "cells": [
    {
      "cell_type": "markdown",
      "metadata": {
        "id": "view-in-github",
        "colab_type": "text"
      },
      "source": [
        "<a href=\"https://colab.research.google.com/github/DarkLord-13/Machine-Learning-01/blob/main/SonarrocksVSmine.ipynb\" target=\"_parent\"><img src=\"https://colab.research.google.com/assets/colab-badge.svg\" alt=\"Open In Colab\"/></a>"
      ]
    },
    {
      "cell_type": "markdown",
      "source": [
        "We identify whether the sonar reflected from a mine or rock based on the recieved data"
      ],
      "metadata": {
        "id": "eywlHBf3x6Zy"
      }
    },
    {
      "cell_type": "markdown",
      "source": [
        "***Workflow***:\n",
        "\n",
        "SonarData -> Data PreProcessing -> TrainTestSplit -> Logistic Regression Model(as it's a binary classification model, i.e. 0 or 1)"
      ],
      "metadata": {
        "id": "POgKmS5AyO-5"
      }
    },
    {
      "cell_type": "code",
      "execution_count": null,
      "metadata": {
        "id": "7jLi-yU9xw4H"
      },
      "outputs": [],
      "source": [
        "import numpy as np\n",
        "import pandas as pd\n",
        "from sklearn.model_selection import train_test_split\n",
        "from sklearn.linear_model import LogisticRegression\n",
        "from sklearn.metrics import accuracy_score"
      ]
    },
    {
      "cell_type": "markdown",
      "source": [
        "#Data collection and data processing"
      ],
      "metadata": {
        "id": "iAOKZG34wXlf"
      }
    },
    {
      "cell_type": "code",
      "source": [
        "sonar_data = pd.read_csv('/content/sonar_data.csv', header=None)\n",
        "sonar_data.head()"
      ],
      "metadata": {
        "id": "NiR3l1Pkwa0w"
      },
      "execution_count": null,
      "outputs": []
    },
    {
      "cell_type": "code",
      "source": [
        "sonar_data[60].value_counts() #mines and rocks datapoints are of nearly same number, therefore no problem"
      ],
      "metadata": {
        "id": "QaRg3-SQCytg"
      },
      "execution_count": null,
      "outputs": []
    },
    {
      "cell_type": "code",
      "source": [
        "sonar_data.groupby(60).mean() #this groups the whole dataset by different values of column 60 (M or R) and finds its mean value"
      ],
      "metadata": {
        "id": "fBSUBTulEUpX"
      },
      "execution_count": null,
      "outputs": []
    },
    {
      "cell_type": "code",
      "source": [
        "#seperation features and labels\n",
        "x = sonar_data.drop(columns=60, axis=1)#features\n",
        "y = sonar_data[60]#labels"
      ],
      "metadata": {
        "id": "GGqtwsV5HVuR"
      },
      "execution_count": null,
      "outputs": []
    },
    {
      "cell_type": "code",
      "source": [
        "#splitting into train_test data\n",
        "x_train,x_test,y_train,y_test = train_test_split(x,y,test_size=0.1,stratify=y,random_state=1)\n",
        "#stratify = y -> this will split the train-test dataset according to the values of dataset y (which contains M or R)"
      ],
      "metadata": {
        "id": "cJ-pKJVdIL9V"
      },
      "execution_count": null,
      "outputs": []
    },
    {
      "cell_type": "markdown",
      "source": [
        "#Model Training -> Logistic Regression"
      ],
      "metadata": {
        "id": "S-PxY1IBJg2h"
      }
    },
    {
      "cell_type": "code",
      "source": [
        "model = LogisticRegression()"
      ],
      "metadata": {
        "id": "3lI9tCvYJZ8h"
      },
      "execution_count": null,
      "outputs": []
    },
    {
      "cell_type": "code",
      "source": [
        "#training the LogisticRegression model with the training data\n",
        "model.fit(x_train, y_train)"
      ],
      "metadata": {
        "id": "gr0wCH0TJtzx"
      },
      "execution_count": null,
      "outputs": []
    },
    {
      "cell_type": "markdown",
      "source": [
        "Model evaluation-> using accuracy score library imported earlier\n",
        "\n",
        "in lclassification system, we use accuracyscore()"
      ],
      "metadata": {
        "id": "1jtt9Xv7LbSR"
      }
    },
    {
      "cell_type": "code",
      "source": [
        "x_train_prediction = model.predict(x_train)\n",
        "training_data_accuracy = accuracy_score(x_train_prediction, y_train)"
      ],
      "metadata": {
        "id": "UukIHXWBLXrS"
      },
      "execution_count": null,
      "outputs": []
    },
    {
      "cell_type": "code",
      "source": [
        "training_data_accuracy"
      ],
      "metadata": {
        "id": "UzKNx8_ZMuFN"
      },
      "execution_count": null,
      "outputs": []
    },
    {
      "cell_type": "code",
      "source": [
        "x_test_prediction = model.predict(x_test)\n",
        "testing_data_accuracy = accuracy_score(x_test_prediction, y_test)"
      ],
      "metadata": {
        "id": "DGNZCcxfNCkk"
      },
      "execution_count": null,
      "outputs": []
    },
    {
      "cell_type": "code",
      "source": [
        "testing_data_accuracy"
      ],
      "metadata": {
        "id": "wRaFQZS6NZSl"
      },
      "execution_count": null,
      "outputs": []
    },
    {
      "cell_type": "markdown",
      "source": [
        "#Making a prediction system"
      ],
      "metadata": {
        "id": "1o7XMJF6ONK4"
      }
    },
    {
      "cell_type": "code",
      "source": [
        "input_data = (0.0261,0.0266,0.0223,0.0749,0.1364,0.1513,0.1316,0.1654,0.1864,0.2013,0.2890,0.3650,0.3510,0.3495,0.4325,0.5398,0.6237,0.6876,0.7329,0.8107,0.8396,0.8632,0.8747,0.9607,0.9716,0.9121,0.8576,0.8798,0.7720,0.5711,0.4264,0.2860,0.3114,0.2066,0.1165,0.0185,0.1302,0.2480,0.1637,0.1103,0.2144,0.2033,0.1887,0.1370,0.1376,0.0307,0.0373,0.0606,0.0399,0.0169,0.0135,0.0222,0.0175,0.0127,0.0022,0.0124,0.0054,0.0021,0.0028,0.0023)\n",
        "#above data is MINE\n",
        "#changing the input_data to numpy array type as it's faster than tradition list\n",
        "input_data_as_numpy_array = np.asarray(input_data)\n",
        "\n",
        "#reshape the np array as we are predicting for one instance\n",
        "input_data_reshaped = input_data_as_numpy_array.reshape(1,-1)\n",
        "\n",
        "prediction = model.predict(input_data_reshaped)"
      ],
      "metadata": {
        "id": "sHcMwHHYNbgm"
      },
      "execution_count": null,
      "outputs": []
    },
    {
      "cell_type": "code",
      "source": [
        "print(prediction)"
      ],
      "metadata": {
        "id": "OMQmYdWNRviW"
      },
      "execution_count": null,
      "outputs": []
    }
  ]
}