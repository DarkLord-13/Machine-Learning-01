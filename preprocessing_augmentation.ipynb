{
  "nbformat": 4,
  "nbformat_minor": 0,
  "metadata": {
    "colab": {
      "provenance": [],
      "include_colab_link": true
    },
    "kernelspec": {
      "name": "python3",
      "display_name": "Python 3"
    },
    "language_info": {
      "name": "python"
    }
  },
  "cells": [
    {
      "cell_type": "markdown",
      "metadata": {
        "id": "view-in-github",
        "colab_type": "text"
      },
      "source": [
        "<a href=\"https://colab.research.google.com/github/DarkLord-13/Machine-Learning-01/blob/main/preprocessing_augmentation.ipynb\" target=\"_parent\"><img src=\"https://colab.research.google.com/assets/colab-badge.svg\" alt=\"Open In Colab\"/></a>"
      ]
    },
    {
      "cell_type": "markdown",
      "source": [
        "**Required structure:**\n",
        "_____________________________________________\n",
        "\n",
        "main_directory\n",
        "\n",
        "  -> sub_dir_1\n",
        "\n",
        "  -> sub_dir_2\n",
        "\n",
        "  -> ..."
      ],
      "metadata": {
        "id": "ozCVTyN0E2dV"
      }
    },
    {
      "cell_type": "code",
      "source": [
        "from zipfile import ZipFile\n",
        "import shutil\n",
        "import os\n",
        "import cv2\n",
        "import numpy as np\n",
        "from tensorflow.keras.preprocessing.image import ImageDataGenerator\n",
        "from PIL import Image, ImageEnhance, ImageOps\n",
        "import matplotlib.pyplot as plt\n",
        "import matplotlib.image as mpimg"
      ],
      "metadata": {
        "id": "xyZ3Wh0XMoak"
      },
      "execution_count": null,
      "outputs": []
    },
    {
      "cell_type": "code",
      "source": [
        "#shutil.rmtree('test')"
      ],
      "metadata": {
        "id": "2EMnVmkuv4th"
      },
      "execution_count": null,
      "outputs": []
    },
    {
      "cell_type": "markdown",
      "source": [
        "Unzipping the file"
      ],
      "metadata": {
        "id": "v8noO89fOCMr"
      }
    },
    {
      "cell_type": "code",
      "execution_count": null,
      "metadata": {
        "id": "Dq_-ci0TIfrC"
      },
      "outputs": [],
      "source": [
        "data_folder_name = 'train' # give your zipped file name"
      ]
    },
    {
      "cell_type": "code",
      "source": [
        "dataset = f'/content/{data_folder_name}.zip'\n",
        "with ZipFile(dataset, 'r') as zip:\n",
        "  zip.extractall()\n",
        "  print('dataset is extracted')"
      ],
      "metadata": {
        "colab": {
          "base_uri": "https://localhost:8080/"
        },
        "id": "cVqkw7aTJCoE",
        "outputId": "1ed0ae4a-2551-40b2-bd83-cc66133aa3cb"
      },
      "execution_count": null,
      "outputs": [
        {
          "output_type": "stream",
          "name": "stdout",
          "text": [
            "dataset is extracted\n"
          ]
        }
      ]
    },
    {
      "cell_type": "markdown",
      "source": [
        "Creating the mirror directory"
      ],
      "metadata": {
        "id": "Wwx0VkgdNiqK"
      }
    },
    {
      "cell_type": "code",
      "source": [
        "input_folder_path = data_folder_name # give your input folder path\n",
        "\n",
        "output_folder_path = f'{input_folder_path}_aug' # give your output folder path\n",
        "\n",
        "if not os.path.exists(output_folder_path):\n",
        "    os.makedirs(output_folder_path)"
      ],
      "metadata": {
        "id": "raPPU8QDJE08"
      },
      "execution_count": null,
      "outputs": []
    },
    {
      "cell_type": "markdown",
      "source": [
        "Data Augmentation"
      ],
      "metadata": {
        "id": "IMXba-nytILF"
      }
    },
    {
      "cell_type": "code",
      "source": [
        "datagen = ImageDataGenerator(\n",
        "    rotation_range=360,\n",
        "    width_shift_range=0.1,\n",
        "    height_shift_range=0.1,\n",
        "    zoom_range=0.1,\n",
        "    vertical_flip=True,\n",
        "    horizontal_flip=True,\n",
        "    fill_mode='nearest'\n",
        ")\n",
        "\n",
        "def augment_images(input_images, num_augmentations=7):\n",
        "    augmented_images = []\n",
        "\n",
        "    # Reshape the input_images array to fit the expected shape by the ImageDataGenerator\n",
        "    input_images = input_images.reshape((input_images.shape[0], input_images.shape[1], input_images.shape[2], -1))\n",
        "\n",
        "    # Loop through each input image\n",
        "    for img in input_images:\n",
        "        # Expand dimensions to fit the expected shape by the ImageDataGenerator\n",
        "        img = np.expand_dims(img, axis=0)\n",
        "\n",
        "        # Flow and generate augmented images\n",
        "        aug_iter = datagen.flow(img, batch_size=1)\n",
        "\n",
        "        for _ in range(num_augmentations):\n",
        "            batch = aug_iter.next()\n",
        "            augmented_images.extend(batch)\n",
        "\n",
        "    return augmented_images"
      ],
      "metadata": {
        "id": "jmDoaAtFPCxT"
      },
      "execution_count": null,
      "outputs": []
    },
    {
      "cell_type": "markdown",
      "source": [
        "Saving Images"
      ],
      "metadata": {
        "id": "xR5ozTkItZCY"
      }
    },
    {
      "cell_type": "code",
      "source": [
        "def save_images(arr, folder_path):\n",
        "    for idx, img in enumerate(arr):\n",
        "        file_path = f'{folder_path}/{idx}.png'\n",
        "        cv2.imwrite(file_path, img)"
      ],
      "metadata": {
        "id": "CUyIkFFoTqBN"
      },
      "execution_count": null,
      "outputs": []
    },
    {
      "cell_type": "markdown",
      "source": [
        "Creating mirror subdirectory"
      ],
      "metadata": {
        "id": "vSWmBEe_NoSq"
      }
    },
    {
      "cell_type": "code",
      "source": [
        "subfolders = os.listdir(input_folder_path)\n",
        "for i in subfolders:\n",
        "  os.makedirs(f'/content/{output_folder_path}/{i}')"
      ],
      "metadata": {
        "id": "BYouJeElM_nX"
      },
      "execution_count": null,
      "outputs": []
    },
    {
      "cell_type": "markdown",
      "source": [
        "Pre-Processing images and saving in their respective sub-directories"
      ],
      "metadata": {
        "id": "06OM7ZTBvmYB"
      }
    },
    {
      "cell_type": "code",
      "source": [
        "def expand2square(pil_img):\n",
        "  background_color = (255, 255, 255)\n",
        "  pil_img = pil_img.convert('RGB')\n",
        "  width, height = pil_img.size\n",
        "  if width == height:\n",
        "      return pil_img\n",
        "  elif width > height:\n",
        "      result = Image.new(pil_img.mode, (width, width), background_color)\n",
        "      result.paste(pil_img, (0, (width - height) // 2))\n",
        "      return result\n",
        "  else:\n",
        "      result = Image.new(pil_img.mode, (height, height), background_color)\n",
        "      result.paste(pil_img, ((height - width) // 2, 0))\n",
        "      return result"
      ],
      "metadata": {
        "id": "dO0mantNHOBS"
      },
      "execution_count": null,
      "outputs": []
    },
    {
      "cell_type": "code",
      "source": [
        "for i in subfolders:\n",
        "  images = os.listdir(f'/content/{input_folder_path}/{i}')\n",
        "  image_list = []\n",
        "\n",
        "  for j in images:\n",
        "    fpp = f'/content/{input_folder_path}/{i}/{j}'\n",
        "    img = Image.open(fpp)\n",
        "\n",
        "    if img.mode != 'RGB':\n",
        "        img = img.convert('RGB')\n",
        "\n",
        "    img = ImageEnhance.Contrast(img)\n",
        "    img = img.enhance(1.5)\n",
        "    img = expand2square(img)\n",
        "    img = ImageOps.expand(img, border=40, fill='white')\n",
        "    img = img.resize((112, 112))\n",
        "    img = np.array(img)\n",
        "    image_list.append(img)\n",
        "\n",
        "  num_augmentations = 7\n",
        "  images_aug = augment_images(np.array(image_list), num_augmentations)\n",
        "\n",
        "  save_images(images_aug, f'/content/{output_folder_path}/{i}')"
      ],
      "metadata": {
        "id": "7sP1aiaUNdQ1"
      },
      "execution_count": null,
      "outputs": []
    },
    {
      "cell_type": "markdown",
      "source": [
        "Zipping the aug images folder"
      ],
      "metadata": {
        "id": "-PqryDyEyFFw"
      }
    },
    {
      "cell_type": "code",
      "source": [
        "shutil.make_archive(output_folder_path, 'zip', output_folder_path)"
      ],
      "metadata": {
        "colab": {
          "base_uri": "https://localhost:8080/",
          "height": 35
        },
        "id": "l1izpMn9yEkB",
        "outputId": "9a6fbf65-13dc-4ce5-d421-dd599d81796f"
      },
      "execution_count": null,
      "outputs": [
        {
          "output_type": "execute_result",
          "data": {
            "text/plain": [
              "'/content/train_aug.zip'"
            ],
            "application/vnd.google.colaboratory.intrinsic+json": {
              "type": "string"
            }
          },
          "metadata": {},
          "execution_count": 14
        }
      ]
    }
  ]
}