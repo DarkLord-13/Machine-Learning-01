{
  "nbformat": 4,
  "nbformat_minor": 0,
  "metadata": {
    "colab": {
      "provenance": [],
      "authorship_tag": "ABX9TyMlIz49LCOM5lhjZvA7ALm1",
      "include_colab_link": true
    },
    "kernelspec": {
      "name": "python3",
      "display_name": "Python 3"
    },
    "language_info": {
      "name": "python"
    }
  },
  "cells": [
    {
      "cell_type": "markdown",
      "metadata": {
        "id": "view-in-github",
        "colab_type": "text"
      },
      "source": [
        "<a href=\"https://colab.research.google.com/github/DarkLord-13/Machine-Learning-01/blob/main/PCA_(Principal_Component_Analysis).ipynb\" target=\"_parent\"><img src=\"https://colab.research.google.com/assets/colab-badge.svg\" alt=\"Open In Colab\"/></a>"
      ]
    },
    {
      "cell_type": "code",
      "execution_count": 3,
      "metadata": {
        "id": "SrEDTzWqWHed"
      },
      "outputs": [],
      "source": [
        "import matplotlib.pyplot as plt\n",
        "import numpy as np\n",
        "import pandas as pd\n",
        "# this renders the plots in this notebook itself, instead of some other window\n",
        "%matplotlib inline"
      ]
    },
    {
      "cell_type": "markdown",
      "source": [
        "# Example-1 (raw data)"
      ],
      "metadata": {
        "id": "Y4kEuADGlixJ"
      }
    },
    {
      "cell_type": "code",
      "source": [
        "from sklearn.datasets import load_breast_cancer"
      ],
      "metadata": {
        "id": "wEbQ5nG_WXp-"
      },
      "execution_count": 4,
      "outputs": []
    },
    {
      "cell_type": "code",
      "source": [
        "dataset = load_breast_cancer()"
      ],
      "metadata": {
        "id": "rEIDkVxYW950"
      },
      "execution_count": 8,
      "outputs": []
    },
    {
      "cell_type": "code",
      "source": [
        "dataset.keys()"
      ],
      "metadata": {
        "colab": {
          "base_uri": "https://localhost:8080/"
        },
        "id": "GWOUrCbhXZ-8",
        "outputId": "421bc5e1-333d-4f38-a0f5-352e2f023c6c"
      },
      "execution_count": 14,
      "outputs": [
        {
          "output_type": "execute_result",
          "data": {
            "text/plain": [
              "dict_keys(['data', 'target', 'frame', 'target_names', 'DESCR', 'feature_names', 'filename', 'data_module'])"
            ]
          },
          "metadata": {},
          "execution_count": 14
        }
      ]
    },
    {
      "cell_type": "code",
      "source": [
        "print(dataset['DESCR'])"
      ],
      "metadata": {
        "colab": {
          "base_uri": "https://localhost:8080/"
        },
        "id": "oljk5IGNXBCI",
        "outputId": "8d258caa-b970-43b8-e246-faed207a04f6"
      },
      "execution_count": 15,
      "outputs": [
        {
          "output_type": "stream",
          "name": "stdout",
          "text": [
            ".. _breast_cancer_dataset:\n",
            "\n",
            "Breast cancer wisconsin (diagnostic) dataset\n",
            "--------------------------------------------\n",
            "\n",
            "**Data Set Characteristics:**\n",
            "\n",
            "    :Number of Instances: 569\n",
            "\n",
            "    :Number of Attributes: 30 numeric, predictive attributes and the class\n",
            "\n",
            "    :Attribute Information:\n",
            "        - radius (mean of distances from center to points on the perimeter)\n",
            "        - texture (standard deviation of gray-scale values)\n",
            "        - perimeter\n",
            "        - area\n",
            "        - smoothness (local variation in radius lengths)\n",
            "        - compactness (perimeter^2 / area - 1.0)\n",
            "        - concavity (severity of concave portions of the contour)\n",
            "        - concave points (number of concave portions of the contour)\n",
            "        - symmetry\n",
            "        - fractal dimension (\"coastline approximation\" - 1)\n",
            "\n",
            "        The mean, standard error, and \"worst\" or largest (mean of the three\n",
            "        worst/largest values) of these features were computed for each image,\n",
            "        resulting in 30 features.  For instance, field 0 is Mean Radius, field\n",
            "        10 is Radius SE, field 20 is Worst Radius.\n",
            "\n",
            "        - class:\n",
            "                - WDBC-Malignant\n",
            "                - WDBC-Benign\n",
            "\n",
            "    :Summary Statistics:\n",
            "\n",
            "    ===================================== ====== ======\n",
            "                                           Min    Max\n",
            "    ===================================== ====== ======\n",
            "    radius (mean):                        6.981  28.11\n",
            "    texture (mean):                       9.71   39.28\n",
            "    perimeter (mean):                     43.79  188.5\n",
            "    area (mean):                          143.5  2501.0\n",
            "    smoothness (mean):                    0.053  0.163\n",
            "    compactness (mean):                   0.019  0.345\n",
            "    concavity (mean):                     0.0    0.427\n",
            "    concave points (mean):                0.0    0.201\n",
            "    symmetry (mean):                      0.106  0.304\n",
            "    fractal dimension (mean):             0.05   0.097\n",
            "    radius (standard error):              0.112  2.873\n",
            "    texture (standard error):             0.36   4.885\n",
            "    perimeter (standard error):           0.757  21.98\n",
            "    area (standard error):                6.802  542.2\n",
            "    smoothness (standard error):          0.002  0.031\n",
            "    compactness (standard error):         0.002  0.135\n",
            "    concavity (standard error):           0.0    0.396\n",
            "    concave points (standard error):      0.0    0.053\n",
            "    symmetry (standard error):            0.008  0.079\n",
            "    fractal dimension (standard error):   0.001  0.03\n",
            "    radius (worst):                       7.93   36.04\n",
            "    texture (worst):                      12.02  49.54\n",
            "    perimeter (worst):                    50.41  251.2\n",
            "    area (worst):                         185.2  4254.0\n",
            "    smoothness (worst):                   0.071  0.223\n",
            "    compactness (worst):                  0.027  1.058\n",
            "    concavity (worst):                    0.0    1.252\n",
            "    concave points (worst):               0.0    0.291\n",
            "    symmetry (worst):                     0.156  0.664\n",
            "    fractal dimension (worst):            0.055  0.208\n",
            "    ===================================== ====== ======\n",
            "\n",
            "    :Missing Attribute Values: None\n",
            "\n",
            "    :Class Distribution: 212 - Malignant, 357 - Benign\n",
            "\n",
            "    :Creator:  Dr. William H. Wolberg, W. Nick Street, Olvi L. Mangasarian\n",
            "\n",
            "    :Donor: Nick Street\n",
            "\n",
            "    :Date: November, 1995\n",
            "\n",
            "This is a copy of UCI ML Breast Cancer Wisconsin (Diagnostic) datasets.\n",
            "https://goo.gl/U2Uwz2\n",
            "\n",
            "Features are computed from a digitized image of a fine needle\n",
            "aspirate (FNA) of a breast mass.  They describe\n",
            "characteristics of the cell nuclei present in the image.\n",
            "\n",
            "Separating plane described above was obtained using\n",
            "Multisurface Method-Tree (MSM-T) [K. P. Bennett, \"Decision Tree\n",
            "Construction Via Linear Programming.\" Proceedings of the 4th\n",
            "Midwest Artificial Intelligence and Cognitive Science Society,\n",
            "pp. 97-101, 1992], a classification method which uses linear\n",
            "programming to construct a decision tree.  Relevant features\n",
            "were selected using an exhaustive search in the space of 1-4\n",
            "features and 1-3 separating planes.\n",
            "\n",
            "The actual linear program used to obtain the separating plane\n",
            "in the 3-dimensional space is that described in:\n",
            "[K. P. Bennett and O. L. Mangasarian: \"Robust Linear\n",
            "Programming Discrimination of Two Linearly Inseparable Sets\",\n",
            "Optimization Methods and Software 1, 1992, 23-34].\n",
            "\n",
            "This database is also available through the UW CS ftp server:\n",
            "\n",
            "ftp ftp.cs.wisc.edu\n",
            "cd math-prog/cpo-dataset/machine-learn/WDBC/\n",
            "\n",
            ".. topic:: References\n",
            "\n",
            "   - W.N. Street, W.H. Wolberg and O.L. Mangasarian. Nuclear feature extraction \n",
            "     for breast tumor diagnosis. IS&T/SPIE 1993 International Symposium on \n",
            "     Electronic Imaging: Science and Technology, volume 1905, pages 861-870,\n",
            "     San Jose, CA, 1993.\n",
            "   - O.L. Mangasarian, W.N. Street and W.H. Wolberg. Breast cancer diagnosis and \n",
            "     prognosis via linear programming. Operations Research, 43(4), pages 570-577, \n",
            "     July-August 1995.\n",
            "   - W.H. Wolberg, W.N. Street, and O.L. Mangasarian. Machine learning techniques\n",
            "     to diagnose breast cancer from fine-needle aspirates. Cancer Letters 77 (1994) \n",
            "     163-171.\n"
          ]
        }
      ]
    },
    {
      "cell_type": "code",
      "source": [
        "df = pd.DataFrame(data=dataset['data'], columns = dataset['feature_names'])"
      ],
      "metadata": {
        "id": "Lr-fSfKJXXVa"
      },
      "execution_count": 16,
      "outputs": []
    },
    {
      "cell_type": "code",
      "source": [
        "df.head()"
      ],
      "metadata": {
        "colab": {
          "base_uri": "https://localhost:8080/",
          "height": 290
        },
        "id": "t9VTg1czY8mn",
        "outputId": "2fa538c4-eba8-488d-cabf-7c390ef5059e"
      },
      "execution_count": 17,
      "outputs": [
        {
          "output_type": "execute_result",
          "data": {
            "text/plain": [
              "   mean radius  mean texture  mean perimeter  mean area  mean smoothness  \\\n",
              "0        17.99         10.38          122.80     1001.0          0.11840   \n",
              "1        20.57         17.77          132.90     1326.0          0.08474   \n",
              "2        19.69         21.25          130.00     1203.0          0.10960   \n",
              "3        11.42         20.38           77.58      386.1          0.14250   \n",
              "4        20.29         14.34          135.10     1297.0          0.10030   \n",
              "\n",
              "   mean compactness  mean concavity  mean concave points  mean symmetry  \\\n",
              "0           0.27760          0.3001              0.14710         0.2419   \n",
              "1           0.07864          0.0869              0.07017         0.1812   \n",
              "2           0.15990          0.1974              0.12790         0.2069   \n",
              "3           0.28390          0.2414              0.10520         0.2597   \n",
              "4           0.13280          0.1980              0.10430         0.1809   \n",
              "\n",
              "   mean fractal dimension  ...  worst radius  worst texture  worst perimeter  \\\n",
              "0                 0.07871  ...         25.38          17.33           184.60   \n",
              "1                 0.05667  ...         24.99          23.41           158.80   \n",
              "2                 0.05999  ...         23.57          25.53           152.50   \n",
              "3                 0.09744  ...         14.91          26.50            98.87   \n",
              "4                 0.05883  ...         22.54          16.67           152.20   \n",
              "\n",
              "   worst area  worst smoothness  worst compactness  worst concavity  \\\n",
              "0      2019.0            0.1622             0.6656           0.7119   \n",
              "1      1956.0            0.1238             0.1866           0.2416   \n",
              "2      1709.0            0.1444             0.4245           0.4504   \n",
              "3       567.7            0.2098             0.8663           0.6869   \n",
              "4      1575.0            0.1374             0.2050           0.4000   \n",
              "\n",
              "   worst concave points  worst symmetry  worst fractal dimension  \n",
              "0                0.2654          0.4601                  0.11890  \n",
              "1                0.1860          0.2750                  0.08902  \n",
              "2                0.2430          0.3613                  0.08758  \n",
              "3                0.2575          0.6638                  0.17300  \n",
              "4                0.1625          0.2364                  0.07678  \n",
              "\n",
              "[5 rows x 30 columns]"
            ],
            "text/html": [
              "\n",
              "  <div id=\"df-36a999f4-f699-4b4a-93bb-34eb068a45e6\" class=\"colab-df-container\">\n",
              "    <div>\n",
              "<style scoped>\n",
              "    .dataframe tbody tr th:only-of-type {\n",
              "        vertical-align: middle;\n",
              "    }\n",
              "\n",
              "    .dataframe tbody tr th {\n",
              "        vertical-align: top;\n",
              "    }\n",
              "\n",
              "    .dataframe thead th {\n",
              "        text-align: right;\n",
              "    }\n",
              "</style>\n",
              "<table border=\"1\" class=\"dataframe\">\n",
              "  <thead>\n",
              "    <tr style=\"text-align: right;\">\n",
              "      <th></th>\n",
              "      <th>mean radius</th>\n",
              "      <th>mean texture</th>\n",
              "      <th>mean perimeter</th>\n",
              "      <th>mean area</th>\n",
              "      <th>mean smoothness</th>\n",
              "      <th>mean compactness</th>\n",
              "      <th>mean concavity</th>\n",
              "      <th>mean concave points</th>\n",
              "      <th>mean symmetry</th>\n",
              "      <th>mean fractal dimension</th>\n",
              "      <th>...</th>\n",
              "      <th>worst radius</th>\n",
              "      <th>worst texture</th>\n",
              "      <th>worst perimeter</th>\n",
              "      <th>worst area</th>\n",
              "      <th>worst smoothness</th>\n",
              "      <th>worst compactness</th>\n",
              "      <th>worst concavity</th>\n",
              "      <th>worst concave points</th>\n",
              "      <th>worst symmetry</th>\n",
              "      <th>worst fractal dimension</th>\n",
              "    </tr>\n",
              "  </thead>\n",
              "  <tbody>\n",
              "    <tr>\n",
              "      <th>0</th>\n",
              "      <td>17.99</td>\n",
              "      <td>10.38</td>\n",
              "      <td>122.80</td>\n",
              "      <td>1001.0</td>\n",
              "      <td>0.11840</td>\n",
              "      <td>0.27760</td>\n",
              "      <td>0.3001</td>\n",
              "      <td>0.14710</td>\n",
              "      <td>0.2419</td>\n",
              "      <td>0.07871</td>\n",
              "      <td>...</td>\n",
              "      <td>25.38</td>\n",
              "      <td>17.33</td>\n",
              "      <td>184.60</td>\n",
              "      <td>2019.0</td>\n",
              "      <td>0.1622</td>\n",
              "      <td>0.6656</td>\n",
              "      <td>0.7119</td>\n",
              "      <td>0.2654</td>\n",
              "      <td>0.4601</td>\n",
              "      <td>0.11890</td>\n",
              "    </tr>\n",
              "    <tr>\n",
              "      <th>1</th>\n",
              "      <td>20.57</td>\n",
              "      <td>17.77</td>\n",
              "      <td>132.90</td>\n",
              "      <td>1326.0</td>\n",
              "      <td>0.08474</td>\n",
              "      <td>0.07864</td>\n",
              "      <td>0.0869</td>\n",
              "      <td>0.07017</td>\n",
              "      <td>0.1812</td>\n",
              "      <td>0.05667</td>\n",
              "      <td>...</td>\n",
              "      <td>24.99</td>\n",
              "      <td>23.41</td>\n",
              "      <td>158.80</td>\n",
              "      <td>1956.0</td>\n",
              "      <td>0.1238</td>\n",
              "      <td>0.1866</td>\n",
              "      <td>0.2416</td>\n",
              "      <td>0.1860</td>\n",
              "      <td>0.2750</td>\n",
              "      <td>0.08902</td>\n",
              "    </tr>\n",
              "    <tr>\n",
              "      <th>2</th>\n",
              "      <td>19.69</td>\n",
              "      <td>21.25</td>\n",
              "      <td>130.00</td>\n",
              "      <td>1203.0</td>\n",
              "      <td>0.10960</td>\n",
              "      <td>0.15990</td>\n",
              "      <td>0.1974</td>\n",
              "      <td>0.12790</td>\n",
              "      <td>0.2069</td>\n",
              "      <td>0.05999</td>\n",
              "      <td>...</td>\n",
              "      <td>23.57</td>\n",
              "      <td>25.53</td>\n",
              "      <td>152.50</td>\n",
              "      <td>1709.0</td>\n",
              "      <td>0.1444</td>\n",
              "      <td>0.4245</td>\n",
              "      <td>0.4504</td>\n",
              "      <td>0.2430</td>\n",
              "      <td>0.3613</td>\n",
              "      <td>0.08758</td>\n",
              "    </tr>\n",
              "    <tr>\n",
              "      <th>3</th>\n",
              "      <td>11.42</td>\n",
              "      <td>20.38</td>\n",
              "      <td>77.58</td>\n",
              "      <td>386.1</td>\n",
              "      <td>0.14250</td>\n",
              "      <td>0.28390</td>\n",
              "      <td>0.2414</td>\n",
              "      <td>0.10520</td>\n",
              "      <td>0.2597</td>\n",
              "      <td>0.09744</td>\n",
              "      <td>...</td>\n",
              "      <td>14.91</td>\n",
              "      <td>26.50</td>\n",
              "      <td>98.87</td>\n",
              "      <td>567.7</td>\n",
              "      <td>0.2098</td>\n",
              "      <td>0.8663</td>\n",
              "      <td>0.6869</td>\n",
              "      <td>0.2575</td>\n",
              "      <td>0.6638</td>\n",
              "      <td>0.17300</td>\n",
              "    </tr>\n",
              "    <tr>\n",
              "      <th>4</th>\n",
              "      <td>20.29</td>\n",
              "      <td>14.34</td>\n",
              "      <td>135.10</td>\n",
              "      <td>1297.0</td>\n",
              "      <td>0.10030</td>\n",
              "      <td>0.13280</td>\n",
              "      <td>0.1980</td>\n",
              "      <td>0.10430</td>\n",
              "      <td>0.1809</td>\n",
              "      <td>0.05883</td>\n",
              "      <td>...</td>\n",
              "      <td>22.54</td>\n",
              "      <td>16.67</td>\n",
              "      <td>152.20</td>\n",
              "      <td>1575.0</td>\n",
              "      <td>0.1374</td>\n",
              "      <td>0.2050</td>\n",
              "      <td>0.4000</td>\n",
              "      <td>0.1625</td>\n",
              "      <td>0.2364</td>\n",
              "      <td>0.07678</td>\n",
              "    </tr>\n",
              "  </tbody>\n",
              "</table>\n",
              "<p>5 rows × 30 columns</p>\n",
              "</div>\n",
              "    <div class=\"colab-df-buttons\">\n",
              "\n",
              "  <div class=\"colab-df-container\">\n",
              "    <button class=\"colab-df-convert\" onclick=\"convertToInteractive('df-36a999f4-f699-4b4a-93bb-34eb068a45e6')\"\n",
              "            title=\"Convert this dataframe to an interactive table.\"\n",
              "            style=\"display:none;\">\n",
              "\n",
              "  <svg xmlns=\"http://www.w3.org/2000/svg\" height=\"24px\" viewBox=\"0 -960 960 960\">\n",
              "    <path d=\"M120-120v-720h720v720H120Zm60-500h600v-160H180v160Zm220 220h160v-160H400v160Zm0 220h160v-160H400v160ZM180-400h160v-160H180v160Zm440 0h160v-160H620v160ZM180-180h160v-160H180v160Zm440 0h160v-160H620v160Z\"/>\n",
              "  </svg>\n",
              "    </button>\n",
              "\n",
              "  <style>\n",
              "    .colab-df-container {\n",
              "      display:flex;\n",
              "      gap: 12px;\n",
              "    }\n",
              "\n",
              "    .colab-df-convert {\n",
              "      background-color: #E8F0FE;\n",
              "      border: none;\n",
              "      border-radius: 50%;\n",
              "      cursor: pointer;\n",
              "      display: none;\n",
              "      fill: #1967D2;\n",
              "      height: 32px;\n",
              "      padding: 0 0 0 0;\n",
              "      width: 32px;\n",
              "    }\n",
              "\n",
              "    .colab-df-convert:hover {\n",
              "      background-color: #E2EBFA;\n",
              "      box-shadow: 0px 1px 2px rgba(60, 64, 67, 0.3), 0px 1px 3px 1px rgba(60, 64, 67, 0.15);\n",
              "      fill: #174EA6;\n",
              "    }\n",
              "\n",
              "    .colab-df-buttons div {\n",
              "      margin-bottom: 4px;\n",
              "    }\n",
              "\n",
              "    [theme=dark] .colab-df-convert {\n",
              "      background-color: #3B4455;\n",
              "      fill: #D2E3FC;\n",
              "    }\n",
              "\n",
              "    [theme=dark] .colab-df-convert:hover {\n",
              "      background-color: #434B5C;\n",
              "      box-shadow: 0px 1px 3px 1px rgba(0, 0, 0, 0.15);\n",
              "      filter: drop-shadow(0px 1px 2px rgba(0, 0, 0, 0.3));\n",
              "      fill: #FFFFFF;\n",
              "    }\n",
              "  </style>\n",
              "\n",
              "    <script>\n",
              "      const buttonEl =\n",
              "        document.querySelector('#df-36a999f4-f699-4b4a-93bb-34eb068a45e6 button.colab-df-convert');\n",
              "      buttonEl.style.display =\n",
              "        google.colab.kernel.accessAllowed ? 'block' : 'none';\n",
              "\n",
              "      async function convertToInteractive(key) {\n",
              "        const element = document.querySelector('#df-36a999f4-f699-4b4a-93bb-34eb068a45e6');\n",
              "        const dataTable =\n",
              "          await google.colab.kernel.invokeFunction('convertToInteractive',\n",
              "                                                    [key], {});\n",
              "        if (!dataTable) return;\n",
              "\n",
              "        const docLinkHtml = 'Like what you see? Visit the ' +\n",
              "          '<a target=\"_blank\" href=https://colab.research.google.com/notebooks/data_table.ipynb>data table notebook</a>'\n",
              "          + ' to learn more about interactive tables.';\n",
              "        element.innerHTML = '';\n",
              "        dataTable['output_type'] = 'display_data';\n",
              "        await google.colab.output.renderOutput(dataTable, element);\n",
              "        const docLink = document.createElement('div');\n",
              "        docLink.innerHTML = docLinkHtml;\n",
              "        element.appendChild(docLink);\n",
              "      }\n",
              "    </script>\n",
              "  </div>\n",
              "\n",
              "\n",
              "<div id=\"df-71d3f4cb-c25d-42f9-8caa-7f9545e473f4\">\n",
              "  <button class=\"colab-df-quickchart\" onclick=\"quickchart('df-71d3f4cb-c25d-42f9-8caa-7f9545e473f4')\"\n",
              "            title=\"Suggest charts.\"\n",
              "            style=\"display:none;\">\n",
              "\n",
              "<svg xmlns=\"http://www.w3.org/2000/svg\" height=\"24px\"viewBox=\"0 0 24 24\"\n",
              "     width=\"24px\">\n",
              "    <g>\n",
              "        <path d=\"M19 3H5c-1.1 0-2 .9-2 2v14c0 1.1.9 2 2 2h14c1.1 0 2-.9 2-2V5c0-1.1-.9-2-2-2zM9 17H7v-7h2v7zm4 0h-2V7h2v10zm4 0h-2v-4h2v4z\"/>\n",
              "    </g>\n",
              "</svg>\n",
              "  </button>\n",
              "\n",
              "<style>\n",
              "  .colab-df-quickchart {\n",
              "      --bg-color: #E8F0FE;\n",
              "      --fill-color: #1967D2;\n",
              "      --hover-bg-color: #E2EBFA;\n",
              "      --hover-fill-color: #174EA6;\n",
              "      --disabled-fill-color: #AAA;\n",
              "      --disabled-bg-color: #DDD;\n",
              "  }\n",
              "\n",
              "  [theme=dark] .colab-df-quickchart {\n",
              "      --bg-color: #3B4455;\n",
              "      --fill-color: #D2E3FC;\n",
              "      --hover-bg-color: #434B5C;\n",
              "      --hover-fill-color: #FFFFFF;\n",
              "      --disabled-bg-color: #3B4455;\n",
              "      --disabled-fill-color: #666;\n",
              "  }\n",
              "\n",
              "  .colab-df-quickchart {\n",
              "    background-color: var(--bg-color);\n",
              "    border: none;\n",
              "    border-radius: 50%;\n",
              "    cursor: pointer;\n",
              "    display: none;\n",
              "    fill: var(--fill-color);\n",
              "    height: 32px;\n",
              "    padding: 0;\n",
              "    width: 32px;\n",
              "  }\n",
              "\n",
              "  .colab-df-quickchart:hover {\n",
              "    background-color: var(--hover-bg-color);\n",
              "    box-shadow: 0 1px 2px rgba(60, 64, 67, 0.3), 0 1px 3px 1px rgba(60, 64, 67, 0.15);\n",
              "    fill: var(--button-hover-fill-color);\n",
              "  }\n",
              "\n",
              "  .colab-df-quickchart-complete:disabled,\n",
              "  .colab-df-quickchart-complete:disabled:hover {\n",
              "    background-color: var(--disabled-bg-color);\n",
              "    fill: var(--disabled-fill-color);\n",
              "    box-shadow: none;\n",
              "  }\n",
              "\n",
              "  .colab-df-spinner {\n",
              "    border: 2px solid var(--fill-color);\n",
              "    border-color: transparent;\n",
              "    border-bottom-color: var(--fill-color);\n",
              "    animation:\n",
              "      spin 1s steps(1) infinite;\n",
              "  }\n",
              "\n",
              "  @keyframes spin {\n",
              "    0% {\n",
              "      border-color: transparent;\n",
              "      border-bottom-color: var(--fill-color);\n",
              "      border-left-color: var(--fill-color);\n",
              "    }\n",
              "    20% {\n",
              "      border-color: transparent;\n",
              "      border-left-color: var(--fill-color);\n",
              "      border-top-color: var(--fill-color);\n",
              "    }\n",
              "    30% {\n",
              "      border-color: transparent;\n",
              "      border-left-color: var(--fill-color);\n",
              "      border-top-color: var(--fill-color);\n",
              "      border-right-color: var(--fill-color);\n",
              "    }\n",
              "    40% {\n",
              "      border-color: transparent;\n",
              "      border-right-color: var(--fill-color);\n",
              "      border-top-color: var(--fill-color);\n",
              "    }\n",
              "    60% {\n",
              "      border-color: transparent;\n",
              "      border-right-color: var(--fill-color);\n",
              "    }\n",
              "    80% {\n",
              "      border-color: transparent;\n",
              "      border-right-color: var(--fill-color);\n",
              "      border-bottom-color: var(--fill-color);\n",
              "    }\n",
              "    90% {\n",
              "      border-color: transparent;\n",
              "      border-bottom-color: var(--fill-color);\n",
              "    }\n",
              "  }\n",
              "</style>\n",
              "\n",
              "  <script>\n",
              "    async function quickchart(key) {\n",
              "      const quickchartButtonEl =\n",
              "        document.querySelector('#' + key + ' button');\n",
              "      quickchartButtonEl.disabled = true;  // To prevent multiple clicks.\n",
              "      quickchartButtonEl.classList.add('colab-df-spinner');\n",
              "      try {\n",
              "        const charts = await google.colab.kernel.invokeFunction(\n",
              "            'suggestCharts', [key], {});\n",
              "      } catch (error) {\n",
              "        console.error('Error during call to suggestCharts:', error);\n",
              "      }\n",
              "      quickchartButtonEl.classList.remove('colab-df-spinner');\n",
              "      quickchartButtonEl.classList.add('colab-df-quickchart-complete');\n",
              "    }\n",
              "    (() => {\n",
              "      let quickchartButtonEl =\n",
              "        document.querySelector('#df-71d3f4cb-c25d-42f9-8caa-7f9545e473f4 button');\n",
              "      quickchartButtonEl.style.display =\n",
              "        google.colab.kernel.accessAllowed ? 'block' : 'none';\n",
              "    })();\n",
              "  </script>\n",
              "</div>\n",
              "    </div>\n",
              "  </div>\n"
            ]
          },
          "metadata": {},
          "execution_count": 17
        }
      ]
    },
    {
      "cell_type": "code",
      "source": [
        "df.info()"
      ],
      "metadata": {
        "colab": {
          "base_uri": "https://localhost:8080/"
        },
        "id": "dL5wb6yrY_hp",
        "outputId": "373a107d-46a8-4ffb-c5b6-32b4c2b0ae62"
      },
      "execution_count": 18,
      "outputs": [
        {
          "output_type": "stream",
          "name": "stdout",
          "text": [
            "<class 'pandas.core.frame.DataFrame'>\n",
            "RangeIndex: 569 entries, 0 to 568\n",
            "Data columns (total 30 columns):\n",
            " #   Column                   Non-Null Count  Dtype  \n",
            "---  ------                   --------------  -----  \n",
            " 0   mean radius              569 non-null    float64\n",
            " 1   mean texture             569 non-null    float64\n",
            " 2   mean perimeter           569 non-null    float64\n",
            " 3   mean area                569 non-null    float64\n",
            " 4   mean smoothness          569 non-null    float64\n",
            " 5   mean compactness         569 non-null    float64\n",
            " 6   mean concavity           569 non-null    float64\n",
            " 7   mean concave points      569 non-null    float64\n",
            " 8   mean symmetry            569 non-null    float64\n",
            " 9   mean fractal dimension   569 non-null    float64\n",
            " 10  radius error             569 non-null    float64\n",
            " 11  texture error            569 non-null    float64\n",
            " 12  perimeter error          569 non-null    float64\n",
            " 13  area error               569 non-null    float64\n",
            " 14  smoothness error         569 non-null    float64\n",
            " 15  compactness error        569 non-null    float64\n",
            " 16  concavity error          569 non-null    float64\n",
            " 17  concave points error     569 non-null    float64\n",
            " 18  symmetry error           569 non-null    float64\n",
            " 19  fractal dimension error  569 non-null    float64\n",
            " 20  worst radius             569 non-null    float64\n",
            " 21  worst texture            569 non-null    float64\n",
            " 22  worst perimeter          569 non-null    float64\n",
            " 23  worst area               569 non-null    float64\n",
            " 24  worst smoothness         569 non-null    float64\n",
            " 25  worst compactness        569 non-null    float64\n",
            " 26  worst concavity          569 non-null    float64\n",
            " 27  worst concave points     569 non-null    float64\n",
            " 28  worst symmetry           569 non-null    float64\n",
            " 29  worst fractal dimension  569 non-null    float64\n",
            "dtypes: float64(30)\n",
            "memory usage: 133.5 KB\n"
          ]
        }
      ]
    },
    {
      "cell_type": "code",
      "source": [
        "df.describe()"
      ],
      "metadata": {
        "colab": {
          "base_uri": "https://localhost:8080/",
          "height": 384
        },
        "id": "hz98DX1VZArK",
        "outputId": "d3fa9cd9-2749-4be6-ae51-4abb89ab3592"
      },
      "execution_count": 21,
      "outputs": [
        {
          "output_type": "execute_result",
          "data": {
            "text/plain": [
              "       mean radius  mean texture  mean perimeter    mean area  \\\n",
              "count   569.000000    569.000000      569.000000   569.000000   \n",
              "mean     14.127292     19.289649       91.969033   654.889104   \n",
              "std       3.524049      4.301036       24.298981   351.914129   \n",
              "min       6.981000      9.710000       43.790000   143.500000   \n",
              "25%      11.700000     16.170000       75.170000   420.300000   \n",
              "50%      13.370000     18.840000       86.240000   551.100000   \n",
              "75%      15.780000     21.800000      104.100000   782.700000   \n",
              "max      28.110000     39.280000      188.500000  2501.000000   \n",
              "\n",
              "       mean smoothness  mean compactness  mean concavity  mean concave points  \\\n",
              "count       569.000000        569.000000      569.000000           569.000000   \n",
              "mean          0.096360          0.104341        0.088799             0.048919   \n",
              "std           0.014064          0.052813        0.079720             0.038803   \n",
              "min           0.052630          0.019380        0.000000             0.000000   \n",
              "25%           0.086370          0.064920        0.029560             0.020310   \n",
              "50%           0.095870          0.092630        0.061540             0.033500   \n",
              "75%           0.105300          0.130400        0.130700             0.074000   \n",
              "max           0.163400          0.345400        0.426800             0.201200   \n",
              "\n",
              "       mean symmetry  mean fractal dimension  ...  worst radius  \\\n",
              "count     569.000000              569.000000  ...    569.000000   \n",
              "mean        0.181162                0.062798  ...     16.269190   \n",
              "std         0.027414                0.007060  ...      4.833242   \n",
              "min         0.106000                0.049960  ...      7.930000   \n",
              "25%         0.161900                0.057700  ...     13.010000   \n",
              "50%         0.179200                0.061540  ...     14.970000   \n",
              "75%         0.195700                0.066120  ...     18.790000   \n",
              "max         0.304000                0.097440  ...     36.040000   \n",
              "\n",
              "       worst texture  worst perimeter   worst area  worst smoothness  \\\n",
              "count     569.000000       569.000000   569.000000        569.000000   \n",
              "mean       25.677223       107.261213   880.583128          0.132369   \n",
              "std         6.146258        33.602542   569.356993          0.022832   \n",
              "min        12.020000        50.410000   185.200000          0.071170   \n",
              "25%        21.080000        84.110000   515.300000          0.116600   \n",
              "50%        25.410000        97.660000   686.500000          0.131300   \n",
              "75%        29.720000       125.400000  1084.000000          0.146000   \n",
              "max        49.540000       251.200000  4254.000000          0.222600   \n",
              "\n",
              "       worst compactness  worst concavity  worst concave points  \\\n",
              "count         569.000000       569.000000            569.000000   \n",
              "mean            0.254265         0.272188              0.114606   \n",
              "std             0.157336         0.208624              0.065732   \n",
              "min             0.027290         0.000000              0.000000   \n",
              "25%             0.147200         0.114500              0.064930   \n",
              "50%             0.211900         0.226700              0.099930   \n",
              "75%             0.339100         0.382900              0.161400   \n",
              "max             1.058000         1.252000              0.291000   \n",
              "\n",
              "       worst symmetry  worst fractal dimension  \n",
              "count      569.000000               569.000000  \n",
              "mean         0.290076                 0.083946  \n",
              "std          0.061867                 0.018061  \n",
              "min          0.156500                 0.055040  \n",
              "25%          0.250400                 0.071460  \n",
              "50%          0.282200                 0.080040  \n",
              "75%          0.317900                 0.092080  \n",
              "max          0.663800                 0.207500  \n",
              "\n",
              "[8 rows x 30 columns]"
            ],
            "text/html": [
              "\n",
              "  <div id=\"df-c5137690-4981-4b5a-995a-972f967c0eee\" class=\"colab-df-container\">\n",
              "    <div>\n",
              "<style scoped>\n",
              "    .dataframe tbody tr th:only-of-type {\n",
              "        vertical-align: middle;\n",
              "    }\n",
              "\n",
              "    .dataframe tbody tr th {\n",
              "        vertical-align: top;\n",
              "    }\n",
              "\n",
              "    .dataframe thead th {\n",
              "        text-align: right;\n",
              "    }\n",
              "</style>\n",
              "<table border=\"1\" class=\"dataframe\">\n",
              "  <thead>\n",
              "    <tr style=\"text-align: right;\">\n",
              "      <th></th>\n",
              "      <th>mean radius</th>\n",
              "      <th>mean texture</th>\n",
              "      <th>mean perimeter</th>\n",
              "      <th>mean area</th>\n",
              "      <th>mean smoothness</th>\n",
              "      <th>mean compactness</th>\n",
              "      <th>mean concavity</th>\n",
              "      <th>mean concave points</th>\n",
              "      <th>mean symmetry</th>\n",
              "      <th>mean fractal dimension</th>\n",
              "      <th>...</th>\n",
              "      <th>worst radius</th>\n",
              "      <th>worst texture</th>\n",
              "      <th>worst perimeter</th>\n",
              "      <th>worst area</th>\n",
              "      <th>worst smoothness</th>\n",
              "      <th>worst compactness</th>\n",
              "      <th>worst concavity</th>\n",
              "      <th>worst concave points</th>\n",
              "      <th>worst symmetry</th>\n",
              "      <th>worst fractal dimension</th>\n",
              "    </tr>\n",
              "  </thead>\n",
              "  <tbody>\n",
              "    <tr>\n",
              "      <th>count</th>\n",
              "      <td>569.000000</td>\n",
              "      <td>569.000000</td>\n",
              "      <td>569.000000</td>\n",
              "      <td>569.000000</td>\n",
              "      <td>569.000000</td>\n",
              "      <td>569.000000</td>\n",
              "      <td>569.000000</td>\n",
              "      <td>569.000000</td>\n",
              "      <td>569.000000</td>\n",
              "      <td>569.000000</td>\n",
              "      <td>...</td>\n",
              "      <td>569.000000</td>\n",
              "      <td>569.000000</td>\n",
              "      <td>569.000000</td>\n",
              "      <td>569.000000</td>\n",
              "      <td>569.000000</td>\n",
              "      <td>569.000000</td>\n",
              "      <td>569.000000</td>\n",
              "      <td>569.000000</td>\n",
              "      <td>569.000000</td>\n",
              "      <td>569.000000</td>\n",
              "    </tr>\n",
              "    <tr>\n",
              "      <th>mean</th>\n",
              "      <td>14.127292</td>\n",
              "      <td>19.289649</td>\n",
              "      <td>91.969033</td>\n",
              "      <td>654.889104</td>\n",
              "      <td>0.096360</td>\n",
              "      <td>0.104341</td>\n",
              "      <td>0.088799</td>\n",
              "      <td>0.048919</td>\n",
              "      <td>0.181162</td>\n",
              "      <td>0.062798</td>\n",
              "      <td>...</td>\n",
              "      <td>16.269190</td>\n",
              "      <td>25.677223</td>\n",
              "      <td>107.261213</td>\n",
              "      <td>880.583128</td>\n",
              "      <td>0.132369</td>\n",
              "      <td>0.254265</td>\n",
              "      <td>0.272188</td>\n",
              "      <td>0.114606</td>\n",
              "      <td>0.290076</td>\n",
              "      <td>0.083946</td>\n",
              "    </tr>\n",
              "    <tr>\n",
              "      <th>std</th>\n",
              "      <td>3.524049</td>\n",
              "      <td>4.301036</td>\n",
              "      <td>24.298981</td>\n",
              "      <td>351.914129</td>\n",
              "      <td>0.014064</td>\n",
              "      <td>0.052813</td>\n",
              "      <td>0.079720</td>\n",
              "      <td>0.038803</td>\n",
              "      <td>0.027414</td>\n",
              "      <td>0.007060</td>\n",
              "      <td>...</td>\n",
              "      <td>4.833242</td>\n",
              "      <td>6.146258</td>\n",
              "      <td>33.602542</td>\n",
              "      <td>569.356993</td>\n",
              "      <td>0.022832</td>\n",
              "      <td>0.157336</td>\n",
              "      <td>0.208624</td>\n",
              "      <td>0.065732</td>\n",
              "      <td>0.061867</td>\n",
              "      <td>0.018061</td>\n",
              "    </tr>\n",
              "    <tr>\n",
              "      <th>min</th>\n",
              "      <td>6.981000</td>\n",
              "      <td>9.710000</td>\n",
              "      <td>43.790000</td>\n",
              "      <td>143.500000</td>\n",
              "      <td>0.052630</td>\n",
              "      <td>0.019380</td>\n",
              "      <td>0.000000</td>\n",
              "      <td>0.000000</td>\n",
              "      <td>0.106000</td>\n",
              "      <td>0.049960</td>\n",
              "      <td>...</td>\n",
              "      <td>7.930000</td>\n",
              "      <td>12.020000</td>\n",
              "      <td>50.410000</td>\n",
              "      <td>185.200000</td>\n",
              "      <td>0.071170</td>\n",
              "      <td>0.027290</td>\n",
              "      <td>0.000000</td>\n",
              "      <td>0.000000</td>\n",
              "      <td>0.156500</td>\n",
              "      <td>0.055040</td>\n",
              "    </tr>\n",
              "    <tr>\n",
              "      <th>25%</th>\n",
              "      <td>11.700000</td>\n",
              "      <td>16.170000</td>\n",
              "      <td>75.170000</td>\n",
              "      <td>420.300000</td>\n",
              "      <td>0.086370</td>\n",
              "      <td>0.064920</td>\n",
              "      <td>0.029560</td>\n",
              "      <td>0.020310</td>\n",
              "      <td>0.161900</td>\n",
              "      <td>0.057700</td>\n",
              "      <td>...</td>\n",
              "      <td>13.010000</td>\n",
              "      <td>21.080000</td>\n",
              "      <td>84.110000</td>\n",
              "      <td>515.300000</td>\n",
              "      <td>0.116600</td>\n",
              "      <td>0.147200</td>\n",
              "      <td>0.114500</td>\n",
              "      <td>0.064930</td>\n",
              "      <td>0.250400</td>\n",
              "      <td>0.071460</td>\n",
              "    </tr>\n",
              "    <tr>\n",
              "      <th>50%</th>\n",
              "      <td>13.370000</td>\n",
              "      <td>18.840000</td>\n",
              "      <td>86.240000</td>\n",
              "      <td>551.100000</td>\n",
              "      <td>0.095870</td>\n",
              "      <td>0.092630</td>\n",
              "      <td>0.061540</td>\n",
              "      <td>0.033500</td>\n",
              "      <td>0.179200</td>\n",
              "      <td>0.061540</td>\n",
              "      <td>...</td>\n",
              "      <td>14.970000</td>\n",
              "      <td>25.410000</td>\n",
              "      <td>97.660000</td>\n",
              "      <td>686.500000</td>\n",
              "      <td>0.131300</td>\n",
              "      <td>0.211900</td>\n",
              "      <td>0.226700</td>\n",
              "      <td>0.099930</td>\n",
              "      <td>0.282200</td>\n",
              "      <td>0.080040</td>\n",
              "    </tr>\n",
              "    <tr>\n",
              "      <th>75%</th>\n",
              "      <td>15.780000</td>\n",
              "      <td>21.800000</td>\n",
              "      <td>104.100000</td>\n",
              "      <td>782.700000</td>\n",
              "      <td>0.105300</td>\n",
              "      <td>0.130400</td>\n",
              "      <td>0.130700</td>\n",
              "      <td>0.074000</td>\n",
              "      <td>0.195700</td>\n",
              "      <td>0.066120</td>\n",
              "      <td>...</td>\n",
              "      <td>18.790000</td>\n",
              "      <td>29.720000</td>\n",
              "      <td>125.400000</td>\n",
              "      <td>1084.000000</td>\n",
              "      <td>0.146000</td>\n",
              "      <td>0.339100</td>\n",
              "      <td>0.382900</td>\n",
              "      <td>0.161400</td>\n",
              "      <td>0.317900</td>\n",
              "      <td>0.092080</td>\n",
              "    </tr>\n",
              "    <tr>\n",
              "      <th>max</th>\n",
              "      <td>28.110000</td>\n",
              "      <td>39.280000</td>\n",
              "      <td>188.500000</td>\n",
              "      <td>2501.000000</td>\n",
              "      <td>0.163400</td>\n",
              "      <td>0.345400</td>\n",
              "      <td>0.426800</td>\n",
              "      <td>0.201200</td>\n",
              "      <td>0.304000</td>\n",
              "      <td>0.097440</td>\n",
              "      <td>...</td>\n",
              "      <td>36.040000</td>\n",
              "      <td>49.540000</td>\n",
              "      <td>251.200000</td>\n",
              "      <td>4254.000000</td>\n",
              "      <td>0.222600</td>\n",
              "      <td>1.058000</td>\n",
              "      <td>1.252000</td>\n",
              "      <td>0.291000</td>\n",
              "      <td>0.663800</td>\n",
              "      <td>0.207500</td>\n",
              "    </tr>\n",
              "  </tbody>\n",
              "</table>\n",
              "<p>8 rows × 30 columns</p>\n",
              "</div>\n",
              "    <div class=\"colab-df-buttons\">\n",
              "\n",
              "  <div class=\"colab-df-container\">\n",
              "    <button class=\"colab-df-convert\" onclick=\"convertToInteractive('df-c5137690-4981-4b5a-995a-972f967c0eee')\"\n",
              "            title=\"Convert this dataframe to an interactive table.\"\n",
              "            style=\"display:none;\">\n",
              "\n",
              "  <svg xmlns=\"http://www.w3.org/2000/svg\" height=\"24px\" viewBox=\"0 -960 960 960\">\n",
              "    <path d=\"M120-120v-720h720v720H120Zm60-500h600v-160H180v160Zm220 220h160v-160H400v160Zm0 220h160v-160H400v160ZM180-400h160v-160H180v160Zm440 0h160v-160H620v160ZM180-180h160v-160H180v160Zm440 0h160v-160H620v160Z\"/>\n",
              "  </svg>\n",
              "    </button>\n",
              "\n",
              "  <style>\n",
              "    .colab-df-container {\n",
              "      display:flex;\n",
              "      gap: 12px;\n",
              "    }\n",
              "\n",
              "    .colab-df-convert {\n",
              "      background-color: #E8F0FE;\n",
              "      border: none;\n",
              "      border-radius: 50%;\n",
              "      cursor: pointer;\n",
              "      display: none;\n",
              "      fill: #1967D2;\n",
              "      height: 32px;\n",
              "      padding: 0 0 0 0;\n",
              "      width: 32px;\n",
              "    }\n",
              "\n",
              "    .colab-df-convert:hover {\n",
              "      background-color: #E2EBFA;\n",
              "      box-shadow: 0px 1px 2px rgba(60, 64, 67, 0.3), 0px 1px 3px 1px rgba(60, 64, 67, 0.15);\n",
              "      fill: #174EA6;\n",
              "    }\n",
              "\n",
              "    .colab-df-buttons div {\n",
              "      margin-bottom: 4px;\n",
              "    }\n",
              "\n",
              "    [theme=dark] .colab-df-convert {\n",
              "      background-color: #3B4455;\n",
              "      fill: #D2E3FC;\n",
              "    }\n",
              "\n",
              "    [theme=dark] .colab-df-convert:hover {\n",
              "      background-color: #434B5C;\n",
              "      box-shadow: 0px 1px 3px 1px rgba(0, 0, 0, 0.15);\n",
              "      filter: drop-shadow(0px 1px 2px rgba(0, 0, 0, 0.3));\n",
              "      fill: #FFFFFF;\n",
              "    }\n",
              "  </style>\n",
              "\n",
              "    <script>\n",
              "      const buttonEl =\n",
              "        document.querySelector('#df-c5137690-4981-4b5a-995a-972f967c0eee button.colab-df-convert');\n",
              "      buttonEl.style.display =\n",
              "        google.colab.kernel.accessAllowed ? 'block' : 'none';\n",
              "\n",
              "      async function convertToInteractive(key) {\n",
              "        const element = document.querySelector('#df-c5137690-4981-4b5a-995a-972f967c0eee');\n",
              "        const dataTable =\n",
              "          await google.colab.kernel.invokeFunction('convertToInteractive',\n",
              "                                                    [key], {});\n",
              "        if (!dataTable) return;\n",
              "\n",
              "        const docLinkHtml = 'Like what you see? Visit the ' +\n",
              "          '<a target=\"_blank\" href=https://colab.research.google.com/notebooks/data_table.ipynb>data table notebook</a>'\n",
              "          + ' to learn more about interactive tables.';\n",
              "        element.innerHTML = '';\n",
              "        dataTable['output_type'] = 'display_data';\n",
              "        await google.colab.output.renderOutput(dataTable, element);\n",
              "        const docLink = document.createElement('div');\n",
              "        docLink.innerHTML = docLinkHtml;\n",
              "        element.appendChild(docLink);\n",
              "      }\n",
              "    </script>\n",
              "  </div>\n",
              "\n",
              "\n",
              "<div id=\"df-f93d5214-8bd2-467a-b109-c5b1c8a73901\">\n",
              "  <button class=\"colab-df-quickchart\" onclick=\"quickchart('df-f93d5214-8bd2-467a-b109-c5b1c8a73901')\"\n",
              "            title=\"Suggest charts.\"\n",
              "            style=\"display:none;\">\n",
              "\n",
              "<svg xmlns=\"http://www.w3.org/2000/svg\" height=\"24px\"viewBox=\"0 0 24 24\"\n",
              "     width=\"24px\">\n",
              "    <g>\n",
              "        <path d=\"M19 3H5c-1.1 0-2 .9-2 2v14c0 1.1.9 2 2 2h14c1.1 0 2-.9 2-2V5c0-1.1-.9-2-2-2zM9 17H7v-7h2v7zm4 0h-2V7h2v10zm4 0h-2v-4h2v4z\"/>\n",
              "    </g>\n",
              "</svg>\n",
              "  </button>\n",
              "\n",
              "<style>\n",
              "  .colab-df-quickchart {\n",
              "      --bg-color: #E8F0FE;\n",
              "      --fill-color: #1967D2;\n",
              "      --hover-bg-color: #E2EBFA;\n",
              "      --hover-fill-color: #174EA6;\n",
              "      --disabled-fill-color: #AAA;\n",
              "      --disabled-bg-color: #DDD;\n",
              "  }\n",
              "\n",
              "  [theme=dark] .colab-df-quickchart {\n",
              "      --bg-color: #3B4455;\n",
              "      --fill-color: #D2E3FC;\n",
              "      --hover-bg-color: #434B5C;\n",
              "      --hover-fill-color: #FFFFFF;\n",
              "      --disabled-bg-color: #3B4455;\n",
              "      --disabled-fill-color: #666;\n",
              "  }\n",
              "\n",
              "  .colab-df-quickchart {\n",
              "    background-color: var(--bg-color);\n",
              "    border: none;\n",
              "    border-radius: 50%;\n",
              "    cursor: pointer;\n",
              "    display: none;\n",
              "    fill: var(--fill-color);\n",
              "    height: 32px;\n",
              "    padding: 0;\n",
              "    width: 32px;\n",
              "  }\n",
              "\n",
              "  .colab-df-quickchart:hover {\n",
              "    background-color: var(--hover-bg-color);\n",
              "    box-shadow: 0 1px 2px rgba(60, 64, 67, 0.3), 0 1px 3px 1px rgba(60, 64, 67, 0.15);\n",
              "    fill: var(--button-hover-fill-color);\n",
              "  }\n",
              "\n",
              "  .colab-df-quickchart-complete:disabled,\n",
              "  .colab-df-quickchart-complete:disabled:hover {\n",
              "    background-color: var(--disabled-bg-color);\n",
              "    fill: var(--disabled-fill-color);\n",
              "    box-shadow: none;\n",
              "  }\n",
              "\n",
              "  .colab-df-spinner {\n",
              "    border: 2px solid var(--fill-color);\n",
              "    border-color: transparent;\n",
              "    border-bottom-color: var(--fill-color);\n",
              "    animation:\n",
              "      spin 1s steps(1) infinite;\n",
              "  }\n",
              "\n",
              "  @keyframes spin {\n",
              "    0% {\n",
              "      border-color: transparent;\n",
              "      border-bottom-color: var(--fill-color);\n",
              "      border-left-color: var(--fill-color);\n",
              "    }\n",
              "    20% {\n",
              "      border-color: transparent;\n",
              "      border-left-color: var(--fill-color);\n",
              "      border-top-color: var(--fill-color);\n",
              "    }\n",
              "    30% {\n",
              "      border-color: transparent;\n",
              "      border-left-color: var(--fill-color);\n",
              "      border-top-color: var(--fill-color);\n",
              "      border-right-color: var(--fill-color);\n",
              "    }\n",
              "    40% {\n",
              "      border-color: transparent;\n",
              "      border-right-color: var(--fill-color);\n",
              "      border-top-color: var(--fill-color);\n",
              "    }\n",
              "    60% {\n",
              "      border-color: transparent;\n",
              "      border-right-color: var(--fill-color);\n",
              "    }\n",
              "    80% {\n",
              "      border-color: transparent;\n",
              "      border-right-color: var(--fill-color);\n",
              "      border-bottom-color: var(--fill-color);\n",
              "    }\n",
              "    90% {\n",
              "      border-color: transparent;\n",
              "      border-bottom-color: var(--fill-color);\n",
              "    }\n",
              "  }\n",
              "</style>\n",
              "\n",
              "  <script>\n",
              "    async function quickchart(key) {\n",
              "      const quickchartButtonEl =\n",
              "        document.querySelector('#' + key + ' button');\n",
              "      quickchartButtonEl.disabled = true;  // To prevent multiple clicks.\n",
              "      quickchartButtonEl.classList.add('colab-df-spinner');\n",
              "      try {\n",
              "        const charts = await google.colab.kernel.invokeFunction(\n",
              "            'suggestCharts', [key], {});\n",
              "      } catch (error) {\n",
              "        console.error('Error during call to suggestCharts:', error);\n",
              "      }\n",
              "      quickchartButtonEl.classList.remove('colab-df-spinner');\n",
              "      quickchartButtonEl.classList.add('colab-df-quickchart-complete');\n",
              "    }\n",
              "    (() => {\n",
              "      let quickchartButtonEl =\n",
              "        document.querySelector('#df-f93d5214-8bd2-467a-b109-c5b1c8a73901 button');\n",
              "      quickchartButtonEl.style.display =\n",
              "        google.colab.kernel.accessAllowed ? 'block' : 'none';\n",
              "    })();\n",
              "  </script>\n",
              "</div>\n",
              "    </div>\n",
              "  </div>\n"
            ]
          },
          "metadata": {},
          "execution_count": 21
        }
      ]
    },
    {
      "cell_type": "markdown",
      "source": [
        "Perform standard scaler"
      ],
      "metadata": {
        "id": "Uv2HStG5azXP"
      }
    },
    {
      "cell_type": "markdown",
      "source": [
        "![image.png](data:image/png;base64,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)"
      ],
      "metadata": {
        "id": "26veOq87cfmQ"
      }
    },
    {
      "cell_type": "code",
      "source": [
        "from sklearn.preprocessing import StandardScaler"
      ],
      "metadata": {
        "id": "B85s_Hf4ZB8Z"
      },
      "execution_count": 22,
      "outputs": []
    },
    {
      "cell_type": "code",
      "source": [
        "scaler = StandardScaler()\n",
        "scaler.fit(df)"
      ],
      "metadata": {
        "colab": {
          "base_uri": "https://localhost:8080/",
          "height": 75
        },
        "id": "q0KSBOprbEnv",
        "outputId": "83880471-8dcd-44b6-f84f-1bb430ab5d88"
      },
      "execution_count": 23,
      "outputs": [
        {
          "output_type": "execute_result",
          "data": {
            "text/plain": [
              "StandardScaler()"
            ],
            "text/html": [
              "<style>#sk-container-id-1 {color: black;background-color: white;}#sk-container-id-1 pre{padding: 0;}#sk-container-id-1 div.sk-toggleable {background-color: white;}#sk-container-id-1 label.sk-toggleable__label {cursor: pointer;display: block;width: 100%;margin-bottom: 0;padding: 0.3em;box-sizing: border-box;text-align: center;}#sk-container-id-1 label.sk-toggleable__label-arrow:before {content: \"▸\";float: left;margin-right: 0.25em;color: #696969;}#sk-container-id-1 label.sk-toggleable__label-arrow:hover:before {color: black;}#sk-container-id-1 div.sk-estimator:hover label.sk-toggleable__label-arrow:before {color: black;}#sk-container-id-1 div.sk-toggleable__content {max-height: 0;max-width: 0;overflow: hidden;text-align: left;background-color: #f0f8ff;}#sk-container-id-1 div.sk-toggleable__content pre {margin: 0.2em;color: black;border-radius: 0.25em;background-color: #f0f8ff;}#sk-container-id-1 input.sk-toggleable__control:checked~div.sk-toggleable__content {max-height: 200px;max-width: 100%;overflow: auto;}#sk-container-id-1 input.sk-toggleable__control:checked~label.sk-toggleable__label-arrow:before {content: \"▾\";}#sk-container-id-1 div.sk-estimator input.sk-toggleable__control:checked~label.sk-toggleable__label {background-color: #d4ebff;}#sk-container-id-1 div.sk-label input.sk-toggleable__control:checked~label.sk-toggleable__label {background-color: #d4ebff;}#sk-container-id-1 input.sk-hidden--visually {border: 0;clip: rect(1px 1px 1px 1px);clip: rect(1px, 1px, 1px, 1px);height: 1px;margin: -1px;overflow: hidden;padding: 0;position: absolute;width: 1px;}#sk-container-id-1 div.sk-estimator {font-family: monospace;background-color: #f0f8ff;border: 1px dotted black;border-radius: 0.25em;box-sizing: border-box;margin-bottom: 0.5em;}#sk-container-id-1 div.sk-estimator:hover {background-color: #d4ebff;}#sk-container-id-1 div.sk-parallel-item::after {content: \"\";width: 100%;border-bottom: 1px solid gray;flex-grow: 1;}#sk-container-id-1 div.sk-label:hover label.sk-toggleable__label {background-color: #d4ebff;}#sk-container-id-1 div.sk-serial::before {content: \"\";position: absolute;border-left: 1px solid gray;box-sizing: border-box;top: 0;bottom: 0;left: 50%;z-index: 0;}#sk-container-id-1 div.sk-serial {display: flex;flex-direction: column;align-items: center;background-color: white;padding-right: 0.2em;padding-left: 0.2em;position: relative;}#sk-container-id-1 div.sk-item {position: relative;z-index: 1;}#sk-container-id-1 div.sk-parallel {display: flex;align-items: stretch;justify-content: center;background-color: white;position: relative;}#sk-container-id-1 div.sk-item::before, #sk-container-id-1 div.sk-parallel-item::before {content: \"\";position: absolute;border-left: 1px solid gray;box-sizing: border-box;top: 0;bottom: 0;left: 50%;z-index: -1;}#sk-container-id-1 div.sk-parallel-item {display: flex;flex-direction: column;z-index: 1;position: relative;background-color: white;}#sk-container-id-1 div.sk-parallel-item:first-child::after {align-self: flex-end;width: 50%;}#sk-container-id-1 div.sk-parallel-item:last-child::after {align-self: flex-start;width: 50%;}#sk-container-id-1 div.sk-parallel-item:only-child::after {width: 0;}#sk-container-id-1 div.sk-dashed-wrapped {border: 1px dashed gray;margin: 0 0.4em 0.5em 0.4em;box-sizing: border-box;padding-bottom: 0.4em;background-color: white;}#sk-container-id-1 div.sk-label label {font-family: monospace;font-weight: bold;display: inline-block;line-height: 1.2em;}#sk-container-id-1 div.sk-label-container {text-align: center;}#sk-container-id-1 div.sk-container {/* jupyter's `normalize.less` sets `[hidden] { display: none; }` but bootstrap.min.css set `[hidden] { display: none !important; }` so we also need the `!important` here to be able to override the default hidden behavior on the sphinx rendered scikit-learn.org. See: https://github.com/scikit-learn/scikit-learn/issues/21755 */display: inline-block !important;position: relative;}#sk-container-id-1 div.sk-text-repr-fallback {display: none;}</style><div id=\"sk-container-id-1\" class=\"sk-top-container\"><div class=\"sk-text-repr-fallback\"><pre>StandardScaler()</pre><b>In a Jupyter environment, please rerun this cell to show the HTML representation or trust the notebook. <br />On GitHub, the HTML representation is unable to render, please try loading this page with nbviewer.org.</b></div><div class=\"sk-container\" hidden><div class=\"sk-item\"><div class=\"sk-estimator sk-toggleable\"><input class=\"sk-toggleable__control sk-hidden--visually\" id=\"sk-estimator-id-1\" type=\"checkbox\" checked><label for=\"sk-estimator-id-1\" class=\"sk-toggleable__label sk-toggleable__label-arrow\">StandardScaler</label><div class=\"sk-toggleable__content\"><pre>StandardScaler()</pre></div></div></div></div></div>"
            ]
          },
          "metadata": {},
          "execution_count": 23
        }
      ]
    },
    {
      "cell_type": "code",
      "source": [
        "scaled_df = scaler.transform(df)"
      ],
      "metadata": {
        "id": "jhg3NJ0fb2aw"
      },
      "execution_count": 24,
      "outputs": []
    },
    {
      "cell_type": "code",
      "source": [
        "from sklearn.decomposition import PCA"
      ],
      "metadata": {
        "id": "ym_-YtVWdw9L"
      },
      "execution_count": 26,
      "outputs": []
    },
    {
      "cell_type": "code",
      "source": [
        "pca = PCA(n_components=2) # n_components stores the number of components we want to reduce our dataset to, here from 30 to 2"
      ],
      "metadata": {
        "id": "wC75_YJud4Hl"
      },
      "execution_count": 28,
      "outputs": []
    },
    {
      "cell_type": "code",
      "source": [
        "pca.fit(scaled_df)"
      ],
      "metadata": {
        "colab": {
          "base_uri": "https://localhost:8080/",
          "height": 75
        },
        "id": "R45Ehz86eIrd",
        "outputId": "0e76eb93-d337-428d-8759-ea756dc1d703"
      },
      "execution_count": 29,
      "outputs": [
        {
          "output_type": "execute_result",
          "data": {
            "text/plain": [
              "PCA(n_components=2)"
            ],
            "text/html": [
              "<style>#sk-container-id-2 {color: black;background-color: white;}#sk-container-id-2 pre{padding: 0;}#sk-container-id-2 div.sk-toggleable {background-color: white;}#sk-container-id-2 label.sk-toggleable__label {cursor: pointer;display: block;width: 100%;margin-bottom: 0;padding: 0.3em;box-sizing: border-box;text-align: center;}#sk-container-id-2 label.sk-toggleable__label-arrow:before {content: \"▸\";float: left;margin-right: 0.25em;color: #696969;}#sk-container-id-2 label.sk-toggleable__label-arrow:hover:before {color: black;}#sk-container-id-2 div.sk-estimator:hover label.sk-toggleable__label-arrow:before {color: black;}#sk-container-id-2 div.sk-toggleable__content {max-height: 0;max-width: 0;overflow: hidden;text-align: left;background-color: #f0f8ff;}#sk-container-id-2 div.sk-toggleable__content pre {margin: 0.2em;color: black;border-radius: 0.25em;background-color: #f0f8ff;}#sk-container-id-2 input.sk-toggleable__control:checked~div.sk-toggleable__content {max-height: 200px;max-width: 100%;overflow: auto;}#sk-container-id-2 input.sk-toggleable__control:checked~label.sk-toggleable__label-arrow:before {content: \"▾\";}#sk-container-id-2 div.sk-estimator input.sk-toggleable__control:checked~label.sk-toggleable__label {background-color: #d4ebff;}#sk-container-id-2 div.sk-label input.sk-toggleable__control:checked~label.sk-toggleable__label {background-color: #d4ebff;}#sk-container-id-2 input.sk-hidden--visually {border: 0;clip: rect(1px 1px 1px 1px);clip: rect(1px, 1px, 1px, 1px);height: 1px;margin: -1px;overflow: hidden;padding: 0;position: absolute;width: 1px;}#sk-container-id-2 div.sk-estimator {font-family: monospace;background-color: #f0f8ff;border: 1px dotted black;border-radius: 0.25em;box-sizing: border-box;margin-bottom: 0.5em;}#sk-container-id-2 div.sk-estimator:hover {background-color: #d4ebff;}#sk-container-id-2 div.sk-parallel-item::after {content: \"\";width: 100%;border-bottom: 1px solid gray;flex-grow: 1;}#sk-container-id-2 div.sk-label:hover label.sk-toggleable__label {background-color: #d4ebff;}#sk-container-id-2 div.sk-serial::before {content: \"\";position: absolute;border-left: 1px solid gray;box-sizing: border-box;top: 0;bottom: 0;left: 50%;z-index: 0;}#sk-container-id-2 div.sk-serial {display: flex;flex-direction: column;align-items: center;background-color: white;padding-right: 0.2em;padding-left: 0.2em;position: relative;}#sk-container-id-2 div.sk-item {position: relative;z-index: 1;}#sk-container-id-2 div.sk-parallel {display: flex;align-items: stretch;justify-content: center;background-color: white;position: relative;}#sk-container-id-2 div.sk-item::before, #sk-container-id-2 div.sk-parallel-item::before {content: \"\";position: absolute;border-left: 1px solid gray;box-sizing: border-box;top: 0;bottom: 0;left: 50%;z-index: -1;}#sk-container-id-2 div.sk-parallel-item {display: flex;flex-direction: column;z-index: 1;position: relative;background-color: white;}#sk-container-id-2 div.sk-parallel-item:first-child::after {align-self: flex-end;width: 50%;}#sk-container-id-2 div.sk-parallel-item:last-child::after {align-self: flex-start;width: 50%;}#sk-container-id-2 div.sk-parallel-item:only-child::after {width: 0;}#sk-container-id-2 div.sk-dashed-wrapped {border: 1px dashed gray;margin: 0 0.4em 0.5em 0.4em;box-sizing: border-box;padding-bottom: 0.4em;background-color: white;}#sk-container-id-2 div.sk-label label {font-family: monospace;font-weight: bold;display: inline-block;line-height: 1.2em;}#sk-container-id-2 div.sk-label-container {text-align: center;}#sk-container-id-2 div.sk-container {/* jupyter's `normalize.less` sets `[hidden] { display: none; }` but bootstrap.min.css set `[hidden] { display: none !important; }` so we also need the `!important` here to be able to override the default hidden behavior on the sphinx rendered scikit-learn.org. See: https://github.com/scikit-learn/scikit-learn/issues/21755 */display: inline-block !important;position: relative;}#sk-container-id-2 div.sk-text-repr-fallback {display: none;}</style><div id=\"sk-container-id-2\" class=\"sk-top-container\"><div class=\"sk-text-repr-fallback\"><pre>PCA(n_components=2)</pre><b>In a Jupyter environment, please rerun this cell to show the HTML representation or trust the notebook. <br />On GitHub, the HTML representation is unable to render, please try loading this page with nbviewer.org.</b></div><div class=\"sk-container\" hidden><div class=\"sk-item\"><div class=\"sk-estimator sk-toggleable\"><input class=\"sk-toggleable__control sk-hidden--visually\" id=\"sk-estimator-id-2\" type=\"checkbox\" checked><label for=\"sk-estimator-id-2\" class=\"sk-toggleable__label sk-toggleable__label-arrow\">PCA</label><div class=\"sk-toggleable__content\"><pre>PCA(n_components=2)</pre></div></div></div></div></div>"
            ]
          },
          "metadata": {},
          "execution_count": 29
        }
      ]
    },
    {
      "cell_type": "code",
      "source": [
        "x_pca = pca.transform(scaled_df)"
      ],
      "metadata": {
        "id": "tXcJ_6ObeXYw"
      },
      "execution_count": 30,
      "outputs": []
    },
    {
      "cell_type": "code",
      "source": [
        "scaled_df.shape, x_pca.shape"
      ],
      "metadata": {
        "colab": {
          "base_uri": "https://localhost:8080/"
        },
        "id": "RdSrlzCHeqQ4",
        "outputId": "7dae82ec-304c-481f-db4b-7baa279c5793"
      },
      "execution_count": 32,
      "outputs": [
        {
          "output_type": "execute_result",
          "data": {
            "text/plain": [
              "((569, 30), (569, 2))"
            ]
          },
          "metadata": {},
          "execution_count": 32
        }
      ]
    },
    {
      "cell_type": "code",
      "source": [
        "plt.figure(figsize=(8,6))\n",
        "plt.scatter(x_pca[:,0], x_pca[:, 1], c=dataset['target']) # plots the first and second column\n",
        "plt.xlabel('PC1')\n",
        "plt.ylabel('PC2')"
      ],
      "metadata": {
        "colab": {
          "base_uri": "https://localhost:8080/",
          "height": 559
        },
        "id": "YrroqSelesvl",
        "outputId": "5161251e-54f7-4ae0-d609-9cc1a9b72d47"
      },
      "execution_count": 33,
      "outputs": [
        {
          "output_type": "execute_result",
          "data": {
            "text/plain": [
              "Text(0, 0.5, 'PC2')"
            ]
          },
          "metadata": {},
          "execution_count": 33
        },
        {
          "output_type": "display_data",
          "data": {
            "text/plain": [
              "<Figure size 800x600 with 1 Axes>"
            ],
            "image/png": "[encoded data removed]"
          },
          "metadata": {}
        }
      ]
    },
    {
      "cell_type": "markdown",
      "source": [
        "# Example-2 (image)"
      ],
      "metadata": {
        "id": "EAIInMSploSY"
      }
    },
    {
      "cell_type": "code",
      "source": [
        "from sklearn.datasets import load_digits"
      ],
      "metadata": {
        "id": "PcmmKckkfYAZ"
      },
      "execution_count": 35,
      "outputs": []
    },
    {
      "cell_type": "code",
      "source": [
        "dataset = load_digits()\n",
        "print(dataset['DESCR'])"
      ],
      "metadata": {
        "colab": {
          "base_uri": "https://localhost:8080/"
        },
        "id": "VjkfRp4ilwpA",
        "outputId": "5d7a3bbc-a1ec-43c6-ca60-a78b0d7613eb"
      },
      "execution_count": 38,
      "outputs": [
        {
          "output_type": "stream",
          "name": "stdout",
          "text": [
            ".. _digits_dataset:\n",
            "\n",
            "Optical recognition of handwritten digits dataset\n",
            "--------------------------------------------------\n",
            "\n",
            "**Data Set Characteristics:**\n",
            "\n",
            "    :Number of Instances: 1797\n",
            "    :Number of Attributes: 64\n",
            "    :Attribute Information: 8x8 image of integer pixels in the range 0..16.\n",
            "    :Missing Attribute Values: None\n",
            "    :Creator: E. Alpaydin (alpaydin '@' boun.edu.tr)\n",
            "    :Date: July; 1998\n",
            "\n",
            "This is a copy of the test set of the UCI ML hand-written digits datasets\n",
            "https://archive.ics.uci.edu/ml/datasets/Optical+Recognition+of+Handwritten+Digits\n",
            "\n",
            "The data set contains images of hand-written digits: 10 classes where\n",
            "each class refers to a digit.\n",
            "\n",
            "Preprocessing programs made available by NIST were used to extract\n",
            "normalized bitmaps of handwritten digits from a preprinted form. From a\n",
            "total of 43 people, 30 contributed to the training set and different 13\n",
            "to the test set. 32x32 bitmaps are divided into nonoverlapping blocks of\n",
            "4x4 and the number of on pixels are counted in each block. This generates\n",
            "an input matrix of 8x8 where each element is an integer in the range\n",
            "0..16. This reduces dimensionality and gives invariance to small\n",
            "distortions.\n",
            "\n",
            "For info on NIST preprocessing routines, see M. D. Garris, J. L. Blue, G.\n",
            "T. Candela, D. L. Dimmick, J. Geist, P. J. Grother, S. A. Janet, and C.\n",
            "L. Wilson, NIST Form-Based Handprint Recognition System, NISTIR 5469,\n",
            "1994.\n",
            "\n",
            ".. topic:: References\n",
            "\n",
            "  - C. Kaynak (1995) Methods of Combining Multiple Classifiers and Their\n",
            "    Applications to Handwritten Digit Recognition, MSc Thesis, Institute of\n",
            "    Graduate Studies in Science and Engineering, Bogazici University.\n",
            "  - E. Alpaydin, C. Kaynak (1998) Cascading Classifiers, Kybernetika.\n",
            "  - Ken Tang and Ponnuthurai N. Suganthan and Xi Yao and A. Kai Qin.\n",
            "    Linear dimensionalityreduction using relevance weighted LDA. School of\n",
            "    Electrical and Electronic Engineering Nanyang Technological University.\n",
            "    2005.\n",
            "  - Claudio Gentile. A New Approximate Maximal Margin Classification\n",
            "    Algorithm. NIPS. 2000.\n",
            "\n"
          ]
        }
      ]
    },
    {
      "cell_type": "code",
      "source": [
        "dataset.data.shape"
      ],
      "metadata": {
        "colab": {
          "base_uri": "https://localhost:8080/"
        },
        "id": "5DJr7X7RmvBw",
        "outputId": "0251b66e-433f-4bad-ac8c-9aba7523a3a8"
      },
      "execution_count": 44,
      "outputs": [
        {
          "output_type": "execute_result",
          "data": {
            "text/plain": [
              "(1797, 64)"
            ]
          },
          "metadata": {},
          "execution_count": 44
        }
      ]
    },
    {
      "cell_type": "code",
      "source": [
        "df = dataset.data"
      ],
      "metadata": {
        "id": "5dOnQwiql6CP"
      },
      "execution_count": 45,
      "outputs": []
    },
    {
      "cell_type": "code",
      "source": [
        "df[0]"
      ],
      "metadata": {
        "colab": {
          "base_uri": "https://localhost:8080/"
        },
        "id": "EYHUao-RmlYV",
        "outputId": "3998b868-9192-4121-a8d3-be12d8daeb37"
      },
      "execution_count": 46,
      "outputs": [
        {
          "output_type": "execute_result",
          "data": {
            "text/plain": [
              "array([ 0.,  0.,  5., 13.,  9.,  1.,  0.,  0.,  0.,  0., 13., 15., 10.,\n",
              "       15.,  5.,  0.,  0.,  3., 15.,  2.,  0., 11.,  8.,  0.,  0.,  4.,\n",
              "       12.,  0.,  0.,  8.,  8.,  0.,  0.,  5.,  8.,  0.,  0.,  9.,  8.,\n",
              "        0.,  0.,  4., 11.,  0.,  1., 12.,  7.,  0.,  0.,  2., 14.,  5.,\n",
              "       10., 12.,  0.,  0.,  0.,  0.,  6., 13., 10.,  0.,  0.,  0.])"
            ]
          },
          "metadata": {},
          "execution_count": 46
        }
      ]
    },
    {
      "cell_type": "code",
      "source": [
        "np.array(df[0].shape)"
      ],
      "metadata": {
        "colab": {
          "base_uri": "https://localhost:8080/"
        },
        "id": "fZMQMaEam8Ee",
        "outputId": "c3474db5-821f-4688-e9d8-65099eed6d20"
      },
      "execution_count": 47,
      "outputs": [
        {
          "output_type": "execute_result",
          "data": {
            "text/plain": [
              "array([64])"
            ]
          },
          "metadata": {},
          "execution_count": 47
        }
      ]
    },
    {
      "cell_type": "code",
      "source": [
        "df[0].reshape(8,8), df[0].reshape(8,8).shape"
      ],
      "metadata": {
        "colab": {
          "base_uri": "https://localhost:8080/"
        },
        "id": "S6BbHqcGnARl",
        "outputId": "a938d5a5-b4c0-497c-e026-dc9de0c374f5"
      },
      "execution_count": 50,
      "outputs": [
        {
          "output_type": "execute_result",
          "data": {
            "text/plain": [
              "(array([[ 0.,  0.,  5., 13.,  9.,  1.,  0.,  0.],\n",
              "        [ 0.,  0., 13., 15., 10., 15.,  5.,  0.],\n",
              "        [ 0.,  3., 15.,  2.,  0., 11.,  8.,  0.],\n",
              "        [ 0.,  4., 12.,  0.,  0.,  8.,  8.,  0.],\n",
              "        [ 0.,  5.,  8.,  0.,  0.,  9.,  8.,  0.],\n",
              "        [ 0.,  4., 11.,  0.,  1., 12.,  7.,  0.],\n",
              "        [ 0.,  2., 14.,  5., 10., 12.,  0.,  0.],\n",
              "        [ 0.,  0.,  6., 13., 10.,  0.,  0.,  0.]]),\n",
              " (8, 8))"
            ]
          },
          "metadata": {},
          "execution_count": 50
        }
      ]
    },
    {
      "cell_type": "code",
      "source": [
        "plt.gray()\n",
        "plt.matshow(df[0].reshape(8,8))"
      ],
      "metadata": {
        "colab": {
          "base_uri": "https://localhost:8080/",
          "height": 472
        },
        "id": "ccZCJXvynGlY",
        "outputId": "17c174df-d817-4196-ec3c-d36437b257c0"
      },
      "execution_count": 51,
      "outputs": [
        {
          "output_type": "execute_result",
          "data": {
            "text/plain": [
              "<matplotlib.image.AxesImage at 0x7fad60178040>"
            ]
          },
          "metadata": {},
          "execution_count": 51
        },
        {
          "output_type": "display_data",
          "data": {
            "text/plain": [
              "<Figure size 640x480 with 0 Axes>"
            ]
          },
          "metadata": {}
        },
        {
          "output_type": "display_data",
          "data": {
            "text/plain": [
              "<Figure size 480x480 with 1 Axes>"
            ],
            "image/png": "[encoded data removed]"
          },
          "metadata": {}
        }
      ]
    },
    {
      "cell_type": "code",
      "source": [
        "plt.matshow(df[1].reshape(8,8))"
      ],
      "metadata": {
        "colab": {
          "base_uri": "https://localhost:8080/",
          "height": 454
        },
        "id": "iWk6366vnWXD",
        "outputId": "6997346c-f29d-47c2-8957-51e6258761d7"
      },
      "execution_count": 52,
      "outputs": [
        {
          "output_type": "execute_result",
          "data": {
            "text/plain": [
              "<matplotlib.image.AxesImage at 0x7fad6035e5c0>"
            ]
          },
          "metadata": {},
          "execution_count": 52
        },
        {
          "output_type": "display_data",
          "data": {
            "text/plain": [
              "<Figure size 480x480 with 1 Axes>"
            ],
            "image/png": "[encoded data removed]"
          },
          "metadata": {}
        }
      ]
    },
    {
      "cell_type": "code",
      "source": [
        "plt.matshow(df[10].reshape(8,8))"
      ],
      "metadata": {
        "colab": {
          "base_uri": "https://localhost:8080/",
          "height": 454
        },
        "id": "H8QDUSyYnaNh",
        "outputId": "13177165-b92b-4679-9e46-4479cff641c5"
      },
      "execution_count": 55,
      "outputs": [
        {
          "output_type": "execute_result",
          "data": {
            "text/plain": [
              "<matplotlib.image.AxesImage at 0x7fad5e71dfc0>"
            ]
          },
          "metadata": {},
          "execution_count": 55
        },
        {
          "output_type": "display_data",
          "data": {
            "text/plain": [
              "<Figure size 480x480 with 1 Axes>"
            ],
            "image/png": "[encoded data removed]"
          },
          "metadata": {}
        }
      ]
    },
    {
      "cell_type": "code",
      "source": [
        "target = dataset.target"
      ],
      "metadata": {
        "id": "2Gl2ANynncaC"
      },
      "execution_count": 57,
      "outputs": []
    },
    {
      "cell_type": "code",
      "source": [
        "target[0:20]"
      ],
      "metadata": {
        "colab": {
          "base_uri": "https://localhost:8080/"
        },
        "id": "0Zj0JnKLnoxu",
        "outputId": "afa22ec6-98ba-4983-aa48-0f765a5dee76"
      },
      "execution_count": 59,
      "outputs": [
        {
          "output_type": "execute_result",
          "data": {
            "text/plain": [
              "array([0, 1, 2, 3, 4, 5, 6, 7, 8, 9, 0, 1, 2, 3, 4, 5, 6, 7, 8, 9])"
            ]
          },
          "metadata": {},
          "execution_count": 59
        }
      ]
    },
    {
      "cell_type": "code",
      "source": [
        "df = pd.DataFrame(df)\n",
        "df.head()"
      ],
      "metadata": {
        "colab": {
          "base_uri": "https://localhost:8080/",
          "height": 236
        },
        "id": "O1jBtbgwn1hT",
        "outputId": "899d5bcd-425b-4d28-991b-3cba8df0ada3"
      },
      "execution_count": 62,
      "outputs": [
        {
          "output_type": "execute_result",
          "data": {
            "text/plain": [
              "    0    1    2     3     4     5    6    7    8    9   ...   54   55   56  \\\n",
              "0  0.0  0.0  5.0  13.0   9.0   1.0  0.0  0.0  0.0  0.0  ...  0.0  0.0  0.0   \n",
              "1  0.0  0.0  0.0  12.0  13.0   5.0  0.0  0.0  0.0  0.0  ...  0.0  0.0  0.0   \n",
              "2  0.0  0.0  0.0   4.0  15.0  12.0  0.0  0.0  0.0  0.0  ...  5.0  0.0  0.0   \n",
              "3  0.0  0.0  7.0  15.0  13.0   1.0  0.0  0.0  0.0  8.0  ...  9.0  0.0  0.0   \n",
              "4  0.0  0.0  0.0   1.0  11.0   0.0  0.0  0.0  0.0  0.0  ...  0.0  0.0  0.0   \n",
              "\n",
              "    57   58    59    60    61   62   63  \n",
              "0  0.0  6.0  13.0  10.0   0.0  0.0  0.0  \n",
              "1  0.0  0.0  11.0  16.0  10.0  0.0  0.0  \n",
              "2  0.0  0.0   3.0  11.0  16.0  9.0  0.0  \n",
              "3  0.0  7.0  13.0  13.0   9.0  0.0  0.0  \n",
              "4  0.0  0.0   2.0  16.0   4.0  0.0  0.0  \n",
              "\n",
              "[5 rows x 64 columns]"
            ],
            "text/html": [
              "\n",
              "  <div id=\"df-d2ff12cd-0e03-405e-b79b-14ef75004dbd\" class=\"colab-df-container\">\n",
              "    <div>\n",
              "<style scoped>\n",
              "    .dataframe tbody tr th:only-of-type {\n",
              "        vertical-align: middle;\n",
              "    }\n",
              "\n",
              "    .dataframe tbody tr th {\n",
              "        vertical-align: top;\n",
              "    }\n",
              "\n",
              "    .dataframe thead th {\n",
              "        text-align: right;\n",
              "    }\n",
              "</style>\n",
              "<table border=\"1\" class=\"dataframe\">\n",
              "  <thead>\n",
              "    <tr style=\"text-align: right;\">\n",
              "      <th></th>\n",
              "      <th>0</th>\n",
              "      <th>1</th>\n",
              "      <th>2</th>\n",
              "      <th>3</th>\n",
              "      <th>4</th>\n",
              "      <th>5</th>\n",
              "      <th>6</th>\n",
              "      <th>7</th>\n",
              "      <th>8</th>\n",
              "      <th>9</th>\n",
              "      <th>...</th>\n",
              "      <th>54</th>\n",
              "      <th>55</th>\n",
              "      <th>56</th>\n",
              "      <th>57</th>\n",
              "      <th>58</th>\n",
              "      <th>59</th>\n",
              "      <th>60</th>\n",
              "      <th>61</th>\n",
              "      <th>62</th>\n",
              "      <th>63</th>\n",
              "    </tr>\n",
              "  </thead>\n",
              "  <tbody>\n",
              "    <tr>\n",
              "      <th>0</th>\n",
              "      <td>0.0</td>\n",
              "      <td>0.0</td>\n",
              "      <td>5.0</td>\n",
              "      <td>13.0</td>\n",
              "      <td>9.0</td>\n",
              "      <td>1.0</td>\n",
              "      <td>0.0</td>\n",
              "      <td>0.0</td>\n",
              "      <td>0.0</td>\n",
              "      <td>0.0</td>\n",
              "      <td>...</td>\n",
              "      <td>0.0</td>\n",
              "      <td>0.0</td>\n",
              "      <td>0.0</td>\n",
              "      <td>0.0</td>\n",
              "      <td>6.0</td>\n",
              "      <td>13.0</td>\n",
              "      <td>10.0</td>\n",
              "      <td>0.0</td>\n",
              "      <td>0.0</td>\n",
              "      <td>0.0</td>\n",
              "    </tr>\n",
              "    <tr>\n",
              "      <th>1</th>\n",
              "      <td>0.0</td>\n",
              "      <td>0.0</td>\n",
              "      <td>0.0</td>\n",
              "      <td>12.0</td>\n",
              "      <td>13.0</td>\n",
              "      <td>5.0</td>\n",
              "      <td>0.0</td>\n",
              "      <td>0.0</td>\n",
              "      <td>0.0</td>\n",
              "      <td>0.0</td>\n",
              "      <td>...</td>\n",
              "      <td>0.0</td>\n",
              "      <td>0.0</td>\n",
              "      <td>0.0</td>\n",
              "      <td>0.0</td>\n",
              "      <td>0.0</td>\n",
              "      <td>11.0</td>\n",
              "      <td>16.0</td>\n",
              "      <td>10.0</td>\n",
              "      <td>0.0</td>\n",
              "      <td>0.0</td>\n",
              "    </tr>\n",
              "    <tr>\n",
              "      <th>2</th>\n",
              "      <td>0.0</td>\n",
              "      <td>0.0</td>\n",
              "      <td>0.0</td>\n",
              "      <td>4.0</td>\n",
              "      <td>15.0</td>\n",
              "      <td>12.0</td>\n",
              "      <td>0.0</td>\n",
              "      <td>0.0</td>\n",
              "      <td>0.0</td>\n",
              "      <td>0.0</td>\n",
              "      <td>...</td>\n",
              "      <td>5.0</td>\n",
              "      <td>0.0</td>\n",
              "      <td>0.0</td>\n",
              "      <td>0.0</td>\n",
              "      <td>0.0</td>\n",
              "      <td>3.0</td>\n",
              "      <td>11.0</td>\n",
              "      <td>16.0</td>\n",
              "      <td>9.0</td>\n",
              "      <td>0.0</td>\n",
              "    </tr>\n",
              "    <tr>\n",
              "      <th>3</th>\n",
              "      <td>0.0</td>\n",
              "      <td>0.0</td>\n",
              "      <td>7.0</td>\n",
              "      <td>15.0</td>\n",
              "      <td>13.0</td>\n",
              "      <td>1.0</td>\n",
              "      <td>0.0</td>\n",
              "      <td>0.0</td>\n",
              "      <td>0.0</td>\n",
              "      <td>8.0</td>\n",
              "      <td>...</td>\n",
              "      <td>9.0</td>\n",
              "      <td>0.0</td>\n",
              "      <td>0.0</td>\n",
              "      <td>0.0</td>\n",
              "      <td>7.0</td>\n",
              "      <td>13.0</td>\n",
              "      <td>13.0</td>\n",
              "      <td>9.0</td>\n",
              "      <td>0.0</td>\n",
              "      <td>0.0</td>\n",
              "    </tr>\n",
              "    <tr>\n",
              "      <th>4</th>\n",
              "      <td>0.0</td>\n",
              "      <td>0.0</td>\n",
              "      <td>0.0</td>\n",
              "      <td>1.0</td>\n",
              "      <td>11.0</td>\n",
              "      <td>0.0</td>\n",
              "      <td>0.0</td>\n",
              "      <td>0.0</td>\n",
              "      <td>0.0</td>\n",
              "      <td>0.0</td>\n",
              "      <td>...</td>\n",
              "      <td>0.0</td>\n",
              "      <td>0.0</td>\n",
              "      <td>0.0</td>\n",
              "      <td>0.0</td>\n",
              "      <td>0.0</td>\n",
              "      <td>2.0</td>\n",
              "      <td>16.0</td>\n",
              "      <td>4.0</td>\n",
              "      <td>0.0</td>\n",
              "      <td>0.0</td>\n",
              "    </tr>\n",
              "  </tbody>\n",
              "</table>\n",
              "<p>5 rows × 64 columns</p>\n",
              "</div>\n",
              "    <div class=\"colab-df-buttons\">\n",
              "\n",
              "  <div class=\"colab-df-container\">\n",
              "    <button class=\"colab-df-convert\" onclick=\"convertToInteractive('df-d2ff12cd-0e03-405e-b79b-14ef75004dbd')\"\n",
              "            title=\"Convert this dataframe to an interactive table.\"\n",
              "            style=\"display:none;\">\n",
              "\n",
              "  <svg xmlns=\"http://www.w3.org/2000/svg\" height=\"24px\" viewBox=\"0 -960 960 960\">\n",
              "    <path d=\"M120-120v-720h720v720H120Zm60-500h600v-160H180v160Zm220 220h160v-160H400v160Zm0 220h160v-160H400v160ZM180-400h160v-160H180v160Zm440 0h160v-160H620v160ZM180-180h160v-160H180v160Zm440 0h160v-160H620v160Z\"/>\n",
              "  </svg>\n",
              "    </button>\n",
              "\n",
              "  <style>\n",
              "    .colab-df-container {\n",
              "      display:flex;\n",
              "      gap: 12px;\n",
              "    }\n",
              "\n",
              "    .colab-df-convert {\n",
              "      background-color: #E8F0FE;\n",
              "      border: none;\n",
              "      border-radius: 50%;\n",
              "      cursor: pointer;\n",
              "      display: none;\n",
              "      fill: #1967D2;\n",
              "      height: 32px;\n",
              "      padding: 0 0 0 0;\n",
              "      width: 32px;\n",
              "    }\n",
              "\n",
              "    .colab-df-convert:hover {\n",
              "      background-color: #E2EBFA;\n",
              "      box-shadow: 0px 1px 2px rgba(60, 64, 67, 0.3), 0px 1px 3px 1px rgba(60, 64, 67, 0.15);\n",
              "      fill: #174EA6;\n",
              "    }\n",
              "\n",
              "    .colab-df-buttons div {\n",
              "      margin-bottom: 4px;\n",
              "    }\n",
              "\n",
              "    [theme=dark] .colab-df-convert {\n",
              "      background-color: #3B4455;\n",
              "      fill: #D2E3FC;\n",
              "    }\n",
              "\n",
              "    [theme=dark] .colab-df-convert:hover {\n",
              "      background-color: #434B5C;\n",
              "      box-shadow: 0px 1px 3px 1px rgba(0, 0, 0, 0.15);\n",
              "      filter: drop-shadow(0px 1px 2px rgba(0, 0, 0, 0.3));\n",
              "      fill: #FFFFFF;\n",
              "    }\n",
              "  </style>\n",
              "\n",
              "    <script>\n",
              "      const buttonEl =\n",
              "        document.querySelector('#df-d2ff12cd-0e03-405e-b79b-14ef75004dbd button.colab-df-convert');\n",
              "      buttonEl.style.display =\n",
              "        google.colab.kernel.accessAllowed ? 'block' : 'none';\n",
              "\n",
              "      async function convertToInteractive(key) {\n",
              "        const element = document.querySelector('#df-d2ff12cd-0e03-405e-b79b-14ef75004dbd');\n",
              "        const dataTable =\n",
              "          await google.colab.kernel.invokeFunction('convertToInteractive',\n",
              "                                                    [key], {});\n",
              "        if (!dataTable) return;\n",
              "\n",
              "        const docLinkHtml = 'Like what you see? Visit the ' +\n",
              "          '<a target=\"_blank\" href=https://colab.research.google.com/notebooks/data_table.ipynb>data table notebook</a>'\n",
              "          + ' to learn more about interactive tables.';\n",
              "        element.innerHTML = '';\n",
              "        dataTable['output_type'] = 'display_data';\n",
              "        await google.colab.output.renderOutput(dataTable, element);\n",
              "        const docLink = document.createElement('div');\n",
              "        docLink.innerHTML = docLinkHtml;\n",
              "        element.appendChild(docLink);\n",
              "      }\n",
              "    </script>\n",
              "  </div>\n",
              "\n",
              "\n",
              "<div id=\"df-b87cc184-9ef4-442a-b13c-ae1dfaf6dbed\">\n",
              "  <button class=\"colab-df-quickchart\" onclick=\"quickchart('df-b87cc184-9ef4-442a-b13c-ae1dfaf6dbed')\"\n",
              "            title=\"Suggest charts.\"\n",
              "            style=\"display:none;\">\n",
              "\n",
              "<svg xmlns=\"http://www.w3.org/2000/svg\" height=\"24px\"viewBox=\"0 0 24 24\"\n",
              "     width=\"24px\">\n",
              "    <g>\n",
              "        <path d=\"M19 3H5c-1.1 0-2 .9-2 2v14c0 1.1.9 2 2 2h14c1.1 0 2-.9 2-2V5c0-1.1-.9-2-2-2zM9 17H7v-7h2v7zm4 0h-2V7h2v10zm4 0h-2v-4h2v4z\"/>\n",
              "    </g>\n",
              "</svg>\n",
              "  </button>\n",
              "\n",
              "<style>\n",
              "  .colab-df-quickchart {\n",
              "      --bg-color: #E8F0FE;\n",
              "      --fill-color: #1967D2;\n",
              "      --hover-bg-color: #E2EBFA;\n",
              "      --hover-fill-color: #174EA6;\n",
              "      --disabled-fill-color: #AAA;\n",
              "      --disabled-bg-color: #DDD;\n",
              "  }\n",
              "\n",
              "  [theme=dark] .colab-df-quickchart {\n",
              "      --bg-color: #3B4455;\n",
              "      --fill-color: #D2E3FC;\n",
              "      --hover-bg-color: #434B5C;\n",
              "      --hover-fill-color: #FFFFFF;\n",
              "      --disabled-bg-color: #3B4455;\n",
              "      --disabled-fill-color: #666;\n",
              "  }\n",
              "\n",
              "  .colab-df-quickchart {\n",
              "    background-color: var(--bg-color);\n",
              "    border: none;\n",
              "    border-radius: 50%;\n",
              "    cursor: pointer;\n",
              "    display: none;\n",
              "    fill: var(--fill-color);\n",
              "    height: 32px;\n",
              "    padding: 0;\n",
              "    width: 32px;\n",
              "  }\n",
              "\n",
              "  .colab-df-quickchart:hover {\n",
              "    background-color: var(--hover-bg-color);\n",
              "    box-shadow: 0 1px 2px rgba(60, 64, 67, 0.3), 0 1px 3px 1px rgba(60, 64, 67, 0.15);\n",
              "    fill: var(--button-hover-fill-color);\n",
              "  }\n",
              "\n",
              "  .colab-df-quickchart-complete:disabled,\n",
              "  .colab-df-quickchart-complete:disabled:hover {\n",
              "    background-color: var(--disabled-bg-color);\n",
              "    fill: var(--disabled-fill-color);\n",
              "    box-shadow: none;\n",
              "  }\n",
              "\n",
              "  .colab-df-spinner {\n",
              "    border: 2px solid var(--fill-color);\n",
              "    border-color: transparent;\n",
              "    border-bottom-color: var(--fill-color);\n",
              "    animation:\n",
              "      spin 1s steps(1) infinite;\n",
              "  }\n",
              "\n",
              "  @keyframes spin {\n",
              "    0% {\n",
              "      border-color: transparent;\n",
              "      border-bottom-color: var(--fill-color);\n",
              "      border-left-color: var(--fill-color);\n",
              "    }\n",
              "    20% {\n",
              "      border-color: transparent;\n",
              "      border-left-color: var(--fill-color);\n",
              "      border-top-color: var(--fill-color);\n",
              "    }\n",
              "    30% {\n",
              "      border-color: transparent;\n",
              "      border-left-color: var(--fill-color);\n",
              "      border-top-color: var(--fill-color);\n",
              "      border-right-color: var(--fill-color);\n",
              "    }\n",
              "    40% {\n",
              "      border-color: transparent;\n",
              "      border-right-color: var(--fill-color);\n",
              "      border-top-color: var(--fill-color);\n",
              "    }\n",
              "    60% {\n",
              "      border-color: transparent;\n",
              "      border-right-color: var(--fill-color);\n",
              "    }\n",
              "    80% {\n",
              "      border-color: transparent;\n",
              "      border-right-color: var(--fill-color);\n",
              "      border-bottom-color: var(--fill-color);\n",
              "    }\n",
              "    90% {\n",
              "      border-color: transparent;\n",
              "      border-bottom-color: var(--fill-color);\n",
              "    }\n",
              "  }\n",
              "</style>\n",
              "\n",
              "  <script>\n",
              "    async function quickchart(key) {\n",
              "      const quickchartButtonEl =\n",
              "        document.querySelector('#' + key + ' button');\n",
              "      quickchartButtonEl.disabled = true;  // To prevent multiple clicks.\n",
              "      quickchartButtonEl.classList.add('colab-df-spinner');\n",
              "      try {\n",
              "        const charts = await google.colab.kernel.invokeFunction(\n",
              "            'suggestCharts', [key], {});\n",
              "      } catch (error) {\n",
              "        console.error('Error during call to suggestCharts:', error);\n",
              "      }\n",
              "      quickchartButtonEl.classList.remove('colab-df-spinner');\n",
              "      quickchartButtonEl.classList.add('colab-df-quickchart-complete');\n",
              "    }\n",
              "    (() => {\n",
              "      let quickchartButtonEl =\n",
              "        document.querySelector('#df-b87cc184-9ef4-442a-b13c-ae1dfaf6dbed button');\n",
              "      quickchartButtonEl.style.display =\n",
              "        google.colab.kernel.accessAllowed ? 'block' : 'none';\n",
              "    })();\n",
              "  </script>\n",
              "</div>\n",
              "    </div>\n",
              "  </div>\n"
            ]
          },
          "metadata": {},
          "execution_count": 62
        }
      ]
    },
    {
      "cell_type": "code",
      "source": [
        "x = df # stores the features, of images = width*height = 8*8 = 64\n",
        "y = target"
      ],
      "metadata": {
        "id": "Qvr-okw4oAdZ"
      },
      "execution_count": 64,
      "outputs": []
    },
    {
      "cell_type": "code",
      "source": [
        "scaler = StandardScaler()"
      ],
      "metadata": {
        "id": "Ipwj-8ln9F_A"
      },
      "execution_count": 65,
      "outputs": []
    },
    {
      "cell_type": "code",
      "source": [
        "scaler.fit(x)"
      ],
      "metadata": {
        "colab": {
          "base_uri": "https://localhost:8080/",
          "height": 75
        },
        "id": "Fu8hd8HJ9KBj",
        "outputId": "e14fd487-b83c-469c-c043-46e722a38fdd"
      },
      "execution_count": 66,
      "outputs": [
        {
          "output_type": "execute_result",
          "data": {
            "text/plain": [
              "StandardScaler()"
            ],
            "text/html": [
              "<style>#sk-container-id-3 {color: black;background-color: white;}#sk-container-id-3 pre{padding: 0;}#sk-container-id-3 div.sk-toggleable {background-color: white;}#sk-container-id-3 label.sk-toggleable__label {cursor: pointer;display: block;width: 100%;margin-bottom: 0;padding: 0.3em;box-sizing: border-box;text-align: center;}#sk-container-id-3 label.sk-toggleable__label-arrow:before {content: \"▸\";float: left;margin-right: 0.25em;color: #696969;}#sk-container-id-3 label.sk-toggleable__label-arrow:hover:before {color: black;}#sk-container-id-3 div.sk-estimator:hover label.sk-toggleable__label-arrow:before {color: black;}#sk-container-id-3 div.sk-toggleable__content {max-height: 0;max-width: 0;overflow: hidden;text-align: left;background-color: #f0f8ff;}#sk-container-id-3 div.sk-toggleable__content pre {margin: 0.2em;color: black;border-radius: 0.25em;background-color: #f0f8ff;}#sk-container-id-3 input.sk-toggleable__control:checked~div.sk-toggleable__content {max-height: 200px;max-width: 100%;overflow: auto;}#sk-container-id-3 input.sk-toggleable__control:checked~label.sk-toggleable__label-arrow:before {content: \"▾\";}#sk-container-id-3 div.sk-estimator input.sk-toggleable__control:checked~label.sk-toggleable__label {background-color: #d4ebff;}#sk-container-id-3 div.sk-label input.sk-toggleable__control:checked~label.sk-toggleable__label {background-color: #d4ebff;}#sk-container-id-3 input.sk-hidden--visually {border: 0;clip: rect(1px 1px 1px 1px);clip: rect(1px, 1px, 1px, 1px);height: 1px;margin: -1px;overflow: hidden;padding: 0;position: absolute;width: 1px;}#sk-container-id-3 div.sk-estimator {font-family: monospace;background-color: #f0f8ff;border: 1px dotted black;border-radius: 0.25em;box-sizing: border-box;margin-bottom: 0.5em;}#sk-container-id-3 div.sk-estimator:hover {background-color: #d4ebff;}#sk-container-id-3 div.sk-parallel-item::after {content: \"\";width: 100%;border-bottom: 1px solid gray;flex-grow: 1;}#sk-container-id-3 div.sk-label:hover label.sk-toggleable__label {background-color: #d4ebff;}#sk-container-id-3 div.sk-serial::before {content: \"\";position: absolute;border-left: 1px solid gray;box-sizing: border-box;top: 0;bottom: 0;left: 50%;z-index: 0;}#sk-container-id-3 div.sk-serial {display: flex;flex-direction: column;align-items: center;background-color: white;padding-right: 0.2em;padding-left: 0.2em;position: relative;}#sk-container-id-3 div.sk-item {position: relative;z-index: 1;}#sk-container-id-3 div.sk-parallel {display: flex;align-items: stretch;justify-content: center;background-color: white;position: relative;}#sk-container-id-3 div.sk-item::before, #sk-container-id-3 div.sk-parallel-item::before {content: \"\";position: absolute;border-left: 1px solid gray;box-sizing: border-box;top: 0;bottom: 0;left: 50%;z-index: -1;}#sk-container-id-3 div.sk-parallel-item {display: flex;flex-direction: column;z-index: 1;position: relative;background-color: white;}#sk-container-id-3 div.sk-parallel-item:first-child::after {align-self: flex-end;width: 50%;}#sk-container-id-3 div.sk-parallel-item:last-child::after {align-self: flex-start;width: 50%;}#sk-container-id-3 div.sk-parallel-item:only-child::after {width: 0;}#sk-container-id-3 div.sk-dashed-wrapped {border: 1px dashed gray;margin: 0 0.4em 0.5em 0.4em;box-sizing: border-box;padding-bottom: 0.4em;background-color: white;}#sk-container-id-3 div.sk-label label {font-family: monospace;font-weight: bold;display: inline-block;line-height: 1.2em;}#sk-container-id-3 div.sk-label-container {text-align: center;}#sk-container-id-3 div.sk-container {/* jupyter's `normalize.less` sets `[hidden] { display: none; }` but bootstrap.min.css set `[hidden] { display: none !important; }` so we also need the `!important` here to be able to override the default hidden behavior on the sphinx rendered scikit-learn.org. See: https://github.com/scikit-learn/scikit-learn/issues/21755 */display: inline-block !important;position: relative;}#sk-container-id-3 div.sk-text-repr-fallback {display: none;}</style><div id=\"sk-container-id-3\" class=\"sk-top-container\"><div class=\"sk-text-repr-fallback\"><pre>StandardScaler()</pre><b>In a Jupyter environment, please rerun this cell to show the HTML representation or trust the notebook. <br />On GitHub, the HTML representation is unable to render, please try loading this page with nbviewer.org.</b></div><div class=\"sk-container\" hidden><div class=\"sk-item\"><div class=\"sk-estimator sk-toggleable\"><input class=\"sk-toggleable__control sk-hidden--visually\" id=\"sk-estimator-id-3\" type=\"checkbox\" checked><label for=\"sk-estimator-id-3\" class=\"sk-toggleable__label sk-toggleable__label-arrow\">StandardScaler</label><div class=\"sk-toggleable__content\"><pre>StandardScaler()</pre></div></div></div></div></div>"
            ]
          },
          "metadata": {},
          "execution_count": 66
        }
      ]
    },
    {
      "cell_type": "code",
      "source": [
        "scaled_x = scaler.transform(x)"
      ],
      "metadata": {
        "id": "pVGW9bWl9MRD"
      },
      "execution_count": 67,
      "outputs": []
    },
    {
      "cell_type": "code",
      "source": [
        "from sklearn.model_selection import train_test_split\n",
        "\n",
        "x_train,x_test,y_train,y_test = train_test_split(x,y,test_size=0.2,random_state=2,stratify=y)"
      ],
      "metadata": {
        "id": "5w_WBnUU95OA"
      },
      "execution_count": 83,
      "outputs": []
    },
    {
      "cell_type": "code",
      "source": [
        "pd.DataFrame(y_train).value_counts(), pd.DataFrame(y_test).value_counts()"
      ],
      "metadata": {
        "colab": {
          "base_uri": "https://localhost:8080/"
        },
        "id": "YPHP36q7-rZ1",
        "outputId": "9554344e-530b-4077-bc98-486e95570deb"
      },
      "execution_count": 85,
      "outputs": [
        {
          "output_type": "execute_result",
          "data": {
            "text/plain": [
              "(1    146\n",
              " 3    146\n",
              " 4    145\n",
              " 5    145\n",
              " 6    145\n",
              " 9    144\n",
              " 7    143\n",
              " 0    142\n",
              " 2    142\n",
              " 8    139\n",
              " dtype: int64,\n",
              " 3    37\n",
              " 5    37\n",
              " 0    36\n",
              " 1    36\n",
              " 4    36\n",
              " 6    36\n",
              " 7    36\n",
              " 9    36\n",
              " 2    35\n",
              " 8    35\n",
              " dtype: int64)"
            ]
          },
          "metadata": {},
          "execution_count": 85
        }
      ]
    },
    {
      "cell_type": "markdown",
      "source": [
        "Trying different models"
      ],
      "metadata": {
        "id": "LD2INzlIBUx1"
      }
    },
    {
      "cell_type": "code",
      "source": [
        "from sklearn.linear_model import LogisticRegression\n",
        "model = LogisticRegression(max_iter=10000)\n",
        "model.fit(x_train,y_train)\n",
        "model.score(x_test,y_test)"
      ],
      "metadata": {
        "colab": {
          "base_uri": "https://localhost:8080/"
        },
        "id": "J0XQcslu_TRI",
        "outputId": "95411bf0-6aa2-4089-dfae-4d9e0a07aa7d"
      },
      "execution_count": 89,
      "outputs": [
        {
          "output_type": "execute_result",
          "data": {
            "text/plain": [
              "0.9666666666666667"
            ]
          },
          "metadata": {},
          "execution_count": 89
        }
      ]
    },
    {
      "cell_type": "code",
      "source": [
        "from sklearn.tree import DecisionTreeClassifier\n",
        "model1 = DecisionTreeClassifier()\n",
        "model1.fit(x_train,y_train)\n",
        "model1.score(x_test,y_test)"
      ],
      "metadata": {
        "colab": {
          "base_uri": "https://localhost:8080/"
        },
        "id": "AnpfY5UF_530",
        "outputId": "67da39af-efa4-41a9-d4ac-413be87e73ef"
      },
      "execution_count": 94,
      "outputs": [
        {
          "output_type": "execute_result",
          "data": {
            "text/plain": [
              "0.8444444444444444"
            ]
          },
          "metadata": {},
          "execution_count": 94
        }
      ]
    },
    {
      "cell_type": "code",
      "source": [
        "from sklearn.ensemble import RandomForestClassifier\n",
        "model2 = RandomForestClassifier()\n",
        "model2.fit(x_train,y_train)\n",
        "model2.score(x_test,y_test)"
      ],
      "metadata": {
        "colab": {
          "base_uri": "https://localhost:8080/"
        },
        "id": "R-jJH07JAyQT",
        "outputId": "0b2f45ec-29ce-4922-b8cd-3fbf38168007"
      },
      "execution_count": 96,
      "outputs": [
        {
          "output_type": "execute_result",
          "data": {
            "text/plain": [
              "0.9638888888888889"
            ]
          },
          "metadata": {},
          "execution_count": 96
        }
      ]
    },
    {
      "cell_type": "code",
      "source": [
        "from sklearn.svm import SVC\n",
        "model3 = SVC(max_iter=10000)\n",
        "model3.fit(x_train,y_train)\n",
        "model3.score(x_test,y_test)"
      ],
      "metadata": {
        "colab": {
          "base_uri": "https://localhost:8080/"
        },
        "id": "y2JyuPctA5H0",
        "outputId": "00045c1d-6134-4ee5-964e-122a4bd713a8"
      },
      "execution_count": 97,
      "outputs": [
        {
          "output_type": "execute_result",
          "data": {
            "text/plain": [
              "0.9888888888888889"
            ]
          },
          "metadata": {},
          "execution_count": 97
        }
      ]
    },
    {
      "cell_type": "markdown",
      "source": [
        "Applying PCA"
      ],
      "metadata": {
        "id": "o1Cba40dBdxM"
      }
    },
    {
      "cell_type": "code",
      "source": [
        "pca1 = PCA(0.95) # retains 95% of useful features\n",
        "x_pca = pca1.fit_transform(scaled_x)"
      ],
      "metadata": {
        "id": "XJnX0wNvBe1f"
      },
      "execution_count": 101,
      "outputs": []
    },
    {
      "cell_type": "markdown",
      "source": [
        "64-40 = 24 columns are dropped"
      ],
      "metadata": {
        "id": "3zrwpUiIB5Y5"
      }
    },
    {
      "cell_type": "markdown",
      "source": [
        "Here it's not chosing the 40 columns, it calculated the new columns which are basically 40 most important principal components"
      ],
      "metadata": {
        "id": "DET5Jue2CHp0"
      }
    },
    {
      "cell_type": "code",
      "source": [
        "pd.DataFrame(x_pca).shape"
      ],
      "metadata": {
        "colab": {
          "base_uri": "https://localhost:8080/"
        },
        "id": "Z8owRWeyBujD",
        "outputId": "88af6530-83e2-4c58-9f5a-dec0cc5da270"
      },
      "execution_count": 102,
      "outputs": [
        {
          "output_type": "execute_result",
          "data": {
            "text/plain": [
              "(1797, 40)"
            ]
          },
          "metadata": {},
          "execution_count": 102
        }
      ]
    },
    {
      "cell_type": "markdown",
      "source": [
        "40 values indicate each principal component's share of info.\n",
        "\n",
        "1st PC contains 12% of total info and so on."
      ],
      "metadata": {
        "id": "6NRaQ2fbDQKA"
      }
    },
    {
      "cell_type": "code",
      "source": [
        "pca1.explained_variance_ratio_"
      ],
      "metadata": {
        "colab": {
          "base_uri": "https://localhost:8080/"
        },
        "id": "NwKFDvUYB3Sy",
        "outputId": "898256b8-f10c-4bb0-d0c2-38c10f4692af"
      },
      "execution_count": 104,
      "outputs": [
        {
          "output_type": "execute_result",
          "data": {
            "text/plain": [
              "array([0.12033916, 0.09561054, 0.08444415, 0.06498408, 0.04860155,\n",
              "       0.0421412 , 0.03942083, 0.03389381, 0.02998221, 0.02932003,\n",
              "       0.02781805, 0.02577055, 0.02275303, 0.0222718 , 0.02165229,\n",
              "       0.01914167, 0.01775547, 0.01638069, 0.0159646 , 0.01489191,\n",
              "       0.0134797 , 0.01271931, 0.01165837, 0.01057647, 0.00975316,\n",
              "       0.00944559, 0.00863014, 0.00836643, 0.00797693, 0.00746471,\n",
              "       0.00725582, 0.00691911, 0.00653909, 0.00640793, 0.00591384,\n",
              "       0.00571162, 0.00523637, 0.00481808, 0.00453719, 0.00423163])"
            ]
          },
          "metadata": {},
          "execution_count": 104
        }
      ]
    },
    {
      "cell_type": "code",
      "source": [
        "sum=0\n",
        "for i in list(pca1.explained_variance_ratio_):\n",
        "  sum+=i\n",
        "sum"
      ],
      "metadata": {
        "colab": {
          "base_uri": "https://localhost:8080/"
        },
        "id": "OnDd9HjpCsTz",
        "outputId": "19331361-f2b4-4a0b-aee9-340221687f17"
      },
      "execution_count": 106,
      "outputs": [
        {
          "output_type": "execute_result",
          "data": {
            "text/plain": [
              "0.9507791125066465"
            ]
          },
          "metadata": {},
          "execution_count": 106
        }
      ]
    },
    {
      "cell_type": "markdown",
      "source": [
        "As you can see above that the sum of all the values = 95%, which means 95% of useful info is retained"
      ],
      "metadata": {
        "id": "bCNOcd5fDHtk"
      }
    },
    {
      "cell_type": "markdown",
      "source": [
        "Testing various models after applying PCA, we see some reduction accuracy, owing to loss is information."
      ],
      "metadata": {
        "id": "WIQLYoEgGOGb"
      }
    },
    {
      "cell_type": "code",
      "source": [
        "x_train,x_test,y_train,y_test = train_test_split(x_pca,y,test_size=0.2,random_state=2,stratify=y)"
      ],
      "metadata": {
        "id": "zhGwlvFzD39x"
      },
      "execution_count": 107,
      "outputs": []
    },
    {
      "cell_type": "code",
      "source": [
        "from sklearn.linear_model import LogisticRegression\n",
        "model = LogisticRegression(max_iter=10000)\n",
        "model.fit(x_train,y_train)\n",
        "model.score(x_test,y_test)"
      ],
      "metadata": {
        "colab": {
          "base_uri": "https://localhost:8080/"
        },
        "id": "FjWUbz7OD_od",
        "outputId": "97f58ba5-859a-475f-e822-722071130ae8"
      },
      "execution_count": 109,
      "outputs": [
        {
          "output_type": "execute_result",
          "data": {
            "text/plain": [
              "0.9527777777777777"
            ]
          },
          "metadata": {},
          "execution_count": 109
        }
      ]
    },
    {
      "cell_type": "code",
      "source": [
        "from sklearn.tree import DecisionTreeClassifier\n",
        "model1 = DecisionTreeClassifier()\n",
        "model1.fit(x_train,y_train)\n",
        "model1.score(x_test,y_test)"
      ],
      "metadata": {
        "colab": {
          "base_uri": "https://localhost:8080/"
        },
        "id": "AtBc-QNgEEgN",
        "outputId": "7473061d-8ee4-4bbb-9e86-bfb318cf4634"
      },
      "execution_count": 110,
      "outputs": [
        {
          "output_type": "execute_result",
          "data": {
            "text/plain": [
              "0.8083333333333333"
            ]
          },
          "metadata": {},
          "execution_count": 110
        }
      ]
    },
    {
      "cell_type": "code",
      "source": [
        "from sklearn.ensemble import RandomForestClassifier\n",
        "model2 = RandomForestClassifier()\n",
        "model2.fit(x_train,y_train)\n",
        "model2.score(x_test,y_test)"
      ],
      "metadata": {
        "colab": {
          "base_uri": "https://localhost:8080/"
        },
        "id": "G8L018YpEI4G",
        "outputId": "85d0092c-ea42-474d-a36b-a1d3c6a34ef2"
      },
      "execution_count": 111,
      "outputs": [
        {
          "output_type": "execute_result",
          "data": {
            "text/plain": [
              "0.9472222222222222"
            ]
          },
          "metadata": {},
          "execution_count": 111
        }
      ]
    },
    {
      "cell_type": "code",
      "source": [
        "from sklearn.svm import SVC\n",
        "model3 = SVC(max_iter=10000)\n",
        "model3.fit(x_train,y_train)\n",
        "model3.score(x_test,y_test)"
      ],
      "metadata": {
        "colab": {
          "base_uri": "https://localhost:8080/"
        },
        "id": "JBKYj9jXDBAf",
        "outputId": "cea5f156-749c-4af6-e655-65c15b0e3f8c"
      },
      "execution_count": 108,
      "outputs": [
        {
          "output_type": "execute_result",
          "data": {
            "text/plain": [
              "0.975"
            ]
          },
          "metadata": {},
          "execution_count": 108
        }
      ]
    }
  ]
}