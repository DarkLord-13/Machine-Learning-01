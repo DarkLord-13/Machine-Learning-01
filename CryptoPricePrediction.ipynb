{
  "nbformat": 4,
  "nbformat_minor": 0,
  "metadata": {
    "colab": {
      "provenance": [],
      "authorship_tag": "ABX9TyOyVX0Hj+tchkvZ7Fzc2Fmm",
      "include_colab_link": true
    },
    "kernelspec": {
      "name": "python3",
      "display_name": "Python 3"
    },
    "language_info": {
      "name": "python"
    }
  },
  "cells": [
    {
      "cell_type": "markdown",
      "metadata": {
        "id": "view-in-github",
        "colab_type": "text"
      },
      "source": [
        "<a href=\"https://colab.research.google.com/github/DarkLord-13/Machine-Learning-01/blob/main/CryptoPricePrediction.ipynb\" target=\"_parent\"><img src=\"https://colab.research.google.com/assets/colab-badge.svg\" alt=\"Open In Colab\"/></a>"
      ]
    },
    {
      "cell_type": "markdown",
      "source": [
        "# Data Preprocessing:\n",
        "\n",
        "Download the Bitcoin closing price data from Yahoo Finance.\n",
        "Perform data cleaning, handling missing values, and normalization.\n",
        "Create sequences of data for training the LSTM model.\n",
        "Model Implementation (LSTM):\n",
        "\n",
        "-\n",
        "\n",
        "Build an LSTM model architecture.\n",
        "\n",
        "Train the LSTM model using the preprocessed data.\n",
        "\n",
        "Model Evaluation:\n",
        "\n",
        "-\n",
        "\n",
        "Evaluate the performance of the trained LSTM model using appropriate metrics.\n",
        "\n",
        "Repeat for Two Other Algorithms:\n",
        "\n",
        "-\n",
        "\n",
        "Choose and implement two additional algorithms for comparison.\n",
        "\n",
        "Final Model Recommendation:\n",
        "\n",
        "-\n",
        "\n",
        "Compare the performance of the three models.\n",
        "\n",
        "Recommend the best-performing model.\n",
        "\n",
        "\n",
        "Let's start with the data preprocessing step:\n",
        "\n",
        "-\n",
        "\n",
        "Data Preprocessing:\n",
        "\n",
        "Import Libraries:\n",
        "\n",
        "\n",
        "Import necessary libraries such as Pandas, NumPy, Matplotlib, Yahoo Finance (to fetch data), and TensorFlow/Keras (for modeling).\n",
        "Fetch Data:\n",
        "\n",
        "Use the yfinance library to fetch historical Bitcoin closing price data from Yahoo Finance.\n",
        "Data Cleaning:\n",
        "\n",
        "Handle any missing values in the data.\n",
        "Data Normalization:\n",
        "\n",
        "Normalize the data to scale it within a specific range (e.g., using Min-Max scaling).\n",
        "Create Sequences:\n",
        "\n",
        "Convert the normalized data into sequences suitable for LSTM training."
      ],
      "metadata": {
        "id": "XUmykoF5cN__"
      }
    },
    {
      "cell_type": "code",
      "source": [
        "# First we will import the necessary Library\n",
        "\n",
        "import os\n",
        "import pandas as pd\n",
        "import numpy as np\n",
        "import math\n",
        "import datetime as dt\n",
        "import matplotlib.pyplot as plt\n",
        "\n",
        "# For Evalution we will use these library\n",
        "\n",
        "from sklearn.metrics import mean_squared_error, mean_absolute_error, explained_variance_score, r2_score\n",
        "from sklearn.metrics import mean_poisson_deviance, mean_gamma_deviance, accuracy_score\n",
        "from sklearn.preprocessing import MinMaxScaler\n",
        "\n",
        "# For model building we will use these library\n",
        "\n",
        "import tensorflow as tf\n",
        "from tensorflow.keras.models import Sequential\n",
        "from tensorflow.keras.layers import Dense, Dropout\n",
        "from tensorflow.keras.layers import LSTM\n",
        "\n",
        "# For PLotting we will use these library\n",
        "\n",
        "import matplotlib.pyplot as plt\n",
        "from itertools import cycle\n",
        "import plotly.graph_objects as go\n",
        "import plotly.express as px\n",
        "from plotly.subplots import make_subplots\n",
        "\n",
        "import yfinance as yf"
      ],
      "metadata": {
        "id": "yT0Epz5jsM46"
      },
      "execution_count": 1,
      "outputs": []
    },
    {
      "cell_type": "markdown",
      "source": [
        "# Importing the dataset\n",
        "\n",
        "1. import the dataset into df\n",
        "\n",
        "2. save it to csv\n",
        "\n",
        "3. read it from csv\n",
        "\n",
        "The above process is done to read Date as a column which is not possible by simply importing the dataset."
      ],
      "metadata": {
        "id": "cbV1EAUY0sq4"
      }
    },
    {
      "cell_type": "code",
      "source": [
        "df = yf.download('BTC',\n",
        "                      period='max',\n",
        "                      progress=True,\n",
        ")\n",
        "print(df.tail())"
      ],
      "metadata": {
        "colab": {
          "base_uri": "https://localhost:8080/"
        },
        "id": "32Lx_OTP0yoG",
        "outputId": "434e16e7-3cde-49a3-fc19-68875634908d"
      },
      "execution_count": 2,
      "outputs": [
        {
          "output_type": "stream",
          "name": "stdout",
          "text": [
            "\r[*********************100%***********************]  1 of 1 completed\n",
            "                 Open       High        Low      Close  Adj Close  Volume\n",
            "Date                                                                     \n",
            "2023-08-03  90.841003  90.841003  90.629997  90.806297  90.806297   19669\n",
            "2023-08-04  91.059998  91.325302  91.059998  91.325302  91.325302    1528\n",
            "2023-08-07  91.264999  91.290001  91.255501  91.255501  91.255501    2623\n",
            "2023-08-08  91.448997  91.448997  91.427696  91.427696  91.427696     240\n",
            "2023-08-09  91.401001  91.415100  91.401001  91.415100  91.415100     612\n"
          ]
        }
      ]
    },
    {
      "cell_type": "markdown",
      "source": [
        "# Checking for null values"
      ],
      "metadata": {
        "id": "HDuWq2kr9MGD"
      }
    },
    {
      "cell_type": "code",
      "source": [
        "df.isnull().sum()"
      ],
      "metadata": {
        "colab": {
          "base_uri": "https://localhost:8080/"
        },
        "id": "yYks06Ai9OPT",
        "outputId": "3f786419-55be-4667-c019-b0a8fd1ce30e"
      },
      "execution_count": 30,
      "outputs": [
        {
          "output_type": "execute_result",
          "data": {
            "text/plain": [
              "Date         0\n",
              "Open         0\n",
              "High         0\n",
              "Low          0\n",
              "Close        0\n",
              "Adj Close    0\n",
              "Volume       0\n",
              "dtype: int64"
            ]
          },
          "metadata": {},
          "execution_count": 30
        }
      ]
    },
    {
      "cell_type": "markdown",
      "source": [
        "No null values present, if it did, we could simply drop it as there is abundance of information"
      ],
      "metadata": {
        "id": "_Rm-CgUp9RYj"
      }
    },
    {
      "cell_type": "code",
      "source": [
        "df.to_csv('BTC.csv')"
      ],
      "metadata": {
        "id": "v9rF1_Wr1X2L"
      },
      "execution_count": 3,
      "outputs": []
    },
    {
      "cell_type": "code",
      "source": [
        "df = pd.read_csv('BTC.csv')"
      ],
      "metadata": {
        "id": "YBUS9X0C26eC"
      },
      "execution_count": 4,
      "outputs": []
    },
    {
      "cell_type": "code",
      "source": [
        "df.head()"
      ],
      "metadata": {
        "colab": {
          "base_uri": "https://localhost:8080/",
          "height": 247
        },
        "id": "ysnGPDZS29-n",
        "outputId": "76019366-9f9b-4942-ea7c-628e7aa20df2"
      },
      "execution_count": 5,
      "outputs": [
        {
          "output_type": "execute_result",
          "data": {
            "text/plain": [
              "         Date        Open        High         Low       Close   Adj Close  \\\n",
              "0  2020-10-01  100.000000  100.000000  100.000000  100.000000  100.000000   \n",
              "1  2020-10-02  100.000000  100.000000  100.000000  100.000000  100.000000   \n",
              "2  2020-10-05  100.029999  100.040001   99.995003   99.995003   99.995003   \n",
              "3  2020-10-06  100.010002  100.029999  100.010002  100.029999  100.029999   \n",
              "4  2020-10-07   99.949997   99.959999   99.919998   99.919998   99.919998   \n",
              "\n",
              "   Volume  \n",
              "0       0  \n",
              "1       0  \n",
              "2   10725  \n",
              "3   10080  \n",
              "4    6350  "
            ],
            "text/html": [
              "\n",
              "\n",
              "  <div id=\"df-fb59e44c-0b24-4f7a-a1e3-5ec3cf81e108\">\n",
              "    <div class=\"colab-df-container\">\n",
              "      <div>\n",
              "<style scoped>\n",
              "    .dataframe tbody tr th:only-of-type {\n",
              "        vertical-align: middle;\n",
              "    }\n",
              "\n",
              "    .dataframe tbody tr th {\n",
              "        vertical-align: top;\n",
              "    }\n",
              "\n",
              "    .dataframe thead th {\n",
              "        text-align: right;\n",
              "    }\n",
              "</style>\n",
              "<table border=\"1\" class=\"dataframe\">\n",
              "  <thead>\n",
              "    <tr style=\"text-align: right;\">\n",
              "      <th></th>\n",
              "      <th>Date</th>\n",
              "      <th>Open</th>\n",
              "      <th>High</th>\n",
              "      <th>Low</th>\n",
              "      <th>Close</th>\n",
              "      <th>Adj Close</th>\n",
              "      <th>Volume</th>\n",
              "    </tr>\n",
              "  </thead>\n",
              "  <tbody>\n",
              "    <tr>\n",
              "      <th>0</th>\n",
              "      <td>2020-10-01</td>\n",
              "      <td>100.000000</td>\n",
              "      <td>100.000000</td>\n",
              "      <td>100.000000</td>\n",
              "      <td>100.000000</td>\n",
              "      <td>100.000000</td>\n",
              "      <td>0</td>\n",
              "    </tr>\n",
              "    <tr>\n",
              "      <th>1</th>\n",
              "      <td>2020-10-02</td>\n",
              "      <td>100.000000</td>\n",
              "      <td>100.000000</td>\n",
              "      <td>100.000000</td>\n",
              "      <td>100.000000</td>\n",
              "      <td>100.000000</td>\n",
              "      <td>0</td>\n",
              "    </tr>\n",
              "    <tr>\n",
              "      <th>2</th>\n",
              "      <td>2020-10-05</td>\n",
              "      <td>100.029999</td>\n",
              "      <td>100.040001</td>\n",
              "      <td>99.995003</td>\n",
              "      <td>99.995003</td>\n",
              "      <td>99.995003</td>\n",
              "      <td>10725</td>\n",
              "    </tr>\n",
              "    <tr>\n",
              "      <th>3</th>\n",
              "      <td>2020-10-06</td>\n",
              "      <td>100.010002</td>\n",
              "      <td>100.029999</td>\n",
              "      <td>100.010002</td>\n",
              "      <td>100.029999</td>\n",
              "      <td>100.029999</td>\n",
              "      <td>10080</td>\n",
              "    </tr>\n",
              "    <tr>\n",
              "      <th>4</th>\n",
              "      <td>2020-10-07</td>\n",
              "      <td>99.949997</td>\n",
              "      <td>99.959999</td>\n",
              "      <td>99.919998</td>\n",
              "      <td>99.919998</td>\n",
              "      <td>99.919998</td>\n",
              "      <td>6350</td>\n",
              "    </tr>\n",
              "  </tbody>\n",
              "</table>\n",
              "</div>\n",
              "      <button class=\"colab-df-convert\" onclick=\"convertToInteractive('df-fb59e44c-0b24-4f7a-a1e3-5ec3cf81e108')\"\n",
              "              title=\"Convert this dataframe to an interactive table.\"\n",
              "              style=\"display:none;\">\n",
              "\n",
              "  <svg xmlns=\"http://www.w3.org/2000/svg\" height=\"24px\"viewBox=\"0 0 24 24\"\n",
              "       width=\"24px\">\n",
              "    <path d=\"M0 0h24v24H0V0z\" fill=\"none\"/>\n",
              "    <path d=\"M18.56 5.44l.94 2.06.94-2.06 2.06-.94-2.06-.94-.94-2.06-.94 2.06-2.06.94zm-11 1L8.5 8.5l.94-2.06 2.06-.94-2.06-.94L8.5 2.5l-.94 2.06-2.06.94zm10 10l.94 2.06.94-2.06 2.06-.94-2.06-.94-.94-2.06-.94 2.06-2.06.94z\"/><path d=\"M17.41 7.96l-1.37-1.37c-.4-.4-.92-.59-1.43-.59-.52 0-1.04.2-1.43.59L10.3 9.45l-7.72 7.72c-.78.78-.78 2.05 0 2.83L4 21.41c.39.39.9.59 1.41.59.51 0 1.02-.2 1.41-.59l7.78-7.78 2.81-2.81c.8-.78.8-2.07 0-2.86zM5.41 20L4 18.59l7.72-7.72 1.47 1.35L5.41 20z\"/>\n",
              "  </svg>\n",
              "      </button>\n",
              "\n",
              "\n",
              "\n",
              "    <div id=\"df-879c75d9-23e2-49e6-a19c-e7b7c5e07375\">\n",
              "      <button class=\"colab-df-quickchart\" onclick=\"quickchart('df-879c75d9-23e2-49e6-a19c-e7b7c5e07375')\"\n",
              "              title=\"Suggest charts.\"\n",
              "              style=\"display:none;\">\n",
              "\n",
              "<svg xmlns=\"http://www.w3.org/2000/svg\" height=\"24px\"viewBox=\"0 0 24 24\"\n",
              "     width=\"24px\">\n",
              "    <g>\n",
              "        <path d=\"M19 3H5c-1.1 0-2 .9-2 2v14c0 1.1.9 2 2 2h14c1.1 0 2-.9 2-2V5c0-1.1-.9-2-2-2zM9 17H7v-7h2v7zm4 0h-2V7h2v10zm4 0h-2v-4h2v4z\"/>\n",
              "    </g>\n",
              "</svg>\n",
              "      </button>\n",
              "    </div>\n",
              "\n",
              "<style>\n",
              "  .colab-df-quickchart {\n",
              "    background-color: #E8F0FE;\n",
              "    border: none;\n",
              "    border-radius: 50%;\n",
              "    cursor: pointer;\n",
              "    display: none;\n",
              "    fill: #1967D2;\n",
              "    height: 32px;\n",
              "    padding: 0 0 0 0;\n",
              "    width: 32px;\n",
              "  }\n",
              "\n",
              "  .colab-df-quickchart:hover {\n",
              "    background-color: #E2EBFA;\n",
              "    box-shadow: 0px 1px 2px rgba(60, 64, 67, 0.3), 0px 1px 3px 1px rgba(60, 64, 67, 0.15);\n",
              "    fill: #174EA6;\n",
              "  }\n",
              "\n",
              "  [theme=dark] .colab-df-quickchart {\n",
              "    background-color: #3B4455;\n",
              "    fill: #D2E3FC;\n",
              "  }\n",
              "\n",
              "  [theme=dark] .colab-df-quickchart:hover {\n",
              "    background-color: #434B5C;\n",
              "    box-shadow: 0px 1px 3px 1px rgba(0, 0, 0, 0.15);\n",
              "    filter: drop-shadow(0px 1px 2px rgba(0, 0, 0, 0.3));\n",
              "    fill: #FFFFFF;\n",
              "  }\n",
              "</style>\n",
              "\n",
              "    <script>\n",
              "      async function quickchart(key) {\n",
              "        const containerElement = document.querySelector('#' + key);\n",
              "        const charts = await google.colab.kernel.invokeFunction(\n",
              "            'suggestCharts', [key], {});\n",
              "      }\n",
              "    </script>\n",
              "\n",
              "      <script>\n",
              "\n",
              "function displayQuickchartButton(domScope) {\n",
              "  let quickchartButtonEl =\n",
              "    domScope.querySelector('#df-879c75d9-23e2-49e6-a19c-e7b7c5e07375 button.colab-df-quickchart');\n",
              "  quickchartButtonEl.style.display =\n",
              "    google.colab.kernel.accessAllowed ? 'block' : 'none';\n",
              "}\n",
              "\n",
              "        displayQuickchartButton(document);\n",
              "      </script>\n",
              "      <style>\n",
              "    .colab-df-container {\n",
              "      display:flex;\n",
              "      flex-wrap:wrap;\n",
              "      gap: 12px;\n",
              "    }\n",
              "\n",
              "    .colab-df-convert {\n",
              "      background-color: #E8F0FE;\n",
              "      border: none;\n",
              "      border-radius: 50%;\n",
              "      cursor: pointer;\n",
              "      display: none;\n",
              "      fill: #1967D2;\n",
              "      height: 32px;\n",
              "      padding: 0 0 0 0;\n",
              "      width: 32px;\n",
              "    }\n",
              "\n",
              "    .colab-df-convert:hover {\n",
              "      background-color: #E2EBFA;\n",
              "      box-shadow: 0px 1px 2px rgba(60, 64, 67, 0.3), 0px 1px 3px 1px rgba(60, 64, 67, 0.15);\n",
              "      fill: #174EA6;\n",
              "    }\n",
              "\n",
              "    [theme=dark] .colab-df-convert {\n",
              "      background-color: #3B4455;\n",
              "      fill: #D2E3FC;\n",
              "    }\n",
              "\n",
              "    [theme=dark] .colab-df-convert:hover {\n",
              "      background-color: #434B5C;\n",
              "      box-shadow: 0px 1px 3px 1px rgba(0, 0, 0, 0.15);\n",
              "      filter: drop-shadow(0px 1px 2px rgba(0, 0, 0, 0.3));\n",
              "      fill: #FFFFFF;\n",
              "    }\n",
              "  </style>\n",
              "\n",
              "      <script>\n",
              "        const buttonEl =\n",
              "          document.querySelector('#df-fb59e44c-0b24-4f7a-a1e3-5ec3cf81e108 button.colab-df-convert');\n",
              "        buttonEl.style.display =\n",
              "          google.colab.kernel.accessAllowed ? 'block' : 'none';\n",
              "\n",
              "        async function convertToInteractive(key) {\n",
              "          const element = document.querySelector('#df-fb59e44c-0b24-4f7a-a1e3-5ec3cf81e108');\n",
              "          const dataTable =\n",
              "            await google.colab.kernel.invokeFunction('convertToInteractive',\n",
              "                                                     [key], {});\n",
              "          if (!dataTable) return;\n",
              "\n",
              "          const docLinkHtml = 'Like what you see? Visit the ' +\n",
              "            '<a target=\"_blank\" href=https://colab.research.google.com/notebooks/data_table.ipynb>data table notebook</a>'\n",
              "            + ' to learn more about interactive tables.';\n",
              "          element.innerHTML = '';\n",
              "          dataTable['output_type'] = 'display_data';\n",
              "          await google.colab.output.renderOutput(dataTable, element);\n",
              "          const docLink = document.createElement('div');\n",
              "          docLink.innerHTML = docLinkHtml;\n",
              "          element.appendChild(docLink);\n",
              "        }\n",
              "      </script>\n",
              "    </div>\n",
              "  </div>\n"
            ]
          },
          "metadata": {},
          "execution_count": 5
        }
      ]
    },
    {
      "cell_type": "code",
      "source": [
        "df.tail()"
      ],
      "metadata": {
        "colab": {
          "base_uri": "https://localhost:8080/",
          "height": 247
        },
        "id": "CZnJrjWa2_iJ",
        "outputId": "d4bbfafb-510f-423a-e77f-a03e56ecdee3"
      },
      "execution_count": 27,
      "outputs": [
        {
          "output_type": "execute_result",
          "data": {
            "text/plain": [
              "           Date       Open       High        Low      Close  Adj Close  Volume\n",
              "712  2023-08-02  91.052902  91.052902  91.052902  91.052902  91.052902      48\n",
              "713  2023-08-03  90.841003  90.841003  90.629997  90.806297  90.806297   19669\n",
              "714  2023-08-04  91.059998  91.325302  91.059998  91.325302  91.325302    1528\n",
              "715  2023-08-07  91.264999  91.290001  91.255501  91.255501  91.255501    2623\n",
              "716  2023-08-08  91.448997  91.448997  91.427696  91.427696  91.427696     240"
            ],
            "text/html": [
              "\n",
              "\n",
              "  <div id=\"df-cfdb2223-4fc3-43b1-ab5e-c5d067707eb0\">\n",
              "    <div class=\"colab-df-container\">\n",
              "      <div>\n",
              "<style scoped>\n",
              "    .dataframe tbody tr th:only-of-type {\n",
              "        vertical-align: middle;\n",
              "    }\n",
              "\n",
              "    .dataframe tbody tr th {\n",
              "        vertical-align: top;\n",
              "    }\n",
              "\n",
              "    .dataframe thead th {\n",
              "        text-align: right;\n",
              "    }\n",
              "</style>\n",
              "<table border=\"1\" class=\"dataframe\">\n",
              "  <thead>\n",
              "    <tr style=\"text-align: right;\">\n",
              "      <th></th>\n",
              "      <th>Date</th>\n",
              "      <th>Open</th>\n",
              "      <th>High</th>\n",
              "      <th>Low</th>\n",
              "      <th>Close</th>\n",
              "      <th>Adj Close</th>\n",
              "      <th>Volume</th>\n",
              "    </tr>\n",
              "  </thead>\n",
              "  <tbody>\n",
              "    <tr>\n",
              "      <th>712</th>\n",
              "      <td>2023-08-02</td>\n",
              "      <td>91.052902</td>\n",
              "      <td>91.052902</td>\n",
              "      <td>91.052902</td>\n",
              "      <td>91.052902</td>\n",
              "      <td>91.052902</td>\n",
              "      <td>48</td>\n",
              "    </tr>\n",
              "    <tr>\n",
              "      <th>713</th>\n",
              "      <td>2023-08-03</td>\n",
              "      <td>90.841003</td>\n",
              "      <td>90.841003</td>\n",
              "      <td>90.629997</td>\n",
              "      <td>90.806297</td>\n",
              "      <td>90.806297</td>\n",
              "      <td>19669</td>\n",
              "    </tr>\n",
              "    <tr>\n",
              "      <th>714</th>\n",
              "      <td>2023-08-04</td>\n",
              "      <td>91.059998</td>\n",
              "      <td>91.325302</td>\n",
              "      <td>91.059998</td>\n",
              "      <td>91.325302</td>\n",
              "      <td>91.325302</td>\n",
              "      <td>1528</td>\n",
              "    </tr>\n",
              "    <tr>\n",
              "      <th>715</th>\n",
              "      <td>2023-08-07</td>\n",
              "      <td>91.264999</td>\n",
              "      <td>91.290001</td>\n",
              "      <td>91.255501</td>\n",
              "      <td>91.255501</td>\n",
              "      <td>91.255501</td>\n",
              "      <td>2623</td>\n",
              "    </tr>\n",
              "    <tr>\n",
              "      <th>716</th>\n",
              "      <td>2023-08-08</td>\n",
              "      <td>91.448997</td>\n",
              "      <td>91.448997</td>\n",
              "      <td>91.427696</td>\n",
              "      <td>91.427696</td>\n",
              "      <td>91.427696</td>\n",
              "      <td>240</td>\n",
              "    </tr>\n",
              "  </tbody>\n",
              "</table>\n",
              "</div>\n",
              "      <button class=\"colab-df-convert\" onclick=\"convertToInteractive('df-cfdb2223-4fc3-43b1-ab5e-c5d067707eb0')\"\n",
              "              title=\"Convert this dataframe to an interactive table.\"\n",
              "              style=\"display:none;\">\n",
              "\n",
              "  <svg xmlns=\"http://www.w3.org/2000/svg\" height=\"24px\"viewBox=\"0 0 24 24\"\n",
              "       width=\"24px\">\n",
              "    <path d=\"M0 0h24v24H0V0z\" fill=\"none\"/>\n",
              "    <path d=\"M18.56 5.44l.94 2.06.94-2.06 2.06-.94-2.06-.94-.94-2.06-.94 2.06-2.06.94zm-11 1L8.5 8.5l.94-2.06 2.06-.94-2.06-.94L8.5 2.5l-.94 2.06-2.06.94zm10 10l.94 2.06.94-2.06 2.06-.94-2.06-.94-.94-2.06-.94 2.06-2.06.94z\"/><path d=\"M17.41 7.96l-1.37-1.37c-.4-.4-.92-.59-1.43-.59-.52 0-1.04.2-1.43.59L10.3 9.45l-7.72 7.72c-.78.78-.78 2.05 0 2.83L4 21.41c.39.39.9.59 1.41.59.51 0 1.02-.2 1.41-.59l7.78-7.78 2.81-2.81c.8-.78.8-2.07 0-2.86zM5.41 20L4 18.59l7.72-7.72 1.47 1.35L5.41 20z\"/>\n",
              "  </svg>\n",
              "      </button>\n",
              "\n",
              "\n",
              "\n",
              "    <div id=\"df-bf2c0098-a0e7-4994-a360-e97ae81bc158\">\n",
              "      <button class=\"colab-df-quickchart\" onclick=\"quickchart('df-bf2c0098-a0e7-4994-a360-e97ae81bc158')\"\n",
              "              title=\"Suggest charts.\"\n",
              "              style=\"display:none;\">\n",
              "\n",
              "<svg xmlns=\"http://www.w3.org/2000/svg\" height=\"24px\"viewBox=\"0 0 24 24\"\n",
              "     width=\"24px\">\n",
              "    <g>\n",
              "        <path d=\"M19 3H5c-1.1 0-2 .9-2 2v14c0 1.1.9 2 2 2h14c1.1 0 2-.9 2-2V5c0-1.1-.9-2-2-2zM9 17H7v-7h2v7zm4 0h-2V7h2v10zm4 0h-2v-4h2v4z\"/>\n",
              "    </g>\n",
              "</svg>\n",
              "      </button>\n",
              "    </div>\n",
              "\n",
              "<style>\n",
              "  .colab-df-quickchart {\n",
              "    background-color: #E8F0FE;\n",
              "    border: none;\n",
              "    border-radius: 50%;\n",
              "    cursor: pointer;\n",
              "    display: none;\n",
              "    fill: #1967D2;\n",
              "    height: 32px;\n",
              "    padding: 0 0 0 0;\n",
              "    width: 32px;\n",
              "  }\n",
              "\n",
              "  .colab-df-quickchart:hover {\n",
              "    background-color: #E2EBFA;\n",
              "    box-shadow: 0px 1px 2px rgba(60, 64, 67, 0.3), 0px 1px 3px 1px rgba(60, 64, 67, 0.15);\n",
              "    fill: #174EA6;\n",
              "  }\n",
              "\n",
              "  [theme=dark] .colab-df-quickchart {\n",
              "    background-color: #3B4455;\n",
              "    fill: #D2E3FC;\n",
              "  }\n",
              "\n",
              "  [theme=dark] .colab-df-quickchart:hover {\n",
              "    background-color: #434B5C;\n",
              "    box-shadow: 0px 1px 3px 1px rgba(0, 0, 0, 0.15);\n",
              "    filter: drop-shadow(0px 1px 2px rgba(0, 0, 0, 0.3));\n",
              "    fill: #FFFFFF;\n",
              "  }\n",
              "</style>\n",
              "\n",
              "    <script>\n",
              "      async function quickchart(key) {\n",
              "        const containerElement = document.querySelector('#' + key);\n",
              "        const charts = await google.colab.kernel.invokeFunction(\n",
              "            'suggestCharts', [key], {});\n",
              "      }\n",
              "    </script>\n",
              "\n",
              "      <script>\n",
              "\n",
              "function displayQuickchartButton(domScope) {\n",
              "  let quickchartButtonEl =\n",
              "    domScope.querySelector('#df-bf2c0098-a0e7-4994-a360-e97ae81bc158 button.colab-df-quickchart');\n",
              "  quickchartButtonEl.style.display =\n",
              "    google.colab.kernel.accessAllowed ? 'block' : 'none';\n",
              "}\n",
              "\n",
              "        displayQuickchartButton(document);\n",
              "      </script>\n",
              "      <style>\n",
              "    .colab-df-container {\n",
              "      display:flex;\n",
              "      flex-wrap:wrap;\n",
              "      gap: 12px;\n",
              "    }\n",
              "\n",
              "    .colab-df-convert {\n",
              "      background-color: #E8F0FE;\n",
              "      border: none;\n",
              "      border-radius: 50%;\n",
              "      cursor: pointer;\n",
              "      display: none;\n",
              "      fill: #1967D2;\n",
              "      height: 32px;\n",
              "      padding: 0 0 0 0;\n",
              "      width: 32px;\n",
              "    }\n",
              "\n",
              "    .colab-df-convert:hover {\n",
              "      background-color: #E2EBFA;\n",
              "      box-shadow: 0px 1px 2px rgba(60, 64, 67, 0.3), 0px 1px 3px 1px rgba(60, 64, 67, 0.15);\n",
              "      fill: #174EA6;\n",
              "    }\n",
              "\n",
              "    [theme=dark] .colab-df-convert {\n",
              "      background-color: #3B4455;\n",
              "      fill: #D2E3FC;\n",
              "    }\n",
              "\n",
              "    [theme=dark] .colab-df-convert:hover {\n",
              "      background-color: #434B5C;\n",
              "      box-shadow: 0px 1px 3px 1px rgba(0, 0, 0, 0.15);\n",
              "      filter: drop-shadow(0px 1px 2px rgba(0, 0, 0, 0.3));\n",
              "      fill: #FFFFFF;\n",
              "    }\n",
              "  </style>\n",
              "\n",
              "      <script>\n",
              "        const buttonEl =\n",
              "          document.querySelector('#df-cfdb2223-4fc3-43b1-ab5e-c5d067707eb0 button.colab-df-convert');\n",
              "        buttonEl.style.display =\n",
              "          google.colab.kernel.accessAllowed ? 'block' : 'none';\n",
              "\n",
              "        async function convertToInteractive(key) {\n",
              "          const element = document.querySelector('#df-cfdb2223-4fc3-43b1-ab5e-c5d067707eb0');\n",
              "          const dataTable =\n",
              "            await google.colab.kernel.invokeFunction('convertToInteractive',\n",
              "                                                     [key], {});\n",
              "          if (!dataTable) return;\n",
              "\n",
              "          const docLinkHtml = 'Like what you see? Visit the ' +\n",
              "            '<a target=\"_blank\" href=https://colab.research.google.com/notebooks/data_table.ipynb>data table notebook</a>'\n",
              "            + ' to learn more about interactive tables.';\n",
              "          element.innerHTML = '';\n",
              "          dataTable['output_type'] = 'display_data';\n",
              "          await google.colab.output.renderOutput(dataTable, element);\n",
              "          const docLink = document.createElement('div');\n",
              "          docLink.innerHTML = docLinkHtml;\n",
              "          element.appendChild(docLink);\n",
              "        }\n",
              "      </script>\n",
              "    </div>\n",
              "  </div>\n"
            ]
          },
          "metadata": {},
          "execution_count": 27
        }
      ]
    },
    {
      "cell_type": "markdown",
      "source": [
        "As you can see, previously from 6 columns we now have 7 columns successfully"
      ],
      "metadata": {
        "id": "SreOl0eW4AEC"
      }
    },
    {
      "cell_type": "code",
      "source": [
        "df.shape"
      ],
      "metadata": {
        "colab": {
          "base_uri": "https://localhost:8080/"
        },
        "id": "QRTosuXv3oqW",
        "outputId": "53787411-8b03-424a-a3b3-283a0dbf35b6"
      },
      "execution_count": 28,
      "outputs": [
        {
          "output_type": "execute_result",
          "data": {
            "text/plain": [
              "(717, 7)"
            ]
          },
          "metadata": {},
          "execution_count": 28
        }
      ]
    },
    {
      "cell_type": "markdown",
      "source": [
        "# EDA"
      ],
      "metadata": {
        "id": "VCWBDRgp9p4d"
      }
    },
    {
      "cell_type": "markdown",
      "source": [
        "2022 Analysis"
      ],
      "metadata": {
        "id": "n_EJCgvJ4zlU"
      }
    },
    {
      "cell_type": "code",
      "source": [
        "df['Date'] = pd.to_datetime(df['Date'], format='%Y-%m-%d')\n",
        "\n",
        "y_2022 = df.loc[(df['Date'] >= '2022-01-01')\n",
        "                     & (df['Date'] < '2023-01-01')]\n",
        "\n",
        "y_2022.drop(y_2022[['Adj Close','Volume']],axis=1)"
      ],
      "metadata": {
        "colab": {
          "base_uri": "https://localhost:8080/",
          "height": 423
        },
        "id": "OYpXytmS3qAF",
        "outputId": "d611f469-f25d-4618-dc93-62802bbf0ad2"
      },
      "execution_count": 6,
      "outputs": [
        {
          "output_type": "execute_result",
          "data": {
            "text/plain": [
              "          Date       Open       High        Low      Close\n",
              "316 2022-01-03  98.309998  98.309998  98.294701  98.294701\n",
              "317 2022-01-04  98.279999  98.291496  98.279999  98.291496\n",
              "318 2022-01-05  98.250000  98.269997  98.090103  98.096397\n",
              "319 2022-01-06  97.985001  97.985001  97.985001  97.985001\n",
              "320 2022-01-07  97.894600  97.894600  97.894600  97.894600\n",
              "..         ...        ...        ...        ...        ...\n",
              "562 2022-12-23  90.771004  90.804497  90.760002  90.804497\n",
              "563 2022-12-27  90.509598  90.509598  90.509598  90.509598\n",
              "564 2022-12-28  90.420998  90.434700  90.420998  90.434700\n",
              "565 2022-12-29  90.592300  90.592300  90.592300  90.592300\n",
              "566 2022-12-30  90.431702  90.431702  90.431702  90.431702\n",
              "\n",
              "[251 rows x 5 columns]"
            ],
            "text/html": [
              "\n",
              "\n",
              "  <div id=\"df-264de08d-4d24-4a80-be6d-f66c55873d99\">\n",
              "    <div class=\"colab-df-container\">\n",
              "      <div>\n",
              "<style scoped>\n",
              "    .dataframe tbody tr th:only-of-type {\n",
              "        vertical-align: middle;\n",
              "    }\n",
              "\n",
              "    .dataframe tbody tr th {\n",
              "        vertical-align: top;\n",
              "    }\n",
              "\n",
              "    .dataframe thead th {\n",
              "        text-align: right;\n",
              "    }\n",
              "</style>\n",
              "<table border=\"1\" class=\"dataframe\">\n",
              "  <thead>\n",
              "    <tr style=\"text-align: right;\">\n",
              "      <th></th>\n",
              "      <th>Date</th>\n",
              "      <th>Open</th>\n",
              "      <th>High</th>\n",
              "      <th>Low</th>\n",
              "      <th>Close</th>\n",
              "    </tr>\n",
              "  </thead>\n",
              "  <tbody>\n",
              "    <tr>\n",
              "      <th>316</th>\n",
              "      <td>2022-01-03</td>\n",
              "      <td>98.309998</td>\n",
              "      <td>98.309998</td>\n",
              "      <td>98.294701</td>\n",
              "      <td>98.294701</td>\n",
              "    </tr>\n",
              "    <tr>\n",
              "      <th>317</th>\n",
              "      <td>2022-01-04</td>\n",
              "      <td>98.279999</td>\n",
              "      <td>98.291496</td>\n",
              "      <td>98.279999</td>\n",
              "      <td>98.291496</td>\n",
              "    </tr>\n",
              "    <tr>\n",
              "      <th>318</th>\n",
              "      <td>2022-01-05</td>\n",
              "      <td>98.250000</td>\n",
              "      <td>98.269997</td>\n",
              "      <td>98.090103</td>\n",
              "      <td>98.096397</td>\n",
              "    </tr>\n",
              "    <tr>\n",
              "      <th>319</th>\n",
              "      <td>2022-01-06</td>\n",
              "      <td>97.985001</td>\n",
              "      <td>97.985001</td>\n",
              "      <td>97.985001</td>\n",
              "      <td>97.985001</td>\n",
              "    </tr>\n",
              "    <tr>\n",
              "      <th>320</th>\n",
              "      <td>2022-01-07</td>\n",
              "      <td>97.894600</td>\n",
              "      <td>97.894600</td>\n",
              "      <td>97.894600</td>\n",
              "      <td>97.894600</td>\n",
              "    </tr>\n",
              "    <tr>\n",
              "      <th>...</th>\n",
              "      <td>...</td>\n",
              "      <td>...</td>\n",
              "      <td>...</td>\n",
              "      <td>...</td>\n",
              "      <td>...</td>\n",
              "    </tr>\n",
              "    <tr>\n",
              "      <th>562</th>\n",
              "      <td>2022-12-23</td>\n",
              "      <td>90.771004</td>\n",
              "      <td>90.804497</td>\n",
              "      <td>90.760002</td>\n",
              "      <td>90.804497</td>\n",
              "    </tr>\n",
              "    <tr>\n",
              "      <th>563</th>\n",
              "      <td>2022-12-27</td>\n",
              "      <td>90.509598</td>\n",
              "      <td>90.509598</td>\n",
              "      <td>90.509598</td>\n",
              "      <td>90.509598</td>\n",
              "    </tr>\n",
              "    <tr>\n",
              "      <th>564</th>\n",
              "      <td>2022-12-28</td>\n",
              "      <td>90.420998</td>\n",
              "      <td>90.434700</td>\n",
              "      <td>90.420998</td>\n",
              "      <td>90.434700</td>\n",
              "    </tr>\n",
              "    <tr>\n",
              "      <th>565</th>\n",
              "      <td>2022-12-29</td>\n",
              "      <td>90.592300</td>\n",
              "      <td>90.592300</td>\n",
              "      <td>90.592300</td>\n",
              "      <td>90.592300</td>\n",
              "    </tr>\n",
              "    <tr>\n",
              "      <th>566</th>\n",
              "      <td>2022-12-30</td>\n",
              "      <td>90.431702</td>\n",
              "      <td>90.431702</td>\n",
              "      <td>90.431702</td>\n",
              "      <td>90.431702</td>\n",
              "    </tr>\n",
              "  </tbody>\n",
              "</table>\n",
              "<p>251 rows × 5 columns</p>\n",
              "</div>\n",
              "      <button class=\"colab-df-convert\" onclick=\"convertToInteractive('df-264de08d-4d24-4a80-be6d-f66c55873d99')\"\n",
              "              title=\"Convert this dataframe to an interactive table.\"\n",
              "              style=\"display:none;\">\n",
              "\n",
              "  <svg xmlns=\"http://www.w3.org/2000/svg\" height=\"24px\"viewBox=\"0 0 24 24\"\n",
              "       width=\"24px\">\n",
              "    <path d=\"M0 0h24v24H0V0z\" fill=\"none\"/>\n",
              "    <path d=\"M18.56 5.44l.94 2.06.94-2.06 2.06-.94-2.06-.94-.94-2.06-.94 2.06-2.06.94zm-11 1L8.5 8.5l.94-2.06 2.06-.94-2.06-.94L8.5 2.5l-.94 2.06-2.06.94zm10 10l.94 2.06.94-2.06 2.06-.94-2.06-.94-.94-2.06-.94 2.06-2.06.94z\"/><path d=\"M17.41 7.96l-1.37-1.37c-.4-.4-.92-.59-1.43-.59-.52 0-1.04.2-1.43.59L10.3 9.45l-7.72 7.72c-.78.78-.78 2.05 0 2.83L4 21.41c.39.39.9.59 1.41.59.51 0 1.02-.2 1.41-.59l7.78-7.78 2.81-2.81c.8-.78.8-2.07 0-2.86zM5.41 20L4 18.59l7.72-7.72 1.47 1.35L5.41 20z\"/>\n",
              "  </svg>\n",
              "      </button>\n",
              "\n",
              "\n",
              "\n",
              "    <div id=\"df-97b4d165-7950-4ca7-8e86-bc17d50d92f6\">\n",
              "      <button class=\"colab-df-quickchart\" onclick=\"quickchart('df-97b4d165-7950-4ca7-8e86-bc17d50d92f6')\"\n",
              "              title=\"Suggest charts.\"\n",
              "              style=\"display:none;\">\n",
              "\n",
              "<svg xmlns=\"http://www.w3.org/2000/svg\" height=\"24px\"viewBox=\"0 0 24 24\"\n",
              "     width=\"24px\">\n",
              "    <g>\n",
              "        <path d=\"M19 3H5c-1.1 0-2 .9-2 2v14c0 1.1.9 2 2 2h14c1.1 0 2-.9 2-2V5c0-1.1-.9-2-2-2zM9 17H7v-7h2v7zm4 0h-2V7h2v10zm4 0h-2v-4h2v4z\"/>\n",
              "    </g>\n",
              "</svg>\n",
              "      </button>\n",
              "    </div>\n",
              "\n",
              "<style>\n",
              "  .colab-df-quickchart {\n",
              "    background-color: #E8F0FE;\n",
              "    border: none;\n",
              "    border-radius: 50%;\n",
              "    cursor: pointer;\n",
              "    display: none;\n",
              "    fill: #1967D2;\n",
              "    height: 32px;\n",
              "    padding: 0 0 0 0;\n",
              "    width: 32px;\n",
              "  }\n",
              "\n",
              "  .colab-df-quickchart:hover {\n",
              "    background-color: #E2EBFA;\n",
              "    box-shadow: 0px 1px 2px rgba(60, 64, 67, 0.3), 0px 1px 3px 1px rgba(60, 64, 67, 0.15);\n",
              "    fill: #174EA6;\n",
              "  }\n",
              "\n",
              "  [theme=dark] .colab-df-quickchart {\n",
              "    background-color: #3B4455;\n",
              "    fill: #D2E3FC;\n",
              "  }\n",
              "\n",
              "  [theme=dark] .colab-df-quickchart:hover {\n",
              "    background-color: #434B5C;\n",
              "    box-shadow: 0px 1px 3px 1px rgba(0, 0, 0, 0.15);\n",
              "    filter: drop-shadow(0px 1px 2px rgba(0, 0, 0, 0.3));\n",
              "    fill: #FFFFFF;\n",
              "  }\n",
              "</style>\n",
              "\n",
              "    <script>\n",
              "      async function quickchart(key) {\n",
              "        const containerElement = document.querySelector('#' + key);\n",
              "        const charts = await google.colab.kernel.invokeFunction(\n",
              "            'suggestCharts', [key], {});\n",
              "      }\n",
              "    </script>\n",
              "\n",
              "      <script>\n",
              "\n",
              "function displayQuickchartButton(domScope) {\n",
              "  let quickchartButtonEl =\n",
              "    domScope.querySelector('#df-97b4d165-7950-4ca7-8e86-bc17d50d92f6 button.colab-df-quickchart');\n",
              "  quickchartButtonEl.style.display =\n",
              "    google.colab.kernel.accessAllowed ? 'block' : 'none';\n",
              "}\n",
              "\n",
              "        displayQuickchartButton(document);\n",
              "      </script>\n",
              "      <style>\n",
              "    .colab-df-container {\n",
              "      display:flex;\n",
              "      flex-wrap:wrap;\n",
              "      gap: 12px;\n",
              "    }\n",
              "\n",
              "    .colab-df-convert {\n",
              "      background-color: #E8F0FE;\n",
              "      border: none;\n",
              "      border-radius: 50%;\n",
              "      cursor: pointer;\n",
              "      display: none;\n",
              "      fill: #1967D2;\n",
              "      height: 32px;\n",
              "      padding: 0 0 0 0;\n",
              "      width: 32px;\n",
              "    }\n",
              "\n",
              "    .colab-df-convert:hover {\n",
              "      background-color: #E2EBFA;\n",
              "      box-shadow: 0px 1px 2px rgba(60, 64, 67, 0.3), 0px 1px 3px 1px rgba(60, 64, 67, 0.15);\n",
              "      fill: #174EA6;\n",
              "    }\n",
              "\n",
              "    [theme=dark] .colab-df-convert {\n",
              "      background-color: #3B4455;\n",
              "      fill: #D2E3FC;\n",
              "    }\n",
              "\n",
              "    [theme=dark] .colab-df-convert:hover {\n",
              "      background-color: #434B5C;\n",
              "      box-shadow: 0px 1px 3px 1px rgba(0, 0, 0, 0.15);\n",
              "      filter: drop-shadow(0px 1px 2px rgba(0, 0, 0, 0.3));\n",
              "      fill: #FFFFFF;\n",
              "    }\n",
              "  </style>\n",
              "\n",
              "      <script>\n",
              "        const buttonEl =\n",
              "          document.querySelector('#df-264de08d-4d24-4a80-be6d-f66c55873d99 button.colab-df-convert');\n",
              "        buttonEl.style.display =\n",
              "          google.colab.kernel.accessAllowed ? 'block' : 'none';\n",
              "\n",
              "        async function convertToInteractive(key) {\n",
              "          const element = document.querySelector('#df-264de08d-4d24-4a80-be6d-f66c55873d99');\n",
              "          const dataTable =\n",
              "            await google.colab.kernel.invokeFunction('convertToInteractive',\n",
              "                                                     [key], {});\n",
              "          if (!dataTable) return;\n",
              "\n",
              "          const docLinkHtml = 'Like what you see? Visit the ' +\n",
              "            '<a target=\"_blank\" href=https://colab.research.google.com/notebooks/data_table.ipynb>data table notebook</a>'\n",
              "            + ' to learn more about interactive tables.';\n",
              "          element.innerHTML = '';\n",
              "          dataTable['output_type'] = 'display_data';\n",
              "          await google.colab.output.renderOutput(dataTable, element);\n",
              "          const docLink = document.createElement('div');\n",
              "          docLink.innerHTML = docLinkHtml;\n",
              "          element.appendChild(docLink);\n",
              "        }\n",
              "      </script>\n",
              "    </div>\n",
              "  </div>\n"
            ]
          },
          "metadata": {},
          "execution_count": 6
        }
      ]
    },
    {
      "cell_type": "code",
      "source": [
        "monthvise= y_2022.groupby(y_2022['Date'].dt.strftime('%B'))[['Open','Close']].mean()\n",
        "new_order = ['January', 'February', 'March', 'April', 'May', 'June', 'July', 'August',\n",
        "             'September', 'October', 'November', 'December']\n",
        "monthvise = monthvise.reindex(new_order, axis=0)\n",
        "monthvise"
      ],
      "metadata": {
        "colab": {
          "base_uri": "https://localhost:8080/",
          "height": 399
        },
        "id": "8UkKzOnL-AOH",
        "outputId": "649061d7-c2c4-464d-a29d-b2b249efe760"
      },
      "execution_count": 32,
      "outputs": [
        {
          "output_type": "execute_result",
          "data": {
            "text/plain": [
              "                Open      Close\n",
              "Date                           \n",
              "January    97.760109  97.744695\n",
              "February   96.736448  96.735911\n",
              "March      95.725283  95.717987\n",
              "April      93.746540  93.741555\n",
              "May        93.376647  93.397838\n",
              "June       92.589743  92.557096\n",
              "July       93.328220  93.334686\n",
              "August     93.469917  93.463535\n",
              "September  91.310271  91.299347\n",
              "October    89.456123  89.446942\n",
              "November   90.077714  90.105595\n",
              "December   91.221685  91.215924"
            ],
            "text/html": [
              "\n",
              "\n",
              "  <div id=\"df-f91030c9-9553-4816-a375-9180ac0eb2b6\">\n",
              "    <div class=\"colab-df-container\">\n",
              "      <div>\n",
              "<style scoped>\n",
              "    .dataframe tbody tr th:only-of-type {\n",
              "        vertical-align: middle;\n",
              "    }\n",
              "\n",
              "    .dataframe tbody tr th {\n",
              "        vertical-align: top;\n",
              "    }\n",
              "\n",
              "    .dataframe thead th {\n",
              "        text-align: right;\n",
              "    }\n",
              "</style>\n",
              "<table border=\"1\" class=\"dataframe\">\n",
              "  <thead>\n",
              "    <tr style=\"text-align: right;\">\n",
              "      <th></th>\n",
              "      <th>Open</th>\n",
              "      <th>Close</th>\n",
              "    </tr>\n",
              "    <tr>\n",
              "      <th>Date</th>\n",
              "      <th></th>\n",
              "      <th></th>\n",
              "    </tr>\n",
              "  </thead>\n",
              "  <tbody>\n",
              "    <tr>\n",
              "      <th>January</th>\n",
              "      <td>97.760109</td>\n",
              "      <td>97.744695</td>\n",
              "    </tr>\n",
              "    <tr>\n",
              "      <th>February</th>\n",
              "      <td>96.736448</td>\n",
              "      <td>96.735911</td>\n",
              "    </tr>\n",
              "    <tr>\n",
              "      <th>March</th>\n",
              "      <td>95.725283</td>\n",
              "      <td>95.717987</td>\n",
              "    </tr>\n",
              "    <tr>\n",
              "      <th>April</th>\n",
              "      <td>93.746540</td>\n",
              "      <td>93.741555</td>\n",
              "    </tr>\n",
              "    <tr>\n",
              "      <th>May</th>\n",
              "      <td>93.376647</td>\n",
              "      <td>93.397838</td>\n",
              "    </tr>\n",
              "    <tr>\n",
              "      <th>June</th>\n",
              "      <td>92.589743</td>\n",
              "      <td>92.557096</td>\n",
              "    </tr>\n",
              "    <tr>\n",
              "      <th>July</th>\n",
              "      <td>93.328220</td>\n",
              "      <td>93.334686</td>\n",
              "    </tr>\n",
              "    <tr>\n",
              "      <th>August</th>\n",
              "      <td>93.469917</td>\n",
              "      <td>93.463535</td>\n",
              "    </tr>\n",
              "    <tr>\n",
              "      <th>September</th>\n",
              "      <td>91.310271</td>\n",
              "      <td>91.299347</td>\n",
              "    </tr>\n",
              "    <tr>\n",
              "      <th>October</th>\n",
              "      <td>89.456123</td>\n",
              "      <td>89.446942</td>\n",
              "    </tr>\n",
              "    <tr>\n",
              "      <th>November</th>\n",
              "      <td>90.077714</td>\n",
              "      <td>90.105595</td>\n",
              "    </tr>\n",
              "    <tr>\n",
              "      <th>December</th>\n",
              "      <td>91.221685</td>\n",
              "      <td>91.215924</td>\n",
              "    </tr>\n",
              "  </tbody>\n",
              "</table>\n",
              "</div>\n",
              "      <button class=\"colab-df-convert\" onclick=\"convertToInteractive('df-f91030c9-9553-4816-a375-9180ac0eb2b6')\"\n",
              "              title=\"Convert this dataframe to an interactive table.\"\n",
              "              style=\"display:none;\">\n",
              "\n",
              "  <svg xmlns=\"http://www.w3.org/2000/svg\" height=\"24px\"viewBox=\"0 0 24 24\"\n",
              "       width=\"24px\">\n",
              "    <path d=\"M0 0h24v24H0V0z\" fill=\"none\"/>\n",
              "    <path d=\"M18.56 5.44l.94 2.06.94-2.06 2.06-.94-2.06-.94-.94-2.06-.94 2.06-2.06.94zm-11 1L8.5 8.5l.94-2.06 2.06-.94-2.06-.94L8.5 2.5l-.94 2.06-2.06.94zm10 10l.94 2.06.94-2.06 2.06-.94-2.06-.94-.94-2.06-.94 2.06-2.06.94z\"/><path d=\"M17.41 7.96l-1.37-1.37c-.4-.4-.92-.59-1.43-.59-.52 0-1.04.2-1.43.59L10.3 9.45l-7.72 7.72c-.78.78-.78 2.05 0 2.83L4 21.41c.39.39.9.59 1.41.59.51 0 1.02-.2 1.41-.59l7.78-7.78 2.81-2.81c.8-.78.8-2.07 0-2.86zM5.41 20L4 18.59l7.72-7.72 1.47 1.35L5.41 20z\"/>\n",
              "  </svg>\n",
              "      </button>\n",
              "\n",
              "\n",
              "\n",
              "    <div id=\"df-83da4f73-6079-4740-b8ca-4949051a15bb\">\n",
              "      <button class=\"colab-df-quickchart\" onclick=\"quickchart('df-83da4f73-6079-4740-b8ca-4949051a15bb')\"\n",
              "              title=\"Suggest charts.\"\n",
              "              style=\"display:none;\">\n",
              "\n",
              "<svg xmlns=\"http://www.w3.org/2000/svg\" height=\"24px\"viewBox=\"0 0 24 24\"\n",
              "     width=\"24px\">\n",
              "    <g>\n",
              "        <path d=\"M19 3H5c-1.1 0-2 .9-2 2v14c0 1.1.9 2 2 2h14c1.1 0 2-.9 2-2V5c0-1.1-.9-2-2-2zM9 17H7v-7h2v7zm4 0h-2V7h2v10zm4 0h-2v-4h2v4z\"/>\n",
              "    </g>\n",
              "</svg>\n",
              "      </button>\n",
              "    </div>\n",
              "\n",
              "<style>\n",
              "  .colab-df-quickchart {\n",
              "    background-color: #E8F0FE;\n",
              "    border: none;\n",
              "    border-radius: 50%;\n",
              "    cursor: pointer;\n",
              "    display: none;\n",
              "    fill: #1967D2;\n",
              "    height: 32px;\n",
              "    padding: 0 0 0 0;\n",
              "    width: 32px;\n",
              "  }\n",
              "\n",
              "  .colab-df-quickchart:hover {\n",
              "    background-color: #E2EBFA;\n",
              "    box-shadow: 0px 1px 2px rgba(60, 64, 67, 0.3), 0px 1px 3px 1px rgba(60, 64, 67, 0.15);\n",
              "    fill: #174EA6;\n",
              "  }\n",
              "\n",
              "  [theme=dark] .colab-df-quickchart {\n",
              "    background-color: #3B4455;\n",
              "    fill: #D2E3FC;\n",
              "  }\n",
              "\n",
              "  [theme=dark] .colab-df-quickchart:hover {\n",
              "    background-color: #434B5C;\n",
              "    box-shadow: 0px 1px 3px 1px rgba(0, 0, 0, 0.15);\n",
              "    filter: drop-shadow(0px 1px 2px rgba(0, 0, 0, 0.3));\n",
              "    fill: #FFFFFF;\n",
              "  }\n",
              "</style>\n",
              "\n",
              "    <script>\n",
              "      async function quickchart(key) {\n",
              "        const containerElement = document.querySelector('#' + key);\n",
              "        const charts = await google.colab.kernel.invokeFunction(\n",
              "            'suggestCharts', [key], {});\n",
              "      }\n",
              "    </script>\n",
              "\n",
              "      <script>\n",
              "\n",
              "function displayQuickchartButton(domScope) {\n",
              "  let quickchartButtonEl =\n",
              "    domScope.querySelector('#df-83da4f73-6079-4740-b8ca-4949051a15bb button.colab-df-quickchart');\n",
              "  quickchartButtonEl.style.display =\n",
              "    google.colab.kernel.accessAllowed ? 'block' : 'none';\n",
              "}\n",
              "\n",
              "        displayQuickchartButton(document);\n",
              "      </script>\n",
              "      <style>\n",
              "    .colab-df-container {\n",
              "      display:flex;\n",
              "      flex-wrap:wrap;\n",
              "      gap: 12px;\n",
              "    }\n",
              "\n",
              "    .colab-df-convert {\n",
              "      background-color: #E8F0FE;\n",
              "      border: none;\n",
              "      border-radius: 50%;\n",
              "      cursor: pointer;\n",
              "      display: none;\n",
              "      fill: #1967D2;\n",
              "      height: 32px;\n",
              "      padding: 0 0 0 0;\n",
              "      width: 32px;\n",
              "    }\n",
              "\n",
              "    .colab-df-convert:hover {\n",
              "      background-color: #E2EBFA;\n",
              "      box-shadow: 0px 1px 2px rgba(60, 64, 67, 0.3), 0px 1px 3px 1px rgba(60, 64, 67, 0.15);\n",
              "      fill: #174EA6;\n",
              "    }\n",
              "\n",
              "    [theme=dark] .colab-df-convert {\n",
              "      background-color: #3B4455;\n",
              "      fill: #D2E3FC;\n",
              "    }\n",
              "\n",
              "    [theme=dark] .colab-df-convert:hover {\n",
              "      background-color: #434B5C;\n",
              "      box-shadow: 0px 1px 3px 1px rgba(0, 0, 0, 0.15);\n",
              "      filter: drop-shadow(0px 1px 2px rgba(0, 0, 0, 0.3));\n",
              "      fill: #FFFFFF;\n",
              "    }\n",
              "  </style>\n",
              "\n",
              "      <script>\n",
              "        const buttonEl =\n",
              "          document.querySelector('#df-f91030c9-9553-4816-a375-9180ac0eb2b6 button.colab-df-convert');\n",
              "        buttonEl.style.display =\n",
              "          google.colab.kernel.accessAllowed ? 'block' : 'none';\n",
              "\n",
              "        async function convertToInteractive(key) {\n",
              "          const element = document.querySelector('#df-f91030c9-9553-4816-a375-9180ac0eb2b6');\n",
              "          const dataTable =\n",
              "            await google.colab.kernel.invokeFunction('convertToInteractive',\n",
              "                                                     [key], {});\n",
              "          if (!dataTable) return;\n",
              "\n",
              "          const docLinkHtml = 'Like what you see? Visit the ' +\n",
              "            '<a target=\"_blank\" href=https://colab.research.google.com/notebooks/data_table.ipynb>data table notebook</a>'\n",
              "            + ' to learn more about interactive tables.';\n",
              "          element.innerHTML = '';\n",
              "          dataTable['output_type'] = 'display_data';\n",
              "          await google.colab.output.renderOutput(dataTable, element);\n",
              "          const docLink = document.createElement('div');\n",
              "          docLink.innerHTML = docLinkHtml;\n",
              "          element.appendChild(docLink);\n",
              "        }\n",
              "      </script>\n",
              "    </div>\n",
              "  </div>\n"
            ]
          },
          "metadata": {},
          "execution_count": 32
        }
      ]
    },
    {
      "cell_type": "code",
      "source": [
        "fig = go.Figure()\n",
        "\n",
        "fig.add_trace(go.Bar(\n",
        "    x=monthvise.index,\n",
        "    y=monthvise['Open'],\n",
        "    name='Stock Open Price',\n",
        "    marker_color='crimson'\n",
        "))\n",
        "fig.add_trace(go.Bar(\n",
        "    x=monthvise.index,\n",
        "    y=monthvise['Close'],\n",
        "    name='Stock Close Price',\n",
        "    marker_color='lightsalmon'\n",
        "))\n",
        "\n",
        "fig.update_layout(barmode='group', xaxis_tickangle=-45,\n",
        "                  title='Monthwise comparision between Stock open and close price')\n",
        "fig.show()"
      ],
      "metadata": {
        "colab": {
          "base_uri": "https://localhost:8080/",
          "height": 542
        },
        "id": "2BAbeJCX-NCS",
        "outputId": "2b984e5a-c9c2-424f-871a-cd5d227579bf"
      },
      "execution_count": 33,
      "outputs": [
        {
          "output_type": "display_data",
          "data": {
            "text/html": [
              "<html>\n",
              "<head><meta charset=\"utf-8\" /></head>\n",
              "<body>\n",
              "    <div>            <script src=\"https://cdnjs.cloudflare.com/ajax/libs/mathjax/2.7.5/MathJax.js?config=TeX-AMS-MML_SVG\"></script><script type=\"text/javascript\">if (window.MathJax && window.MathJax.Hub && window.MathJax.Hub.Config) {window.MathJax.Hub.Config({SVG: {font: \"STIX-Web\"}});}</script>                <script type=\"text/javascript\">window.PlotlyConfig = {MathJaxConfig: 'local'};</script>\n",
              "        <script src=\"https://cdn.plot.ly/plotly-2.18.2.min.js\"></script>                <div id=\"8800efbb-c96b-4d32-9aac-b2d41b59402f\" class=\"plotly-graph-div\" style=\"height:525px; width:100%;\"></div>            <script type=\"text/javascript\">                                    window.PLOTLYENV=window.PLOTLYENV || {};                                    if (document.getElementById(\"8800efbb-c96b-4d32-9aac-b2d41b59402f\")) {                    Plotly.newPlot(                        \"8800efbb-c96b-4d32-9aac-b2d41b59402f\",                        [{\"marker\":{\"color\":\"crimson\"},\"name\":\"Stock Open Price\",\"x\":[\"January\",\"February\",\"March\",\"April\",\"May\",\"June\",\"July\",\"August\",\"September\",\"October\",\"November\",\"December\"],\"y\":[97.76010932922364,96.73644778603001,95.72528308370839,93.74654045104981,93.37664722260975,92.58974275134858,93.32822036743164,93.46991729736328,91.31027149018787,89.45612335205078,90.07771446591332,91.22168477376302],\"type\":\"bar\"},{\"marker\":{\"color\":\"lightsalmon\"},\"name\":\"Stock Close Price\",\"x\":[\"January\",\"February\",\"March\",\"April\",\"May\",\"June\",\"July\",\"August\",\"September\",\"October\",\"November\",\"December\"],\"y\":[97.74469451904297,96.73591131913035,95.71798739225969,93.74155540466309,93.39783804757255,92.55709584554036,93.33468589782714,93.46353514298148,91.29934692382812,89.44694228399368,90.10559517996651,91.21592385428292],\"type\":\"bar\"}],                        {\"template\":{\"data\":{\"histogram2dcontour\":[{\"type\":\"histogram2dcontour\",\"colorbar\":{\"outlinewidth\":0,\"ticks\":\"\"},\"colorscale\":[[0.0,\"#0d0887\"],[0.1111111111111111,\"#46039f\"],[0.2222222222222222,\"#7201a8\"],[0.3333333333333333,\"#9c179e\"],[0.4444444444444444,\"#bd3786\"],[0.5555555555555556,\"#d8576b\"],[0.6666666666666666,\"#ed7953\"],[0.7777777777777778,\"#fb9f3a\"],[0.8888888888888888,\"#fdca26\"],[1.0,\"#f0f921\"]]}],\"choropleth\":[{\"type\":\"choropleth\",\"colorbar\":{\"outlinewidth\":0,\"ticks\":\"\"}}],\"histogram2d\":[{\"type\":\"histogram2d\",\"colorbar\":{\"outlinewidth\":0,\"ticks\":\"\"},\"colorscale\":[[0.0,\"#0d0887\"],[0.1111111111111111,\"#46039f\"],[0.2222222222222222,\"#7201a8\"],[0.3333333333333333,\"#9c179e\"],[0.4444444444444444,\"#bd3786\"],[0.5555555555555556,\"#d8576b\"],[0.6666666666666666,\"#ed7953\"],[0.7777777777777778,\"#fb9f3a\"],[0.8888888888888888,\"#fdca26\"],[1.0,\"#f0f921\"]]}],\"heatmap\":[{\"type\":\"heatmap\",\"colorbar\":{\"outlinewidth\":0,\"ticks\":\"\"},\"colorscale\":[[0.0,\"#0d0887\"],[0.1111111111111111,\"#46039f\"],[0.2222222222222222,\"#7201a8\"],[0.3333333333333333,\"#9c179e\"],[0.4444444444444444,\"#bd3786\"],[0.5555555555555556,\"#d8576b\"],[0.6666666666666666,\"#ed7953\"],[0.7777777777777778,\"#fb9f3a\"],[0.8888888888888888,\"#fdca26\"],[1.0,\"#f0f921\"]]}],\"heatmapgl\":[{\"type\":\"heatmapgl\",\"colorbar\":{\"outlinewidth\":0,\"ticks\":\"\"},\"colorscale\":[[0.0,\"#0d0887\"],[0.1111111111111111,\"#46039f\"],[0.2222222222222222,\"#7201a8\"],[0.3333333333333333,\"#9c179e\"],[0.4444444444444444,\"#bd3786\"],[0.5555555555555556,\"#d8576b\"],[0.6666666666666666,\"#ed7953\"],[0.7777777777777778,\"#fb9f3a\"],[0.8888888888888888,\"#fdca26\"],[1.0,\"#f0f921\"]]}],\"contourcarpet\":[{\"type\":\"contourcarpet\",\"colorbar\":{\"outlinewidth\":0,\"ticks\":\"\"}}],\"contour\":[{\"type\":\"contour\",\"colorbar\":{\"outlinewidth\":0,\"ticks\":\"\"},\"colorscale\":[[0.0,\"#0d0887\"],[0.1111111111111111,\"#46039f\"],[0.2222222222222222,\"#7201a8\"],[0.3333333333333333,\"#9c179e\"],[0.4444444444444444,\"#bd3786\"],[0.5555555555555556,\"#d8576b\"],[0.6666666666666666,\"#ed7953\"],[0.7777777777777778,\"#fb9f3a\"],[0.8888888888888888,\"#fdca26\"],[1.0,\"#f0f921\"]]}],\"surface\":[{\"type\":\"surface\",\"colorbar\":{\"outlinewidth\":0,\"ticks\":\"\"},\"colorscale\":[[0.0,\"#0d0887\"],[0.1111111111111111,\"#46039f\"],[0.2222222222222222,\"#7201a8\"],[0.3333333333333333,\"#9c179e\"],[0.4444444444444444,\"#bd3786\"],[0.5555555555555556,\"#d8576b\"],[0.6666666666666666,\"#ed7953\"],[0.7777777777777778,\"#fb9f3a\"],[0.8888888888888888,\"#fdca26\"],[1.0,\"#f0f921\"]]}],\"mesh3d\":[{\"type\":\"mesh3d\",\"colorbar\":{\"outlinewidth\":0,\"ticks\":\"\"}}],\"scatter\":[{\"fillpattern\":{\"fillmode\":\"overlay\",\"size\":10,\"solidity\":0.2},\"type\":\"scatter\"}],\"parcoords\":[{\"type\":\"parcoords\",\"line\":{\"colorbar\":{\"outlinewidth\":0,\"ticks\":\"\"}}}],\"scatterpolargl\":[{\"type\":\"scatterpolargl\",\"marker\":{\"colorbar\":{\"outlinewidth\":0,\"ticks\":\"\"}}}],\"bar\":[{\"error_x\":{\"color\":\"#2a3f5f\"},\"error_y\":{\"color\":\"#2a3f5f\"},\"marker\":{\"line\":{\"color\":\"#E5ECF6\",\"width\":0.5},\"pattern\":{\"fillmode\":\"overlay\",\"size\":10,\"solidity\":0.2}},\"type\":\"bar\"}],\"scattergeo\":[{\"type\":\"scattergeo\",\"marker\":{\"colorbar\":{\"outlinewidth\":0,\"ticks\":\"\"}}}],\"scatterpolar\":[{\"type\":\"scatterpolar\",\"marker\":{\"colorbar\":{\"outlinewidth\":0,\"ticks\":\"\"}}}],\"histogram\":[{\"marker\":{\"pattern\":{\"fillmode\":\"overlay\",\"size\":10,\"solidity\":0.2}},\"type\":\"histogram\"}],\"scattergl\":[{\"type\":\"scattergl\",\"marker\":{\"colorbar\":{\"outlinewidth\":0,\"ticks\":\"\"}}}],\"scatter3d\":[{\"type\":\"scatter3d\",\"line\":{\"colorbar\":{\"outlinewidth\":0,\"ticks\":\"\"}},\"marker\":{\"colorbar\":{\"outlinewidth\":0,\"ticks\":\"\"}}}],\"scattermapbox\":[{\"type\":\"scattermapbox\",\"marker\":{\"colorbar\":{\"outlinewidth\":0,\"ticks\":\"\"}}}],\"scatterternary\":[{\"type\":\"scatterternary\",\"marker\":{\"colorbar\":{\"outlinewidth\":0,\"ticks\":\"\"}}}],\"scattercarpet\":[{\"type\":\"scattercarpet\",\"marker\":{\"colorbar\":{\"outlinewidth\":0,\"ticks\":\"\"}}}],\"carpet\":[{\"aaxis\":{\"endlinecolor\":\"#2a3f5f\",\"gridcolor\":\"white\",\"linecolor\":\"white\",\"minorgridcolor\":\"white\",\"startlinecolor\":\"#2a3f5f\"},\"baxis\":{\"endlinecolor\":\"#2a3f5f\",\"gridcolor\":\"white\",\"linecolor\":\"white\",\"minorgridcolor\":\"white\",\"startlinecolor\":\"#2a3f5f\"},\"type\":\"carpet\"}],\"table\":[{\"cells\":{\"fill\":{\"color\":\"#EBF0F8\"},\"line\":{\"color\":\"white\"}},\"header\":{\"fill\":{\"color\":\"#C8D4E3\"},\"line\":{\"color\":\"white\"}},\"type\":\"table\"}],\"barpolar\":[{\"marker\":{\"line\":{\"color\":\"#E5ECF6\",\"width\":0.5},\"pattern\":{\"fillmode\":\"overlay\",\"size\":10,\"solidity\":0.2}},\"type\":\"barpolar\"}],\"pie\":[{\"automargin\":true,\"type\":\"pie\"}]},\"layout\":{\"autotypenumbers\":\"strict\",\"colorway\":[\"#636efa\",\"#EF553B\",\"#00cc96\",\"#ab63fa\",\"#FFA15A\",\"#19d3f3\",\"#FF6692\",\"#B6E880\",\"#FF97FF\",\"#FECB52\"],\"font\":{\"color\":\"#2a3f5f\"},\"hovermode\":\"closest\",\"hoverlabel\":{\"align\":\"left\"},\"paper_bgcolor\":\"white\",\"plot_bgcolor\":\"#E5ECF6\",\"polar\":{\"bgcolor\":\"#E5ECF6\",\"angularaxis\":{\"gridcolor\":\"white\",\"linecolor\":\"white\",\"ticks\":\"\"},\"radialaxis\":{\"gridcolor\":\"white\",\"linecolor\":\"white\",\"ticks\":\"\"}},\"ternary\":{\"bgcolor\":\"#E5ECF6\",\"aaxis\":{\"gridcolor\":\"white\",\"linecolor\":\"white\",\"ticks\":\"\"},\"baxis\":{\"gridcolor\":\"white\",\"linecolor\":\"white\",\"ticks\":\"\"},\"caxis\":{\"gridcolor\":\"white\",\"linecolor\":\"white\",\"ticks\":\"\"}},\"coloraxis\":{\"colorbar\":{\"outlinewidth\":0,\"ticks\":\"\"}},\"colorscale\":{\"sequential\":[[0.0,\"#0d0887\"],[0.1111111111111111,\"#46039f\"],[0.2222222222222222,\"#7201a8\"],[0.3333333333333333,\"#9c179e\"],[0.4444444444444444,\"#bd3786\"],[0.5555555555555556,\"#d8576b\"],[0.6666666666666666,\"#ed7953\"],[0.7777777777777778,\"#fb9f3a\"],[0.8888888888888888,\"#fdca26\"],[1.0,\"#f0f921\"]],\"sequentialminus\":[[0.0,\"#0d0887\"],[0.1111111111111111,\"#46039f\"],[0.2222222222222222,\"#7201a8\"],[0.3333333333333333,\"#9c179e\"],[0.4444444444444444,\"#bd3786\"],[0.5555555555555556,\"#d8576b\"],[0.6666666666666666,\"#ed7953\"],[0.7777777777777778,\"#fb9f3a\"],[0.8888888888888888,\"#fdca26\"],[1.0,\"#f0f921\"]],\"diverging\":[[0,\"#8e0152\"],[0.1,\"#c51b7d\"],[0.2,\"#de77ae\"],[0.3,\"#f1b6da\"],[0.4,\"#fde0ef\"],[0.5,\"#f7f7f7\"],[0.6,\"#e6f5d0\"],[0.7,\"#b8e186\"],[0.8,\"#7fbc41\"],[0.9,\"#4d9221\"],[1,\"#276419\"]]},\"xaxis\":{\"gridcolor\":\"white\",\"linecolor\":\"white\",\"ticks\":\"\",\"title\":{\"standoff\":15},\"zerolinecolor\":\"white\",\"automargin\":true,\"zerolinewidth\":2},\"yaxis\":{\"gridcolor\":\"white\",\"linecolor\":\"white\",\"ticks\":\"\",\"title\":{\"standoff\":15},\"zerolinecolor\":\"white\",\"automargin\":true,\"zerolinewidth\":2},\"scene\":{\"xaxis\":{\"backgroundcolor\":\"#E5ECF6\",\"gridcolor\":\"white\",\"linecolor\":\"white\",\"showbackground\":true,\"ticks\":\"\",\"zerolinecolor\":\"white\",\"gridwidth\":2},\"yaxis\":{\"backgroundcolor\":\"#E5ECF6\",\"gridcolor\":\"white\",\"linecolor\":\"white\",\"showbackground\":true,\"ticks\":\"\",\"zerolinecolor\":\"white\",\"gridwidth\":2},\"zaxis\":{\"backgroundcolor\":\"#E5ECF6\",\"gridcolor\":\"white\",\"linecolor\":\"white\",\"showbackground\":true,\"ticks\":\"\",\"zerolinecolor\":\"white\",\"gridwidth\":2}},\"shapedefaults\":{\"line\":{\"color\":\"#2a3f5f\"}},\"annotationdefaults\":{\"arrowcolor\":\"#2a3f5f\",\"arrowhead\":0,\"arrowwidth\":1},\"geo\":{\"bgcolor\":\"white\",\"landcolor\":\"#E5ECF6\",\"subunitcolor\":\"white\",\"showland\":true,\"showlakes\":true,\"lakecolor\":\"white\"},\"title\":{\"x\":0.05},\"mapbox\":{\"style\":\"light\"}}},\"xaxis\":{\"tickangle\":-45},\"barmode\":\"group\",\"title\":{\"text\":\"Monthwise comparision between Stock open and close price\"}},                        {\"responsive\": true}                    ).then(function(){\n",
              "                            \n",
              "var gd = document.getElementById('8800efbb-c96b-4d32-9aac-b2d41b59402f');\n",
              "var x = new MutationObserver(function (mutations, observer) {{\n",
              "        var display = window.getComputedStyle(gd).display;\n",
              "        if (!display || display === 'none') {{\n",
              "            console.log([gd, 'removed!']);\n",
              "            Plotly.purge(gd);\n",
              "            observer.disconnect();\n",
              "        }}\n",
              "}});\n",
              "\n",
              "// Listen for the removal of the full notebook cells\n",
              "var notebookContainer = gd.closest('#notebook-container');\n",
              "if (notebookContainer) {{\n",
              "    x.observe(notebookContainer, {childList: true});\n",
              "}}\n",
              "\n",
              "// Listen for the clearing of the current output cell\n",
              "var outputEl = gd.closest('.output');\n",
              "if (outputEl) {{\n",
              "    x.observe(outputEl, {childList: true});\n",
              "}}\n",
              "\n",
              "                        })                };                            </script>        </div>\n",
              "</body>\n",
              "</html>"
            ]
          },
          "metadata": {}
        }
      ]
    },
    {
      "cell_type": "code",
      "source": [
        "y_2022.groupby(y_2022['Date'].dt.strftime('%B'))['Low'].min()\n",
        "monthvise_high = y_2022.groupby(df['Date'].dt.strftime('%B'))['High'].max()\n",
        "monthvise_high = monthvise_high.reindex(new_order, axis=0)\n",
        "\n",
        "monthvise_low = y_2022.groupby(y_2022['Date'].dt.strftime('%B'))['Low'].min()\n",
        "monthvise_low = monthvise_low.reindex(new_order, axis=0)\n",
        "\n",
        "fig = go.Figure()\n",
        "fig.add_trace(go.Bar(\n",
        "    x=monthvise_high.index,\n",
        "    y=monthvise_high,\n",
        "    name='Stock high Price',\n",
        "    marker_color='rgb(0, 153, 204)'\n",
        "))\n",
        "fig.add_trace(go.Bar(\n",
        "    x=monthvise_low.index,\n",
        "    y=monthvise_low,\n",
        "    name='Stock low Price',\n",
        "    marker_color='rgb(255, 128, 0)'\n",
        "))\n",
        "\n",
        "fig.update_layout(barmode='group',\n",
        "                  title=' Monthwise High and Low stock price')\n",
        "fig.show()"
      ],
      "metadata": {
        "colab": {
          "base_uri": "https://localhost:8080/",
          "height": 542
        },
        "id": "IZQC_QfD-U4g",
        "outputId": "4b5fa56a-e558-4348-c7ab-8c3f1b8b8b61"
      },
      "execution_count": 34,
      "outputs": [
        {
          "output_type": "display_data",
          "data": {
            "text/html": [
              "<html>\n",
              "<head><meta charset=\"utf-8\" /></head>\n",
              "<body>\n",
              "    <div>            <script src=\"https://cdnjs.cloudflare.com/ajax/libs/mathjax/2.7.5/MathJax.js?config=TeX-AMS-MML_SVG\"></script><script type=\"text/javascript\">if (window.MathJax && window.MathJax.Hub && window.MathJax.Hub.Config) {window.MathJax.Hub.Config({SVG: {font: \"STIX-Web\"}});}</script>                <script type=\"text/javascript\">window.PlotlyConfig = {MathJaxConfig: 'local'};</script>\n",
              "        <script src=\"https://cdn.plot.ly/plotly-2.18.2.min.js\"></script>                <div id=\"a441fea8-8241-4da8-bd17-0b8b9faa47e4\" class=\"plotly-graph-div\" style=\"height:525px; width:100%;\"></div>            <script type=\"text/javascript\">                                    window.PLOTLYENV=window.PLOTLYENV || {};                                    if (document.getElementById(\"a441fea8-8241-4da8-bd17-0b8b9faa47e4\")) {                    Plotly.newPlot(                        \"a441fea8-8241-4da8-bd17-0b8b9faa47e4\",                        [{\"marker\":{\"color\":\"rgb(0, 153, 204)\"},\"name\":\"Stock high Price\",\"x\":[\"January\",\"February\",\"March\",\"April\",\"May\",\"June\",\"July\",\"August\",\"September\",\"October\",\"November\",\"December\"],\"y\":[98.30999755859376,97.47419738769533,97.29209899902344,95.06999969482422,94.13999938964844,93.62999725341795,94.41500091552734,94.52999877929688,92.57009887695312,90.58000183105467,90.95999908447266,91.90499877929688],\"type\":\"bar\"},{\"marker\":{\"color\":\"rgb(255, 128, 0)\"},\"name\":\"Stock low Price\",\"x\":[\"January\",\"February\",\"March\",\"April\",\"May\",\"June\",\"July\",\"August\",\"September\",\"October\",\"November\",\"December\"],\"y\":[97.30999755859376,96.28379821777344,94.5199966430664,93.1636962890625,92.79000091552734,91.17839813232422,92.76000213623048,92.66500091552734,89.65689849853516,88.60900115966797,88.87999725341797,90.4209976196289],\"type\":\"bar\"}],                        {\"template\":{\"data\":{\"histogram2dcontour\":[{\"type\":\"histogram2dcontour\",\"colorbar\":{\"outlinewidth\":0,\"ticks\":\"\"},\"colorscale\":[[0.0,\"#0d0887\"],[0.1111111111111111,\"#46039f\"],[0.2222222222222222,\"#7201a8\"],[0.3333333333333333,\"#9c179e\"],[0.4444444444444444,\"#bd3786\"],[0.5555555555555556,\"#d8576b\"],[0.6666666666666666,\"#ed7953\"],[0.7777777777777778,\"#fb9f3a\"],[0.8888888888888888,\"#fdca26\"],[1.0,\"#f0f921\"]]}],\"choropleth\":[{\"type\":\"choropleth\",\"colorbar\":{\"outlinewidth\":0,\"ticks\":\"\"}}],\"histogram2d\":[{\"type\":\"histogram2d\",\"colorbar\":{\"outlinewidth\":0,\"ticks\":\"\"},\"colorscale\":[[0.0,\"#0d0887\"],[0.1111111111111111,\"#46039f\"],[0.2222222222222222,\"#7201a8\"],[0.3333333333333333,\"#9c179e\"],[0.4444444444444444,\"#bd3786\"],[0.5555555555555556,\"#d8576b\"],[0.6666666666666666,\"#ed7953\"],[0.7777777777777778,\"#fb9f3a\"],[0.8888888888888888,\"#fdca26\"],[1.0,\"#f0f921\"]]}],\"heatmap\":[{\"type\":\"heatmap\",\"colorbar\":{\"outlinewidth\":0,\"ticks\":\"\"},\"colorscale\":[[0.0,\"#0d0887\"],[0.1111111111111111,\"#46039f\"],[0.2222222222222222,\"#7201a8\"],[0.3333333333333333,\"#9c179e\"],[0.4444444444444444,\"#bd3786\"],[0.5555555555555556,\"#d8576b\"],[0.6666666666666666,\"#ed7953\"],[0.7777777777777778,\"#fb9f3a\"],[0.8888888888888888,\"#fdca26\"],[1.0,\"#f0f921\"]]}],\"heatmapgl\":[{\"type\":\"heatmapgl\",\"colorbar\":{\"outlinewidth\":0,\"ticks\":\"\"},\"colorscale\":[[0.0,\"#0d0887\"],[0.1111111111111111,\"#46039f\"],[0.2222222222222222,\"#7201a8\"],[0.3333333333333333,\"#9c179e\"],[0.4444444444444444,\"#bd3786\"],[0.5555555555555556,\"#d8576b\"],[0.6666666666666666,\"#ed7953\"],[0.7777777777777778,\"#fb9f3a\"],[0.8888888888888888,\"#fdca26\"],[1.0,\"#f0f921\"]]}],\"contourcarpet\":[{\"type\":\"contourcarpet\",\"colorbar\":{\"outlinewidth\":0,\"ticks\":\"\"}}],\"contour\":[{\"type\":\"contour\",\"colorbar\":{\"outlinewidth\":0,\"ticks\":\"\"},\"colorscale\":[[0.0,\"#0d0887\"],[0.1111111111111111,\"#46039f\"],[0.2222222222222222,\"#7201a8\"],[0.3333333333333333,\"#9c179e\"],[0.4444444444444444,\"#bd3786\"],[0.5555555555555556,\"#d8576b\"],[0.6666666666666666,\"#ed7953\"],[0.7777777777777778,\"#fb9f3a\"],[0.8888888888888888,\"#fdca26\"],[1.0,\"#f0f921\"]]}],\"surface\":[{\"type\":\"surface\",\"colorbar\":{\"outlinewidth\":0,\"ticks\":\"\"},\"colorscale\":[[0.0,\"#0d0887\"],[0.1111111111111111,\"#46039f\"],[0.2222222222222222,\"#7201a8\"],[0.3333333333333333,\"#9c179e\"],[0.4444444444444444,\"#bd3786\"],[0.5555555555555556,\"#d8576b\"],[0.6666666666666666,\"#ed7953\"],[0.7777777777777778,\"#fb9f3a\"],[0.8888888888888888,\"#fdca26\"],[1.0,\"#f0f921\"]]}],\"mesh3d\":[{\"type\":\"mesh3d\",\"colorbar\":{\"outlinewidth\":0,\"ticks\":\"\"}}],\"scatter\":[{\"fillpattern\":{\"fillmode\":\"overlay\",\"size\":10,\"solidity\":0.2},\"type\":\"scatter\"}],\"parcoords\":[{\"type\":\"parcoords\",\"line\":{\"colorbar\":{\"outlinewidth\":0,\"ticks\":\"\"}}}],\"scatterpolargl\":[{\"type\":\"scatterpolargl\",\"marker\":{\"colorbar\":{\"outlinewidth\":0,\"ticks\":\"\"}}}],\"bar\":[{\"error_x\":{\"color\":\"#2a3f5f\"},\"error_y\":{\"color\":\"#2a3f5f\"},\"marker\":{\"line\":{\"color\":\"#E5ECF6\",\"width\":0.5},\"pattern\":{\"fillmode\":\"overlay\",\"size\":10,\"solidity\":0.2}},\"type\":\"bar\"}],\"scattergeo\":[{\"type\":\"scattergeo\",\"marker\":{\"colorbar\":{\"outlinewidth\":0,\"ticks\":\"\"}}}],\"scatterpolar\":[{\"type\":\"scatterpolar\",\"marker\":{\"colorbar\":{\"outlinewidth\":0,\"ticks\":\"\"}}}],\"histogram\":[{\"marker\":{\"pattern\":{\"fillmode\":\"overlay\",\"size\":10,\"solidity\":0.2}},\"type\":\"histogram\"}],\"scattergl\":[{\"type\":\"scattergl\",\"marker\":{\"colorbar\":{\"outlinewidth\":0,\"ticks\":\"\"}}}],\"scatter3d\":[{\"type\":\"scatter3d\",\"line\":{\"colorbar\":{\"outlinewidth\":0,\"ticks\":\"\"}},\"marker\":{\"colorbar\":{\"outlinewidth\":0,\"ticks\":\"\"}}}],\"scattermapbox\":[{\"type\":\"scattermapbox\",\"marker\":{\"colorbar\":{\"outlinewidth\":0,\"ticks\":\"\"}}}],\"scatterternary\":[{\"type\":\"scatterternary\",\"marker\":{\"colorbar\":{\"outlinewidth\":0,\"ticks\":\"\"}}}],\"scattercarpet\":[{\"type\":\"scattercarpet\",\"marker\":{\"colorbar\":{\"outlinewidth\":0,\"ticks\":\"\"}}}],\"carpet\":[{\"aaxis\":{\"endlinecolor\":\"#2a3f5f\",\"gridcolor\":\"white\",\"linecolor\":\"white\",\"minorgridcolor\":\"white\",\"startlinecolor\":\"#2a3f5f\"},\"baxis\":{\"endlinecolor\":\"#2a3f5f\",\"gridcolor\":\"white\",\"linecolor\":\"white\",\"minorgridcolor\":\"white\",\"startlinecolor\":\"#2a3f5f\"},\"type\":\"carpet\"}],\"table\":[{\"cells\":{\"fill\":{\"color\":\"#EBF0F8\"},\"line\":{\"color\":\"white\"}},\"header\":{\"fill\":{\"color\":\"#C8D4E3\"},\"line\":{\"color\":\"white\"}},\"type\":\"table\"}],\"barpolar\":[{\"marker\":{\"line\":{\"color\":\"#E5ECF6\",\"width\":0.5},\"pattern\":{\"fillmode\":\"overlay\",\"size\":10,\"solidity\":0.2}},\"type\":\"barpolar\"}],\"pie\":[{\"automargin\":true,\"type\":\"pie\"}]},\"layout\":{\"autotypenumbers\":\"strict\",\"colorway\":[\"#636efa\",\"#EF553B\",\"#00cc96\",\"#ab63fa\",\"#FFA15A\",\"#19d3f3\",\"#FF6692\",\"#B6E880\",\"#FF97FF\",\"#FECB52\"],\"font\":{\"color\":\"#2a3f5f\"},\"hovermode\":\"closest\",\"hoverlabel\":{\"align\":\"left\"},\"paper_bgcolor\":\"white\",\"plot_bgcolor\":\"#E5ECF6\",\"polar\":{\"bgcolor\":\"#E5ECF6\",\"angularaxis\":{\"gridcolor\":\"white\",\"linecolor\":\"white\",\"ticks\":\"\"},\"radialaxis\":{\"gridcolor\":\"white\",\"linecolor\":\"white\",\"ticks\":\"\"}},\"ternary\":{\"bgcolor\":\"#E5ECF6\",\"aaxis\":{\"gridcolor\":\"white\",\"linecolor\":\"white\",\"ticks\":\"\"},\"baxis\":{\"gridcolor\":\"white\",\"linecolor\":\"white\",\"ticks\":\"\"},\"caxis\":{\"gridcolor\":\"white\",\"linecolor\":\"white\",\"ticks\":\"\"}},\"coloraxis\":{\"colorbar\":{\"outlinewidth\":0,\"ticks\":\"\"}},\"colorscale\":{\"sequential\":[[0.0,\"#0d0887\"],[0.1111111111111111,\"#46039f\"],[0.2222222222222222,\"#7201a8\"],[0.3333333333333333,\"#9c179e\"],[0.4444444444444444,\"#bd3786\"],[0.5555555555555556,\"#d8576b\"],[0.6666666666666666,\"#ed7953\"],[0.7777777777777778,\"#fb9f3a\"],[0.8888888888888888,\"#fdca26\"],[1.0,\"#f0f921\"]],\"sequentialminus\":[[0.0,\"#0d0887\"],[0.1111111111111111,\"#46039f\"],[0.2222222222222222,\"#7201a8\"],[0.3333333333333333,\"#9c179e\"],[0.4444444444444444,\"#bd3786\"],[0.5555555555555556,\"#d8576b\"],[0.6666666666666666,\"#ed7953\"],[0.7777777777777778,\"#fb9f3a\"],[0.8888888888888888,\"#fdca26\"],[1.0,\"#f0f921\"]],\"diverging\":[[0,\"#8e0152\"],[0.1,\"#c51b7d\"],[0.2,\"#de77ae\"],[0.3,\"#f1b6da\"],[0.4,\"#fde0ef\"],[0.5,\"#f7f7f7\"],[0.6,\"#e6f5d0\"],[0.7,\"#b8e186\"],[0.8,\"#7fbc41\"],[0.9,\"#4d9221\"],[1,\"#276419\"]]},\"xaxis\":{\"gridcolor\":\"white\",\"linecolor\":\"white\",\"ticks\":\"\",\"title\":{\"standoff\":15},\"zerolinecolor\":\"white\",\"automargin\":true,\"zerolinewidth\":2},\"yaxis\":{\"gridcolor\":\"white\",\"linecolor\":\"white\",\"ticks\":\"\",\"title\":{\"standoff\":15},\"zerolinecolor\":\"white\",\"automargin\":true,\"zerolinewidth\":2},\"scene\":{\"xaxis\":{\"backgroundcolor\":\"#E5ECF6\",\"gridcolor\":\"white\",\"linecolor\":\"white\",\"showbackground\":true,\"ticks\":\"\",\"zerolinecolor\":\"white\",\"gridwidth\":2},\"yaxis\":{\"backgroundcolor\":\"#E5ECF6\",\"gridcolor\":\"white\",\"linecolor\":\"white\",\"showbackground\":true,\"ticks\":\"\",\"zerolinecolor\":\"white\",\"gridwidth\":2},\"zaxis\":{\"backgroundcolor\":\"#E5ECF6\",\"gridcolor\":\"white\",\"linecolor\":\"white\",\"showbackground\":true,\"ticks\":\"\",\"zerolinecolor\":\"white\",\"gridwidth\":2}},\"shapedefaults\":{\"line\":{\"color\":\"#2a3f5f\"}},\"annotationdefaults\":{\"arrowcolor\":\"#2a3f5f\",\"arrowhead\":0,\"arrowwidth\":1},\"geo\":{\"bgcolor\":\"white\",\"landcolor\":\"#E5ECF6\",\"subunitcolor\":\"white\",\"showland\":true,\"showlakes\":true,\"lakecolor\":\"white\"},\"title\":{\"x\":0.05},\"mapbox\":{\"style\":\"light\"}}},\"barmode\":\"group\",\"title\":{\"text\":\" Monthwise High and Low stock price\"}},                        {\"responsive\": true}                    ).then(function(){\n",
              "                            \n",
              "var gd = document.getElementById('a441fea8-8241-4da8-bd17-0b8b9faa47e4');\n",
              "var x = new MutationObserver(function (mutations, observer) {{\n",
              "        var display = window.getComputedStyle(gd).display;\n",
              "        if (!display || display === 'none') {{\n",
              "            console.log([gd, 'removed!']);\n",
              "            Plotly.purge(gd);\n",
              "            observer.disconnect();\n",
              "        }}\n",
              "}});\n",
              "\n",
              "// Listen for the removal of the full notebook cells\n",
              "var notebookContainer = gd.closest('#notebook-container');\n",
              "if (notebookContainer) {{\n",
              "    x.observe(notebookContainer, {childList: true});\n",
              "}}\n",
              "\n",
              "// Listen for the clearing of the current output cell\n",
              "var outputEl = gd.closest('.output');\n",
              "if (outputEl) {{\n",
              "    x.observe(outputEl, {childList: true});\n",
              "}}\n",
              "\n",
              "                        })                };                            </script>        </div>\n",
              "</body>\n",
              "</html>"
            ]
          },
          "metadata": {}
        }
      ]
    },
    {
      "cell_type": "code",
      "source": [
        "names = cycle(['Stock Open Price','Stock Close Price','Stock High Price','Stock Low Price'])\n",
        "\n",
        "fig = px.line(y_2022, x=y_2022.Date, y=[y_2022['Open'], y_2022['Close'],\n",
        "                                          y_2022['High'], y_2022['Low']],\n",
        "             labels={'Date': 'Date','value':'Stock value'})\n",
        "fig.update_layout(title_text='Stock analysis chart', font_size=15, font_color='black',legend_title_text='Stock Parameters')\n",
        "fig.for_each_trace(lambda t:  t.update(name = next(names)))\n",
        "fig.update_xaxes(showgrid=False)\n",
        "fig.update_yaxes(showgrid=False)\n",
        "\n",
        "fig.show()"
      ],
      "metadata": {
        "colab": {
          "base_uri": "https://localhost:8080/",
          "height": 542
        },
        "id": "6RKhWX45-ow9",
        "outputId": "c3614396-d12e-44da-e341-4755c344c094"
      },
      "execution_count": 35,
      "outputs": [
        {
          "output_type": "display_data",
          "data": {
            "text/html": [
              "<html>\n",
              "<head><meta charset=\"utf-8\" /></head>\n",
              "<body>\n",
              "    <div>            <script src=\"https://cdnjs.cloudflare.com/ajax/libs/mathjax/2.7.5/MathJax.js?config=TeX-AMS-MML_SVG\"></script><script type=\"text/javascript\">if (window.MathJax && window.MathJax.Hub && window.MathJax.Hub.Config) {window.MathJax.Hub.Config({SVG: {font: \"STIX-Web\"}});}</script>                <script type=\"text/javascript\">window.PlotlyConfig = {MathJaxConfig: 'local'};</script>\n",
              "        <script src=\"https://cdn.plot.ly/plotly-2.18.2.min.js\"></script>                <div id=\"1362526f-1a22-42cd-9deb-5a4eeb34c812\" class=\"plotly-graph-div\" style=\"height:525px; width:100%;\"></div>            <script type=\"text/javascript\">                                    window.PLOTLYENV=window.PLOTLYENV || {};                                    if (document.getElementById(\"1362526f-1a22-42cd-9deb-5a4eeb34c812\")) {                    Plotly.newPlot(                        \"1362526f-1a22-42cd-9deb-5a4eeb34c812\",                        [{\"hovertemplate\":\"variable=Open<br>Date=%{x}<br>Stock value=%{y}<extra></extra>\",\"legendgroup\":\"Open\",\"line\":{\"color\":\"#636efa\",\"dash\":\"solid\"},\"marker\":{\"symbol\":\"circle\"},\"mode\":\"lines\",\"name\":\"Stock Open Price\",\"showlegend\":true,\"x\":[\"2022-01-03T00:00:00\",\"2022-01-04T00:00:00\",\"2022-01-05T00:00:00\",\"2022-01-06T00:00:00\",\"2022-01-07T00:00:00\",\"2022-01-10T00:00:00\",\"2022-01-11T00:00:00\",\"2022-01-12T00:00:00\",\"2022-01-13T00:00:00\",\"2022-01-14T00:00:00\",\"2022-01-18T00:00:00\",\"2022-01-19T00:00:00\",\"2022-01-20T00:00:00\",\"2022-01-21T00:00:00\",\"2022-01-24T00:00:00\",\"2022-01-25T00:00:00\",\"2022-01-26T00:00:00\",\"2022-01-27T00:00:00\",\"2022-01-28T00:00:00\",\"2022-01-31T00:00:00\",\"2022-02-01T00:00:00\",\"2022-02-02T00:00:00\",\"2022-02-03T00:00:00\",\"2022-02-04T00:00:00\",\"2022-02-07T00:00:00\",\"2022-02-08T00:00:00\",\"2022-02-09T00:00:00\",\"2022-02-10T00:00:00\",\"2022-02-11T00:00:00\",\"2022-02-14T00:00:00\",\"2022-02-15T00:00:00\",\"2022-02-16T00:00:00\",\"2022-02-17T00:00:00\",\"2022-02-18T00:00:00\",\"2022-02-22T00:00:00\",\"2022-02-23T00:00:00\",\"2022-02-24T00:00:00\",\"2022-02-25T00:00:00\",\"2022-02-28T00:00:00\",\"2022-03-01T00:00:00\",\"2022-03-02T00:00:00\",\"2022-03-03T00:00:00\",\"2022-03-04T00:00:00\",\"2022-03-07T00:00:00\",\"2022-03-08T00:00:00\",\"2022-03-09T00:00:00\",\"2022-03-10T00:00:00\",\"2022-03-11T00:00:00\",\"2022-03-14T00:00:00\",\"2022-03-15T00:00:00\",\"2022-03-16T00:00:00\",\"2022-03-17T00:00:00\",\"2022-03-18T00:00:00\",\"2022-03-21T00:00:00\",\"2022-03-22T00:00:00\",\"2022-03-23T00:00:00\",\"2022-03-24T00:00:00\",\"2022-03-25T00:00:00\",\"2022-03-28T00:00:00\",\"2022-03-29T00:00:00\",\"2022-03-30T00:00:00\",\"2022-03-31T00:00:00\",\"2022-04-01T00:00:00\",\"2022-04-04T00:00:00\",\"2022-04-05T00:00:00\",\"2022-04-06T00:00:00\",\"2022-04-07T00:00:00\",\"2022-04-08T00:00:00\",\"2022-04-11T00:00:00\",\"2022-04-12T00:00:00\",\"2022-04-13T00:00:00\",\"2022-04-14T00:00:00\",\"2022-04-18T00:00:00\",\"2022-04-19T00:00:00\",\"2022-04-20T00:00:00\",\"2022-04-21T00:00:00\",\"2022-04-22T00:00:00\",\"2022-04-25T00:00:00\",\"2022-04-26T00:00:00\",\"2022-04-27T00:00:00\",\"2022-04-28T00:00:00\",\"2022-04-29T00:00:00\",\"2022-05-02T00:00:00\",\"2022-05-03T00:00:00\",\"2022-05-04T00:00:00\",\"2022-05-05T00:00:00\",\"2022-05-06T00:00:00\",\"2022-05-09T00:00:00\",\"2022-05-10T00:00:00\",\"2022-05-11T00:00:00\",\"2022-05-12T00:00:00\",\"2022-05-13T00:00:00\",\"2022-05-16T00:00:00\",\"2022-05-17T00:00:00\",\"2022-05-18T00:00:00\",\"2022-05-19T00:00:00\",\"2022-05-20T00:00:00\",\"2022-05-23T00:00:00\",\"2022-05-24T00:00:00\",\"2022-05-25T00:00:00\",\"2022-05-26T00:00:00\",\"2022-05-27T00:00:00\",\"2022-05-31T00:00:00\",\"2022-06-01T00:00:00\",\"2022-06-02T00:00:00\",\"2022-06-03T00:00:00\",\"2022-06-06T00:00:00\",\"2022-06-07T00:00:00\",\"2022-06-08T00:00:00\",\"2022-06-09T00:00:00\",\"2022-06-10T00:00:00\",\"2022-06-13T00:00:00\",\"2022-06-14T00:00:00\",\"2022-06-15T00:00:00\",\"2022-06-16T00:00:00\",\"2022-06-17T00:00:00\",\"2022-06-21T00:00:00\",\"2022-06-22T00:00:00\",\"2022-06-23T00:00:00\",\"2022-06-24T00:00:00\",\"2022-06-27T00:00:00\",\"2022-06-28T00:00:00\",\"2022-06-29T00:00:00\",\"2022-06-30T00:00:00\",\"2022-07-01T00:00:00\",\"2022-07-05T00:00:00\",\"2022-07-06T00:00:00\",\"2022-07-07T00:00:00\",\"2022-07-08T00:00:00\",\"2022-07-11T00:00:00\",\"2022-07-12T00:00:00\",\"2022-07-13T00:00:00\",\"2022-07-14T00:00:00\",\"2022-07-15T00:00:00\",\"2022-07-18T00:00:00\",\"2022-07-19T00:00:00\",\"2022-07-20T00:00:00\",\"2022-07-21T00:00:00\",\"2022-07-22T00:00:00\",\"2022-07-25T00:00:00\",\"2022-07-26T00:00:00\",\"2022-07-27T00:00:00\",\"2022-07-28T00:00:00\",\"2022-07-29T00:00:00\",\"2022-08-01T00:00:00\",\"2022-08-02T00:00:00\",\"2022-08-03T00:00:00\",\"2022-08-04T00:00:00\",\"2022-08-05T00:00:00\",\"2022-08-08T00:00:00\",\"2022-08-09T00:00:00\",\"2022-08-10T00:00:00\",\"2022-08-11T00:00:00\",\"2022-08-12T00:00:00\",\"2022-08-15T00:00:00\",\"2022-08-16T00:00:00\",\"2022-08-17T00:00:00\",\"2022-08-18T00:00:00\",\"2022-08-19T00:00:00\",\"2022-08-22T00:00:00\",\"2022-08-23T00:00:00\",\"2022-08-24T00:00:00\",\"2022-08-25T00:00:00\",\"2022-08-26T00:00:00\",\"2022-08-29T00:00:00\",\"2022-08-30T00:00:00\",\"2022-08-31T00:00:00\",\"2022-09-01T00:00:00\",\"2022-09-02T00:00:00\",\"2022-09-06T00:00:00\",\"2022-09-07T00:00:00\",\"2022-09-08T00:00:00\",\"2022-09-09T00:00:00\",\"2022-09-12T00:00:00\",\"2022-09-13T00:00:00\",\"2022-09-14T00:00:00\",\"2022-09-15T00:00:00\",\"2022-09-16T00:00:00\",\"2022-09-19T00:00:00\",\"2022-09-20T00:00:00\",\"2022-09-21T00:00:00\",\"2022-09-22T00:00:00\",\"2022-09-23T00:00:00\",\"2022-09-26T00:00:00\",\"2022-09-27T00:00:00\",\"2022-09-28T00:00:00\",\"2022-09-29T00:00:00\",\"2022-09-30T00:00:00\",\"2022-10-03T00:00:00\",\"2022-10-04T00:00:00\",\"2022-10-05T00:00:00\",\"2022-10-06T00:00:00\",\"2022-10-07T00:00:00\",\"2022-10-10T00:00:00\",\"2022-10-11T00:00:00\",\"2022-10-12T00:00:00\",\"2022-10-13T00:00:00\",\"2022-10-14T00:00:00\",\"2022-10-17T00:00:00\",\"2022-10-18T00:00:00\",\"2022-10-19T00:00:00\",\"2022-10-20T00:00:00\",\"2022-10-21T00:00:00\",\"2022-10-24T00:00:00\",\"2022-10-25T00:00:00\",\"2022-10-26T00:00:00\",\"2022-10-27T00:00:00\",\"2022-10-28T00:00:00\",\"2022-10-31T00:00:00\",\"2022-11-01T00:00:00\",\"2022-11-02T00:00:00\",\"2022-11-03T00:00:00\",\"2022-11-04T00:00:00\",\"2022-11-07T00:00:00\",\"2022-11-08T00:00:00\",\"2022-11-09T00:00:00\",\"2022-11-10T00:00:00\",\"2022-11-11T00:00:00\",\"2022-11-14T00:00:00\",\"2022-11-15T00:00:00\",\"2022-11-16T00:00:00\",\"2022-11-17T00:00:00\",\"2022-11-18T00:00:00\",\"2022-11-21T00:00:00\",\"2022-11-22T00:00:00\",\"2022-11-23T00:00:00\",\"2022-11-25T00:00:00\",\"2022-11-28T00:00:00\",\"2022-11-29T00:00:00\",\"2022-11-30T00:00:00\",\"2022-12-01T00:00:00\",\"2022-12-02T00:00:00\",\"2022-12-05T00:00:00\",\"2022-12-06T00:00:00\",\"2022-12-07T00:00:00\",\"2022-12-08T00:00:00\",\"2022-12-09T00:00:00\",\"2022-12-12T00:00:00\",\"2022-12-13T00:00:00\",\"2022-12-14T00:00:00\",\"2022-12-15T00:00:00\",\"2022-12-16T00:00:00\",\"2022-12-19T00:00:00\",\"2022-12-20T00:00:00\",\"2022-12-21T00:00:00\",\"2022-12-22T00:00:00\",\"2022-12-23T00:00:00\",\"2022-12-27T00:00:00\",\"2022-12-28T00:00:00\",\"2022-12-29T00:00:00\",\"2022-12-30T00:00:00\"],\"xaxis\":\"x\",\"y\":[98.30999755859376,98.27999877929688,98.25,97.98500061035156,97.89459991455078,97.83999633789062,97.8499984741211,97.9250030517578,97.99099731445312,97.80850219726562,97.44000244140624,97.50499725341795,97.50260162353516,97.69000244140624,97.7698974609375,97.67009735107422,97.3395004272461,97.38899993896484,97.31099700927734,97.45099639892578,97.40499877929688,97.47419738769533,97.30899810791016,96.9290008544922,96.95040130615234,96.82769775390624,96.8550033569336,96.28379821777344,96.6854019165039,96.42430114746094,96.35900115966795,96.43409729003906,96.56719970703124,96.64230346679688,96.54000091552734,96.3904037475586,96.48159790039062,96.49500274658205,96.93910217285156,97.27999877929688,97.0500030517578,96.7938003540039,97.056396484375,96.81780242919922,96.46499633789062,96.26190185546876,96.08499908447266,96.03009796142578,95.5593032836914,95.54080200195312,95.48580169677734,95.59980010986328,95.70169830322266,95.1500015258789,94.99700164794922,95.2136001586914,95.08650207519533,94.62090301513672,94.64620208740234,94.5199966430664,94.71099853515624,95.00890350341795,94.61000061035156,94.61000061035156,94.18000030517578,94.06999969482422,94.11000061035156,93.86509704589844,93.70999908447266,94.03130340576172,94.05560302734376,93.71499633789062,93.66500091552734,93.27539825439452,93.4000015258789,93.2292022705078,93.1636962890625,93.4000015258789,93.6500015258789,93.62000274658205,93.3105010986328,93.26000213623048,92.88860321044922,93.0999984741211,92.87999725341795,92.9810028076172,92.79000091552734,92.91000366210938,93.19000244140624,93.30999755859376,93.47969818115234,93.30500030517578,93.52989959716795,93.0896987915039,93.26000213623048,93.44429779052734,93.6095962524414,93.41999816894533,93.8498992919922,94.00789642333984,93.99400329589844,94.08999633789062,93.77999877929688,93.55999755859376,93.54499816894533,93.4499969482422,93.1990966796875,93.31790161132812,93.1750030517578,93.07959747314452,92.72000122070312,91.7699966430664,91.17839813232422,91.86000061035156,92.07510375976562,92.03780364990234,91.90499877929688,92.39469909667967,92.59760284423828,92.5999984741211,92.39700317382812,92.2145004272461,92.43000030517578,92.87789916992188,93.4250030517578,93.5500030517578,93.18499755859376,92.91500091552734,92.76000213623048,92.9521026611328,93.0999984741211,93.06680297851562,92.99669647216795,93.09500122070312,92.8499984741211,92.83670043945312,92.78500366210938,93.31610107421876,93.78109741210938,93.6500015258789,93.77989959716795,93.7699966430664,94.36000061035156,94.38999938964844,94.52999877929688,94.2249984741211,93.6500015258789,94.0500030517578,93.59480285644533,93.7750015258789,93.56159973144533,93.9000015258789,93.55609893798828,93.71299743652344,93.95989990234376,93.74230194091795,93.427001953125,93.5500030517578,93.3000030517578,93.10009765625,93.04499816894533,92.83999633789062,93.11239624023438,93.0199966430664,92.7593002319336,92.69660186767578,92.6999969482422,92.28500366210938,92.56999969482422,92.11740112304688,92.30999755859376,92.27429962158205,92.22119903564452,92.17330169677734,91.70999908447266,91.6510009765625,91.58499908447266,91.6449966430664,91.4499969482422,91.21980285644533,91.13009643554688,90.76959991455078,90.51100158691406,90.34010314941406,90.02999877929688,89.73290252685547,89.79000091552734,90.0,90.2699966430664,90.58000183105467,90.07209777832033,89.94000244140625,89.6104965209961,89.47840118408203,89.44100189208984,89.55269622802734,89.30599975585938,89.14409637451172,89.26190185546875,89.3302001953125,88.89179992675781,88.60900115966797,88.8895034790039,88.88009643554688,89.26629638671875,89.38500213623047,89.70999908447266,89.54000091552734,89.41999816894531,89.32689666748047,89.41950225830078,89.00340270996094,89.10160064697266,88.9572982788086,88.98999786376953,89.20999908447266,90.38999938964844,90.5500030517578,90.1968994140625,90.5500030517578,90.72000122070312,90.4813003540039,90.385498046875,90.54000091552734,90.47000122070312,90.72000122070312,90.69499969482422,90.80960083007812,90.61509704589844,90.4999008178711,91.3249969482422,91.60009765625,91.25499725341795,91.30999755859376,91.65989685058594,91.51210021972656,91.31390380859376,91.4209976196289,91.90499877929688,91.55999755859376,91.73500061035156,91.74710083007812,91.48989868164062,91.18489837646484,90.9656982421875,90.94519805908205,90.77100372314452,90.50959777832033,90.4209976196289,90.59230041503906,90.43170166015624],\"yaxis\":\"y\",\"type\":\"scattergl\"},{\"hovertemplate\":\"variable=Close<br>Date=%{x}<br>Stock value=%{y}<extra></extra>\",\"legendgroup\":\"Close\",\"line\":{\"color\":\"#EF553B\",\"dash\":\"solid\"},\"marker\":{\"symbol\":\"circle\"},\"mode\":\"lines\",\"name\":\"Stock Close Price\",\"showlegend\":true,\"x\":[\"2022-01-03T00:00:00\",\"2022-01-04T00:00:00\",\"2022-01-05T00:00:00\",\"2022-01-06T00:00:00\",\"2022-01-07T00:00:00\",\"2022-01-10T00:00:00\",\"2022-01-11T00:00:00\",\"2022-01-12T00:00:00\",\"2022-01-13T00:00:00\",\"2022-01-14T00:00:00\",\"2022-01-18T00:00:00\",\"2022-01-19T00:00:00\",\"2022-01-20T00:00:00\",\"2022-01-21T00:00:00\",\"2022-01-24T00:00:00\",\"2022-01-25T00:00:00\",\"2022-01-26T00:00:00\",\"2022-01-27T00:00:00\",\"2022-01-28T00:00:00\",\"2022-01-31T00:00:00\",\"2022-02-01T00:00:00\",\"2022-02-02T00:00:00\",\"2022-02-03T00:00:00\",\"2022-02-04T00:00:00\",\"2022-02-07T00:00:00\",\"2022-02-08T00:00:00\",\"2022-02-09T00:00:00\",\"2022-02-10T00:00:00\",\"2022-02-11T00:00:00\",\"2022-02-14T00:00:00\",\"2022-02-15T00:00:00\",\"2022-02-16T00:00:00\",\"2022-02-17T00:00:00\",\"2022-02-18T00:00:00\",\"2022-02-22T00:00:00\",\"2022-02-23T00:00:00\",\"2022-02-24T00:00:00\",\"2022-02-25T00:00:00\",\"2022-02-28T00:00:00\",\"2022-03-01T00:00:00\",\"2022-03-02T00:00:00\",\"2022-03-03T00:00:00\",\"2022-03-04T00:00:00\",\"2022-03-07T00:00:00\",\"2022-03-08T00:00:00\",\"2022-03-09T00:00:00\",\"2022-03-10T00:00:00\",\"2022-03-11T00:00:00\",\"2022-03-14T00:00:00\",\"2022-03-15T00:00:00\",\"2022-03-16T00:00:00\",\"2022-03-17T00:00:00\",\"2022-03-18T00:00:00\",\"2022-03-21T00:00:00\",\"2022-03-22T00:00:00\",\"2022-03-23T00:00:00\",\"2022-03-24T00:00:00\",\"2022-03-25T00:00:00\",\"2022-03-28T00:00:00\",\"2022-03-29T00:00:00\",\"2022-03-30T00:00:00\",\"2022-03-31T00:00:00\",\"2022-04-01T00:00:00\",\"2022-04-04T00:00:00\",\"2022-04-05T00:00:00\",\"2022-04-06T00:00:00\",\"2022-04-07T00:00:00\",\"2022-04-08T00:00:00\",\"2022-04-11T00:00:00\",\"2022-04-12T00:00:00\",\"2022-04-13T00:00:00\",\"2022-04-14T00:00:00\",\"2022-04-18T00:00:00\",\"2022-04-19T00:00:00\",\"2022-04-20T00:00:00\",\"2022-04-21T00:00:00\",\"2022-04-22T00:00:00\",\"2022-04-25T00:00:00\",\"2022-04-26T00:00:00\",\"2022-04-27T00:00:00\",\"2022-04-28T00:00:00\",\"2022-04-29T00:00:00\",\"2022-05-02T00:00:00\",\"2022-05-03T00:00:00\",\"2022-05-04T00:00:00\",\"2022-05-05T00:00:00\",\"2022-05-06T00:00:00\",\"2022-05-09T00:00:00\",\"2022-05-10T00:00:00\",\"2022-05-11T00:00:00\",\"2022-05-12T00:00:00\",\"2022-05-13T00:00:00\",\"2022-05-16T00:00:00\",\"2022-05-17T00:00:00\",\"2022-05-18T00:00:00\",\"2022-05-19T00:00:00\",\"2022-05-20T00:00:00\",\"2022-05-23T00:00:00\",\"2022-05-24T00:00:00\",\"2022-05-25T00:00:00\",\"2022-05-26T00:00:00\",\"2022-05-27T00:00:00\",\"2022-05-31T00:00:00\",\"2022-06-01T00:00:00\",\"2022-06-02T00:00:00\",\"2022-06-03T00:00:00\",\"2022-06-06T00:00:00\",\"2022-06-07T00:00:00\",\"2022-06-08T00:00:00\",\"2022-06-09T00:00:00\",\"2022-06-10T00:00:00\",\"2022-06-13T00:00:00\",\"2022-06-14T00:00:00\",\"2022-06-15T00:00:00\",\"2022-06-16T00:00:00\",\"2022-06-17T00:00:00\",\"2022-06-21T00:00:00\",\"2022-06-22T00:00:00\",\"2022-06-23T00:00:00\",\"2022-06-24T00:00:00\",\"2022-06-27T00:00:00\",\"2022-06-28T00:00:00\",\"2022-06-29T00:00:00\",\"2022-06-30T00:00:00\",\"2022-07-01T00:00:00\",\"2022-07-05T00:00:00\",\"2022-07-06T00:00:00\",\"2022-07-07T00:00:00\",\"2022-07-08T00:00:00\",\"2022-07-11T00:00:00\",\"2022-07-12T00:00:00\",\"2022-07-13T00:00:00\",\"2022-07-14T00:00:00\",\"2022-07-15T00:00:00\",\"2022-07-18T00:00:00\",\"2022-07-19T00:00:00\",\"2022-07-20T00:00:00\",\"2022-07-21T00:00:00\",\"2022-07-22T00:00:00\",\"2022-07-25T00:00:00\",\"2022-07-26T00:00:00\",\"2022-07-27T00:00:00\",\"2022-07-28T00:00:00\",\"2022-07-29T00:00:00\",\"2022-08-01T00:00:00\",\"2022-08-02T00:00:00\",\"2022-08-03T00:00:00\",\"2022-08-04T00:00:00\",\"2022-08-05T00:00:00\",\"2022-08-08T00:00:00\",\"2022-08-09T00:00:00\",\"2022-08-10T00:00:00\",\"2022-08-11T00:00:00\",\"2022-08-12T00:00:00\",\"2022-08-15T00:00:00\",\"2022-08-16T00:00:00\",\"2022-08-17T00:00:00\",\"2022-08-18T00:00:00\",\"2022-08-19T00:00:00\",\"2022-08-22T00:00:00\",\"2022-08-23T00:00:00\",\"2022-08-24T00:00:00\",\"2022-08-25T00:00:00\",\"2022-08-26T00:00:00\",\"2022-08-29T00:00:00\",\"2022-08-30T00:00:00\",\"2022-08-31T00:00:00\",\"2022-09-01T00:00:00\",\"2022-09-02T00:00:00\",\"2022-09-06T00:00:00\",\"2022-09-07T00:00:00\",\"2022-09-08T00:00:00\",\"2022-09-09T00:00:00\",\"2022-09-12T00:00:00\",\"2022-09-13T00:00:00\",\"2022-09-14T00:00:00\",\"2022-09-15T00:00:00\",\"2022-09-16T00:00:00\",\"2022-09-19T00:00:00\",\"2022-09-20T00:00:00\",\"2022-09-21T00:00:00\",\"2022-09-22T00:00:00\",\"2022-09-23T00:00:00\",\"2022-09-26T00:00:00\",\"2022-09-27T00:00:00\",\"2022-09-28T00:00:00\",\"2022-09-29T00:00:00\",\"2022-09-30T00:00:00\",\"2022-10-03T00:00:00\",\"2022-10-04T00:00:00\",\"2022-10-05T00:00:00\",\"2022-10-06T00:00:00\",\"2022-10-07T00:00:00\",\"2022-10-10T00:00:00\",\"2022-10-11T00:00:00\",\"2022-10-12T00:00:00\",\"2022-10-13T00:00:00\",\"2022-10-14T00:00:00\",\"2022-10-17T00:00:00\",\"2022-10-18T00:00:00\",\"2022-10-19T00:00:00\",\"2022-10-20T00:00:00\",\"2022-10-21T00:00:00\",\"2022-10-24T00:00:00\",\"2022-10-25T00:00:00\",\"2022-10-26T00:00:00\",\"2022-10-27T00:00:00\",\"2022-10-28T00:00:00\",\"2022-10-31T00:00:00\",\"2022-11-01T00:00:00\",\"2022-11-02T00:00:00\",\"2022-11-03T00:00:00\",\"2022-11-04T00:00:00\",\"2022-11-07T00:00:00\",\"2022-11-08T00:00:00\",\"2022-11-09T00:00:00\",\"2022-11-10T00:00:00\",\"2022-11-11T00:00:00\",\"2022-11-14T00:00:00\",\"2022-11-15T00:00:00\",\"2022-11-16T00:00:00\",\"2022-11-17T00:00:00\",\"2022-11-18T00:00:00\",\"2022-11-21T00:00:00\",\"2022-11-22T00:00:00\",\"2022-11-23T00:00:00\",\"2022-11-25T00:00:00\",\"2022-11-28T00:00:00\",\"2022-11-29T00:00:00\",\"2022-11-30T00:00:00\",\"2022-12-01T00:00:00\",\"2022-12-02T00:00:00\",\"2022-12-05T00:00:00\",\"2022-12-06T00:00:00\",\"2022-12-07T00:00:00\",\"2022-12-08T00:00:00\",\"2022-12-09T00:00:00\",\"2022-12-12T00:00:00\",\"2022-12-13T00:00:00\",\"2022-12-14T00:00:00\",\"2022-12-15T00:00:00\",\"2022-12-16T00:00:00\",\"2022-12-19T00:00:00\",\"2022-12-20T00:00:00\",\"2022-12-21T00:00:00\",\"2022-12-22T00:00:00\",\"2022-12-23T00:00:00\",\"2022-12-27T00:00:00\",\"2022-12-28T00:00:00\",\"2022-12-29T00:00:00\",\"2022-12-30T00:00:00\"],\"xaxis\":\"x\",\"y\":[98.2947006225586,98.29149627685548,98.09639739990234,97.98500061035156,97.89459991455078,97.84510040283205,97.92230224609376,97.91999816894533,97.99099731445312,97.73500061035156,97.41069793701172,97.49420166015624,97.50260162353516,97.69000244140624,97.71019744873048,97.63159942626952,97.3395004272461,97.30999755859376,97.41210174560548,97.41739654541016,97.4000015258789,97.47419738769533,97.30989837646484,96.9250030517578,96.96839904785156,96.82769775390624,96.8550033569336,96.28379821777344,96.6854019165039,96.42430114746094,96.3550033569336,96.43409729003906,96.56719970703124,96.64230346679688,96.5239028930664,96.3904037475586,96.48159790039062,96.49500274658205,96.93910217285156,97.29209899902344,96.7510986328125,96.7938003540039,97.056396484375,96.81780242919922,96.46499633789062,96.26190185546876,96.08499908447266,96.03009796142578,95.5593032836914,95.54080200195312,95.48580169677734,95.59980010986328,95.70169830322266,95.15119934082033,94.99700164794922,95.2136001586914,95.08650207519533,94.62090301513672,94.64620208740234,94.64700317382812,94.83920288085938,94.87149810791016,94.51000213623048,94.61000061035156,94.16500091552734,94.0999984741211,94.07530212402344,93.86509704589844,93.68350219726562,94.03130340576172,94.05560302734376,93.71499633789062,93.66500091552734,93.27539825439452,93.4000015258789,93.2292022705078,93.1636962890625,93.4499969482422,93.68060302734376,93.51490020751952,93.40280151367188,93.23870086669922,92.88860321044922,92.94519805908205,93.27670288085938,92.96050262451172,92.79000091552734,93.08080291748048,93.19170379638672,93.30999755859376,93.47969818115234,93.30500030517578,93.4749984741211,93.0896987915039,93.24500274658205,93.44429779052734,93.6095962524414,93.41999816894533,93.8124008178711,94.00789642333984,94.08999633789062,94.13999938964844,93.7925033569336,93.49500274658205,93.54499816894533,93.45439910888672,93.1990966796875,93.31790161132812,93.1750030517578,93.0500030517578,92.43260192871094,91.5270004272461,91.17839813232422,91.86000061035156,92.07510375976562,92.03780364990234,91.90499877929688,92.39469909667967,92.59760284423828,92.54499816894533,92.31700134277344,92.2145004272461,92.5,92.87789916992188,93.4250030517578,93.5500030517578,93.10140228271484,92.91500091552734,92.76000213623048,92.9521026611328,93.0999984741211,93.12580108642578,92.99669647216795,93.09500122070312,93.04499816894533,92.83670043945312,92.78500366210938,93.31610107421876,93.78109741210938,93.6500015258789,93.59880065917967,93.91000366210938,94.33499908447266,94.41500091552734,94.49500274658205,93.84500122070312,93.9832000732422,94.1843032836914,93.59480285644533,93.7750015258789,93.61160278320312,93.8949966430664,93.55609893798828,93.71299743652344,93.87429809570312,93.74230194091795,93.427001953125,93.5251007080078,93.3000030517578,93.05500030517578,93.0072021484375,92.8583984375,93.11239624023438,93.00499725341795,92.73999786376952,92.69660186767578,92.66500091552734,92.28399658203124,92.57009887695312,92.11740112304688,92.41419982910156,92.27429962158205,92.22119903564452,92.17330169677734,91.75879669189452,91.72840118408205,91.54499816894533,91.6449966430664,91.44889831542967,91.22660064697266,91.31500244140624,90.73500061035156,90.5999984741211,89.95999908447266,89.70999908447266,90.0740966796875,89.81279754638672,89.67220306396484,90.25659942626952,90.4456024169922,90.07209777832033,89.94000244140625,89.6104965209961,89.47840118408203,89.46849822998047,89.55269622802734,89.30599975585938,89.14409637451172,89.21289825439453,89.3302001953125,88.89179992675781,88.60900115966797,88.8895034790039,88.88009643554688,89.26629638671875,89.44049835205078,89.75299835205078,89.54440307617188,89.2936019897461,89.32689666748047,89.21160125732422,89.00340270996094,89.10160064697266,88.9572982788086,89.17980194091797,89.26000213623047,90.42440032958984,90.375,90.25489807128906,90.6168975830078,90.83100128173828,90.56529998779295,90.385498046875,90.34490203857422,90.47000122070312,90.74500274658205,90.779296875,90.80960083007812,90.61509704589844,90.95999908447266,91.51609802246094,91.60009765625,91.15489959716795,91.30999755859376,91.69490051269533,91.51210021972656,91.31390380859376,91.2197036743164,91.63490295410156,91.74210357666016,91.78459930419922,91.74710083007812,91.4354019165039,91.18489837646484,90.9656982421875,90.94519805908205,90.80449676513672,90.50959777832033,90.43470001220705,90.59230041503906,90.43170166015624],\"yaxis\":\"y\",\"type\":\"scattergl\"},{\"hovertemplate\":\"variable=High<br>Date=%{x}<br>Stock value=%{y}<extra></extra>\",\"legendgroup\":\"High\",\"line\":{\"color\":\"#00cc96\",\"dash\":\"solid\"},\"marker\":{\"symbol\":\"circle\"},\"mode\":\"lines\",\"name\":\"Stock High Price\",\"showlegend\":true,\"x\":[\"2022-01-03T00:00:00\",\"2022-01-04T00:00:00\",\"2022-01-05T00:00:00\",\"2022-01-06T00:00:00\",\"2022-01-07T00:00:00\",\"2022-01-10T00:00:00\",\"2022-01-11T00:00:00\",\"2022-01-12T00:00:00\",\"2022-01-13T00:00:00\",\"2022-01-14T00:00:00\",\"2022-01-18T00:00:00\",\"2022-01-19T00:00:00\",\"2022-01-20T00:00:00\",\"2022-01-21T00:00:00\",\"2022-01-24T00:00:00\",\"2022-01-25T00:00:00\",\"2022-01-26T00:00:00\",\"2022-01-27T00:00:00\",\"2022-01-28T00:00:00\",\"2022-01-31T00:00:00\",\"2022-02-01T00:00:00\",\"2022-02-02T00:00:00\",\"2022-02-03T00:00:00\",\"2022-02-04T00:00:00\",\"2022-02-07T00:00:00\",\"2022-02-08T00:00:00\",\"2022-02-09T00:00:00\",\"2022-02-10T00:00:00\",\"2022-02-11T00:00:00\",\"2022-02-14T00:00:00\",\"2022-02-15T00:00:00\",\"2022-02-16T00:00:00\",\"2022-02-17T00:00:00\",\"2022-02-18T00:00:00\",\"2022-02-22T00:00:00\",\"2022-02-23T00:00:00\",\"2022-02-24T00:00:00\",\"2022-02-25T00:00:00\",\"2022-02-28T00:00:00\",\"2022-03-01T00:00:00\",\"2022-03-02T00:00:00\",\"2022-03-03T00:00:00\",\"2022-03-04T00:00:00\",\"2022-03-07T00:00:00\",\"2022-03-08T00:00:00\",\"2022-03-09T00:00:00\",\"2022-03-10T00:00:00\",\"2022-03-11T00:00:00\",\"2022-03-14T00:00:00\",\"2022-03-15T00:00:00\",\"2022-03-16T00:00:00\",\"2022-03-17T00:00:00\",\"2022-03-18T00:00:00\",\"2022-03-21T00:00:00\",\"2022-03-22T00:00:00\",\"2022-03-23T00:00:00\",\"2022-03-24T00:00:00\",\"2022-03-25T00:00:00\",\"2022-03-28T00:00:00\",\"2022-03-29T00:00:00\",\"2022-03-30T00:00:00\",\"2022-03-31T00:00:00\",\"2022-04-01T00:00:00\",\"2022-04-04T00:00:00\",\"2022-04-05T00:00:00\",\"2022-04-06T00:00:00\",\"2022-04-07T00:00:00\",\"2022-04-08T00:00:00\",\"2022-04-11T00:00:00\",\"2022-04-12T00:00:00\",\"2022-04-13T00:00:00\",\"2022-04-14T00:00:00\",\"2022-04-18T00:00:00\",\"2022-04-19T00:00:00\",\"2022-04-20T00:00:00\",\"2022-04-21T00:00:00\",\"2022-04-22T00:00:00\",\"2022-04-25T00:00:00\",\"2022-04-26T00:00:00\",\"2022-04-27T00:00:00\",\"2022-04-28T00:00:00\",\"2022-04-29T00:00:00\",\"2022-05-02T00:00:00\",\"2022-05-03T00:00:00\",\"2022-05-04T00:00:00\",\"2022-05-05T00:00:00\",\"2022-05-06T00:00:00\",\"2022-05-09T00:00:00\",\"2022-05-10T00:00:00\",\"2022-05-11T00:00:00\",\"2022-05-12T00:00:00\",\"2022-05-13T00:00:00\",\"2022-05-16T00:00:00\",\"2022-05-17T00:00:00\",\"2022-05-18T00:00:00\",\"2022-05-19T00:00:00\",\"2022-05-20T00:00:00\",\"2022-05-23T00:00:00\",\"2022-05-24T00:00:00\",\"2022-05-25T00:00:00\",\"2022-05-26T00:00:00\",\"2022-05-27T00:00:00\",\"2022-05-31T00:00:00\",\"2022-06-01T00:00:00\",\"2022-06-02T00:00:00\",\"2022-06-03T00:00:00\",\"2022-06-06T00:00:00\",\"2022-06-07T00:00:00\",\"2022-06-08T00:00:00\",\"2022-06-09T00:00:00\",\"2022-06-10T00:00:00\",\"2022-06-13T00:00:00\",\"2022-06-14T00:00:00\",\"2022-06-15T00:00:00\",\"2022-06-16T00:00:00\",\"2022-06-17T00:00:00\",\"2022-06-21T00:00:00\",\"2022-06-22T00:00:00\",\"2022-06-23T00:00:00\",\"2022-06-24T00:00:00\",\"2022-06-27T00:00:00\",\"2022-06-28T00:00:00\",\"2022-06-29T00:00:00\",\"2022-06-30T00:00:00\",\"2022-07-01T00:00:00\",\"2022-07-05T00:00:00\",\"2022-07-06T00:00:00\",\"2022-07-07T00:00:00\",\"2022-07-08T00:00:00\",\"2022-07-11T00:00:00\",\"2022-07-12T00:00:00\",\"2022-07-13T00:00:00\",\"2022-07-14T00:00:00\",\"2022-07-15T00:00:00\",\"2022-07-18T00:00:00\",\"2022-07-19T00:00:00\",\"2022-07-20T00:00:00\",\"2022-07-21T00:00:00\",\"2022-07-22T00:00:00\",\"2022-07-25T00:00:00\",\"2022-07-26T00:00:00\",\"2022-07-27T00:00:00\",\"2022-07-28T00:00:00\",\"2022-07-29T00:00:00\",\"2022-08-01T00:00:00\",\"2022-08-02T00:00:00\",\"2022-08-03T00:00:00\",\"2022-08-04T00:00:00\",\"2022-08-05T00:00:00\",\"2022-08-08T00:00:00\",\"2022-08-09T00:00:00\",\"2022-08-10T00:00:00\",\"2022-08-11T00:00:00\",\"2022-08-12T00:00:00\",\"2022-08-15T00:00:00\",\"2022-08-16T00:00:00\",\"2022-08-17T00:00:00\",\"2022-08-18T00:00:00\",\"2022-08-19T00:00:00\",\"2022-08-22T00:00:00\",\"2022-08-23T00:00:00\",\"2022-08-24T00:00:00\",\"2022-08-25T00:00:00\",\"2022-08-26T00:00:00\",\"2022-08-29T00:00:00\",\"2022-08-30T00:00:00\",\"2022-08-31T00:00:00\",\"2022-09-01T00:00:00\",\"2022-09-02T00:00:00\",\"2022-09-06T00:00:00\",\"2022-09-07T00:00:00\",\"2022-09-08T00:00:00\",\"2022-09-09T00:00:00\",\"2022-09-12T00:00:00\",\"2022-09-13T00:00:00\",\"2022-09-14T00:00:00\",\"2022-09-15T00:00:00\",\"2022-09-16T00:00:00\",\"2022-09-19T00:00:00\",\"2022-09-20T00:00:00\",\"2022-09-21T00:00:00\",\"2022-09-22T00:00:00\",\"2022-09-23T00:00:00\",\"2022-09-26T00:00:00\",\"2022-09-27T00:00:00\",\"2022-09-28T00:00:00\",\"2022-09-29T00:00:00\",\"2022-09-30T00:00:00\",\"2022-10-03T00:00:00\",\"2022-10-04T00:00:00\",\"2022-10-05T00:00:00\",\"2022-10-06T00:00:00\",\"2022-10-07T00:00:00\",\"2022-10-10T00:00:00\",\"2022-10-11T00:00:00\",\"2022-10-12T00:00:00\",\"2022-10-13T00:00:00\",\"2022-10-14T00:00:00\",\"2022-10-17T00:00:00\",\"2022-10-18T00:00:00\",\"2022-10-19T00:00:00\",\"2022-10-20T00:00:00\",\"2022-10-21T00:00:00\",\"2022-10-24T00:00:00\",\"2022-10-25T00:00:00\",\"2022-10-26T00:00:00\",\"2022-10-27T00:00:00\",\"2022-10-28T00:00:00\",\"2022-10-31T00:00:00\",\"2022-11-01T00:00:00\",\"2022-11-02T00:00:00\",\"2022-11-03T00:00:00\",\"2022-11-04T00:00:00\",\"2022-11-07T00:00:00\",\"2022-11-08T00:00:00\",\"2022-11-09T00:00:00\",\"2022-11-10T00:00:00\",\"2022-11-11T00:00:00\",\"2022-11-14T00:00:00\",\"2022-11-15T00:00:00\",\"2022-11-16T00:00:00\",\"2022-11-17T00:00:00\",\"2022-11-18T00:00:00\",\"2022-11-21T00:00:00\",\"2022-11-22T00:00:00\",\"2022-11-23T00:00:00\",\"2022-11-25T00:00:00\",\"2022-11-28T00:00:00\",\"2022-11-29T00:00:00\",\"2022-11-30T00:00:00\",\"2022-12-01T00:00:00\",\"2022-12-02T00:00:00\",\"2022-12-05T00:00:00\",\"2022-12-06T00:00:00\",\"2022-12-07T00:00:00\",\"2022-12-08T00:00:00\",\"2022-12-09T00:00:00\",\"2022-12-12T00:00:00\",\"2022-12-13T00:00:00\",\"2022-12-14T00:00:00\",\"2022-12-15T00:00:00\",\"2022-12-16T00:00:00\",\"2022-12-19T00:00:00\",\"2022-12-20T00:00:00\",\"2022-12-21T00:00:00\",\"2022-12-22T00:00:00\",\"2022-12-23T00:00:00\",\"2022-12-27T00:00:00\",\"2022-12-28T00:00:00\",\"2022-12-29T00:00:00\",\"2022-12-30T00:00:00\"],\"xaxis\":\"x\",\"y\":[98.30999755859376,98.29149627685548,98.2699966430664,97.98500061035156,97.89459991455078,97.9000015258789,97.92230224609376,97.9250030517578,97.99099731445312,97.80850219726562,97.44000244140624,97.50499725341795,97.50260162353516,97.69000244140624,97.83999633789062,97.67009735107422,97.3395004272461,97.38899993896484,97.41210174560548,97.45099639892578,97.40499877929688,97.47419738769533,97.30989837646484,96.9290008544922,96.96839904785156,96.82769775390624,96.8550033569336,96.28379821777344,96.6854019165039,96.42430114746094,96.35900115966795,96.43409729003906,96.56719970703124,96.64230346679688,96.5500030517578,96.3904037475586,96.48159790039062,96.49500274658205,96.93910217285156,97.29209899902344,97.0500030517578,96.7938003540039,97.056396484375,96.81780242919922,96.46499633789062,96.26190185546876,96.08499908447266,96.03009796142578,95.5593032836914,95.54080200195312,95.48580169677734,95.59980010986328,95.70169830322266,95.16919708251952,94.99700164794922,95.2136001586914,95.08650207519533,94.62090301513672,94.64620208740234,94.64700317382812,94.83920288085938,95.00890350341795,95.06999969482422,94.61000061035156,94.18000030517578,94.11100006103516,94.11000061035156,93.86509704589844,93.70999908447266,94.03130340576172,94.05560302734376,93.71499633789062,93.66500091552734,93.27539825439452,93.4000015258789,93.2292022705078,93.1636962890625,93.4499969482422,93.68060302734376,93.62000274658205,93.40280151367188,93.2699966430664,92.88860321044922,93.0999984741211,93.27670288085938,92.9810028076172,92.79000091552734,93.08080291748048,93.1999969482422,93.30999755859376,93.47969818115234,93.30500030517578,93.52989959716795,93.0896987915039,93.29000091552734,93.44429779052734,93.6095962524414,93.41999816894533,93.8498992919922,94.00789642333984,94.08999633789062,94.13999938964844,93.7925033569336,93.55999755859376,93.54499816894533,93.62999725341795,93.1990966796875,93.31790161132812,93.1750030517578,93.07959747314452,92.72000122070312,91.7699966430664,91.17839813232422,91.86000061035156,92.07510375976562,92.03780364990234,91.90499877929688,92.39469909667967,92.59760284423828,92.5999984741211,92.39700317382812,92.2145004272461,92.5,92.87789916992188,93.4250030517578,93.5500030517578,93.18499755859376,92.91500091552734,92.76000213623048,92.9521026611328,93.0999984741211,93.12580108642578,92.99669647216795,93.09500122070312,93.04499816894533,92.83670043945312,92.78500366210938,93.31610107421876,93.78109741210938,93.6500015258789,93.77989959716795,93.91000366210938,94.36000061035156,94.41500091552734,94.52999877929688,94.2249984741211,93.9832000732422,94.1843032836914,93.59480285644533,93.7750015258789,93.61160278320312,93.9000015258789,93.55609893798828,93.71299743652344,93.95989990234376,93.74230194091795,93.427001953125,93.5500030517578,93.3000030517578,93.10009765625,93.04499816894533,92.8583984375,93.11239624023438,93.0199966430664,92.7593002319336,92.69660186767578,92.72000122070312,92.3000030517578,92.57009887695312,92.11740112304688,92.41419982910156,92.27429962158205,92.22119903564452,92.17330169677734,91.75879669189452,91.79000091552734,91.58499908447266,91.6449966430664,91.4499969482422,91.2300033569336,91.31990051269533,90.8000030517578,90.65989685058594,90.34010314941406,90.02999877929688,90.0740966796875,89.83999633789062,90.0,90.42990112304688,90.58000183105467,90.07209777832033,89.94000244140625,89.6104965209961,89.47840118408203,89.46849822998047,89.55269622802734,89.30599975585938,89.14409637451172,89.26190185546875,89.3302001953125,88.89179992675781,88.60900115966797,88.8895034790039,88.89900207519531,89.31950378417969,89.48500061035156,89.7699966430664,89.55819702148438,89.44000244140625,89.32689666748047,89.41950225830078,89.00340270996094,89.10160064697266,88.9572982788086,89.18009948730469,89.3499984741211,90.44190216064452,90.5500030517578,90.28119659423828,90.6168975830078,90.83100128173828,90.59500122070312,90.385498046875,90.54000091552734,90.47000122070312,90.74500274658205,90.779296875,90.80960083007812,90.61509704589844,90.95999908447266,91.51609802246094,91.60009765625,91.3000030517578,91.30999755859376,91.69490051269533,91.51210021972656,91.31390380859376,91.4209976196289,91.90499877929688,91.74210357666016,91.78459930419922,91.74710083007812,91.48989868164062,91.18489837646484,90.9656982421875,90.94519805908205,90.80449676513672,90.50959777832033,90.43470001220705,90.59230041503906,90.43170166015624],\"yaxis\":\"y\",\"type\":\"scattergl\"},{\"hovertemplate\":\"variable=Low<br>Date=%{x}<br>Stock value=%{y}<extra></extra>\",\"legendgroup\":\"Low\",\"line\":{\"color\":\"#ab63fa\",\"dash\":\"solid\"},\"marker\":{\"symbol\":\"circle\"},\"mode\":\"lines\",\"name\":\"Stock Low Price\",\"showlegend\":true,\"x\":[\"2022-01-03T00:00:00\",\"2022-01-04T00:00:00\",\"2022-01-05T00:00:00\",\"2022-01-06T00:00:00\",\"2022-01-07T00:00:00\",\"2022-01-10T00:00:00\",\"2022-01-11T00:00:00\",\"2022-01-12T00:00:00\",\"2022-01-13T00:00:00\",\"2022-01-14T00:00:00\",\"2022-01-18T00:00:00\",\"2022-01-19T00:00:00\",\"2022-01-20T00:00:00\",\"2022-01-21T00:00:00\",\"2022-01-24T00:00:00\",\"2022-01-25T00:00:00\",\"2022-01-26T00:00:00\",\"2022-01-27T00:00:00\",\"2022-01-28T00:00:00\",\"2022-01-31T00:00:00\",\"2022-02-01T00:00:00\",\"2022-02-02T00:00:00\",\"2022-02-03T00:00:00\",\"2022-02-04T00:00:00\",\"2022-02-07T00:00:00\",\"2022-02-08T00:00:00\",\"2022-02-09T00:00:00\",\"2022-02-10T00:00:00\",\"2022-02-11T00:00:00\",\"2022-02-14T00:00:00\",\"2022-02-15T00:00:00\",\"2022-02-16T00:00:00\",\"2022-02-17T00:00:00\",\"2022-02-18T00:00:00\",\"2022-02-22T00:00:00\",\"2022-02-23T00:00:00\",\"2022-02-24T00:00:00\",\"2022-02-25T00:00:00\",\"2022-02-28T00:00:00\",\"2022-03-01T00:00:00\",\"2022-03-02T00:00:00\",\"2022-03-03T00:00:00\",\"2022-03-04T00:00:00\",\"2022-03-07T00:00:00\",\"2022-03-08T00:00:00\",\"2022-03-09T00:00:00\",\"2022-03-10T00:00:00\",\"2022-03-11T00:00:00\",\"2022-03-14T00:00:00\",\"2022-03-15T00:00:00\",\"2022-03-16T00:00:00\",\"2022-03-17T00:00:00\",\"2022-03-18T00:00:00\",\"2022-03-21T00:00:00\",\"2022-03-22T00:00:00\",\"2022-03-23T00:00:00\",\"2022-03-24T00:00:00\",\"2022-03-25T00:00:00\",\"2022-03-28T00:00:00\",\"2022-03-29T00:00:00\",\"2022-03-30T00:00:00\",\"2022-03-31T00:00:00\",\"2022-04-01T00:00:00\",\"2022-04-04T00:00:00\",\"2022-04-05T00:00:00\",\"2022-04-06T00:00:00\",\"2022-04-07T00:00:00\",\"2022-04-08T00:00:00\",\"2022-04-11T00:00:00\",\"2022-04-12T00:00:00\",\"2022-04-13T00:00:00\",\"2022-04-14T00:00:00\",\"2022-04-18T00:00:00\",\"2022-04-19T00:00:00\",\"2022-04-20T00:00:00\",\"2022-04-21T00:00:00\",\"2022-04-22T00:00:00\",\"2022-04-25T00:00:00\",\"2022-04-26T00:00:00\",\"2022-04-27T00:00:00\",\"2022-04-28T00:00:00\",\"2022-04-29T00:00:00\",\"2022-05-02T00:00:00\",\"2022-05-03T00:00:00\",\"2022-05-04T00:00:00\",\"2022-05-05T00:00:00\",\"2022-05-06T00:00:00\",\"2022-05-09T00:00:00\",\"2022-05-10T00:00:00\",\"2022-05-11T00:00:00\",\"2022-05-12T00:00:00\",\"2022-05-13T00:00:00\",\"2022-05-16T00:00:00\",\"2022-05-17T00:00:00\",\"2022-05-18T00:00:00\",\"2022-05-19T00:00:00\",\"2022-05-20T00:00:00\",\"2022-05-23T00:00:00\",\"2022-05-24T00:00:00\",\"2022-05-25T00:00:00\",\"2022-05-26T00:00:00\",\"2022-05-27T00:00:00\",\"2022-05-31T00:00:00\",\"2022-06-01T00:00:00\",\"2022-06-02T00:00:00\",\"2022-06-03T00:00:00\",\"2022-06-06T00:00:00\",\"2022-06-07T00:00:00\",\"2022-06-08T00:00:00\",\"2022-06-09T00:00:00\",\"2022-06-10T00:00:00\",\"2022-06-13T00:00:00\",\"2022-06-14T00:00:00\",\"2022-06-15T00:00:00\",\"2022-06-16T00:00:00\",\"2022-06-17T00:00:00\",\"2022-06-21T00:00:00\",\"2022-06-22T00:00:00\",\"2022-06-23T00:00:00\",\"2022-06-24T00:00:00\",\"2022-06-27T00:00:00\",\"2022-06-28T00:00:00\",\"2022-06-29T00:00:00\",\"2022-06-30T00:00:00\",\"2022-07-01T00:00:00\",\"2022-07-05T00:00:00\",\"2022-07-06T00:00:00\",\"2022-07-07T00:00:00\",\"2022-07-08T00:00:00\",\"2022-07-11T00:00:00\",\"2022-07-12T00:00:00\",\"2022-07-13T00:00:00\",\"2022-07-14T00:00:00\",\"2022-07-15T00:00:00\",\"2022-07-18T00:00:00\",\"2022-07-19T00:00:00\",\"2022-07-20T00:00:00\",\"2022-07-21T00:00:00\",\"2022-07-22T00:00:00\",\"2022-07-25T00:00:00\",\"2022-07-26T00:00:00\",\"2022-07-27T00:00:00\",\"2022-07-28T00:00:00\",\"2022-07-29T00:00:00\",\"2022-08-01T00:00:00\",\"2022-08-02T00:00:00\",\"2022-08-03T00:00:00\",\"2022-08-04T00:00:00\",\"2022-08-05T00:00:00\",\"2022-08-08T00:00:00\",\"2022-08-09T00:00:00\",\"2022-08-10T00:00:00\",\"2022-08-11T00:00:00\",\"2022-08-12T00:00:00\",\"2022-08-15T00:00:00\",\"2022-08-16T00:00:00\",\"2022-08-17T00:00:00\",\"2022-08-18T00:00:00\",\"2022-08-19T00:00:00\",\"2022-08-22T00:00:00\",\"2022-08-23T00:00:00\",\"2022-08-24T00:00:00\",\"2022-08-25T00:00:00\",\"2022-08-26T00:00:00\",\"2022-08-29T00:00:00\",\"2022-08-30T00:00:00\",\"2022-08-31T00:00:00\",\"2022-09-01T00:00:00\",\"2022-09-02T00:00:00\",\"2022-09-06T00:00:00\",\"2022-09-07T00:00:00\",\"2022-09-08T00:00:00\",\"2022-09-09T00:00:00\",\"2022-09-12T00:00:00\",\"2022-09-13T00:00:00\",\"2022-09-14T00:00:00\",\"2022-09-15T00:00:00\",\"2022-09-16T00:00:00\",\"2022-09-19T00:00:00\",\"2022-09-20T00:00:00\",\"2022-09-21T00:00:00\",\"2022-09-22T00:00:00\",\"2022-09-23T00:00:00\",\"2022-09-26T00:00:00\",\"2022-09-27T00:00:00\",\"2022-09-28T00:00:00\",\"2022-09-29T00:00:00\",\"2022-09-30T00:00:00\",\"2022-10-03T00:00:00\",\"2022-10-04T00:00:00\",\"2022-10-05T00:00:00\",\"2022-10-06T00:00:00\",\"2022-10-07T00:00:00\",\"2022-10-10T00:00:00\",\"2022-10-11T00:00:00\",\"2022-10-12T00:00:00\",\"2022-10-13T00:00:00\",\"2022-10-14T00:00:00\",\"2022-10-17T00:00:00\",\"2022-10-18T00:00:00\",\"2022-10-19T00:00:00\",\"2022-10-20T00:00:00\",\"2022-10-21T00:00:00\",\"2022-10-24T00:00:00\",\"2022-10-25T00:00:00\",\"2022-10-26T00:00:00\",\"2022-10-27T00:00:00\",\"2022-10-28T00:00:00\",\"2022-10-31T00:00:00\",\"2022-11-01T00:00:00\",\"2022-11-02T00:00:00\",\"2022-11-03T00:00:00\",\"2022-11-04T00:00:00\",\"2022-11-07T00:00:00\",\"2022-11-08T00:00:00\",\"2022-11-09T00:00:00\",\"2022-11-10T00:00:00\",\"2022-11-11T00:00:00\",\"2022-11-14T00:00:00\",\"2022-11-15T00:00:00\",\"2022-11-16T00:00:00\",\"2022-11-17T00:00:00\",\"2022-11-18T00:00:00\",\"2022-11-21T00:00:00\",\"2022-11-22T00:00:00\",\"2022-11-23T00:00:00\",\"2022-11-25T00:00:00\",\"2022-11-28T00:00:00\",\"2022-11-29T00:00:00\",\"2022-11-30T00:00:00\",\"2022-12-01T00:00:00\",\"2022-12-02T00:00:00\",\"2022-12-05T00:00:00\",\"2022-12-06T00:00:00\",\"2022-12-07T00:00:00\",\"2022-12-08T00:00:00\",\"2022-12-09T00:00:00\",\"2022-12-12T00:00:00\",\"2022-12-13T00:00:00\",\"2022-12-14T00:00:00\",\"2022-12-15T00:00:00\",\"2022-12-16T00:00:00\",\"2022-12-19T00:00:00\",\"2022-12-20T00:00:00\",\"2022-12-21T00:00:00\",\"2022-12-22T00:00:00\",\"2022-12-23T00:00:00\",\"2022-12-27T00:00:00\",\"2022-12-28T00:00:00\",\"2022-12-29T00:00:00\",\"2022-12-30T00:00:00\"],\"xaxis\":\"x\",\"y\":[98.2947006225586,98.27999877929688,98.09010314941406,97.98500061035156,97.89459991455078,97.83000183105467,97.8499984741211,97.91999816894533,97.99099731445312,97.73500061035156,97.41069793701172,97.49420166015624,97.50260162353516,97.69000244140624,97.71019744873048,97.63159942626952,97.3395004272461,97.30999755859376,97.31099700927734,97.41739654541016,97.4000015258789,97.47419738769533,97.25499725341795,96.9250030517578,96.95040130615234,96.82769775390624,96.8550033569336,96.28379821777344,96.6854019165039,96.42430114746094,96.3550033569336,96.43409729003906,96.56719970703124,96.64230346679688,96.5239028930664,96.3904037475586,96.48159790039062,96.49500274658205,96.93910217285156,97.27999877929688,96.7510986328125,96.7938003540039,97.056396484375,96.81780242919922,96.46499633789062,96.26190185546876,96.08499908447266,96.03009796142578,95.5593032836914,95.54080200195312,95.48580169677734,95.59980010986328,95.70169830322266,95.14009857177734,94.99700164794922,95.2136001586914,95.08650207519533,94.62090301513672,94.64620208740234,94.5199966430664,94.70999908447266,94.87149810791016,94.51000213623048,94.61000061035156,94.16500091552734,94.06999969482422,94.07530212402344,93.86509704589844,93.68350219726562,94.03130340576172,94.05560302734376,93.71499633789062,93.66500091552734,93.27539825439452,93.4000015258789,93.2292022705078,93.1636962890625,93.4000015258789,93.61489868164062,93.51490020751952,93.3105010986328,93.23870086669922,92.88860321044922,92.94519805908205,92.87999725341795,92.79000091552734,92.79000091552734,92.91000366210938,93.19000244140624,93.30999755859376,93.47969818115234,93.30500030517578,93.45999908447266,93.0896987915039,93.24500274658205,93.44429779052734,93.6095962524414,93.41999816894533,93.8124008178711,94.00789642333984,93.99400329589844,94.08999633789062,93.75499725341795,93.45140075683594,93.54499816894533,93.4499969482422,93.1990966796875,93.31790161132812,93.1750030517578,93.0500030517578,92.43260192871094,91.5270004272461,91.17839813232422,91.86000061035156,92.07510375976562,92.03780364990234,91.90499877929688,92.39469909667967,92.59760284423828,92.54499816894533,92.31700134277344,92.2145004272461,92.42990112304688,92.87789916992188,93.4250030517578,93.5500030517578,93.10140228271484,92.91500091552734,92.76000213623048,92.9521026611328,93.0999984741211,93.06680297851562,92.99669647216795,93.09500122070312,92.8499984741211,92.83670043945312,92.78500366210938,93.31610107421876,93.78109741210938,93.6500015258789,93.59880065917967,93.7699966430664,94.33499908447266,94.38999938964844,94.49500274658205,93.8000030517578,93.6500015258789,94.0500030517578,93.59480285644533,93.7750015258789,93.56159973144533,93.8949966430664,93.55609893798828,93.71299743652344,93.87429809570312,93.74230194091795,93.427001953125,93.5250015258789,93.3000030517578,93.05500030517578,93.0072021484375,92.83000183105467,93.11239624023438,93.00499725341795,92.73999786376952,92.69660186767578,92.66500091552734,92.28399658203124,92.5250015258789,92.11740112304688,92.30999755859376,92.27429962158205,92.22119903564452,92.17330169677734,91.6999969482422,91.6500015258789,91.54499816894533,91.6449966430664,91.44889831542967,91.21499633789062,91.13009643554688,90.69049835205078,90.45999908447266,89.94999694824219,89.70999908447266,89.65689849853516,89.79000091552734,89.67220306396484,90.25360107421876,90.4456024169922,90.07209777832033,89.94000244140625,89.6104965209961,89.47840118408203,89.44010162353516,89.55269622802734,89.30599975585938,89.14409637451172,89.21289825439453,89.3302001953125,88.89179992675781,88.60900115966797,88.8895034790039,88.88009643554688,89.26629638671875,89.38500213623047,89.70999908447266,89.5199966430664,89.23999786376953,89.32689666748047,89.21160125732422,89.00340270996094,89.10160064697266,88.9572982788086,88.87999725341797,89.20999908447266,90.26100158691406,90.36499786376952,90.1968994140625,90.5500030517578,90.6999969482422,90.4813003540039,90.385498046875,90.34490203857422,90.47000122070312,90.72000122070312,90.69499969482422,90.80960083007812,90.61509704589844,90.4800033569336,91.3249969482422,91.60009765625,91.15489959716795,91.30999755859376,91.6532974243164,91.51210021972656,91.31390380859376,91.2197036743164,91.63490295410156,91.55999755859376,91.73500061035156,91.74710083007812,91.4354019165039,91.18489837646484,90.9656982421875,90.94519805908205,90.76000213623048,90.50959777832033,90.4209976196289,90.59230041503906,90.43170166015624],\"yaxis\":\"y\",\"type\":\"scattergl\"}],                        {\"template\":{\"data\":{\"histogram2dcontour\":[{\"type\":\"histogram2dcontour\",\"colorbar\":{\"outlinewidth\":0,\"ticks\":\"\"},\"colorscale\":[[0.0,\"#0d0887\"],[0.1111111111111111,\"#46039f\"],[0.2222222222222222,\"#7201a8\"],[0.3333333333333333,\"#9c179e\"],[0.4444444444444444,\"#bd3786\"],[0.5555555555555556,\"#d8576b\"],[0.6666666666666666,\"#ed7953\"],[0.7777777777777778,\"#fb9f3a\"],[0.8888888888888888,\"#fdca26\"],[1.0,\"#f0f921\"]]}],\"choropleth\":[{\"type\":\"choropleth\",\"colorbar\":{\"outlinewidth\":0,\"ticks\":\"\"}}],\"histogram2d\":[{\"type\":\"histogram2d\",\"colorbar\":{\"outlinewidth\":0,\"ticks\":\"\"},\"colorscale\":[[0.0,\"#0d0887\"],[0.1111111111111111,\"#46039f\"],[0.2222222222222222,\"#7201a8\"],[0.3333333333333333,\"#9c179e\"],[0.4444444444444444,\"#bd3786\"],[0.5555555555555556,\"#d8576b\"],[0.6666666666666666,\"#ed7953\"],[0.7777777777777778,\"#fb9f3a\"],[0.8888888888888888,\"#fdca26\"],[1.0,\"#f0f921\"]]}],\"heatmap\":[{\"type\":\"heatmap\",\"colorbar\":{\"outlinewidth\":0,\"ticks\":\"\"},\"colorscale\":[[0.0,\"#0d0887\"],[0.1111111111111111,\"#46039f\"],[0.2222222222222222,\"#7201a8\"],[0.3333333333333333,\"#9c179e\"],[0.4444444444444444,\"#bd3786\"],[0.5555555555555556,\"#d8576b\"],[0.6666666666666666,\"#ed7953\"],[0.7777777777777778,\"#fb9f3a\"],[0.8888888888888888,\"#fdca26\"],[1.0,\"#f0f921\"]]}],\"heatmapgl\":[{\"type\":\"heatmapgl\",\"colorbar\":{\"outlinewidth\":0,\"ticks\":\"\"},\"colorscale\":[[0.0,\"#0d0887\"],[0.1111111111111111,\"#46039f\"],[0.2222222222222222,\"#7201a8\"],[0.3333333333333333,\"#9c179e\"],[0.4444444444444444,\"#bd3786\"],[0.5555555555555556,\"#d8576b\"],[0.6666666666666666,\"#ed7953\"],[0.7777777777777778,\"#fb9f3a\"],[0.8888888888888888,\"#fdca26\"],[1.0,\"#f0f921\"]]}],\"contourcarpet\":[{\"type\":\"contourcarpet\",\"colorbar\":{\"outlinewidth\":0,\"ticks\":\"\"}}],\"contour\":[{\"type\":\"contour\",\"colorbar\":{\"outlinewidth\":0,\"ticks\":\"\"},\"colorscale\":[[0.0,\"#0d0887\"],[0.1111111111111111,\"#46039f\"],[0.2222222222222222,\"#7201a8\"],[0.3333333333333333,\"#9c179e\"],[0.4444444444444444,\"#bd3786\"],[0.5555555555555556,\"#d8576b\"],[0.6666666666666666,\"#ed7953\"],[0.7777777777777778,\"#fb9f3a\"],[0.8888888888888888,\"#fdca26\"],[1.0,\"#f0f921\"]]}],\"surface\":[{\"type\":\"surface\",\"colorbar\":{\"outlinewidth\":0,\"ticks\":\"\"},\"colorscale\":[[0.0,\"#0d0887\"],[0.1111111111111111,\"#46039f\"],[0.2222222222222222,\"#7201a8\"],[0.3333333333333333,\"#9c179e\"],[0.4444444444444444,\"#bd3786\"],[0.5555555555555556,\"#d8576b\"],[0.6666666666666666,\"#ed7953\"],[0.7777777777777778,\"#fb9f3a\"],[0.8888888888888888,\"#fdca26\"],[1.0,\"#f0f921\"]]}],\"mesh3d\":[{\"type\":\"mesh3d\",\"colorbar\":{\"outlinewidth\":0,\"ticks\":\"\"}}],\"scatter\":[{\"fillpattern\":{\"fillmode\":\"overlay\",\"size\":10,\"solidity\":0.2},\"type\":\"scatter\"}],\"parcoords\":[{\"type\":\"parcoords\",\"line\":{\"colorbar\":{\"outlinewidth\":0,\"ticks\":\"\"}}}],\"scatterpolargl\":[{\"type\":\"scatterpolargl\",\"marker\":{\"colorbar\":{\"outlinewidth\":0,\"ticks\":\"\"}}}],\"bar\":[{\"error_x\":{\"color\":\"#2a3f5f\"},\"error_y\":{\"color\":\"#2a3f5f\"},\"marker\":{\"line\":{\"color\":\"#E5ECF6\",\"width\":0.5},\"pattern\":{\"fillmode\":\"overlay\",\"size\":10,\"solidity\":0.2}},\"type\":\"bar\"}],\"scattergeo\":[{\"type\":\"scattergeo\",\"marker\":{\"colorbar\":{\"outlinewidth\":0,\"ticks\":\"\"}}}],\"scatterpolar\":[{\"type\":\"scatterpolar\",\"marker\":{\"colorbar\":{\"outlinewidth\":0,\"ticks\":\"\"}}}],\"histogram\":[{\"marker\":{\"pattern\":{\"fillmode\":\"overlay\",\"size\":10,\"solidity\":0.2}},\"type\":\"histogram\"}],\"scattergl\":[{\"type\":\"scattergl\",\"marker\":{\"colorbar\":{\"outlinewidth\":0,\"ticks\":\"\"}}}],\"scatter3d\":[{\"type\":\"scatter3d\",\"line\":{\"colorbar\":{\"outlinewidth\":0,\"ticks\":\"\"}},\"marker\":{\"colorbar\":{\"outlinewidth\":0,\"ticks\":\"\"}}}],\"scattermapbox\":[{\"type\":\"scattermapbox\",\"marker\":{\"colorbar\":{\"outlinewidth\":0,\"ticks\":\"\"}}}],\"scatterternary\":[{\"type\":\"scatterternary\",\"marker\":{\"colorbar\":{\"outlinewidth\":0,\"ticks\":\"\"}}}],\"scattercarpet\":[{\"type\":\"scattercarpet\",\"marker\":{\"colorbar\":{\"outlinewidth\":0,\"ticks\":\"\"}}}],\"carpet\":[{\"aaxis\":{\"endlinecolor\":\"#2a3f5f\",\"gridcolor\":\"white\",\"linecolor\":\"white\",\"minorgridcolor\":\"white\",\"startlinecolor\":\"#2a3f5f\"},\"baxis\":{\"endlinecolor\":\"#2a3f5f\",\"gridcolor\":\"white\",\"linecolor\":\"white\",\"minorgridcolor\":\"white\",\"startlinecolor\":\"#2a3f5f\"},\"type\":\"carpet\"}],\"table\":[{\"cells\":{\"fill\":{\"color\":\"#EBF0F8\"},\"line\":{\"color\":\"white\"}},\"header\":{\"fill\":{\"color\":\"#C8D4E3\"},\"line\":{\"color\":\"white\"}},\"type\":\"table\"}],\"barpolar\":[{\"marker\":{\"line\":{\"color\":\"#E5ECF6\",\"width\":0.5},\"pattern\":{\"fillmode\":\"overlay\",\"size\":10,\"solidity\":0.2}},\"type\":\"barpolar\"}],\"pie\":[{\"automargin\":true,\"type\":\"pie\"}]},\"layout\":{\"autotypenumbers\":\"strict\",\"colorway\":[\"#636efa\",\"#EF553B\",\"#00cc96\",\"#ab63fa\",\"#FFA15A\",\"#19d3f3\",\"#FF6692\",\"#B6E880\",\"#FF97FF\",\"#FECB52\"],\"font\":{\"color\":\"#2a3f5f\"},\"hovermode\":\"closest\",\"hoverlabel\":{\"align\":\"left\"},\"paper_bgcolor\":\"white\",\"plot_bgcolor\":\"#E5ECF6\",\"polar\":{\"bgcolor\":\"#E5ECF6\",\"angularaxis\":{\"gridcolor\":\"white\",\"linecolor\":\"white\",\"ticks\":\"\"},\"radialaxis\":{\"gridcolor\":\"white\",\"linecolor\":\"white\",\"ticks\":\"\"}},\"ternary\":{\"bgcolor\":\"#E5ECF6\",\"aaxis\":{\"gridcolor\":\"white\",\"linecolor\":\"white\",\"ticks\":\"\"},\"baxis\":{\"gridcolor\":\"white\",\"linecolor\":\"white\",\"ticks\":\"\"},\"caxis\":{\"gridcolor\":\"white\",\"linecolor\":\"white\",\"ticks\":\"\"}},\"coloraxis\":{\"colorbar\":{\"outlinewidth\":0,\"ticks\":\"\"}},\"colorscale\":{\"sequential\":[[0.0,\"#0d0887\"],[0.1111111111111111,\"#46039f\"],[0.2222222222222222,\"#7201a8\"],[0.3333333333333333,\"#9c179e\"],[0.4444444444444444,\"#bd3786\"],[0.5555555555555556,\"#d8576b\"],[0.6666666666666666,\"#ed7953\"],[0.7777777777777778,\"#fb9f3a\"],[0.8888888888888888,\"#fdca26\"],[1.0,\"#f0f921\"]],\"sequentialminus\":[[0.0,\"#0d0887\"],[0.1111111111111111,\"#46039f\"],[0.2222222222222222,\"#7201a8\"],[0.3333333333333333,\"#9c179e\"],[0.4444444444444444,\"#bd3786\"],[0.5555555555555556,\"#d8576b\"],[0.6666666666666666,\"#ed7953\"],[0.7777777777777778,\"#fb9f3a\"],[0.8888888888888888,\"#fdca26\"],[1.0,\"#f0f921\"]],\"diverging\":[[0,\"#8e0152\"],[0.1,\"#c51b7d\"],[0.2,\"#de77ae\"],[0.3,\"#f1b6da\"],[0.4,\"#fde0ef\"],[0.5,\"#f7f7f7\"],[0.6,\"#e6f5d0\"],[0.7,\"#b8e186\"],[0.8,\"#7fbc41\"],[0.9,\"#4d9221\"],[1,\"#276419\"]]},\"xaxis\":{\"gridcolor\":\"white\",\"linecolor\":\"white\",\"ticks\":\"\",\"title\":{\"standoff\":15},\"zerolinecolor\":\"white\",\"automargin\":true,\"zerolinewidth\":2},\"yaxis\":{\"gridcolor\":\"white\",\"linecolor\":\"white\",\"ticks\":\"\",\"title\":{\"standoff\":15},\"zerolinecolor\":\"white\",\"automargin\":true,\"zerolinewidth\":2},\"scene\":{\"xaxis\":{\"backgroundcolor\":\"#E5ECF6\",\"gridcolor\":\"white\",\"linecolor\":\"white\",\"showbackground\":true,\"ticks\":\"\",\"zerolinecolor\":\"white\",\"gridwidth\":2},\"yaxis\":{\"backgroundcolor\":\"#E5ECF6\",\"gridcolor\":\"white\",\"linecolor\":\"white\",\"showbackground\":true,\"ticks\":\"\",\"zerolinecolor\":\"white\",\"gridwidth\":2},\"zaxis\":{\"backgroundcolor\":\"#E5ECF6\",\"gridcolor\":\"white\",\"linecolor\":\"white\",\"showbackground\":true,\"ticks\":\"\",\"zerolinecolor\":\"white\",\"gridwidth\":2}},\"shapedefaults\":{\"line\":{\"color\":\"#2a3f5f\"}},\"annotationdefaults\":{\"arrowcolor\":\"#2a3f5f\",\"arrowhead\":0,\"arrowwidth\":1},\"geo\":{\"bgcolor\":\"white\",\"landcolor\":\"#E5ECF6\",\"subunitcolor\":\"white\",\"showland\":true,\"showlakes\":true,\"lakecolor\":\"white\"},\"title\":{\"x\":0.05},\"mapbox\":{\"style\":\"light\"}}},\"xaxis\":{\"anchor\":\"y\",\"domain\":[0.0,1.0],\"title\":{\"text\":\"Date\"},\"showgrid\":false},\"yaxis\":{\"anchor\":\"x\",\"domain\":[0.0,1.0],\"title\":{\"text\":\"Stock value\"},\"showgrid\":false},\"legend\":{\"title\":{\"text\":\"Stock Parameters\"},\"tracegroupgap\":0},\"margin\":{\"t\":60},\"title\":{\"text\":\"Stock analysis chart\"},\"font\":{\"size\":15,\"color\":\"black\"}},                        {\"responsive\": true}                    ).then(function(){\n",
              "                            \n",
              "var gd = document.getElementById('1362526f-1a22-42cd-9deb-5a4eeb34c812');\n",
              "var x = new MutationObserver(function (mutations, observer) {{\n",
              "        var display = window.getComputedStyle(gd).display;\n",
              "        if (!display || display === 'none') {{\n",
              "            console.log([gd, 'removed!']);\n",
              "            Plotly.purge(gd);\n",
              "            observer.disconnect();\n",
              "        }}\n",
              "}});\n",
              "\n",
              "// Listen for the removal of the full notebook cells\n",
              "var notebookContainer = gd.closest('#notebook-container');\n",
              "if (notebookContainer) {{\n",
              "    x.observe(notebookContainer, {childList: true});\n",
              "}}\n",
              "\n",
              "// Listen for the clearing of the current output cell\n",
              "var outputEl = gd.closest('.output');\n",
              "if (outputEl) {{\n",
              "    x.observe(outputEl, {childList: true});\n",
              "}}\n",
              "\n",
              "                        })                };                            </script>        </div>\n",
              "</body>\n",
              "</html>"
            ]
          },
          "metadata": {}
        }
      ]
    },
    {
      "cell_type": "markdown",
      "source": [
        "# Overall analysis"
      ],
      "metadata": {
        "id": "rz_vaajN-9FW"
      }
    },
    {
      "cell_type": "code",
      "source": [
        "df = pd.read_csv('BTC.csv')\n",
        "\n",
        "# dropping the unecessary columns\n",
        "df = df.drop(columns= ['Volume', 'Adj Close'], axis=1)\n",
        "print(df)"
      ],
      "metadata": {
        "colab": {
          "base_uri": "https://localhost:8080/"
        },
        "id": "G_3I3n7_-y8L",
        "outputId": "554a0272-88d6-4479-e5b7-4c21db8ac009"
      },
      "execution_count": 7,
      "outputs": [
        {
          "output_type": "stream",
          "name": "stdout",
          "text": [
            "           Date        Open        High         Low       Close\n",
            "0    2020-10-01  100.000000  100.000000  100.000000  100.000000\n",
            "1    2020-10-02  100.000000  100.000000  100.000000  100.000000\n",
            "2    2020-10-05  100.029999  100.040001   99.995003   99.995003\n",
            "3    2020-10-06  100.010002  100.029999  100.010002  100.029999\n",
            "4    2020-10-07   99.949997   99.959999   99.919998   99.919998\n",
            "..          ...         ...         ...         ...         ...\n",
            "713  2023-08-03   90.841003   90.841003   90.629997   90.806297\n",
            "714  2023-08-04   91.059998   91.325302   91.059998   91.325302\n",
            "715  2023-08-07   91.264999   91.290001   91.255501   91.255501\n",
            "716  2023-08-08   91.448997   91.448997   91.427696   91.427696\n",
            "717  2023-08-09   91.401001   91.415100   91.401001   91.415100\n",
            "\n",
            "[718 rows x 5 columns]\n"
          ]
        }
      ]
    },
    {
      "cell_type": "code",
      "source": [
        "monthvise= y_2022.groupby(y_2022['Date'].dt.strftime('%B'))[['Open','Close']].mean()\n",
        "new_order = ['January', 'February', 'March', 'April', 'May', 'June', 'July', 'August',\n",
        "             'September', 'October', 'November', 'December']\n",
        "monthvise = monthvise.reindex(new_order, axis=0)\n",
        "monthvise"
      ],
      "metadata": {
        "colab": {
          "base_uri": "https://localhost:8080/",
          "height": 457
        },
        "id": "2NAAXF09_FRC",
        "outputId": "2bf9d1a3-0bc6-4462-bf3d-1268457a2f78"
      },
      "execution_count": 51,
      "outputs": [
        {
          "output_type": "execute_result",
          "data": {
            "text/plain": [
              "                Open      Close\n",
              "Date                           \n",
              "January    97.760109  97.744695\n",
              "February   96.736448  96.735911\n",
              "March      95.725283  95.717987\n",
              "April      93.746540  93.741555\n",
              "May        93.376647  93.397838\n",
              "June       92.589743  92.557096\n",
              "July       93.328220  93.334686\n",
              "August     93.469917  93.463535\n",
              "September  91.310271  91.299347\n",
              "October    89.456123  89.446942\n",
              "November   90.077714  90.105595\n",
              "December   91.221685  91.215924"
            ],
            "text/html": [
              "\n",
              "\n",
              "  <div id=\"df-ee918fde-92d8-4923-9ae0-76cb5db9ca34\">\n",
              "    <div class=\"colab-df-container\">\n",
              "      <div>\n",
              "<style scoped>\n",
              "    .dataframe tbody tr th:only-of-type {\n",
              "        vertical-align: middle;\n",
              "    }\n",
              "\n",
              "    .dataframe tbody tr th {\n",
              "        vertical-align: top;\n",
              "    }\n",
              "\n",
              "    .dataframe thead th {\n",
              "        text-align: right;\n",
              "    }\n",
              "</style>\n",
              "<table border=\"1\" class=\"dataframe\">\n",
              "  <thead>\n",
              "    <tr style=\"text-align: right;\">\n",
              "      <th></th>\n",
              "      <th>Open</th>\n",
              "      <th>Close</th>\n",
              "    </tr>\n",
              "    <tr>\n",
              "      <th>Date</th>\n",
              "      <th></th>\n",
              "      <th></th>\n",
              "    </tr>\n",
              "  </thead>\n",
              "  <tbody>\n",
              "    <tr>\n",
              "      <th>January</th>\n",
              "      <td>97.760109</td>\n",
              "      <td>97.744695</td>\n",
              "    </tr>\n",
              "    <tr>\n",
              "      <th>February</th>\n",
              "      <td>96.736448</td>\n",
              "      <td>96.735911</td>\n",
              "    </tr>\n",
              "    <tr>\n",
              "      <th>March</th>\n",
              "      <td>95.725283</td>\n",
              "      <td>95.717987</td>\n",
              "    </tr>\n",
              "    <tr>\n",
              "      <th>April</th>\n",
              "      <td>93.746540</td>\n",
              "      <td>93.741555</td>\n",
              "    </tr>\n",
              "    <tr>\n",
              "      <th>May</th>\n",
              "      <td>93.376647</td>\n",
              "      <td>93.397838</td>\n",
              "    </tr>\n",
              "    <tr>\n",
              "      <th>June</th>\n",
              "      <td>92.589743</td>\n",
              "      <td>92.557096</td>\n",
              "    </tr>\n",
              "    <tr>\n",
              "      <th>July</th>\n",
              "      <td>93.328220</td>\n",
              "      <td>93.334686</td>\n",
              "    </tr>\n",
              "    <tr>\n",
              "      <th>August</th>\n",
              "      <td>93.469917</td>\n",
              "      <td>93.463535</td>\n",
              "    </tr>\n",
              "    <tr>\n",
              "      <th>September</th>\n",
              "      <td>91.310271</td>\n",
              "      <td>91.299347</td>\n",
              "    </tr>\n",
              "    <tr>\n",
              "      <th>October</th>\n",
              "      <td>89.456123</td>\n",
              "      <td>89.446942</td>\n",
              "    </tr>\n",
              "    <tr>\n",
              "      <th>November</th>\n",
              "      <td>90.077714</td>\n",
              "      <td>90.105595</td>\n",
              "    </tr>\n",
              "    <tr>\n",
              "      <th>December</th>\n",
              "      <td>91.221685</td>\n",
              "      <td>91.215924</td>\n",
              "    </tr>\n",
              "  </tbody>\n",
              "</table>\n",
              "</div>\n",
              "      <button class=\"colab-df-convert\" onclick=\"convertToInteractive('df-ee918fde-92d8-4923-9ae0-76cb5db9ca34')\"\n",
              "              title=\"Convert this dataframe to an interactive table.\"\n",
              "              style=\"display:none;\">\n",
              "\n",
              "  <svg xmlns=\"http://www.w3.org/2000/svg\" height=\"24px\"viewBox=\"0 0 24 24\"\n",
              "       width=\"24px\">\n",
              "    <path d=\"M0 0h24v24H0V0z\" fill=\"none\"/>\n",
              "    <path d=\"M18.56 5.44l.94 2.06.94-2.06 2.06-.94-2.06-.94-.94-2.06-.94 2.06-2.06.94zm-11 1L8.5 8.5l.94-2.06 2.06-.94-2.06-.94L8.5 2.5l-.94 2.06-2.06.94zm10 10l.94 2.06.94-2.06 2.06-.94-2.06-.94-.94-2.06-.94 2.06-2.06.94z\"/><path d=\"M17.41 7.96l-1.37-1.37c-.4-.4-.92-.59-1.43-.59-.52 0-1.04.2-1.43.59L10.3 9.45l-7.72 7.72c-.78.78-.78 2.05 0 2.83L4 21.41c.39.39.9.59 1.41.59.51 0 1.02-.2 1.41-.59l7.78-7.78 2.81-2.81c.8-.78.8-2.07 0-2.86zM5.41 20L4 18.59l7.72-7.72 1.47 1.35L5.41 20z\"/>\n",
              "  </svg>\n",
              "      </button>\n",
              "\n",
              "\n",
              "\n",
              "    <div id=\"df-850d426b-97ed-4626-9bb2-86d35c114e5b\">\n",
              "      <button class=\"colab-df-quickchart\" onclick=\"quickchart('df-850d426b-97ed-4626-9bb2-86d35c114e5b')\"\n",
              "              title=\"Suggest charts.\"\n",
              "              style=\"display:none;\">\n",
              "\n",
              "<svg xmlns=\"http://www.w3.org/2000/svg\" height=\"24px\"viewBox=\"0 0 24 24\"\n",
              "     width=\"24px\">\n",
              "    <g>\n",
              "        <path d=\"M19 3H5c-1.1 0-2 .9-2 2v14c0 1.1.9 2 2 2h14c1.1 0 2-.9 2-2V5c0-1.1-.9-2-2-2zM9 17H7v-7h2v7zm4 0h-2V7h2v10zm4 0h-2v-4h2v4z\"/>\n",
              "    </g>\n",
              "</svg>\n",
              "      </button>\n",
              "    </div>\n",
              "\n",
              "<style>\n",
              "  .colab-df-quickchart {\n",
              "    background-color: #E8F0FE;\n",
              "    border: none;\n",
              "    border-radius: 50%;\n",
              "    cursor: pointer;\n",
              "    display: none;\n",
              "    fill: #1967D2;\n",
              "    height: 32px;\n",
              "    padding: 0 0 0 0;\n",
              "    width: 32px;\n",
              "  }\n",
              "\n",
              "  .colab-df-quickchart:hover {\n",
              "    background-color: #E2EBFA;\n",
              "    box-shadow: 0px 1px 2px rgba(60, 64, 67, 0.3), 0px 1px 3px 1px rgba(60, 64, 67, 0.15);\n",
              "    fill: #174EA6;\n",
              "  }\n",
              "\n",
              "  [theme=dark] .colab-df-quickchart {\n",
              "    background-color: #3B4455;\n",
              "    fill: #D2E3FC;\n",
              "  }\n",
              "\n",
              "  [theme=dark] .colab-df-quickchart:hover {\n",
              "    background-color: #434B5C;\n",
              "    box-shadow: 0px 1px 3px 1px rgba(0, 0, 0, 0.15);\n",
              "    filter: drop-shadow(0px 1px 2px rgba(0, 0, 0, 0.3));\n",
              "    fill: #FFFFFF;\n",
              "  }\n",
              "</style>\n",
              "\n",
              "    <script>\n",
              "      async function quickchart(key) {\n",
              "        const containerElement = document.querySelector('#' + key);\n",
              "        const charts = await google.colab.kernel.invokeFunction(\n",
              "            'suggestCharts', [key], {});\n",
              "      }\n",
              "    </script>\n",
              "\n",
              "      <script>\n",
              "\n",
              "function displayQuickchartButton(domScope) {\n",
              "  let quickchartButtonEl =\n",
              "    domScope.querySelector('#df-850d426b-97ed-4626-9bb2-86d35c114e5b button.colab-df-quickchart');\n",
              "  quickchartButtonEl.style.display =\n",
              "    google.colab.kernel.accessAllowed ? 'block' : 'none';\n",
              "}\n",
              "\n",
              "        displayQuickchartButton(document);\n",
              "      </script>\n",
              "      <style>\n",
              "    .colab-df-container {\n",
              "      display:flex;\n",
              "      flex-wrap:wrap;\n",
              "      gap: 12px;\n",
              "    }\n",
              "\n",
              "    .colab-df-convert {\n",
              "      background-color: #E8F0FE;\n",
              "      border: none;\n",
              "      border-radius: 50%;\n",
              "      cursor: pointer;\n",
              "      display: none;\n",
              "      fill: #1967D2;\n",
              "      height: 32px;\n",
              "      padding: 0 0 0 0;\n",
              "      width: 32px;\n",
              "    }\n",
              "\n",
              "    .colab-df-convert:hover {\n",
              "      background-color: #E2EBFA;\n",
              "      box-shadow: 0px 1px 2px rgba(60, 64, 67, 0.3), 0px 1px 3px 1px rgba(60, 64, 67, 0.15);\n",
              "      fill: #174EA6;\n",
              "    }\n",
              "\n",
              "    [theme=dark] .colab-df-convert {\n",
              "      background-color: #3B4455;\n",
              "      fill: #D2E3FC;\n",
              "    }\n",
              "\n",
              "    [theme=dark] .colab-df-convert:hover {\n",
              "      background-color: #434B5C;\n",
              "      box-shadow: 0px 1px 3px 1px rgba(0, 0, 0, 0.15);\n",
              "      filter: drop-shadow(0px 1px 2px rgba(0, 0, 0, 0.3));\n",
              "      fill: #FFFFFF;\n",
              "    }\n",
              "  </style>\n",
              "\n",
              "      <script>\n",
              "        const buttonEl =\n",
              "          document.querySelector('#df-ee918fde-92d8-4923-9ae0-76cb5db9ca34 button.colab-df-convert');\n",
              "        buttonEl.style.display =\n",
              "          google.colab.kernel.accessAllowed ? 'block' : 'none';\n",
              "\n",
              "        async function convertToInteractive(key) {\n",
              "          const element = document.querySelector('#df-ee918fde-92d8-4923-9ae0-76cb5db9ca34');\n",
              "          const dataTable =\n",
              "            await google.colab.kernel.invokeFunction('convertToInteractive',\n",
              "                                                     [key], {});\n",
              "          if (!dataTable) return;\n",
              "\n",
              "          const docLinkHtml = 'Like what you see? Visit the ' +\n",
              "            '<a target=\"_blank\" href=https://colab.research.google.com/notebooks/data_table.ipynb>data table notebook</a>'\n",
              "            + ' to learn more about interactive tables.';\n",
              "          element.innerHTML = '';\n",
              "          dataTable['output_type'] = 'display_data';\n",
              "          await google.colab.output.renderOutput(dataTable, element);\n",
              "          const docLink = document.createElement('div');\n",
              "          docLink.innerHTML = docLinkHtml;\n",
              "          element.appendChild(docLink);\n",
              "        }\n",
              "      </script>\n",
              "    </div>\n",
              "  </div>\n"
            ]
          },
          "metadata": {},
          "execution_count": 51
        }
      ]
    },
    {
      "cell_type": "code",
      "source": [
        "fig = go.Figure()\n",
        "\n",
        "fig.add_trace(go.Bar(\n",
        "    x=monthvise.index,\n",
        "    y=monthvise['Open'],\n",
        "    name='Stock Open Price',\n",
        "    marker_color='crimson'\n",
        "))\n",
        "fig.add_trace(go.Bar(\n",
        "    x=monthvise.index,\n",
        "    y=monthvise['Close'],\n",
        "    name='Stock Close Price',\n",
        "    marker_color='lightsalmon'\n",
        "))\n",
        "\n",
        "fig.update_layout(barmode='group', xaxis_tickangle=-45,\n",
        "                  title='Monthwise comparision between Stock open and close price')\n",
        "fig.show()"
      ],
      "metadata": {
        "colab": {
          "base_uri": "https://localhost:8080/",
          "height": 542
        },
        "id": "2tLdNqaNBP6B",
        "outputId": "ac2def54-9643-4468-8de5-6caf02b4f9c2"
      },
      "execution_count": 52,
      "outputs": [
        {
          "output_type": "display_data",
          "data": {
            "text/html": [
              "<html>\n",
              "<head><meta charset=\"utf-8\" /></head>\n",
              "<body>\n",
              "    <div>            <script src=\"https://cdnjs.cloudflare.com/ajax/libs/mathjax/2.7.5/MathJax.js?config=TeX-AMS-MML_SVG\"></script><script type=\"text/javascript\">if (window.MathJax && window.MathJax.Hub && window.MathJax.Hub.Config) {window.MathJax.Hub.Config({SVG: {font: \"STIX-Web\"}});}</script>                <script type=\"text/javascript\">window.PlotlyConfig = {MathJaxConfig: 'local'};</script>\n",
              "        <script src=\"https://cdn.plot.ly/plotly-2.18.2.min.js\"></script>                <div id=\"497c39f1-c195-4bd6-8030-0e366b91aae4\" class=\"plotly-graph-div\" style=\"height:525px; width:100%;\"></div>            <script type=\"text/javascript\">                                    window.PLOTLYENV=window.PLOTLYENV || {};                                    if (document.getElementById(\"497c39f1-c195-4bd6-8030-0e366b91aae4\")) {                    Plotly.newPlot(                        \"497c39f1-c195-4bd6-8030-0e366b91aae4\",                        [{\"marker\":{\"color\":\"crimson\"},\"name\":\"Stock Open Price\",\"x\":[\"January\",\"February\",\"March\",\"April\",\"May\",\"June\",\"July\",\"August\",\"September\",\"October\",\"November\",\"December\"],\"y\":[97.76010932922364,96.73644778603001,95.72528308370839,93.74654045104981,93.37664722260975,92.58974275134858,93.32822036743164,93.46991729736328,91.31027149018787,89.45612335205078,90.07771446591332,91.22168477376302],\"type\":\"bar\"},{\"marker\":{\"color\":\"lightsalmon\"},\"name\":\"Stock Close Price\",\"x\":[\"January\",\"February\",\"March\",\"April\",\"May\",\"June\",\"July\",\"August\",\"September\",\"October\",\"November\",\"December\"],\"y\":[97.74469451904297,96.73591131913035,95.71798739225969,93.74155540466309,93.39783804757255,92.55709584554036,93.33468589782714,93.46353514298148,91.29934692382812,89.44694228399368,90.10559517996651,91.21592385428292],\"type\":\"bar\"}],                        {\"template\":{\"data\":{\"histogram2dcontour\":[{\"type\":\"histogram2dcontour\",\"colorbar\":{\"outlinewidth\":0,\"ticks\":\"\"},\"colorscale\":[[0.0,\"#0d0887\"],[0.1111111111111111,\"#46039f\"],[0.2222222222222222,\"#7201a8\"],[0.3333333333333333,\"#9c179e\"],[0.4444444444444444,\"#bd3786\"],[0.5555555555555556,\"#d8576b\"],[0.6666666666666666,\"#ed7953\"],[0.7777777777777778,\"#fb9f3a\"],[0.8888888888888888,\"#fdca26\"],[1.0,\"#f0f921\"]]}],\"choropleth\":[{\"type\":\"choropleth\",\"colorbar\":{\"outlinewidth\":0,\"ticks\":\"\"}}],\"histogram2d\":[{\"type\":\"histogram2d\",\"colorbar\":{\"outlinewidth\":0,\"ticks\":\"\"},\"colorscale\":[[0.0,\"#0d0887\"],[0.1111111111111111,\"#46039f\"],[0.2222222222222222,\"#7201a8\"],[0.3333333333333333,\"#9c179e\"],[0.4444444444444444,\"#bd3786\"],[0.5555555555555556,\"#d8576b\"],[0.6666666666666666,\"#ed7953\"],[0.7777777777777778,\"#fb9f3a\"],[0.8888888888888888,\"#fdca26\"],[1.0,\"#f0f921\"]]}],\"heatmap\":[{\"type\":\"heatmap\",\"colorbar\":{\"outlinewidth\":0,\"ticks\":\"\"},\"colorscale\":[[0.0,\"#0d0887\"],[0.1111111111111111,\"#46039f\"],[0.2222222222222222,\"#7201a8\"],[0.3333333333333333,\"#9c179e\"],[0.4444444444444444,\"#bd3786\"],[0.5555555555555556,\"#d8576b\"],[0.6666666666666666,\"#ed7953\"],[0.7777777777777778,\"#fb9f3a\"],[0.8888888888888888,\"#fdca26\"],[1.0,\"#f0f921\"]]}],\"heatmapgl\":[{\"type\":\"heatmapgl\",\"colorbar\":{\"outlinewidth\":0,\"ticks\":\"\"},\"colorscale\":[[0.0,\"#0d0887\"],[0.1111111111111111,\"#46039f\"],[0.2222222222222222,\"#7201a8\"],[0.3333333333333333,\"#9c179e\"],[0.4444444444444444,\"#bd3786\"],[0.5555555555555556,\"#d8576b\"],[0.6666666666666666,\"#ed7953\"],[0.7777777777777778,\"#fb9f3a\"],[0.8888888888888888,\"#fdca26\"],[1.0,\"#f0f921\"]]}],\"contourcarpet\":[{\"type\":\"contourcarpet\",\"colorbar\":{\"outlinewidth\":0,\"ticks\":\"\"}}],\"contour\":[{\"type\":\"contour\",\"colorbar\":{\"outlinewidth\":0,\"ticks\":\"\"},\"colorscale\":[[0.0,\"#0d0887\"],[0.1111111111111111,\"#46039f\"],[0.2222222222222222,\"#7201a8\"],[0.3333333333333333,\"#9c179e\"],[0.4444444444444444,\"#bd3786\"],[0.5555555555555556,\"#d8576b\"],[0.6666666666666666,\"#ed7953\"],[0.7777777777777778,\"#fb9f3a\"],[0.8888888888888888,\"#fdca26\"],[1.0,\"#f0f921\"]]}],\"surface\":[{\"type\":\"surface\",\"colorbar\":{\"outlinewidth\":0,\"ticks\":\"\"},\"colorscale\":[[0.0,\"#0d0887\"],[0.1111111111111111,\"#46039f\"],[0.2222222222222222,\"#7201a8\"],[0.3333333333333333,\"#9c179e\"],[0.4444444444444444,\"#bd3786\"],[0.5555555555555556,\"#d8576b\"],[0.6666666666666666,\"#ed7953\"],[0.7777777777777778,\"#fb9f3a\"],[0.8888888888888888,\"#fdca26\"],[1.0,\"#f0f921\"]]}],\"mesh3d\":[{\"type\":\"mesh3d\",\"colorbar\":{\"outlinewidth\":0,\"ticks\":\"\"}}],\"scatter\":[{\"fillpattern\":{\"fillmode\":\"overlay\",\"size\":10,\"solidity\":0.2},\"type\":\"scatter\"}],\"parcoords\":[{\"type\":\"parcoords\",\"line\":{\"colorbar\":{\"outlinewidth\":0,\"ticks\":\"\"}}}],\"scatterpolargl\":[{\"type\":\"scatterpolargl\",\"marker\":{\"colorbar\":{\"outlinewidth\":0,\"ticks\":\"\"}}}],\"bar\":[{\"error_x\":{\"color\":\"#2a3f5f\"},\"error_y\":{\"color\":\"#2a3f5f\"},\"marker\":{\"line\":{\"color\":\"#E5ECF6\",\"width\":0.5},\"pattern\":{\"fillmode\":\"overlay\",\"size\":10,\"solidity\":0.2}},\"type\":\"bar\"}],\"scattergeo\":[{\"type\":\"scattergeo\",\"marker\":{\"colorbar\":{\"outlinewidth\":0,\"ticks\":\"\"}}}],\"scatterpolar\":[{\"type\":\"scatterpolar\",\"marker\":{\"colorbar\":{\"outlinewidth\":0,\"ticks\":\"\"}}}],\"histogram\":[{\"marker\":{\"pattern\":{\"fillmode\":\"overlay\",\"size\":10,\"solidity\":0.2}},\"type\":\"histogram\"}],\"scattergl\":[{\"type\":\"scattergl\",\"marker\":{\"colorbar\":{\"outlinewidth\":0,\"ticks\":\"\"}}}],\"scatter3d\":[{\"type\":\"scatter3d\",\"line\":{\"colorbar\":{\"outlinewidth\":0,\"ticks\":\"\"}},\"marker\":{\"colorbar\":{\"outlinewidth\":0,\"ticks\":\"\"}}}],\"scattermapbox\":[{\"type\":\"scattermapbox\",\"marker\":{\"colorbar\":{\"outlinewidth\":0,\"ticks\":\"\"}}}],\"scatterternary\":[{\"type\":\"scatterternary\",\"marker\":{\"colorbar\":{\"outlinewidth\":0,\"ticks\":\"\"}}}],\"scattercarpet\":[{\"type\":\"scattercarpet\",\"marker\":{\"colorbar\":{\"outlinewidth\":0,\"ticks\":\"\"}}}],\"carpet\":[{\"aaxis\":{\"endlinecolor\":\"#2a3f5f\",\"gridcolor\":\"white\",\"linecolor\":\"white\",\"minorgridcolor\":\"white\",\"startlinecolor\":\"#2a3f5f\"},\"baxis\":{\"endlinecolor\":\"#2a3f5f\",\"gridcolor\":\"white\",\"linecolor\":\"white\",\"minorgridcolor\":\"white\",\"startlinecolor\":\"#2a3f5f\"},\"type\":\"carpet\"}],\"table\":[{\"cells\":{\"fill\":{\"color\":\"#EBF0F8\"},\"line\":{\"color\":\"white\"}},\"header\":{\"fill\":{\"color\":\"#C8D4E3\"},\"line\":{\"color\":\"white\"}},\"type\":\"table\"}],\"barpolar\":[{\"marker\":{\"line\":{\"color\":\"#E5ECF6\",\"width\":0.5},\"pattern\":{\"fillmode\":\"overlay\",\"size\":10,\"solidity\":0.2}},\"type\":\"barpolar\"}],\"pie\":[{\"automargin\":true,\"type\":\"pie\"}]},\"layout\":{\"autotypenumbers\":\"strict\",\"colorway\":[\"#636efa\",\"#EF553B\",\"#00cc96\",\"#ab63fa\",\"#FFA15A\",\"#19d3f3\",\"#FF6692\",\"#B6E880\",\"#FF97FF\",\"#FECB52\"],\"font\":{\"color\":\"#2a3f5f\"},\"hovermode\":\"closest\",\"hoverlabel\":{\"align\":\"left\"},\"paper_bgcolor\":\"white\",\"plot_bgcolor\":\"#E5ECF6\",\"polar\":{\"bgcolor\":\"#E5ECF6\",\"angularaxis\":{\"gridcolor\":\"white\",\"linecolor\":\"white\",\"ticks\":\"\"},\"radialaxis\":{\"gridcolor\":\"white\",\"linecolor\":\"white\",\"ticks\":\"\"}},\"ternary\":{\"bgcolor\":\"#E5ECF6\",\"aaxis\":{\"gridcolor\":\"white\",\"linecolor\":\"white\",\"ticks\":\"\"},\"baxis\":{\"gridcolor\":\"white\",\"linecolor\":\"white\",\"ticks\":\"\"},\"caxis\":{\"gridcolor\":\"white\",\"linecolor\":\"white\",\"ticks\":\"\"}},\"coloraxis\":{\"colorbar\":{\"outlinewidth\":0,\"ticks\":\"\"}},\"colorscale\":{\"sequential\":[[0.0,\"#0d0887\"],[0.1111111111111111,\"#46039f\"],[0.2222222222222222,\"#7201a8\"],[0.3333333333333333,\"#9c179e\"],[0.4444444444444444,\"#bd3786\"],[0.5555555555555556,\"#d8576b\"],[0.6666666666666666,\"#ed7953\"],[0.7777777777777778,\"#fb9f3a\"],[0.8888888888888888,\"#fdca26\"],[1.0,\"#f0f921\"]],\"sequentialminus\":[[0.0,\"#0d0887\"],[0.1111111111111111,\"#46039f\"],[0.2222222222222222,\"#7201a8\"],[0.3333333333333333,\"#9c179e\"],[0.4444444444444444,\"#bd3786\"],[0.5555555555555556,\"#d8576b\"],[0.6666666666666666,\"#ed7953\"],[0.7777777777777778,\"#fb9f3a\"],[0.8888888888888888,\"#fdca26\"],[1.0,\"#f0f921\"]],\"diverging\":[[0,\"#8e0152\"],[0.1,\"#c51b7d\"],[0.2,\"#de77ae\"],[0.3,\"#f1b6da\"],[0.4,\"#fde0ef\"],[0.5,\"#f7f7f7\"],[0.6,\"#e6f5d0\"],[0.7,\"#b8e186\"],[0.8,\"#7fbc41\"],[0.9,\"#4d9221\"],[1,\"#276419\"]]},\"xaxis\":{\"gridcolor\":\"white\",\"linecolor\":\"white\",\"ticks\":\"\",\"title\":{\"standoff\":15},\"zerolinecolor\":\"white\",\"automargin\":true,\"zerolinewidth\":2},\"yaxis\":{\"gridcolor\":\"white\",\"linecolor\":\"white\",\"ticks\":\"\",\"title\":{\"standoff\":15},\"zerolinecolor\":\"white\",\"automargin\":true,\"zerolinewidth\":2},\"scene\":{\"xaxis\":{\"backgroundcolor\":\"#E5ECF6\",\"gridcolor\":\"white\",\"linecolor\":\"white\",\"showbackground\":true,\"ticks\":\"\",\"zerolinecolor\":\"white\",\"gridwidth\":2},\"yaxis\":{\"backgroundcolor\":\"#E5ECF6\",\"gridcolor\":\"white\",\"linecolor\":\"white\",\"showbackground\":true,\"ticks\":\"\",\"zerolinecolor\":\"white\",\"gridwidth\":2},\"zaxis\":{\"backgroundcolor\":\"#E5ECF6\",\"gridcolor\":\"white\",\"linecolor\":\"white\",\"showbackground\":true,\"ticks\":\"\",\"zerolinecolor\":\"white\",\"gridwidth\":2}},\"shapedefaults\":{\"line\":{\"color\":\"#2a3f5f\"}},\"annotationdefaults\":{\"arrowcolor\":\"#2a3f5f\",\"arrowhead\":0,\"arrowwidth\":1},\"geo\":{\"bgcolor\":\"white\",\"landcolor\":\"#E5ECF6\",\"subunitcolor\":\"white\",\"showland\":true,\"showlakes\":true,\"lakecolor\":\"white\"},\"title\":{\"x\":0.05},\"mapbox\":{\"style\":\"light\"}}},\"xaxis\":{\"tickangle\":-45},\"barmode\":\"group\",\"title\":{\"text\":\"Monthwise comparision between Stock open and close price\"}},                        {\"responsive\": true}                    ).then(function(){\n",
              "                            \n",
              "var gd = document.getElementById('497c39f1-c195-4bd6-8030-0e366b91aae4');\n",
              "var x = new MutationObserver(function (mutations, observer) {{\n",
              "        var display = window.getComputedStyle(gd).display;\n",
              "        if (!display || display === 'none') {{\n",
              "            console.log([gd, 'removed!']);\n",
              "            Plotly.purge(gd);\n",
              "            observer.disconnect();\n",
              "        }}\n",
              "}});\n",
              "\n",
              "// Listen for the removal of the full notebook cells\n",
              "var notebookContainer = gd.closest('#notebook-container');\n",
              "if (notebookContainer) {{\n",
              "    x.observe(notebookContainer, {childList: true});\n",
              "}}\n",
              "\n",
              "// Listen for the clearing of the current output cell\n",
              "var outputEl = gd.closest('.output');\n",
              "if (outputEl) {{\n",
              "    x.observe(outputEl, {childList: true});\n",
              "}}\n",
              "\n",
              "                        })                };                            </script>        </div>\n",
              "</body>\n",
              "</html>"
            ]
          },
          "metadata": {}
        }
      ]
    },
    {
      "cell_type": "code",
      "source": [
        "names = cycle(['Stock Open Price','Stock Close Price','Stock High Price','Stock Low Price'])\n",
        "\n",
        "fig = px.line(y_overall, x=y_overall.Date, y=[y_overall['Open'], y_overall['Close'],\n",
        "                                          y_overall['High'], y_overall['Low']],\n",
        "             labels={'Date': 'Date','value':'Stock value'})\n",
        "fig.update_layout(title_text='Stock analysis chart', font_size=15, font_color='black',legend_title_text='Stock Parameters')\n",
        "fig.for_each_trace(lambda t:  t.update(name = next(names)))\n",
        "fig.update_xaxes(showgrid=False)\n",
        "fig.update_yaxes(showgrid=False)\n",
        "\n",
        "fig.show()"
      ],
      "metadata": {
        "colab": {
          "base_uri": "https://localhost:8080/",
          "height": 542
        },
        "id": "h8TNoVvxBXFa",
        "outputId": "56d75bc3-382f-4648-c8ca-98c7fec34eca"
      },
      "execution_count": 54,
      "outputs": [
        {
          "output_type": "display_data",
          "data": {
            "text/html": [
              "<html>\n",
              "<head><meta charset=\"utf-8\" /></head>\n",
              "<body>\n",
              "    <div>            <script src=\"https://cdnjs.cloudflare.com/ajax/libs/mathjax/2.7.5/MathJax.js?config=TeX-AMS-MML_SVG\"></script><script type=\"text/javascript\">if (window.MathJax && window.MathJax.Hub && window.MathJax.Hub.Config) {window.MathJax.Hub.Config({SVG: {font: \"STIX-Web\"}});}</script>                <script type=\"text/javascript\">window.PlotlyConfig = {MathJaxConfig: 'local'};</script>\n",
              "        <script src=\"https://cdn.plot.ly/plotly-2.18.2.min.js\"></script>                <div id=\"d765d037-5333-4dcc-957e-74b60e3b218c\" class=\"plotly-graph-div\" style=\"height:525px; width:100%;\"></div>            <script type=\"text/javascript\">                                    window.PLOTLYENV=window.PLOTLYENV || {};                                    if (document.getElementById(\"d765d037-5333-4dcc-957e-74b60e3b218c\")) {                    Plotly.newPlot(                        \"d765d037-5333-4dcc-957e-74b60e3b218c\",                        [{\"hovertemplate\":\"variable=Open<br>Date=%{x}<br>Stock value=%{y}<extra></extra>\",\"legendgroup\":\"Open\",\"line\":{\"color\":\"#636efa\",\"dash\":\"solid\"},\"marker\":{\"symbol\":\"circle\"},\"mode\":\"lines\",\"name\":\"Stock Open Price\",\"showlegend\":true,\"x\":[\"2020-10-01T00:00:00\",\"2020-10-02T00:00:00\",\"2020-10-05T00:00:00\",\"2020-10-06T00:00:00\",\"2020-10-07T00:00:00\",\"2020-10-08T00:00:00\",\"2020-10-09T00:00:00\",\"2020-10-12T00:00:00\",\"2020-10-13T00:00:00\",\"2020-10-14T00:00:00\",\"2020-10-15T00:00:00\",\"2020-10-16T00:00:00\",\"2020-10-19T00:00:00\",\"2020-10-20T00:00:00\",\"2020-10-21T00:00:00\",\"2020-10-22T00:00:00\",\"2020-10-23T00:00:00\",\"2020-10-26T00:00:00\",\"2020-10-27T00:00:00\",\"2020-10-28T00:00:00\",\"2020-10-29T00:00:00\",\"2020-10-30T00:00:00\",\"2020-11-02T00:00:00\",\"2020-11-03T00:00:00\",\"2020-11-04T00:00:00\",\"2020-11-05T00:00:00\",\"2020-11-06T00:00:00\",\"2020-11-09T00:00:00\",\"2020-11-10T00:00:00\",\"2020-11-11T00:00:00\",\"2020-11-12T00:00:00\",\"2020-11-13T00:00:00\",\"2020-11-16T00:00:00\",\"2020-11-17T00:00:00\",\"2020-11-18T00:00:00\",\"2020-11-19T00:00:00\",\"2020-11-20T00:00:00\",\"2020-11-23T00:00:00\",\"2020-11-24T00:00:00\",\"2020-11-25T00:00:00\",\"2020-11-27T00:00:00\",\"2020-11-30T00:00:00\",\"2020-12-01T00:00:00\",\"2020-12-02T00:00:00\",\"2020-12-03T00:00:00\",\"2020-12-04T00:00:00\",\"2020-12-07T00:00:00\",\"2020-12-08T00:00:00\",\"2020-12-09T00:00:00\",\"2020-12-10T00:00:00\",\"2020-12-11T00:00:00\",\"2020-12-14T00:00:00\",\"2020-12-15T00:00:00\",\"2020-12-16T00:00:00\",\"2020-12-17T00:00:00\",\"2020-12-18T00:00:00\",\"2020-12-21T00:00:00\",\"2020-12-22T00:00:00\",\"2020-12-23T00:00:00\",\"2020-12-24T00:00:00\",\"2020-12-28T00:00:00\",\"2020-12-29T00:00:00\",\"2020-12-30T00:00:00\",\"2020-12-31T00:00:00\",\"2021-01-04T00:00:00\",\"2021-01-05T00:00:00\",\"2021-01-06T00:00:00\",\"2021-01-07T00:00:00\",\"2021-01-08T00:00:00\",\"2021-01-11T00:00:00\",\"2021-01-12T00:00:00\",\"2021-01-13T00:00:00\",\"2021-01-14T00:00:00\",\"2021-01-15T00:00:00\",\"2021-01-19T00:00:00\",\"2021-01-20T00:00:00\",\"2021-01-21T00:00:00\",\"2021-01-22T00:00:00\",\"2021-01-25T00:00:00\",\"2021-01-26T00:00:00\",\"2021-01-27T00:00:00\",\"2021-01-28T00:00:00\",\"2021-01-29T00:00:00\",\"2021-02-01T00:00:00\",\"2021-02-02T00:00:00\",\"2021-02-03T00:00:00\",\"2021-02-04T00:00:00\",\"2021-02-05T00:00:00\",\"2021-02-08T00:00:00\",\"2021-02-09T00:00:00\",\"2021-02-10T00:00:00\",\"2021-02-11T00:00:00\",\"2021-02-12T00:00:00\",\"2021-02-16T00:00:00\",\"2021-02-17T00:00:00\",\"2021-02-18T00:00:00\",\"2021-02-19T00:00:00\",\"2021-02-22T00:00:00\",\"2021-02-23T00:00:00\",\"2021-02-24T00:00:00\",\"2021-02-25T00:00:00\",\"2021-02-26T00:00:00\",\"2021-03-01T00:00:00\",\"2021-03-02T00:00:00\",\"2021-03-03T00:00:00\",\"2021-03-04T00:00:00\",\"2021-03-05T00:00:00\",\"2021-03-08T00:00:00\",\"2021-03-09T00:00:00\",\"2021-03-10T00:00:00\",\"2021-03-11T00:00:00\",\"2021-03-12T00:00:00\",\"2021-03-15T00:00:00\",\"2021-03-16T00:00:00\",\"2021-03-17T00:00:00\",\"2021-03-18T00:00:00\",\"2021-03-19T00:00:00\",\"2021-03-22T00:00:00\",\"2021-03-23T00:00:00\",\"2021-03-24T00:00:00\",\"2021-03-25T00:00:00\",\"2021-03-26T00:00:00\",\"2021-03-29T00:00:00\",\"2021-03-30T00:00:00\",\"2021-03-31T00:00:00\",\"2021-04-01T00:00:00\",\"2021-04-05T00:00:00\",\"2021-04-06T00:00:00\",\"2021-04-07T00:00:00\",\"2021-04-08T00:00:00\",\"2021-04-09T00:00:00\",\"2021-04-12T00:00:00\",\"2021-04-13T00:00:00\",\"2021-04-14T00:00:00\",\"2021-04-15T00:00:00\",\"2021-04-16T00:00:00\",\"2021-04-19T00:00:00\",\"2021-04-20T00:00:00\",\"2021-04-21T00:00:00\",\"2021-04-22T00:00:00\",\"2021-04-23T00:00:00\",\"2021-04-26T00:00:00\",\"2021-04-27T00:00:00\",\"2021-04-28T00:00:00\",\"2021-04-29T00:00:00\",\"2021-04-30T00:00:00\",\"2021-05-03T00:00:00\",\"2021-05-04T00:00:00\",\"2021-05-05T00:00:00\",\"2021-05-06T00:00:00\",\"2021-05-07T00:00:00\",\"2021-05-10T00:00:00\",\"2021-05-11T00:00:00\",\"2021-05-12T00:00:00\",\"2021-05-13T00:00:00\",\"2021-05-14T00:00:00\",\"2021-05-17T00:00:00\",\"2021-05-18T00:00:00\",\"2021-05-19T00:00:00\",\"2021-05-20T00:00:00\",\"2021-05-21T00:00:00\",\"2021-05-24T00:00:00\",\"2021-05-25T00:00:00\",\"2021-05-26T00:00:00\",\"2021-05-27T00:00:00\",\"2021-05-28T00:00:00\",\"2021-06-01T00:00:00\",\"2021-06-02T00:00:00\",\"2021-06-03T00:00:00\",\"2021-06-04T00:00:00\",\"2021-06-07T00:00:00\",\"2021-06-08T00:00:00\",\"2021-06-09T00:00:00\",\"2021-06-10T00:00:00\",\"2021-06-11T00:00:00\",\"2021-06-14T00:00:00\",\"2021-06-15T00:00:00\",\"2021-06-16T00:00:00\",\"2021-06-17T00:00:00\",\"2021-06-18T00:00:00\",\"2021-06-21T00:00:00\",\"2021-06-22T00:00:00\",\"2021-06-23T00:00:00\",\"2021-06-24T00:00:00\",\"2021-06-25T00:00:00\",\"2021-06-28T00:00:00\",\"2021-06-29T00:00:00\",\"2021-06-30T00:00:00\",\"2021-07-01T00:00:00\",\"2021-07-02T00:00:00\",\"2021-07-06T00:00:00\",\"2021-07-07T00:00:00\",\"2021-07-08T00:00:00\",\"2021-07-09T00:00:00\",\"2021-07-12T00:00:00\",\"2021-07-13T00:00:00\",\"2021-07-14T00:00:00\",\"2021-07-15T00:00:00\",\"2021-07-16T00:00:00\",\"2021-07-19T00:00:00\",\"2021-07-20T00:00:00\",\"2021-07-21T00:00:00\",\"2021-07-22T00:00:00\",\"2021-07-23T00:00:00\",\"2021-07-26T00:00:00\",\"2021-07-27T00:00:00\",\"2021-07-28T00:00:00\",\"2021-07-29T00:00:00\",\"2021-07-30T00:00:00\",\"2021-08-02T00:00:00\",\"2021-08-03T00:00:00\",\"2021-08-04T00:00:00\",\"2021-08-05T00:00:00\",\"2021-08-06T00:00:00\",\"2021-08-09T00:00:00\",\"2021-08-10T00:00:00\",\"2021-08-11T00:00:00\",\"2021-08-12T00:00:00\",\"2021-08-13T00:00:00\",\"2021-08-16T00:00:00\",\"2021-08-17T00:00:00\",\"2021-08-18T00:00:00\",\"2021-08-19T00:00:00\",\"2021-08-20T00:00:00\",\"2021-08-23T00:00:00\",\"2021-08-24T00:00:00\",\"2021-08-25T00:00:00\",\"2021-08-26T00:00:00\",\"2021-08-27T00:00:00\",\"2021-08-30T00:00:00\",\"2021-08-31T00:00:00\",\"2021-09-01T00:00:00\",\"2021-09-02T00:00:00\",\"2021-09-03T00:00:00\",\"2021-09-07T00:00:00\",\"2021-09-08T00:00:00\",\"2021-09-09T00:00:00\",\"2021-09-10T00:00:00\",\"2021-09-13T00:00:00\",\"2021-09-14T00:00:00\",\"2021-09-15T00:00:00\",\"2021-09-16T00:00:00\",\"2021-09-17T00:00:00\",\"2021-09-20T00:00:00\",\"2021-09-21T00:00:00\",\"2021-09-22T00:00:00\",\"2021-09-23T00:00:00\",\"2021-09-24T00:00:00\",\"2021-09-27T00:00:00\",\"2021-09-28T00:00:00\",\"2021-09-29T00:00:00\",\"2021-09-30T00:00:00\",\"2021-10-01T00:00:00\",\"2021-10-04T00:00:00\",\"2021-10-05T00:00:00\",\"2021-10-06T00:00:00\",\"2021-10-07T00:00:00\",\"2021-10-08T00:00:00\",\"2021-10-11T00:00:00\",\"2021-10-12T00:00:00\",\"2021-10-13T00:00:00\",\"2021-10-14T00:00:00\",\"2021-10-15T00:00:00\",\"2021-10-18T00:00:00\",\"2021-10-19T00:00:00\",\"2021-10-20T00:00:00\",\"2021-10-21T00:00:00\",\"2021-10-22T00:00:00\",\"2021-10-25T00:00:00\",\"2021-10-26T00:00:00\",\"2021-10-27T00:00:00\",\"2021-10-28T00:00:00\",\"2021-10-29T00:00:00\",\"2021-11-01T00:00:00\",\"2021-11-02T00:00:00\",\"2021-11-03T00:00:00\",\"2021-11-04T00:00:00\",\"2021-11-05T00:00:00\",\"2021-11-08T00:00:00\",\"2021-11-09T00:00:00\",\"2021-11-10T00:00:00\",\"2021-11-11T00:00:00\",\"2021-11-12T00:00:00\",\"2021-11-15T00:00:00\",\"2021-11-16T00:00:00\",\"2021-11-17T00:00:00\",\"2021-11-18T00:00:00\",\"2021-11-19T00:00:00\",\"2021-11-22T00:00:00\",\"2021-11-23T00:00:00\",\"2021-11-24T00:00:00\",\"2021-11-26T00:00:00\",\"2021-11-29T00:00:00\",\"2021-11-30T00:00:00\",\"2021-12-01T00:00:00\",\"2021-12-02T00:00:00\",\"2021-12-03T00:00:00\",\"2021-12-06T00:00:00\",\"2021-12-07T00:00:00\",\"2021-12-08T00:00:00\",\"2021-12-09T00:00:00\",\"2021-12-10T00:00:00\",\"2021-12-13T00:00:00\",\"2021-12-14T00:00:00\",\"2021-12-15T00:00:00\",\"2021-12-16T00:00:00\",\"2021-12-17T00:00:00\",\"2021-12-20T00:00:00\",\"2021-12-21T00:00:00\",\"2021-12-22T00:00:00\",\"2021-12-23T00:00:00\",\"2021-12-27T00:00:00\",\"2021-12-28T00:00:00\",\"2021-12-29T00:00:00\",\"2021-12-30T00:00:00\",\"2021-12-31T00:00:00\",\"2022-01-03T00:00:00\",\"2022-01-04T00:00:00\",\"2022-01-05T00:00:00\",\"2022-01-06T00:00:00\",\"2022-01-07T00:00:00\",\"2022-01-10T00:00:00\",\"2022-01-11T00:00:00\",\"2022-01-12T00:00:00\",\"2022-01-13T00:00:00\",\"2022-01-14T00:00:00\",\"2022-01-18T00:00:00\",\"2022-01-19T00:00:00\",\"2022-01-20T00:00:00\",\"2022-01-21T00:00:00\",\"2022-01-24T00:00:00\",\"2022-01-25T00:00:00\",\"2022-01-26T00:00:00\",\"2022-01-27T00:00:00\",\"2022-01-28T00:00:00\",\"2022-01-31T00:00:00\",\"2022-02-01T00:00:00\",\"2022-02-02T00:00:00\",\"2022-02-03T00:00:00\",\"2022-02-04T00:00:00\",\"2022-02-07T00:00:00\",\"2022-02-08T00:00:00\",\"2022-02-09T00:00:00\",\"2022-02-10T00:00:00\",\"2022-02-11T00:00:00\",\"2022-02-14T00:00:00\",\"2022-02-15T00:00:00\",\"2022-02-16T00:00:00\",\"2022-02-17T00:00:00\",\"2022-02-18T00:00:00\"],\"xaxis\":\"x\",\"y\":[100.0,100.0,100.02999877929688,100.01000213623048,99.9499969482422,99.98999786376952,99.97000122070312,99.95999908447266,99.97899627685548,100.0,100.0,99.9499969482422,99.91000366210938,99.84709930419922,99.83999633789062,99.77999877929688,99.80999755859376,99.88999938964844,99.93000030517578,99.91000366210938,99.81999969482422,99.69989776611328,99.70240020751952,99.66500091552734,99.95999908447266,99.99870300292967,99.88999938964844,99.70999908447266,99.68900299072266,99.66899871826172,99.78900146484376,99.77059936523438,99.79900360107422,99.8499984741211,99.8499984741211,99.88999938964844,99.91000366210938,99.89900207519533,99.88500213623048,99.95999908447266,99.98999786376952,100.06999969482422,99.87999725341795,99.875,99.9749984741211,99.86080169677734,99.9800033569336,100.00900268554688,99.86000061035156,99.91000366210938,100.01609802246094,100.0189971923828,100.01000213623048,100.00499725341795,100.08999633789062,100.0000991821289,99.98899841308594,100.02999877929688,99.98999786376952,100.02670288085938,100.06300354003906,100.06500244140624,100.10459899902344,100.16000366210938,100.1229019165039,100.05999755859376,99.85900115966795,99.83000183105467,99.7249984741211,99.66500091552734,99.66470336914062,99.75689697265624,99.81999969482422,99.80770111083984,99.83499908447266,99.83570098876952,99.79499816894533,99.83489990234376,99.91719818115234,99.9499969482422,99.89630126953124,99.85489654541016,99.8489990234375,99.87999725341795,99.80960083007812,99.78900146484376,99.78500366210938,99.7615966796875,99.80999755859376,99.83000183105467,99.8499984741211,99.8550033569336,99.81900024414062,99.58899688720705,99.55999755859376,99.58499908447266,99.45500183105467,99.3550033569336,99.41799926757812,99.3644027709961,98.91010284423828,98.98310089111328,99.05719757080078,99.19000244140624,98.98999786376952,98.84500122070312,98.75,98.58000183105467,98.64199829101562,98.73919677734376,98.8416976928711,98.58000183105467,98.61830139160156,98.62940216064452,98.54000091552734,98.51000213623048,98.47730255126952,98.54499816894533,98.63999938964844,98.72579956054688,98.73179626464844,98.65899658203124,98.5365982055664,98.51280212402344,98.4800033569336,98.5999984741211,98.4990005493164,98.63999938964844,98.72000122070312,98.81500244140624,98.75569915771484,98.70919799804688,98.7300033569336,98.80500030517578,99.0199966430664,100.88999938964844,99.12000274658205,98.79000091552734,99.01000213623048,98.9250030517578,99.01000213623048,99.0,98.9499969482422,98.87999725341795,98.80999755859376,98.91999816894533,98.91000366210938,98.95999908447266,99.0,99.0999984741211,99.1500015258789,99.1999969482422,99.11000061035156,99.11000061035156,99.11000061035156,99.11000061035156,99.11000061035156,99.11000061035156,99.11000061035156,99.11000061035156,99.11000061035156,99.11000061035156,99.11000061035156,99.11000061035156,99.11000061035156,99.11000061035156,99.11000061035156,99.11000061035156,99.11000061035156,99.11000061035156,99.11000061035156,99.11000061035156,99.11000061035156,99.11000061035156,99.11000061035156,99.11000061035156,99.11000061035156,99.11000061035156,99.11000061035156,99.11000061035156,99.11000061035156,99.11000061035156,99.11000061035156,99.11000061035156,99.11000061035156,99.11000061035156,99.11000061035156,99.11000061035156,99.11000061035156,99.11000061035156,99.11000061035156,99.11000061035156,99.11000061035156,99.11000061035156,99.11000061035156,99.11000061035156,99.11000061035156,99.11000061035156,99.11000061035156,99.66000366210938,99.7073974609375,99.55500030517578,99.63999938964844,99.62010192871094,99.6750030517578,99.71540069580078,99.69499969482422,99.68099975585938,99.6999969482422,99.9010009765625,99.90470123291016,99.84660339355467,99.73500061035156,99.55850219726562,99.47740173339844,99.3948974609375,99.4499969482422,99.4489974975586,99.5824966430664,99.63999938964844,99.18000030517578,99.5749969482422,99.6050033569336,99.5696029663086,99.59320068359376,99.54100036621094,99.44499969482422,99.44000244140624,99.5864028930664,99.68499755859376,99.6500015258789,99.71900177001952,99.76000213623048,99.72000122070312,99.57599639892578,99.61000061035156,99.7249984741211,99.63500213623048,99.56439971923828,99.73500061035156,99.70989990234376,99.53009796142578,99.38999938964844,99.41010284423828,99.58779907226562,99.5500030517578,99.39990234375,99.1999969482422,99.18000030517578,98.96499633789062,98.98490142822266,99.0199966430664,99.18000030517578,99.1500015258789,99.06500244140624,99.05999755859376,98.90969848632812,98.86000061035156,98.76499938964844,98.8249969482422,98.83699798583984,98.94000244140624,98.7750015258789,98.66999816894533,98.58000183105467,98.56999969482422,98.4749984741211,98.4000015258789,98.56999969482422,98.62999725341795,98.7699966430664,98.63999938964844,98.68060302734376,98.66999816894533,98.75,98.6999969482422,98.91010284423828,99.04499816894533,98.9499969482422,99.06400299072266,98.6999969482422,98.58499908447266,98.7300033569336,98.5071029663086,98.5000991821289,98.52999877929688,98.63999938964844,98.6050033569336,98.2699966430664,98.17250061035156,98.18499755859376,98.5998992919922,98.5500030517578,98.88999938964844,98.61270141601562,98.5824966430664,98.79000091552734,98.59500122070312,98.51000213623048,98.39099884033205,98.4800033569336,98.51000213623048,98.56659698486328,98.54499816894533,98.43399810791016,98.63099670410156,98.63999938964844,98.6449966430664,98.5,98.591796875,98.52999877929688,98.54000091552734,98.61000061035156,98.47000122070312,98.6094970703125,98.58499908447266,98.30999755859376,98.27999877929688,98.25,97.98500061035156,97.89459991455078,97.83999633789062,97.8499984741211,97.9250030517578,97.99099731445312,97.80850219726562,97.44000244140624,97.50499725341795,97.50260162353516,97.69000244140624,97.7698974609375,97.67009735107422,97.3395004272461,97.38899993896484,97.31099700927734,97.45099639892578,97.40499877929688,97.47419738769533,97.30899810791016,96.9290008544922,96.95040130615234,96.82769775390624,96.8550033569336,96.28379821777344,96.6854019165039,96.42430114746094,96.35900115966795,96.43409729003906,96.56719970703124,96.64230346679688],\"yaxis\":\"y\",\"type\":\"scattergl\"},{\"hovertemplate\":\"variable=Close<br>Date=%{x}<br>Stock value=%{y}<extra></extra>\",\"legendgroup\":\"Close\",\"line\":{\"color\":\"#EF553B\",\"dash\":\"solid\"},\"marker\":{\"symbol\":\"circle\"},\"mode\":\"lines\",\"name\":\"Stock Close Price\",\"showlegend\":true,\"x\":[\"2020-10-01T00:00:00\",\"2020-10-02T00:00:00\",\"2020-10-05T00:00:00\",\"2020-10-06T00:00:00\",\"2020-10-07T00:00:00\",\"2020-10-08T00:00:00\",\"2020-10-09T00:00:00\",\"2020-10-12T00:00:00\",\"2020-10-13T00:00:00\",\"2020-10-14T00:00:00\",\"2020-10-15T00:00:00\",\"2020-10-16T00:00:00\",\"2020-10-19T00:00:00\",\"2020-10-20T00:00:00\",\"2020-10-21T00:00:00\",\"2020-10-22T00:00:00\",\"2020-10-23T00:00:00\",\"2020-10-26T00:00:00\",\"2020-10-27T00:00:00\",\"2020-10-28T00:00:00\",\"2020-10-29T00:00:00\",\"2020-10-30T00:00:00\",\"2020-11-02T00:00:00\",\"2020-11-03T00:00:00\",\"2020-11-04T00:00:00\",\"2020-11-05T00:00:00\",\"2020-11-06T00:00:00\",\"2020-11-09T00:00:00\",\"2020-11-10T00:00:00\",\"2020-11-11T00:00:00\",\"2020-11-12T00:00:00\",\"2020-11-13T00:00:00\",\"2020-11-16T00:00:00\",\"2020-11-17T00:00:00\",\"2020-11-18T00:00:00\",\"2020-11-19T00:00:00\",\"2020-11-20T00:00:00\",\"2020-11-23T00:00:00\",\"2020-11-24T00:00:00\",\"2020-11-25T00:00:00\",\"2020-11-27T00:00:00\",\"2020-11-30T00:00:00\",\"2020-12-01T00:00:00\",\"2020-12-02T00:00:00\",\"2020-12-03T00:00:00\",\"2020-12-04T00:00:00\",\"2020-12-07T00:00:00\",\"2020-12-08T00:00:00\",\"2020-12-09T00:00:00\",\"2020-12-10T00:00:00\",\"2020-12-11T00:00:00\",\"2020-12-14T00:00:00\",\"2020-12-15T00:00:00\",\"2020-12-16T00:00:00\",\"2020-12-17T00:00:00\",\"2020-12-18T00:00:00\",\"2020-12-21T00:00:00\",\"2020-12-22T00:00:00\",\"2020-12-23T00:00:00\",\"2020-12-24T00:00:00\",\"2020-12-28T00:00:00\",\"2020-12-29T00:00:00\",\"2020-12-30T00:00:00\",\"2020-12-31T00:00:00\",\"2021-01-04T00:00:00\",\"2021-01-05T00:00:00\",\"2021-01-06T00:00:00\",\"2021-01-07T00:00:00\",\"2021-01-08T00:00:00\",\"2021-01-11T00:00:00\",\"2021-01-12T00:00:00\",\"2021-01-13T00:00:00\",\"2021-01-14T00:00:00\",\"2021-01-15T00:00:00\",\"2021-01-19T00:00:00\",\"2021-01-20T00:00:00\",\"2021-01-21T00:00:00\",\"2021-01-22T00:00:00\",\"2021-01-25T00:00:00\",\"2021-01-26T00:00:00\",\"2021-01-27T00:00:00\",\"2021-01-28T00:00:00\",\"2021-01-29T00:00:00\",\"2021-02-01T00:00:00\",\"2021-02-02T00:00:00\",\"2021-02-03T00:00:00\",\"2021-02-04T00:00:00\",\"2021-02-05T00:00:00\",\"2021-02-08T00:00:00\",\"2021-02-09T00:00:00\",\"2021-02-10T00:00:00\",\"2021-02-11T00:00:00\",\"2021-02-12T00:00:00\",\"2021-02-16T00:00:00\",\"2021-02-17T00:00:00\",\"2021-02-18T00:00:00\",\"2021-02-19T00:00:00\",\"2021-02-22T00:00:00\",\"2021-02-23T00:00:00\",\"2021-02-24T00:00:00\",\"2021-02-25T00:00:00\",\"2021-02-26T00:00:00\",\"2021-03-01T00:00:00\",\"2021-03-02T00:00:00\",\"2021-03-03T00:00:00\",\"2021-03-04T00:00:00\",\"2021-03-05T00:00:00\",\"2021-03-08T00:00:00\",\"2021-03-09T00:00:00\",\"2021-03-10T00:00:00\",\"2021-03-11T00:00:00\",\"2021-03-12T00:00:00\",\"2021-03-15T00:00:00\",\"2021-03-16T00:00:00\",\"2021-03-17T00:00:00\",\"2021-03-18T00:00:00\",\"2021-03-19T00:00:00\",\"2021-03-22T00:00:00\",\"2021-03-23T00:00:00\",\"2021-03-24T00:00:00\",\"2021-03-25T00:00:00\",\"2021-03-26T00:00:00\",\"2021-03-29T00:00:00\",\"2021-03-30T00:00:00\",\"2021-03-31T00:00:00\",\"2021-04-01T00:00:00\",\"2021-04-05T00:00:00\",\"2021-04-06T00:00:00\",\"2021-04-07T00:00:00\",\"2021-04-08T00:00:00\",\"2021-04-09T00:00:00\",\"2021-04-12T00:00:00\",\"2021-04-13T00:00:00\",\"2021-04-14T00:00:00\",\"2021-04-15T00:00:00\",\"2021-04-16T00:00:00\",\"2021-04-19T00:00:00\",\"2021-04-20T00:00:00\",\"2021-04-21T00:00:00\",\"2021-04-22T00:00:00\",\"2021-04-23T00:00:00\",\"2021-04-26T00:00:00\",\"2021-04-27T00:00:00\",\"2021-04-28T00:00:00\",\"2021-04-29T00:00:00\",\"2021-04-30T00:00:00\",\"2021-05-03T00:00:00\",\"2021-05-04T00:00:00\",\"2021-05-05T00:00:00\",\"2021-05-06T00:00:00\",\"2021-05-07T00:00:00\",\"2021-05-10T00:00:00\",\"2021-05-11T00:00:00\",\"2021-05-12T00:00:00\",\"2021-05-13T00:00:00\",\"2021-05-14T00:00:00\",\"2021-05-17T00:00:00\",\"2021-05-18T00:00:00\",\"2021-05-19T00:00:00\",\"2021-05-20T00:00:00\",\"2021-05-21T00:00:00\",\"2021-05-24T00:00:00\",\"2021-05-25T00:00:00\",\"2021-05-26T00:00:00\",\"2021-05-27T00:00:00\",\"2021-05-28T00:00:00\",\"2021-06-01T00:00:00\",\"2021-06-02T00:00:00\",\"2021-06-03T00:00:00\",\"2021-06-04T00:00:00\",\"2021-06-07T00:00:00\",\"2021-06-08T00:00:00\",\"2021-06-09T00:00:00\",\"2021-06-10T00:00:00\",\"2021-06-11T00:00:00\",\"2021-06-14T00:00:00\",\"2021-06-15T00:00:00\",\"2021-06-16T00:00:00\",\"2021-06-17T00:00:00\",\"2021-06-18T00:00:00\",\"2021-06-21T00:00:00\",\"2021-06-22T00:00:00\",\"2021-06-23T00:00:00\",\"2021-06-24T00:00:00\",\"2021-06-25T00:00:00\",\"2021-06-28T00:00:00\",\"2021-06-29T00:00:00\",\"2021-06-30T00:00:00\",\"2021-07-01T00:00:00\",\"2021-07-02T00:00:00\",\"2021-07-06T00:00:00\",\"2021-07-07T00:00:00\",\"2021-07-08T00:00:00\",\"2021-07-09T00:00:00\",\"2021-07-12T00:00:00\",\"2021-07-13T00:00:00\",\"2021-07-14T00:00:00\",\"2021-07-15T00:00:00\",\"2021-07-16T00:00:00\",\"2021-07-19T00:00:00\",\"2021-07-20T00:00:00\",\"2021-07-21T00:00:00\",\"2021-07-22T00:00:00\",\"2021-07-23T00:00:00\",\"2021-07-26T00:00:00\",\"2021-07-27T00:00:00\",\"2021-07-28T00:00:00\",\"2021-07-29T00:00:00\",\"2021-07-30T00:00:00\",\"2021-08-02T00:00:00\",\"2021-08-03T00:00:00\",\"2021-08-04T00:00:00\",\"2021-08-05T00:00:00\",\"2021-08-06T00:00:00\",\"2021-08-09T00:00:00\",\"2021-08-10T00:00:00\",\"2021-08-11T00:00:00\",\"2021-08-12T00:00:00\",\"2021-08-13T00:00:00\",\"2021-08-16T00:00:00\",\"2021-08-17T00:00:00\",\"2021-08-18T00:00:00\",\"2021-08-19T00:00:00\",\"2021-08-20T00:00:00\",\"2021-08-23T00:00:00\",\"2021-08-24T00:00:00\",\"2021-08-25T00:00:00\",\"2021-08-26T00:00:00\",\"2021-08-27T00:00:00\",\"2021-08-30T00:00:00\",\"2021-08-31T00:00:00\",\"2021-09-01T00:00:00\",\"2021-09-02T00:00:00\",\"2021-09-03T00:00:00\",\"2021-09-07T00:00:00\",\"2021-09-08T00:00:00\",\"2021-09-09T00:00:00\",\"2021-09-10T00:00:00\",\"2021-09-13T00:00:00\",\"2021-09-14T00:00:00\",\"2021-09-15T00:00:00\",\"2021-09-16T00:00:00\",\"2021-09-17T00:00:00\",\"2021-09-20T00:00:00\",\"2021-09-21T00:00:00\",\"2021-09-22T00:00:00\",\"2021-09-23T00:00:00\",\"2021-09-24T00:00:00\",\"2021-09-27T00:00:00\",\"2021-09-28T00:00:00\",\"2021-09-29T00:00:00\",\"2021-09-30T00:00:00\",\"2021-10-01T00:00:00\",\"2021-10-04T00:00:00\",\"2021-10-05T00:00:00\",\"2021-10-06T00:00:00\",\"2021-10-07T00:00:00\",\"2021-10-08T00:00:00\",\"2021-10-11T00:00:00\",\"2021-10-12T00:00:00\",\"2021-10-13T00:00:00\",\"2021-10-14T00:00:00\",\"2021-10-15T00:00:00\",\"2021-10-18T00:00:00\",\"2021-10-19T00:00:00\",\"2021-10-20T00:00:00\",\"2021-10-21T00:00:00\",\"2021-10-22T00:00:00\",\"2021-10-25T00:00:00\",\"2021-10-26T00:00:00\",\"2021-10-27T00:00:00\",\"2021-10-28T00:00:00\",\"2021-10-29T00:00:00\",\"2021-11-01T00:00:00\",\"2021-11-02T00:00:00\",\"2021-11-03T00:00:00\",\"2021-11-04T00:00:00\",\"2021-11-05T00:00:00\",\"2021-11-08T00:00:00\",\"2021-11-09T00:00:00\",\"2021-11-10T00:00:00\",\"2021-11-11T00:00:00\",\"2021-11-12T00:00:00\",\"2021-11-15T00:00:00\",\"2021-11-16T00:00:00\",\"2021-11-17T00:00:00\",\"2021-11-18T00:00:00\",\"2021-11-19T00:00:00\",\"2021-11-22T00:00:00\",\"2021-11-23T00:00:00\",\"2021-11-24T00:00:00\",\"2021-11-26T00:00:00\",\"2021-11-29T00:00:00\",\"2021-11-30T00:00:00\",\"2021-12-01T00:00:00\",\"2021-12-02T00:00:00\",\"2021-12-03T00:00:00\",\"2021-12-06T00:00:00\",\"2021-12-07T00:00:00\",\"2021-12-08T00:00:00\",\"2021-12-09T00:00:00\",\"2021-12-10T00:00:00\",\"2021-12-13T00:00:00\",\"2021-12-14T00:00:00\",\"2021-12-15T00:00:00\",\"2021-12-16T00:00:00\",\"2021-12-17T00:00:00\",\"2021-12-20T00:00:00\",\"2021-12-21T00:00:00\",\"2021-12-22T00:00:00\",\"2021-12-23T00:00:00\",\"2021-12-27T00:00:00\",\"2021-12-28T00:00:00\",\"2021-12-29T00:00:00\",\"2021-12-30T00:00:00\",\"2021-12-31T00:00:00\",\"2022-01-03T00:00:00\",\"2022-01-04T00:00:00\",\"2022-01-05T00:00:00\",\"2022-01-06T00:00:00\",\"2022-01-07T00:00:00\",\"2022-01-10T00:00:00\",\"2022-01-11T00:00:00\",\"2022-01-12T00:00:00\",\"2022-01-13T00:00:00\",\"2022-01-14T00:00:00\",\"2022-01-18T00:00:00\",\"2022-01-19T00:00:00\",\"2022-01-20T00:00:00\",\"2022-01-21T00:00:00\",\"2022-01-24T00:00:00\",\"2022-01-25T00:00:00\",\"2022-01-26T00:00:00\",\"2022-01-27T00:00:00\",\"2022-01-28T00:00:00\",\"2022-01-31T00:00:00\",\"2022-02-01T00:00:00\",\"2022-02-02T00:00:00\",\"2022-02-03T00:00:00\",\"2022-02-04T00:00:00\",\"2022-02-07T00:00:00\",\"2022-02-08T00:00:00\",\"2022-02-09T00:00:00\",\"2022-02-10T00:00:00\",\"2022-02-11T00:00:00\",\"2022-02-14T00:00:00\",\"2022-02-15T00:00:00\",\"2022-02-16T00:00:00\",\"2022-02-17T00:00:00\",\"2022-02-18T00:00:00\"],\"xaxis\":\"x\",\"y\":[100.0,100.0,99.99500274658205,100.02999877929688,99.91999816894533,99.99500274658205,99.94000244140624,99.94000244140624,99.96499633789062,99.9749984741211,99.94499969482422,99.9250030517578,99.88999938964844,99.84709930419922,99.82430267333984,99.75,99.79000091552734,99.86000061035156,99.91500091552734,99.88500213623048,99.7699966430664,99.69989776611328,99.70240020751952,99.66500091552734,99.97480010986328,99.99870300292967,99.90480041503906,99.74629974365234,99.63999938964844,99.6552963256836,99.77410125732422,99.77059936523438,99.7699966430664,99.8499984741211,99.8499984741211,99.88999938964844,99.91500091552734,99.88500213623048,99.88500213623048,99.91000366210938,99.98999786376952,100.04499816894533,99.90059661865234,99.875,99.9749984741211,99.86080169677734,99.95500183105467,99.97000122070312,99.8550033569336,99.93000030517578,100.01609802246094,99.99500274658205,100.00499725341795,100.00499725341795,99.99500274658205,99.98500061035156,99.96009826660156,100.02999877929688,99.99009704589844,100.02670288085938,100.06300354003906,100.06500244140624,100.10459899902344,100.15499877929688,100.1229019165039,100.0500030517578,99.87460327148438,99.8136978149414,99.7249984741211,99.66500091552734,99.66470336914062,99.75689697265624,99.72699737548828,99.80770111083984,99.83499908447266,99.83570098876952,99.79499816894533,99.83489990234376,99.91719818115234,99.91500091552734,99.89630126953124,99.85489654541016,99.84929656982422,99.87100219726562,99.80960083007812,99.76499938964844,99.78500366210938,99.7615966796875,99.75240325927734,99.78500366210938,99.87139892578124,99.86509704589844,99.78459930419922,99.5290985107422,99.56500244140624,99.58499908447266,99.45500183105467,99.3550033569336,99.3988037109375,99.3644027709961,98.7531967163086,98.98310089111328,99.10759735107422,99.18000030517578,99.01180267333984,98.84500122070312,98.76000213623048,98.53050231933594,98.625,98.73919677734376,98.8416976928711,98.59259796142578,98.61830139160156,98.62940216064452,98.70149993896484,98.48979949951172,98.47730255126952,98.56500244140624,98.6876983642578,98.72579956054688,98.73179626464844,98.63500213623048,98.5365982055664,98.51280212402344,98.5146026611328,98.6449966430664,98.52320098876952,98.71089935302734,98.72160339355467,98.81500244140624,98.75569915771484,98.70919799804688,98.8228988647461,98.81089782714844,99.00830078125,99.24469757080078,99.1011962890625,99.04409790039062,98.97049713134766,99.0009994506836,98.9800033569336,98.97000122070312,98.83260345458984,98.88639831542967,98.8550033569336,98.88929748535156,98.9446029663086,98.98500061035156,99.05999755859376,99.0749969482422,99.14749908447266,99.11000061035156,99.11000061035156,99.11000061035156,99.11000061035156,99.11000061035156,99.11000061035156,99.11000061035156,99.11000061035156,99.11000061035156,99.11000061035156,99.11000061035156,99.11000061035156,99.11000061035156,99.11000061035156,99.11000061035156,99.11000061035156,99.11000061035156,99.11000061035156,99.11000061035156,99.11000061035156,99.11000061035156,99.11000061035156,99.11000061035156,99.11000061035156,99.11000061035156,99.11000061035156,99.11000061035156,99.11000061035156,99.11000061035156,99.11000061035156,99.11000061035156,99.11000061035156,99.11000061035156,99.11000061035156,99.11000061035156,99.11000061035156,99.11000061035156,99.11000061035156,99.11000061035156,99.11000061035156,99.11000061035156,99.11000061035156,99.11000061035156,99.11000061035156,99.11000061035156,99.11000061035156,99.11000061035156,99.11000061035156,99.65029907226562,99.7073974609375,99.54830169677734,99.63819885253906,99.64099884033205,99.65249633789062,99.71540069580078,99.75499725341795,99.70369720458984,99.77670288085938,99.9010009765625,99.90470123291016,99.84660339355467,99.73500061035156,99.55850219726562,99.47740173339844,99.38929748535156,99.46929931640624,99.44499969482422,99.5824966430664,99.64959716796876,99.5999984741211,99.5500030517578,99.6050033569336,99.5696029663086,99.59320068359376,99.53500366210938,99.44499969482422,99.45850372314452,99.5864028930664,99.68499755859376,99.69499969482422,99.68000030517578,99.72019958496094,99.69000244140624,99.55509948730467,99.61000061035156,99.7249984741211,99.63500213623048,99.61499786376952,99.73500061035156,99.66000366210938,99.58000183105467,99.46499633789062,99.625,99.58999633789062,99.5500030517578,99.2947006225586,99.19000244140624,99.18000030517578,98.96499633789062,98.98490142822266,99.0199966430664,99.18000030517578,99.1500015258789,99.06500244140624,99.05999755859376,98.91500091552734,98.86000061035156,98.72440338134766,98.8249969482422,98.83699798583984,98.94000244140624,98.7750015258789,98.66999816894533,98.59500122070312,98.67449951171876,98.4749984741211,98.51180267333984,98.56999969482422,98.62999725341795,98.7699966430664,98.6500015258789,98.68060302734376,98.61720275878906,98.75,98.69499969482422,98.91010284423828,99.11000061035156,98.9250030517578,99.06400299072266,98.6999969482422,98.58499908447266,98.6343002319336,98.5071029663086,98.4499969482422,98.52999877929688,98.58000183105467,98.6050033569336,98.2699966430664,98.17250061035156,98.18499755859376,98.5479965209961,98.56500244140624,98.6405029296875,98.61270141601562,98.5824966430664,98.76809692382812,98.59500122070312,98.51000213623048,98.44499969482422,98.46880340576172,98.51000213623048,98.63500213623048,98.54499816894533,98.443603515625,98.65119934082033,98.63999938964844,98.6449966430664,98.5,98.591796875,98.5417022705078,98.5500030517578,98.58999633789062,98.48500061035156,98.6094970703125,98.58499908447266,98.2947006225586,98.29149627685548,98.09639739990234,97.98500061035156,97.89459991455078,97.84510040283205,97.92230224609376,97.91999816894533,97.99099731445312,97.73500061035156,97.41069793701172,97.49420166015624,97.50260162353516,97.69000244140624,97.71019744873048,97.63159942626952,97.3395004272461,97.30999755859376,97.41210174560548,97.41739654541016,97.4000015258789,97.47419738769533,97.30989837646484,96.9250030517578,96.96839904785156,96.82769775390624,96.8550033569336,96.28379821777344,96.6854019165039,96.42430114746094,96.3550033569336,96.43409729003906,96.56719970703124,96.64230346679688],\"yaxis\":\"y\",\"type\":\"scattergl\"},{\"hovertemplate\":\"variable=High<br>Date=%{x}<br>Stock value=%{y}<extra></extra>\",\"legendgroup\":\"High\",\"line\":{\"color\":\"#00cc96\",\"dash\":\"solid\"},\"marker\":{\"symbol\":\"circle\"},\"mode\":\"lines\",\"name\":\"Stock High Price\",\"showlegend\":true,\"x\":[\"2020-10-01T00:00:00\",\"2020-10-02T00:00:00\",\"2020-10-05T00:00:00\",\"2020-10-06T00:00:00\",\"2020-10-07T00:00:00\",\"2020-10-08T00:00:00\",\"2020-10-09T00:00:00\",\"2020-10-12T00:00:00\",\"2020-10-13T00:00:00\",\"2020-10-14T00:00:00\",\"2020-10-15T00:00:00\",\"2020-10-16T00:00:00\",\"2020-10-19T00:00:00\",\"2020-10-20T00:00:00\",\"2020-10-21T00:00:00\",\"2020-10-22T00:00:00\",\"2020-10-23T00:00:00\",\"2020-10-26T00:00:00\",\"2020-10-27T00:00:00\",\"2020-10-28T00:00:00\",\"2020-10-29T00:00:00\",\"2020-10-30T00:00:00\",\"2020-11-02T00:00:00\",\"2020-11-03T00:00:00\",\"2020-11-04T00:00:00\",\"2020-11-05T00:00:00\",\"2020-11-06T00:00:00\",\"2020-11-09T00:00:00\",\"2020-11-10T00:00:00\",\"2020-11-11T00:00:00\",\"2020-11-12T00:00:00\",\"2020-11-13T00:00:00\",\"2020-11-16T00:00:00\",\"2020-11-17T00:00:00\",\"2020-11-18T00:00:00\",\"2020-11-19T00:00:00\",\"2020-11-20T00:00:00\",\"2020-11-23T00:00:00\",\"2020-11-24T00:00:00\",\"2020-11-25T00:00:00\",\"2020-11-27T00:00:00\",\"2020-11-30T00:00:00\",\"2020-12-01T00:00:00\",\"2020-12-02T00:00:00\",\"2020-12-03T00:00:00\",\"2020-12-04T00:00:00\",\"2020-12-07T00:00:00\",\"2020-12-08T00:00:00\",\"2020-12-09T00:00:00\",\"2020-12-10T00:00:00\",\"2020-12-11T00:00:00\",\"2020-12-14T00:00:00\",\"2020-12-15T00:00:00\",\"2020-12-16T00:00:00\",\"2020-12-17T00:00:00\",\"2020-12-18T00:00:00\",\"2020-12-21T00:00:00\",\"2020-12-22T00:00:00\",\"2020-12-23T00:00:00\",\"2020-12-24T00:00:00\",\"2020-12-28T00:00:00\",\"2020-12-29T00:00:00\",\"2020-12-30T00:00:00\",\"2020-12-31T00:00:00\",\"2021-01-04T00:00:00\",\"2021-01-05T00:00:00\",\"2021-01-06T00:00:00\",\"2021-01-07T00:00:00\",\"2021-01-08T00:00:00\",\"2021-01-11T00:00:00\",\"2021-01-12T00:00:00\",\"2021-01-13T00:00:00\",\"2021-01-14T00:00:00\",\"2021-01-15T00:00:00\",\"2021-01-19T00:00:00\",\"2021-01-20T00:00:00\",\"2021-01-21T00:00:00\",\"2021-01-22T00:00:00\",\"2021-01-25T00:00:00\",\"2021-01-26T00:00:00\",\"2021-01-27T00:00:00\",\"2021-01-28T00:00:00\",\"2021-01-29T00:00:00\",\"2021-02-01T00:00:00\",\"2021-02-02T00:00:00\",\"2021-02-03T00:00:00\",\"2021-02-04T00:00:00\",\"2021-02-05T00:00:00\",\"2021-02-08T00:00:00\",\"2021-02-09T00:00:00\",\"2021-02-10T00:00:00\",\"2021-02-11T00:00:00\",\"2021-02-12T00:00:00\",\"2021-02-16T00:00:00\",\"2021-02-17T00:00:00\",\"2021-02-18T00:00:00\",\"2021-02-19T00:00:00\",\"2021-02-22T00:00:00\",\"2021-02-23T00:00:00\",\"2021-02-24T00:00:00\",\"2021-02-25T00:00:00\",\"2021-02-26T00:00:00\",\"2021-03-01T00:00:00\",\"2021-03-02T00:00:00\",\"2021-03-03T00:00:00\",\"2021-03-04T00:00:00\",\"2021-03-05T00:00:00\",\"2021-03-08T00:00:00\",\"2021-03-09T00:00:00\",\"2021-03-10T00:00:00\",\"2021-03-11T00:00:00\",\"2021-03-12T00:00:00\",\"2021-03-15T00:00:00\",\"2021-03-16T00:00:00\",\"2021-03-17T00:00:00\",\"2021-03-18T00:00:00\",\"2021-03-19T00:00:00\",\"2021-03-22T00:00:00\",\"2021-03-23T00:00:00\",\"2021-03-24T00:00:00\",\"2021-03-25T00:00:00\",\"2021-03-26T00:00:00\",\"2021-03-29T00:00:00\",\"2021-03-30T00:00:00\",\"2021-03-31T00:00:00\",\"2021-04-01T00:00:00\",\"2021-04-05T00:00:00\",\"2021-04-06T00:00:00\",\"2021-04-07T00:00:00\",\"2021-04-08T00:00:00\",\"2021-04-09T00:00:00\",\"2021-04-12T00:00:00\",\"2021-04-13T00:00:00\",\"2021-04-14T00:00:00\",\"2021-04-15T00:00:00\",\"2021-04-16T00:00:00\",\"2021-04-19T00:00:00\",\"2021-04-20T00:00:00\",\"2021-04-21T00:00:00\",\"2021-04-22T00:00:00\",\"2021-04-23T00:00:00\",\"2021-04-26T00:00:00\",\"2021-04-27T00:00:00\",\"2021-04-28T00:00:00\",\"2021-04-29T00:00:00\",\"2021-04-30T00:00:00\",\"2021-05-03T00:00:00\",\"2021-05-04T00:00:00\",\"2021-05-05T00:00:00\",\"2021-05-06T00:00:00\",\"2021-05-07T00:00:00\",\"2021-05-10T00:00:00\",\"2021-05-11T00:00:00\",\"2021-05-12T00:00:00\",\"2021-05-13T00:00:00\",\"2021-05-14T00:00:00\",\"2021-05-17T00:00:00\",\"2021-05-18T00:00:00\",\"2021-05-19T00:00:00\",\"2021-05-20T00:00:00\",\"2021-05-21T00:00:00\",\"2021-05-24T00:00:00\",\"2021-05-25T00:00:00\",\"2021-05-26T00:00:00\",\"2021-05-27T00:00:00\",\"2021-05-28T00:00:00\",\"2021-06-01T00:00:00\",\"2021-06-02T00:00:00\",\"2021-06-03T00:00:00\",\"2021-06-04T00:00:00\",\"2021-06-07T00:00:00\",\"2021-06-08T00:00:00\",\"2021-06-09T00:00:00\",\"2021-06-10T00:00:00\",\"2021-06-11T00:00:00\",\"2021-06-14T00:00:00\",\"2021-06-15T00:00:00\",\"2021-06-16T00:00:00\",\"2021-06-17T00:00:00\",\"2021-06-18T00:00:00\",\"2021-06-21T00:00:00\",\"2021-06-22T00:00:00\",\"2021-06-23T00:00:00\",\"2021-06-24T00:00:00\",\"2021-06-25T00:00:00\",\"2021-06-28T00:00:00\",\"2021-06-29T00:00:00\",\"2021-06-30T00:00:00\",\"2021-07-01T00:00:00\",\"2021-07-02T00:00:00\",\"2021-07-06T00:00:00\",\"2021-07-07T00:00:00\",\"2021-07-08T00:00:00\",\"2021-07-09T00:00:00\",\"2021-07-12T00:00:00\",\"2021-07-13T00:00:00\",\"2021-07-14T00:00:00\",\"2021-07-15T00:00:00\",\"2021-07-16T00:00:00\",\"2021-07-19T00:00:00\",\"2021-07-20T00:00:00\",\"2021-07-21T00:00:00\",\"2021-07-22T00:00:00\",\"2021-07-23T00:00:00\",\"2021-07-26T00:00:00\",\"2021-07-27T00:00:00\",\"2021-07-28T00:00:00\",\"2021-07-29T00:00:00\",\"2021-07-30T00:00:00\",\"2021-08-02T00:00:00\",\"2021-08-03T00:00:00\",\"2021-08-04T00:00:00\",\"2021-08-05T00:00:00\",\"2021-08-06T00:00:00\",\"2021-08-09T00:00:00\",\"2021-08-10T00:00:00\",\"2021-08-11T00:00:00\",\"2021-08-12T00:00:00\",\"2021-08-13T00:00:00\",\"2021-08-16T00:00:00\",\"2021-08-17T00:00:00\",\"2021-08-18T00:00:00\",\"2021-08-19T00:00:00\",\"2021-08-20T00:00:00\",\"2021-08-23T00:00:00\",\"2021-08-24T00:00:00\",\"2021-08-25T00:00:00\",\"2021-08-26T00:00:00\",\"2021-08-27T00:00:00\",\"2021-08-30T00:00:00\",\"2021-08-31T00:00:00\",\"2021-09-01T00:00:00\",\"2021-09-02T00:00:00\",\"2021-09-03T00:00:00\",\"2021-09-07T00:00:00\",\"2021-09-08T00:00:00\",\"2021-09-09T00:00:00\",\"2021-09-10T00:00:00\",\"2021-09-13T00:00:00\",\"2021-09-14T00:00:00\",\"2021-09-15T00:00:00\",\"2021-09-16T00:00:00\",\"2021-09-17T00:00:00\",\"2021-09-20T00:00:00\",\"2021-09-21T00:00:00\",\"2021-09-22T00:00:00\",\"2021-09-23T00:00:00\",\"2021-09-24T00:00:00\",\"2021-09-27T00:00:00\",\"2021-09-28T00:00:00\",\"2021-09-29T00:00:00\",\"2021-09-30T00:00:00\",\"2021-10-01T00:00:00\",\"2021-10-04T00:00:00\",\"2021-10-05T00:00:00\",\"2021-10-06T00:00:00\",\"2021-10-07T00:00:00\",\"2021-10-08T00:00:00\",\"2021-10-11T00:00:00\",\"2021-10-12T00:00:00\",\"2021-10-13T00:00:00\",\"2021-10-14T00:00:00\",\"2021-10-15T00:00:00\",\"2021-10-18T00:00:00\",\"2021-10-19T00:00:00\",\"2021-10-20T00:00:00\",\"2021-10-21T00:00:00\",\"2021-10-22T00:00:00\",\"2021-10-25T00:00:00\",\"2021-10-26T00:00:00\",\"2021-10-27T00:00:00\",\"2021-10-28T00:00:00\",\"2021-10-29T00:00:00\",\"2021-11-01T00:00:00\",\"2021-11-02T00:00:00\",\"2021-11-03T00:00:00\",\"2021-11-04T00:00:00\",\"2021-11-05T00:00:00\",\"2021-11-08T00:00:00\",\"2021-11-09T00:00:00\",\"2021-11-10T00:00:00\",\"2021-11-11T00:00:00\",\"2021-11-12T00:00:00\",\"2021-11-15T00:00:00\",\"2021-11-16T00:00:00\",\"2021-11-17T00:00:00\",\"2021-11-18T00:00:00\",\"2021-11-19T00:00:00\",\"2021-11-22T00:00:00\",\"2021-11-23T00:00:00\",\"2021-11-24T00:00:00\",\"2021-11-26T00:00:00\",\"2021-11-29T00:00:00\",\"2021-11-30T00:00:00\",\"2021-12-01T00:00:00\",\"2021-12-02T00:00:00\",\"2021-12-03T00:00:00\",\"2021-12-06T00:00:00\",\"2021-12-07T00:00:00\",\"2021-12-08T00:00:00\",\"2021-12-09T00:00:00\",\"2021-12-10T00:00:00\",\"2021-12-13T00:00:00\",\"2021-12-14T00:00:00\",\"2021-12-15T00:00:00\",\"2021-12-16T00:00:00\",\"2021-12-17T00:00:00\",\"2021-12-20T00:00:00\",\"2021-12-21T00:00:00\",\"2021-12-22T00:00:00\",\"2021-12-23T00:00:00\",\"2021-12-27T00:00:00\",\"2021-12-28T00:00:00\",\"2021-12-29T00:00:00\",\"2021-12-30T00:00:00\",\"2021-12-31T00:00:00\",\"2022-01-03T00:00:00\",\"2022-01-04T00:00:00\",\"2022-01-05T00:00:00\",\"2022-01-06T00:00:00\",\"2022-01-07T00:00:00\",\"2022-01-10T00:00:00\",\"2022-01-11T00:00:00\",\"2022-01-12T00:00:00\",\"2022-01-13T00:00:00\",\"2022-01-14T00:00:00\",\"2022-01-18T00:00:00\",\"2022-01-19T00:00:00\",\"2022-01-20T00:00:00\",\"2022-01-21T00:00:00\",\"2022-01-24T00:00:00\",\"2022-01-25T00:00:00\",\"2022-01-26T00:00:00\",\"2022-01-27T00:00:00\",\"2022-01-28T00:00:00\",\"2022-01-31T00:00:00\",\"2022-02-01T00:00:00\",\"2022-02-02T00:00:00\",\"2022-02-03T00:00:00\",\"2022-02-04T00:00:00\",\"2022-02-07T00:00:00\",\"2022-02-08T00:00:00\",\"2022-02-09T00:00:00\",\"2022-02-10T00:00:00\",\"2022-02-11T00:00:00\",\"2022-02-14T00:00:00\",\"2022-02-15T00:00:00\",\"2022-02-16T00:00:00\",\"2022-02-17T00:00:00\",\"2022-02-18T00:00:00\"],\"xaxis\":\"x\",\"y\":[100.0,100.0,100.04000091552734,100.02999877929688,99.95999908447266,99.99500274658205,99.9800033569336,99.97000122070312,99.98999786376952,100.0,100.0,99.95999908447266,99.91999816894533,99.84709930419922,99.83999633789062,99.77999877929688,99.80999755859376,99.88999938964844,99.93000030517578,99.91000366210938,99.81999969482422,99.69989776611328,99.70240020751952,99.66500091552734,99.9800033569336,99.99870300292967,99.94000244140624,99.74629974365234,99.68900299072266,99.66999816894533,99.79000091552734,99.77059936523438,99.8000030517578,99.8499984741211,99.8499984741211,99.88999938964844,99.94000244140624,99.9000015258789,99.88500213623048,99.95999908447266,99.98999786376952,100.06999969482422,99.91899871826172,99.875,99.9749984741211,99.86080169677734,99.9800033569336,100.00900268554688,99.86000061035156,99.9499969482422,100.01609802246094,100.0199966430664,100.01000213623048,100.00499725341795,100.08999633789062,100.0000991821289,99.98999786376952,100.02999877929688,100.0,100.02670288085938,100.06300354003906,100.06500244140624,100.10459899902344,100.16000366210938,100.1229019165039,100.07990264892578,99.87460327148438,99.83000183105467,99.7249984741211,99.66500091552734,99.66470336914062,99.75689697265624,99.81999969482422,99.80770111083984,99.83499908447266,99.83570098876952,99.79499816894533,99.83489990234376,99.91719818115234,99.9499969482422,99.89630126953124,99.85489654541016,99.84929656982422,99.87999725341795,99.80960083007812,99.8000030517578,99.78500366210938,99.7615966796875,99.80999755859376,99.83999633789062,99.87139892578124,99.86509704589844,99.81900024414062,99.5999984741211,99.58000183105467,99.58499908447266,99.45500183105467,99.3550033569336,99.4198989868164,99.3644027709961,98.91010284423828,98.98310089111328,99.10759735107422,99.19000244140624,99.01180267333984,98.84500122070312,98.76000213623048,98.58000183105467,98.64199829101562,98.73919677734376,98.8416976928711,98.5999984741211,98.61830139160156,98.62940216064452,98.70149993896484,98.5167007446289,98.47730255126952,98.56500244140624,98.6876983642578,98.72579956054688,98.73179626464844,98.66000366210938,98.5365982055664,98.51280212402344,98.5146026611328,98.6449966430664,98.52320098876952,98.71089935302734,98.7300033569336,98.81500244140624,98.75569915771484,98.70919799804688,98.8228988647461,98.81089782714844,99.0500030517578,100.88999938964844,99.12999725341795,99.3000030517578,99.01000213623048,99.04000091552734,99.01000213623048,99.0,98.9499969482422,98.88639831542967,98.9000015258789,98.93000030517578,98.94499969482422,99.0500030517578,99.05999755859376,99.10099792480467,99.21499633789062,99.1999969482422,99.11000061035156,99.11000061035156,99.11000061035156,99.11000061035156,99.11000061035156,99.11000061035156,99.11000061035156,99.11000061035156,99.11000061035156,99.11000061035156,99.11000061035156,99.11000061035156,99.11000061035156,99.11000061035156,99.11000061035156,99.11000061035156,99.11000061035156,99.11000061035156,99.11000061035156,99.11000061035156,99.11000061035156,99.11000061035156,99.11000061035156,99.11000061035156,99.11000061035156,99.11000061035156,99.11000061035156,99.11000061035156,99.11000061035156,99.11000061035156,99.11000061035156,99.11000061035156,99.11000061035156,99.11000061035156,99.11000061035156,99.11000061035156,99.11000061035156,99.11000061035156,99.11000061035156,99.11000061035156,99.11000061035156,99.11000061035156,99.11000061035156,99.11000061035156,99.11000061035156,99.11000061035156,99.11000061035156,99.66500091552734,99.7073974609375,99.55500030517578,99.64520263671876,99.69000244140624,99.6750030517578,99.71540069580078,99.75499725341795,99.70369720458984,99.77670288085938,99.9010009765625,99.90470123291016,99.84660339355467,99.73500061035156,99.55850219726562,99.47740173339844,99.3948974609375,99.46929931640624,99.4489974975586,99.5824966430664,99.64959716796876,99.5999984741211,99.5749969482422,99.6050033569336,99.5696029663086,99.59320068359376,99.58000183105467,99.44499969482422,99.45850372314452,99.5864028930664,99.68499755859376,99.69499969482422,99.71900177001952,99.76000213623048,99.75,99.57599639892578,99.61000061035156,99.7249984741211,99.63500213623048,99.61499786376952,99.73500061035156,99.70989990234376,99.58000183105467,99.46499633789062,99.625,99.58999633789062,99.5500030517578,99.39990234375,99.1999969482422,99.18000030517578,98.96499633789062,98.98490142822266,99.0199966430664,99.18000030517578,99.1500015258789,99.06500244140624,99.05999755859376,98.91500091552734,98.86000061035156,98.76499938964844,98.8249969482422,98.83699798583984,98.94000244140624,98.7750015258789,98.66999816894533,98.59500122070312,98.69000244140624,98.4749984741211,98.51180267333984,98.56999969482422,98.62999725341795,98.7699966430664,98.6500015258789,98.68060302734376,98.68000030517578,98.75,98.7699966430664,98.91010284423828,99.11000061035156,98.97989654541016,99.06400299072266,98.6999969482422,98.58499908447266,98.7300033569336,98.5071029663086,98.5000991821289,98.52999877929688,98.63999938964844,98.6050033569336,98.2699966430664,98.17250061035156,98.18499755859376,98.5998992919922,98.58999633789062,98.88999938964844,98.61270141601562,98.5824966430664,98.80339813232422,98.59500122070312,98.51000213623048,98.44499969482422,98.49459838867188,98.51000213623048,98.63500213623048,98.54499816894533,98.443603515625,98.65119934082033,98.63999938964844,98.6449966430664,98.5,98.591796875,98.5417022705078,98.5500030517578,98.61000061035156,98.48500061035156,98.6094970703125,98.58499908447266,98.30999755859376,98.29149627685548,98.2699966430664,97.98500061035156,97.89459991455078,97.9000015258789,97.92230224609376,97.9250030517578,97.99099731445312,97.80850219726562,97.44000244140624,97.50499725341795,97.50260162353516,97.69000244140624,97.83999633789062,97.67009735107422,97.3395004272461,97.38899993896484,97.41210174560548,97.45099639892578,97.40499877929688,97.47419738769533,97.30989837646484,96.9290008544922,96.96839904785156,96.82769775390624,96.8550033569336,96.28379821777344,96.6854019165039,96.42430114746094,96.35900115966795,96.43409729003906,96.56719970703124,96.64230346679688],\"yaxis\":\"y\",\"type\":\"scattergl\"},{\"hovertemplate\":\"variable=Low<br>Date=%{x}<br>Stock value=%{y}<extra></extra>\",\"legendgroup\":\"Low\",\"line\":{\"color\":\"#ab63fa\",\"dash\":\"solid\"},\"marker\":{\"symbol\":\"circle\"},\"mode\":\"lines\",\"name\":\"Stock Low Price\",\"showlegend\":true,\"x\":[\"2020-10-01T00:00:00\",\"2020-10-02T00:00:00\",\"2020-10-05T00:00:00\",\"2020-10-06T00:00:00\",\"2020-10-07T00:00:00\",\"2020-10-08T00:00:00\",\"2020-10-09T00:00:00\",\"2020-10-12T00:00:00\",\"2020-10-13T00:00:00\",\"2020-10-14T00:00:00\",\"2020-10-15T00:00:00\",\"2020-10-16T00:00:00\",\"2020-10-19T00:00:00\",\"2020-10-20T00:00:00\",\"2020-10-21T00:00:00\",\"2020-10-22T00:00:00\",\"2020-10-23T00:00:00\",\"2020-10-26T00:00:00\",\"2020-10-27T00:00:00\",\"2020-10-28T00:00:00\",\"2020-10-29T00:00:00\",\"2020-10-30T00:00:00\",\"2020-11-02T00:00:00\",\"2020-11-03T00:00:00\",\"2020-11-04T00:00:00\",\"2020-11-05T00:00:00\",\"2020-11-06T00:00:00\",\"2020-11-09T00:00:00\",\"2020-11-10T00:00:00\",\"2020-11-11T00:00:00\",\"2020-11-12T00:00:00\",\"2020-11-13T00:00:00\",\"2020-11-16T00:00:00\",\"2020-11-17T00:00:00\",\"2020-11-18T00:00:00\",\"2020-11-19T00:00:00\",\"2020-11-20T00:00:00\",\"2020-11-23T00:00:00\",\"2020-11-24T00:00:00\",\"2020-11-25T00:00:00\",\"2020-11-27T00:00:00\",\"2020-11-30T00:00:00\",\"2020-12-01T00:00:00\",\"2020-12-02T00:00:00\",\"2020-12-03T00:00:00\",\"2020-12-04T00:00:00\",\"2020-12-07T00:00:00\",\"2020-12-08T00:00:00\",\"2020-12-09T00:00:00\",\"2020-12-10T00:00:00\",\"2020-12-11T00:00:00\",\"2020-12-14T00:00:00\",\"2020-12-15T00:00:00\",\"2020-12-16T00:00:00\",\"2020-12-17T00:00:00\",\"2020-12-18T00:00:00\",\"2020-12-21T00:00:00\",\"2020-12-22T00:00:00\",\"2020-12-23T00:00:00\",\"2020-12-24T00:00:00\",\"2020-12-28T00:00:00\",\"2020-12-29T00:00:00\",\"2020-12-30T00:00:00\",\"2020-12-31T00:00:00\",\"2021-01-04T00:00:00\",\"2021-01-05T00:00:00\",\"2021-01-06T00:00:00\",\"2021-01-07T00:00:00\",\"2021-01-08T00:00:00\",\"2021-01-11T00:00:00\",\"2021-01-12T00:00:00\",\"2021-01-13T00:00:00\",\"2021-01-14T00:00:00\",\"2021-01-15T00:00:00\",\"2021-01-19T00:00:00\",\"2021-01-20T00:00:00\",\"2021-01-21T00:00:00\",\"2021-01-22T00:00:00\",\"2021-01-25T00:00:00\",\"2021-01-26T00:00:00\",\"2021-01-27T00:00:00\",\"2021-01-28T00:00:00\",\"2021-01-29T00:00:00\",\"2021-02-01T00:00:00\",\"2021-02-02T00:00:00\",\"2021-02-03T00:00:00\",\"2021-02-04T00:00:00\",\"2021-02-05T00:00:00\",\"2021-02-08T00:00:00\",\"2021-02-09T00:00:00\",\"2021-02-10T00:00:00\",\"2021-02-11T00:00:00\",\"2021-02-12T00:00:00\",\"2021-02-16T00:00:00\",\"2021-02-17T00:00:00\",\"2021-02-18T00:00:00\",\"2021-02-19T00:00:00\",\"2021-02-22T00:00:00\",\"2021-02-23T00:00:00\",\"2021-02-24T00:00:00\",\"2021-02-25T00:00:00\",\"2021-02-26T00:00:00\",\"2021-03-01T00:00:00\",\"2021-03-02T00:00:00\",\"2021-03-03T00:00:00\",\"2021-03-04T00:00:00\",\"2021-03-05T00:00:00\",\"2021-03-08T00:00:00\",\"2021-03-09T00:00:00\",\"2021-03-10T00:00:00\",\"2021-03-11T00:00:00\",\"2021-03-12T00:00:00\",\"2021-03-15T00:00:00\",\"2021-03-16T00:00:00\",\"2021-03-17T00:00:00\",\"2021-03-18T00:00:00\",\"2021-03-19T00:00:00\",\"2021-03-22T00:00:00\",\"2021-03-23T00:00:00\",\"2021-03-24T00:00:00\",\"2021-03-25T00:00:00\",\"2021-03-26T00:00:00\",\"2021-03-29T00:00:00\",\"2021-03-30T00:00:00\",\"2021-03-31T00:00:00\",\"2021-04-01T00:00:00\",\"2021-04-05T00:00:00\",\"2021-04-06T00:00:00\",\"2021-04-07T00:00:00\",\"2021-04-08T00:00:00\",\"2021-04-09T00:00:00\",\"2021-04-12T00:00:00\",\"2021-04-13T00:00:00\",\"2021-04-14T00:00:00\",\"2021-04-15T00:00:00\",\"2021-04-16T00:00:00\",\"2021-04-19T00:00:00\",\"2021-04-20T00:00:00\",\"2021-04-21T00:00:00\",\"2021-04-22T00:00:00\",\"2021-04-23T00:00:00\",\"2021-04-26T00:00:00\",\"2021-04-27T00:00:00\",\"2021-04-28T00:00:00\",\"2021-04-29T00:00:00\",\"2021-04-30T00:00:00\",\"2021-05-03T00:00:00\",\"2021-05-04T00:00:00\",\"2021-05-05T00:00:00\",\"2021-05-06T00:00:00\",\"2021-05-07T00:00:00\",\"2021-05-10T00:00:00\",\"2021-05-11T00:00:00\",\"2021-05-12T00:00:00\",\"2021-05-13T00:00:00\",\"2021-05-14T00:00:00\",\"2021-05-17T00:00:00\",\"2021-05-18T00:00:00\",\"2021-05-19T00:00:00\",\"2021-05-20T00:00:00\",\"2021-05-21T00:00:00\",\"2021-05-24T00:00:00\",\"2021-05-25T00:00:00\",\"2021-05-26T00:00:00\",\"2021-05-27T00:00:00\",\"2021-05-28T00:00:00\",\"2021-06-01T00:00:00\",\"2021-06-02T00:00:00\",\"2021-06-03T00:00:00\",\"2021-06-04T00:00:00\",\"2021-06-07T00:00:00\",\"2021-06-08T00:00:00\",\"2021-06-09T00:00:00\",\"2021-06-10T00:00:00\",\"2021-06-11T00:00:00\",\"2021-06-14T00:00:00\",\"2021-06-15T00:00:00\",\"2021-06-16T00:00:00\",\"2021-06-17T00:00:00\",\"2021-06-18T00:00:00\",\"2021-06-21T00:00:00\",\"2021-06-22T00:00:00\",\"2021-06-23T00:00:00\",\"2021-06-24T00:00:00\",\"2021-06-25T00:00:00\",\"2021-06-28T00:00:00\",\"2021-06-29T00:00:00\",\"2021-06-30T00:00:00\",\"2021-07-01T00:00:00\",\"2021-07-02T00:00:00\",\"2021-07-06T00:00:00\",\"2021-07-07T00:00:00\",\"2021-07-08T00:00:00\",\"2021-07-09T00:00:00\",\"2021-07-12T00:00:00\",\"2021-07-13T00:00:00\",\"2021-07-14T00:00:00\",\"2021-07-15T00:00:00\",\"2021-07-16T00:00:00\",\"2021-07-19T00:00:00\",\"2021-07-20T00:00:00\",\"2021-07-21T00:00:00\",\"2021-07-22T00:00:00\",\"2021-07-23T00:00:00\",\"2021-07-26T00:00:00\",\"2021-07-27T00:00:00\",\"2021-07-28T00:00:00\",\"2021-07-29T00:00:00\",\"2021-07-30T00:00:00\",\"2021-08-02T00:00:00\",\"2021-08-03T00:00:00\",\"2021-08-04T00:00:00\",\"2021-08-05T00:00:00\",\"2021-08-06T00:00:00\",\"2021-08-09T00:00:00\",\"2021-08-10T00:00:00\",\"2021-08-11T00:00:00\",\"2021-08-12T00:00:00\",\"2021-08-13T00:00:00\",\"2021-08-16T00:00:00\",\"2021-08-17T00:00:00\",\"2021-08-18T00:00:00\",\"2021-08-19T00:00:00\",\"2021-08-20T00:00:00\",\"2021-08-23T00:00:00\",\"2021-08-24T00:00:00\",\"2021-08-25T00:00:00\",\"2021-08-26T00:00:00\",\"2021-08-27T00:00:00\",\"2021-08-30T00:00:00\",\"2021-08-31T00:00:00\",\"2021-09-01T00:00:00\",\"2021-09-02T00:00:00\",\"2021-09-03T00:00:00\",\"2021-09-07T00:00:00\",\"2021-09-08T00:00:00\",\"2021-09-09T00:00:00\",\"2021-09-10T00:00:00\",\"2021-09-13T00:00:00\",\"2021-09-14T00:00:00\",\"2021-09-15T00:00:00\",\"2021-09-16T00:00:00\",\"2021-09-17T00:00:00\",\"2021-09-20T00:00:00\",\"2021-09-21T00:00:00\",\"2021-09-22T00:00:00\",\"2021-09-23T00:00:00\",\"2021-09-24T00:00:00\",\"2021-09-27T00:00:00\",\"2021-09-28T00:00:00\",\"2021-09-29T00:00:00\",\"2021-09-30T00:00:00\",\"2021-10-01T00:00:00\",\"2021-10-04T00:00:00\",\"2021-10-05T00:00:00\",\"2021-10-06T00:00:00\",\"2021-10-07T00:00:00\",\"2021-10-08T00:00:00\",\"2021-10-11T00:00:00\",\"2021-10-12T00:00:00\",\"2021-10-13T00:00:00\",\"2021-10-14T00:00:00\",\"2021-10-15T00:00:00\",\"2021-10-18T00:00:00\",\"2021-10-19T00:00:00\",\"2021-10-20T00:00:00\",\"2021-10-21T00:00:00\",\"2021-10-22T00:00:00\",\"2021-10-25T00:00:00\",\"2021-10-26T00:00:00\",\"2021-10-27T00:00:00\",\"2021-10-28T00:00:00\",\"2021-10-29T00:00:00\",\"2021-11-01T00:00:00\",\"2021-11-02T00:00:00\",\"2021-11-03T00:00:00\",\"2021-11-04T00:00:00\",\"2021-11-05T00:00:00\",\"2021-11-08T00:00:00\",\"2021-11-09T00:00:00\",\"2021-11-10T00:00:00\",\"2021-11-11T00:00:00\",\"2021-11-12T00:00:00\",\"2021-11-15T00:00:00\",\"2021-11-16T00:00:00\",\"2021-11-17T00:00:00\",\"2021-11-18T00:00:00\",\"2021-11-19T00:00:00\",\"2021-11-22T00:00:00\",\"2021-11-23T00:00:00\",\"2021-11-24T00:00:00\",\"2021-11-26T00:00:00\",\"2021-11-29T00:00:00\",\"2021-11-30T00:00:00\",\"2021-12-01T00:00:00\",\"2021-12-02T00:00:00\",\"2021-12-03T00:00:00\",\"2021-12-06T00:00:00\",\"2021-12-07T00:00:00\",\"2021-12-08T00:00:00\",\"2021-12-09T00:00:00\",\"2021-12-10T00:00:00\",\"2021-12-13T00:00:00\",\"2021-12-14T00:00:00\",\"2021-12-15T00:00:00\",\"2021-12-16T00:00:00\",\"2021-12-17T00:00:00\",\"2021-12-20T00:00:00\",\"2021-12-21T00:00:00\",\"2021-12-22T00:00:00\",\"2021-12-23T00:00:00\",\"2021-12-27T00:00:00\",\"2021-12-28T00:00:00\",\"2021-12-29T00:00:00\",\"2021-12-30T00:00:00\",\"2021-12-31T00:00:00\",\"2022-01-03T00:00:00\",\"2022-01-04T00:00:00\",\"2022-01-05T00:00:00\",\"2022-01-06T00:00:00\",\"2022-01-07T00:00:00\",\"2022-01-10T00:00:00\",\"2022-01-11T00:00:00\",\"2022-01-12T00:00:00\",\"2022-01-13T00:00:00\",\"2022-01-14T00:00:00\",\"2022-01-18T00:00:00\",\"2022-01-19T00:00:00\",\"2022-01-20T00:00:00\",\"2022-01-21T00:00:00\",\"2022-01-24T00:00:00\",\"2022-01-25T00:00:00\",\"2022-01-26T00:00:00\",\"2022-01-27T00:00:00\",\"2022-01-28T00:00:00\",\"2022-01-31T00:00:00\",\"2022-02-01T00:00:00\",\"2022-02-02T00:00:00\",\"2022-02-03T00:00:00\",\"2022-02-04T00:00:00\",\"2022-02-07T00:00:00\",\"2022-02-08T00:00:00\",\"2022-02-09T00:00:00\",\"2022-02-10T00:00:00\",\"2022-02-11T00:00:00\",\"2022-02-14T00:00:00\",\"2022-02-15T00:00:00\",\"2022-02-16T00:00:00\",\"2022-02-17T00:00:00\",\"2022-02-18T00:00:00\"],\"xaxis\":\"x\",\"y\":[100.0,100.0,99.99500274658205,100.01000213623048,99.91999816894533,99.9717025756836,99.94000244140624,99.94000244140624,99.96320343017578,99.9749984741211,99.94499969482422,99.9250030517578,99.88999938964844,99.84709930419922,99.82430267333984,99.75,99.79000091552734,99.86000061035156,99.91500091552734,99.88500213623048,99.7699966430664,99.69989776611328,99.70240020751952,99.66500091552734,99.95899963378906,99.99870300292967,99.88999938964844,99.70099639892578,99.63999938964844,99.6552963256836,99.77410125732422,99.77059936523438,99.7699966430664,99.8499984741211,99.8499984741211,99.88999938964844,99.91000366210938,99.88500213623048,99.88500213623048,99.91000366210938,99.98999786376952,100.04499816894533,99.87999725341795,99.875,99.9749984741211,99.86080169677734,99.95500183105467,99.97000122070312,99.84500122070312,99.9031982421875,100.01609802246094,99.99500274658205,100.00499725341795,100.00499725341795,99.99500274658205,99.98500061035156,99.96009826660156,100.02999877929688,99.98999786376952,100.02670288085938,100.06300354003906,100.06500244140624,100.10459899902344,100.15499877929688,100.1229019165039,100.0500030517578,99.85900115966795,99.78500366210938,99.7249984741211,99.66500091552734,99.66470336914062,99.75689697265624,99.72699737548828,99.80770111083984,99.83499908447266,99.83570098876952,99.79499816894533,99.83489990234376,99.91719818115234,99.88999938964844,99.89630126953124,99.85489654541016,99.8489990234375,99.87100219726562,99.80960083007812,99.76499938964844,99.78500366210938,99.7615966796875,99.75240325927734,99.7699966430664,99.8499984741211,99.8550033569336,99.78459930419922,99.5290985107422,99.55999755859376,99.58499908447266,99.45500183105467,99.3550033569336,99.3988037109375,99.3644027709961,98.7531967163086,98.98310089111328,99.05719757080078,99.16000366210938,98.98999786376952,98.84500122070312,98.75,98.53050231933594,98.625,98.73919677734376,98.8416976928711,98.58000183105467,98.61830139160156,98.62940216064452,98.54000091552734,98.48979949951172,98.47730255126952,98.54499816894533,98.63999938964844,98.72579956054688,98.73179626464844,98.63500213623048,98.5365982055664,98.51280212402344,98.4800033569336,98.58999633789062,98.4990005493164,98.63999938964844,98.72000122070312,98.81500244140624,98.75569915771484,98.70919799804688,98.7300033569336,98.77999877929688,99.00830078125,98.7699966430664,98.98500061035156,98.79000091552734,98.9000015258789,98.86000061035156,98.88009643554688,98.908203125,98.81999969482422,98.76000213623048,98.8000030517578,98.87999725341795,98.91000366210938,98.95999908447266,98.99400329589844,99.03099822998048,99.14749908447266,99.06999969482422,99.11000061035156,99.11000061035156,99.11000061035156,99.11000061035156,99.11000061035156,99.11000061035156,99.11000061035156,99.11000061035156,99.11000061035156,99.11000061035156,99.11000061035156,99.11000061035156,99.11000061035156,99.11000061035156,99.11000061035156,99.11000061035156,99.11000061035156,99.11000061035156,99.11000061035156,99.11000061035156,99.11000061035156,99.11000061035156,99.11000061035156,99.11000061035156,99.11000061035156,99.11000061035156,99.11000061035156,99.11000061035156,99.11000061035156,99.11000061035156,99.11000061035156,99.11000061035156,99.11000061035156,99.11000061035156,99.11000061035156,99.11000061035156,99.11000061035156,99.11000061035156,99.11000061035156,99.11000061035156,99.11000061035156,99.11000061035156,99.11000061035156,99.11000061035156,99.11000061035156,99.11000061035156,99.11000061035156,99.58499908447266,99.7073974609375,99.54830169677734,99.63819885253906,99.62010192871094,99.63899993896484,99.71540069580078,99.69499969482422,99.68000030517578,99.6999969482422,99.9010009765625,99.90470123291016,99.84660339355467,99.73500061035156,99.55850219726562,99.47740173339844,99.38929748535156,99.38999938964844,99.44499969482422,99.5824966430664,99.63999938964844,99.18000030517578,99.5500030517578,99.6050033569336,99.5696029663086,99.59320068359376,99.53500366210938,99.44499969482422,99.44000244140624,99.5864028930664,99.68499755859376,99.63999938964844,99.68000030517578,99.72000122070312,99.69000244140624,99.55509948730467,99.61000061035156,99.7249984741211,99.63500213623048,99.56439971923828,99.69000244140624,99.66000366210938,99.52999877929688,99.38999938964844,99.41010284423828,99.58779907226562,99.5500030517578,99.26000213623048,99.19000244140624,99.18000030517578,98.96499633789062,98.98490142822266,99.0199966430664,99.18000030517578,99.1500015258789,99.06500244140624,99.05999755859376,98.90969848632812,98.86000061035156,98.72440338134766,98.8249969482422,98.83699798583984,98.94000244140624,98.7750015258789,98.66999816894533,98.58000183105467,98.56999969482422,98.4749984741211,98.4000015258789,98.56999969482422,98.62999725341795,98.7699966430664,98.63999938964844,98.68060302734376,98.52999877929688,98.75,98.69499969482422,98.91010284423828,99.01000213623048,98.87999725341795,99.06400299072266,98.6999969482422,98.58499908447266,98.5500030517578,98.5071029663086,98.4499969482422,98.52999877929688,98.58000183105467,98.6050033569336,98.2699966430664,98.17250061035156,98.18499755859376,98.5479965209961,98.5500030517578,98.6405029296875,98.61270141601562,98.5824966430664,98.76809692382812,98.59500122070312,98.51000213623048,98.39099884033205,98.46880340576172,98.51000213623048,98.56659698486328,98.54499816894533,98.43399810791016,98.62449645996094,98.63999938964844,98.6449966430664,98.5,98.591796875,98.52999877929688,98.2699966430664,98.58999633789062,98.47000122070312,98.6094970703125,98.58499908447266,98.2947006225586,98.27999877929688,98.09010314941406,97.98500061035156,97.89459991455078,97.83000183105467,97.8499984741211,97.91999816894533,97.99099731445312,97.73500061035156,97.41069793701172,97.49420166015624,97.50260162353516,97.69000244140624,97.71019744873048,97.63159942626952,97.3395004272461,97.30999755859376,97.31099700927734,97.41739654541016,97.4000015258789,97.47419738769533,97.25499725341795,96.9250030517578,96.95040130615234,96.82769775390624,96.8550033569336,96.28379821777344,96.6854019165039,96.42430114746094,96.3550033569336,96.43409729003906,96.56719970703124,96.64230346679688],\"yaxis\":\"y\",\"type\":\"scattergl\"}],                        {\"template\":{\"data\":{\"histogram2dcontour\":[{\"type\":\"histogram2dcontour\",\"colorbar\":{\"outlinewidth\":0,\"ticks\":\"\"},\"colorscale\":[[0.0,\"#0d0887\"],[0.1111111111111111,\"#46039f\"],[0.2222222222222222,\"#7201a8\"],[0.3333333333333333,\"#9c179e\"],[0.4444444444444444,\"#bd3786\"],[0.5555555555555556,\"#d8576b\"],[0.6666666666666666,\"#ed7953\"],[0.7777777777777778,\"#fb9f3a\"],[0.8888888888888888,\"#fdca26\"],[1.0,\"#f0f921\"]]}],\"choropleth\":[{\"type\":\"choropleth\",\"colorbar\":{\"outlinewidth\":0,\"ticks\":\"\"}}],\"histogram2d\":[{\"type\":\"histogram2d\",\"colorbar\":{\"outlinewidth\":0,\"ticks\":\"\"},\"colorscale\":[[0.0,\"#0d0887\"],[0.1111111111111111,\"#46039f\"],[0.2222222222222222,\"#7201a8\"],[0.3333333333333333,\"#9c179e\"],[0.4444444444444444,\"#bd3786\"],[0.5555555555555556,\"#d8576b\"],[0.6666666666666666,\"#ed7953\"],[0.7777777777777778,\"#fb9f3a\"],[0.8888888888888888,\"#fdca26\"],[1.0,\"#f0f921\"]]}],\"heatmap\":[{\"type\":\"heatmap\",\"colorbar\":{\"outlinewidth\":0,\"ticks\":\"\"},\"colorscale\":[[0.0,\"#0d0887\"],[0.1111111111111111,\"#46039f\"],[0.2222222222222222,\"#7201a8\"],[0.3333333333333333,\"#9c179e\"],[0.4444444444444444,\"#bd3786\"],[0.5555555555555556,\"#d8576b\"],[0.6666666666666666,\"#ed7953\"],[0.7777777777777778,\"#fb9f3a\"],[0.8888888888888888,\"#fdca26\"],[1.0,\"#f0f921\"]]}],\"heatmapgl\":[{\"type\":\"heatmapgl\",\"colorbar\":{\"outlinewidth\":0,\"ticks\":\"\"},\"colorscale\":[[0.0,\"#0d0887\"],[0.1111111111111111,\"#46039f\"],[0.2222222222222222,\"#7201a8\"],[0.3333333333333333,\"#9c179e\"],[0.4444444444444444,\"#bd3786\"],[0.5555555555555556,\"#d8576b\"],[0.6666666666666666,\"#ed7953\"],[0.7777777777777778,\"#fb9f3a\"],[0.8888888888888888,\"#fdca26\"],[1.0,\"#f0f921\"]]}],\"contourcarpet\":[{\"type\":\"contourcarpet\",\"colorbar\":{\"outlinewidth\":0,\"ticks\":\"\"}}],\"contour\":[{\"type\":\"contour\",\"colorbar\":{\"outlinewidth\":0,\"ticks\":\"\"},\"colorscale\":[[0.0,\"#0d0887\"],[0.1111111111111111,\"#46039f\"],[0.2222222222222222,\"#7201a8\"],[0.3333333333333333,\"#9c179e\"],[0.4444444444444444,\"#bd3786\"],[0.5555555555555556,\"#d8576b\"],[0.6666666666666666,\"#ed7953\"],[0.7777777777777778,\"#fb9f3a\"],[0.8888888888888888,\"#fdca26\"],[1.0,\"#f0f921\"]]}],\"surface\":[{\"type\":\"surface\",\"colorbar\":{\"outlinewidth\":0,\"ticks\":\"\"},\"colorscale\":[[0.0,\"#0d0887\"],[0.1111111111111111,\"#46039f\"],[0.2222222222222222,\"#7201a8\"],[0.3333333333333333,\"#9c179e\"],[0.4444444444444444,\"#bd3786\"],[0.5555555555555556,\"#d8576b\"],[0.6666666666666666,\"#ed7953\"],[0.7777777777777778,\"#fb9f3a\"],[0.8888888888888888,\"#fdca26\"],[1.0,\"#f0f921\"]]}],\"mesh3d\":[{\"type\":\"mesh3d\",\"colorbar\":{\"outlinewidth\":0,\"ticks\":\"\"}}],\"scatter\":[{\"fillpattern\":{\"fillmode\":\"overlay\",\"size\":10,\"solidity\":0.2},\"type\":\"scatter\"}],\"parcoords\":[{\"type\":\"parcoords\",\"line\":{\"colorbar\":{\"outlinewidth\":0,\"ticks\":\"\"}}}],\"scatterpolargl\":[{\"type\":\"scatterpolargl\",\"marker\":{\"colorbar\":{\"outlinewidth\":0,\"ticks\":\"\"}}}],\"bar\":[{\"error_x\":{\"color\":\"#2a3f5f\"},\"error_y\":{\"color\":\"#2a3f5f\"},\"marker\":{\"line\":{\"color\":\"#E5ECF6\",\"width\":0.5},\"pattern\":{\"fillmode\":\"overlay\",\"size\":10,\"solidity\":0.2}},\"type\":\"bar\"}],\"scattergeo\":[{\"type\":\"scattergeo\",\"marker\":{\"colorbar\":{\"outlinewidth\":0,\"ticks\":\"\"}}}],\"scatterpolar\":[{\"type\":\"scatterpolar\",\"marker\":{\"colorbar\":{\"outlinewidth\":0,\"ticks\":\"\"}}}],\"histogram\":[{\"marker\":{\"pattern\":{\"fillmode\":\"overlay\",\"size\":10,\"solidity\":0.2}},\"type\":\"histogram\"}],\"scattergl\":[{\"type\":\"scattergl\",\"marker\":{\"colorbar\":{\"outlinewidth\":0,\"ticks\":\"\"}}}],\"scatter3d\":[{\"type\":\"scatter3d\",\"line\":{\"colorbar\":{\"outlinewidth\":0,\"ticks\":\"\"}},\"marker\":{\"colorbar\":{\"outlinewidth\":0,\"ticks\":\"\"}}}],\"scattermapbox\":[{\"type\":\"scattermapbox\",\"marker\":{\"colorbar\":{\"outlinewidth\":0,\"ticks\":\"\"}}}],\"scatterternary\":[{\"type\":\"scatterternary\",\"marker\":{\"colorbar\":{\"outlinewidth\":0,\"ticks\":\"\"}}}],\"scattercarpet\":[{\"type\":\"scattercarpet\",\"marker\":{\"colorbar\":{\"outlinewidth\":0,\"ticks\":\"\"}}}],\"carpet\":[{\"aaxis\":{\"endlinecolor\":\"#2a3f5f\",\"gridcolor\":\"white\",\"linecolor\":\"white\",\"minorgridcolor\":\"white\",\"startlinecolor\":\"#2a3f5f\"},\"baxis\":{\"endlinecolor\":\"#2a3f5f\",\"gridcolor\":\"white\",\"linecolor\":\"white\",\"minorgridcolor\":\"white\",\"startlinecolor\":\"#2a3f5f\"},\"type\":\"carpet\"}],\"table\":[{\"cells\":{\"fill\":{\"color\":\"#EBF0F8\"},\"line\":{\"color\":\"white\"}},\"header\":{\"fill\":{\"color\":\"#C8D4E3\"},\"line\":{\"color\":\"white\"}},\"type\":\"table\"}],\"barpolar\":[{\"marker\":{\"line\":{\"color\":\"#E5ECF6\",\"width\":0.5},\"pattern\":{\"fillmode\":\"overlay\",\"size\":10,\"solidity\":0.2}},\"type\":\"barpolar\"}],\"pie\":[{\"automargin\":true,\"type\":\"pie\"}]},\"layout\":{\"autotypenumbers\":\"strict\",\"colorway\":[\"#636efa\",\"#EF553B\",\"#00cc96\",\"#ab63fa\",\"#FFA15A\",\"#19d3f3\",\"#FF6692\",\"#B6E880\",\"#FF97FF\",\"#FECB52\"],\"font\":{\"color\":\"#2a3f5f\"},\"hovermode\":\"closest\",\"hoverlabel\":{\"align\":\"left\"},\"paper_bgcolor\":\"white\",\"plot_bgcolor\":\"#E5ECF6\",\"polar\":{\"bgcolor\":\"#E5ECF6\",\"angularaxis\":{\"gridcolor\":\"white\",\"linecolor\":\"white\",\"ticks\":\"\"},\"radialaxis\":{\"gridcolor\":\"white\",\"linecolor\":\"white\",\"ticks\":\"\"}},\"ternary\":{\"bgcolor\":\"#E5ECF6\",\"aaxis\":{\"gridcolor\":\"white\",\"linecolor\":\"white\",\"ticks\":\"\"},\"baxis\":{\"gridcolor\":\"white\",\"linecolor\":\"white\",\"ticks\":\"\"},\"caxis\":{\"gridcolor\":\"white\",\"linecolor\":\"white\",\"ticks\":\"\"}},\"coloraxis\":{\"colorbar\":{\"outlinewidth\":0,\"ticks\":\"\"}},\"colorscale\":{\"sequential\":[[0.0,\"#0d0887\"],[0.1111111111111111,\"#46039f\"],[0.2222222222222222,\"#7201a8\"],[0.3333333333333333,\"#9c179e\"],[0.4444444444444444,\"#bd3786\"],[0.5555555555555556,\"#d8576b\"],[0.6666666666666666,\"#ed7953\"],[0.7777777777777778,\"#fb9f3a\"],[0.8888888888888888,\"#fdca26\"],[1.0,\"#f0f921\"]],\"sequentialminus\":[[0.0,\"#0d0887\"],[0.1111111111111111,\"#46039f\"],[0.2222222222222222,\"#7201a8\"],[0.3333333333333333,\"#9c179e\"],[0.4444444444444444,\"#bd3786\"],[0.5555555555555556,\"#d8576b\"],[0.6666666666666666,\"#ed7953\"],[0.7777777777777778,\"#fb9f3a\"],[0.8888888888888888,\"#fdca26\"],[1.0,\"#f0f921\"]],\"diverging\":[[0,\"#8e0152\"],[0.1,\"#c51b7d\"],[0.2,\"#de77ae\"],[0.3,\"#f1b6da\"],[0.4,\"#fde0ef\"],[0.5,\"#f7f7f7\"],[0.6,\"#e6f5d0\"],[0.7,\"#b8e186\"],[0.8,\"#7fbc41\"],[0.9,\"#4d9221\"],[1,\"#276419\"]]},\"xaxis\":{\"gridcolor\":\"white\",\"linecolor\":\"white\",\"ticks\":\"\",\"title\":{\"standoff\":15},\"zerolinecolor\":\"white\",\"automargin\":true,\"zerolinewidth\":2},\"yaxis\":{\"gridcolor\":\"white\",\"linecolor\":\"white\",\"ticks\":\"\",\"title\":{\"standoff\":15},\"zerolinecolor\":\"white\",\"automargin\":true,\"zerolinewidth\":2},\"scene\":{\"xaxis\":{\"backgroundcolor\":\"#E5ECF6\",\"gridcolor\":\"white\",\"linecolor\":\"white\",\"showbackground\":true,\"ticks\":\"\",\"zerolinecolor\":\"white\",\"gridwidth\":2},\"yaxis\":{\"backgroundcolor\":\"#E5ECF6\",\"gridcolor\":\"white\",\"linecolor\":\"white\",\"showbackground\":true,\"ticks\":\"\",\"zerolinecolor\":\"white\",\"gridwidth\":2},\"zaxis\":{\"backgroundcolor\":\"#E5ECF6\",\"gridcolor\":\"white\",\"linecolor\":\"white\",\"showbackground\":true,\"ticks\":\"\",\"zerolinecolor\":\"white\",\"gridwidth\":2}},\"shapedefaults\":{\"line\":{\"color\":\"#2a3f5f\"}},\"annotationdefaults\":{\"arrowcolor\":\"#2a3f5f\",\"arrowhead\":0,\"arrowwidth\":1},\"geo\":{\"bgcolor\":\"white\",\"landcolor\":\"#E5ECF6\",\"subunitcolor\":\"white\",\"showland\":true,\"showlakes\":true,\"lakecolor\":\"white\"},\"title\":{\"x\":0.05},\"mapbox\":{\"style\":\"light\"}}},\"xaxis\":{\"anchor\":\"y\",\"domain\":[0.0,1.0],\"title\":{\"text\":\"Date\"},\"showgrid\":false},\"yaxis\":{\"anchor\":\"x\",\"domain\":[0.0,1.0],\"title\":{\"text\":\"Stock value\"},\"showgrid\":false},\"legend\":{\"title\":{\"text\":\"Stock Parameters\"},\"tracegroupgap\":0},\"margin\":{\"t\":60},\"title\":{\"text\":\"Stock analysis chart\"},\"font\":{\"size\":15,\"color\":\"black\"}},                        {\"responsive\": true}                    ).then(function(){\n",
              "                            \n",
              "var gd = document.getElementById('d765d037-5333-4dcc-957e-74b60e3b218c');\n",
              "var x = new MutationObserver(function (mutations, observer) {{\n",
              "        var display = window.getComputedStyle(gd).display;\n",
              "        if (!display || display === 'none') {{\n",
              "            console.log([gd, 'removed!']);\n",
              "            Plotly.purge(gd);\n",
              "            observer.disconnect();\n",
              "        }}\n",
              "}});\n",
              "\n",
              "// Listen for the removal of the full notebook cells\n",
              "var notebookContainer = gd.closest('#notebook-container');\n",
              "if (notebookContainer) {{\n",
              "    x.observe(notebookContainer, {childList: true});\n",
              "}}\n",
              "\n",
              "// Listen for the clearing of the current output cell\n",
              "var outputEl = gd.closest('.output');\n",
              "if (outputEl) {{\n",
              "    x.observe(outputEl, {childList: true});\n",
              "}}\n",
              "\n",
              "                        })                };                            </script>        </div>\n",
              "</body>\n",
              "</html>"
            ]
          },
          "metadata": {}
        }
      ]
    },
    {
      "cell_type": "markdown",
      "source": [
        "# Dropping unecessary columns"
      ],
      "metadata": {
        "id": "Dx1rX4roCxem"
      }
    },
    {
      "cell_type": "code",
      "source": [
        "df.head()"
      ],
      "metadata": {
        "colab": {
          "base_uri": "https://localhost:8080/",
          "height": 206
        },
        "id": "QoGtCLTfBcLM",
        "outputId": "1224a1d2-9f0d-4006-eff1-a45636e5fcbb"
      },
      "execution_count": 55,
      "outputs": [
        {
          "output_type": "execute_result",
          "data": {
            "text/plain": [
              "         Date        Open        High         Low       Close\n",
              "0  2020-10-01  100.000000  100.000000  100.000000  100.000000\n",
              "1  2020-10-02  100.000000  100.000000  100.000000  100.000000\n",
              "2  2020-10-05  100.029999  100.040001   99.995003   99.995003\n",
              "3  2020-10-06  100.010002  100.029999  100.010002  100.029999\n",
              "4  2020-10-07   99.949997   99.959999   99.919998   99.919998"
            ],
            "text/html": [
              "\n",
              "\n",
              "  <div id=\"df-8a323ebb-0e77-475b-9d59-fa59c601a1e9\">\n",
              "    <div class=\"colab-df-container\">\n",
              "      <div>\n",
              "<style scoped>\n",
              "    .dataframe tbody tr th:only-of-type {\n",
              "        vertical-align: middle;\n",
              "    }\n",
              "\n",
              "    .dataframe tbody tr th {\n",
              "        vertical-align: top;\n",
              "    }\n",
              "\n",
              "    .dataframe thead th {\n",
              "        text-align: right;\n",
              "    }\n",
              "</style>\n",
              "<table border=\"1\" class=\"dataframe\">\n",
              "  <thead>\n",
              "    <tr style=\"text-align: right;\">\n",
              "      <th></th>\n",
              "      <th>Date</th>\n",
              "      <th>Open</th>\n",
              "      <th>High</th>\n",
              "      <th>Low</th>\n",
              "      <th>Close</th>\n",
              "    </tr>\n",
              "  </thead>\n",
              "  <tbody>\n",
              "    <tr>\n",
              "      <th>0</th>\n",
              "      <td>2020-10-01</td>\n",
              "      <td>100.000000</td>\n",
              "      <td>100.000000</td>\n",
              "      <td>100.000000</td>\n",
              "      <td>100.000000</td>\n",
              "    </tr>\n",
              "    <tr>\n",
              "      <th>1</th>\n",
              "      <td>2020-10-02</td>\n",
              "      <td>100.000000</td>\n",
              "      <td>100.000000</td>\n",
              "      <td>100.000000</td>\n",
              "      <td>100.000000</td>\n",
              "    </tr>\n",
              "    <tr>\n",
              "      <th>2</th>\n",
              "      <td>2020-10-05</td>\n",
              "      <td>100.029999</td>\n",
              "      <td>100.040001</td>\n",
              "      <td>99.995003</td>\n",
              "      <td>99.995003</td>\n",
              "    </tr>\n",
              "    <tr>\n",
              "      <th>3</th>\n",
              "      <td>2020-10-06</td>\n",
              "      <td>100.010002</td>\n",
              "      <td>100.029999</td>\n",
              "      <td>100.010002</td>\n",
              "      <td>100.029999</td>\n",
              "    </tr>\n",
              "    <tr>\n",
              "      <th>4</th>\n",
              "      <td>2020-10-07</td>\n",
              "      <td>99.949997</td>\n",
              "      <td>99.959999</td>\n",
              "      <td>99.919998</td>\n",
              "      <td>99.919998</td>\n",
              "    </tr>\n",
              "  </tbody>\n",
              "</table>\n",
              "</div>\n",
              "      <button class=\"colab-df-convert\" onclick=\"convertToInteractive('df-8a323ebb-0e77-475b-9d59-fa59c601a1e9')\"\n",
              "              title=\"Convert this dataframe to an interactive table.\"\n",
              "              style=\"display:none;\">\n",
              "\n",
              "  <svg xmlns=\"http://www.w3.org/2000/svg\" height=\"24px\"viewBox=\"0 0 24 24\"\n",
              "       width=\"24px\">\n",
              "    <path d=\"M0 0h24v24H0V0z\" fill=\"none\"/>\n",
              "    <path d=\"M18.56 5.44l.94 2.06.94-2.06 2.06-.94-2.06-.94-.94-2.06-.94 2.06-2.06.94zm-11 1L8.5 8.5l.94-2.06 2.06-.94-2.06-.94L8.5 2.5l-.94 2.06-2.06.94zm10 10l.94 2.06.94-2.06 2.06-.94-2.06-.94-.94-2.06-.94 2.06-2.06.94z\"/><path d=\"M17.41 7.96l-1.37-1.37c-.4-.4-.92-.59-1.43-.59-.52 0-1.04.2-1.43.59L10.3 9.45l-7.72 7.72c-.78.78-.78 2.05 0 2.83L4 21.41c.39.39.9.59 1.41.59.51 0 1.02-.2 1.41-.59l7.78-7.78 2.81-2.81c.8-.78.8-2.07 0-2.86zM5.41 20L4 18.59l7.72-7.72 1.47 1.35L5.41 20z\"/>\n",
              "  </svg>\n",
              "      </button>\n",
              "\n",
              "\n",
              "\n",
              "    <div id=\"df-a995bc20-6c18-4e4b-bae2-0c55e6a13c9f\">\n",
              "      <button class=\"colab-df-quickchart\" onclick=\"quickchart('df-a995bc20-6c18-4e4b-bae2-0c55e6a13c9f')\"\n",
              "              title=\"Suggest charts.\"\n",
              "              style=\"display:none;\">\n",
              "\n",
              "<svg xmlns=\"http://www.w3.org/2000/svg\" height=\"24px\"viewBox=\"0 0 24 24\"\n",
              "     width=\"24px\">\n",
              "    <g>\n",
              "        <path d=\"M19 3H5c-1.1 0-2 .9-2 2v14c0 1.1.9 2 2 2h14c1.1 0 2-.9 2-2V5c0-1.1-.9-2-2-2zM9 17H7v-7h2v7zm4 0h-2V7h2v10zm4 0h-2v-4h2v4z\"/>\n",
              "    </g>\n",
              "</svg>\n",
              "      </button>\n",
              "    </div>\n",
              "\n",
              "<style>\n",
              "  .colab-df-quickchart {\n",
              "    background-color: #E8F0FE;\n",
              "    border: none;\n",
              "    border-radius: 50%;\n",
              "    cursor: pointer;\n",
              "    display: none;\n",
              "    fill: #1967D2;\n",
              "    height: 32px;\n",
              "    padding: 0 0 0 0;\n",
              "    width: 32px;\n",
              "  }\n",
              "\n",
              "  .colab-df-quickchart:hover {\n",
              "    background-color: #E2EBFA;\n",
              "    box-shadow: 0px 1px 2px rgba(60, 64, 67, 0.3), 0px 1px 3px 1px rgba(60, 64, 67, 0.15);\n",
              "    fill: #174EA6;\n",
              "  }\n",
              "\n",
              "  [theme=dark] .colab-df-quickchart {\n",
              "    background-color: #3B4455;\n",
              "    fill: #D2E3FC;\n",
              "  }\n",
              "\n",
              "  [theme=dark] .colab-df-quickchart:hover {\n",
              "    background-color: #434B5C;\n",
              "    box-shadow: 0px 1px 3px 1px rgba(0, 0, 0, 0.15);\n",
              "    filter: drop-shadow(0px 1px 2px rgba(0, 0, 0, 0.3));\n",
              "    fill: #FFFFFF;\n",
              "  }\n",
              "</style>\n",
              "\n",
              "    <script>\n",
              "      async function quickchart(key) {\n",
              "        const containerElement = document.querySelector('#' + key);\n",
              "        const charts = await google.colab.kernel.invokeFunction(\n",
              "            'suggestCharts', [key], {});\n",
              "      }\n",
              "    </script>\n",
              "\n",
              "      <script>\n",
              "\n",
              "function displayQuickchartButton(domScope) {\n",
              "  let quickchartButtonEl =\n",
              "    domScope.querySelector('#df-a995bc20-6c18-4e4b-bae2-0c55e6a13c9f button.colab-df-quickchart');\n",
              "  quickchartButtonEl.style.display =\n",
              "    google.colab.kernel.accessAllowed ? 'block' : 'none';\n",
              "}\n",
              "\n",
              "        displayQuickchartButton(document);\n",
              "      </script>\n",
              "      <style>\n",
              "    .colab-df-container {\n",
              "      display:flex;\n",
              "      flex-wrap:wrap;\n",
              "      gap: 12px;\n",
              "    }\n",
              "\n",
              "    .colab-df-convert {\n",
              "      background-color: #E8F0FE;\n",
              "      border: none;\n",
              "      border-radius: 50%;\n",
              "      cursor: pointer;\n",
              "      display: none;\n",
              "      fill: #1967D2;\n",
              "      height: 32px;\n",
              "      padding: 0 0 0 0;\n",
              "      width: 32px;\n",
              "    }\n",
              "\n",
              "    .colab-df-convert:hover {\n",
              "      background-color: #E2EBFA;\n",
              "      box-shadow: 0px 1px 2px rgba(60, 64, 67, 0.3), 0px 1px 3px 1px rgba(60, 64, 67, 0.15);\n",
              "      fill: #174EA6;\n",
              "    }\n",
              "\n",
              "    [theme=dark] .colab-df-convert {\n",
              "      background-color: #3B4455;\n",
              "      fill: #D2E3FC;\n",
              "    }\n",
              "\n",
              "    [theme=dark] .colab-df-convert:hover {\n",
              "      background-color: #434B5C;\n",
              "      box-shadow: 0px 1px 3px 1px rgba(0, 0, 0, 0.15);\n",
              "      filter: drop-shadow(0px 1px 2px rgba(0, 0, 0, 0.3));\n",
              "      fill: #FFFFFF;\n",
              "    }\n",
              "  </style>\n",
              "\n",
              "      <script>\n",
              "        const buttonEl =\n",
              "          document.querySelector('#df-8a323ebb-0e77-475b-9d59-fa59c601a1e9 button.colab-df-convert');\n",
              "        buttonEl.style.display =\n",
              "          google.colab.kernel.accessAllowed ? 'block' : 'none';\n",
              "\n",
              "        async function convertToInteractive(key) {\n",
              "          const element = document.querySelector('#df-8a323ebb-0e77-475b-9d59-fa59c601a1e9');\n",
              "          const dataTable =\n",
              "            await google.colab.kernel.invokeFunction('convertToInteractive',\n",
              "                                                     [key], {});\n",
              "          if (!dataTable) return;\n",
              "\n",
              "          const docLinkHtml = 'Like what you see? Visit the ' +\n",
              "            '<a target=\"_blank\" href=https://colab.research.google.com/notebooks/data_table.ipynb>data table notebook</a>'\n",
              "            + ' to learn more about interactive tables.';\n",
              "          element.innerHTML = '';\n",
              "          dataTable['output_type'] = 'display_data';\n",
              "          await google.colab.output.renderOutput(dataTable, element);\n",
              "          const docLink = document.createElement('div');\n",
              "          docLink.innerHTML = docLinkHtml;\n",
              "          element.appendChild(docLink);\n",
              "        }\n",
              "      </script>\n",
              "    </div>\n",
              "  </div>\n"
            ]
          },
          "metadata": {},
          "execution_count": 55
        }
      ]
    },
    {
      "cell_type": "code",
      "source": [
        "df = df[['Date', 'Close']]"
      ],
      "metadata": {
        "id": "wAcKdf5OC8cG"
      },
      "execution_count": 63,
      "outputs": []
    },
    {
      "cell_type": "code",
      "source": [
        "print(df.head())\n",
        "print(df.tail())"
      ],
      "metadata": {
        "colab": {
          "base_uri": "https://localhost:8080/"
        },
        "id": "I92dwslHDU1h",
        "outputId": "5db5c373-50b5-40f8-a0c6-22d4d06ff507"
      },
      "execution_count": 64,
      "outputs": [
        {
          "output_type": "stream",
          "name": "stdout",
          "text": [
            "         Date       Close\n",
            "0  2020-10-01  100.000000\n",
            "1  2020-10-02  100.000000\n",
            "2  2020-10-05   99.995003\n",
            "3  2020-10-06  100.029999\n",
            "4  2020-10-07   99.919998\n",
            "           Date      Close\n",
            "712  2023-08-02  91.052902\n",
            "713  2023-08-03  90.806297\n",
            "714  2023-08-04  91.325302\n",
            "715  2023-08-07  91.255501\n",
            "716  2023-08-08  91.427696\n"
          ]
        }
      ]
    },
    {
      "cell_type": "code",
      "source": [
        "df.shape"
      ],
      "metadata": {
        "colab": {
          "base_uri": "https://localhost:8080/"
        },
        "id": "1Peb6ko7DY20",
        "outputId": "c6a256a0-5a94-40f1-e6b3-9999fc8d4dc7"
      },
      "execution_count": 58,
      "outputs": [
        {
          "output_type": "execute_result",
          "data": {
            "text/plain": [
              "(717, 2)"
            ]
          },
          "metadata": {},
          "execution_count": 58
        }
      ]
    },
    {
      "cell_type": "code",
      "source": [
        "fig = px.line(df, x=df.Date, y=df.Close,labels={'date':'Date','close':'Close Stock'})\n",
        "fig.update_traces(marker_line_width=2, opacity=0.8, marker_line_color='orange')\n",
        "fig.update_layout(title_text='Whole period of timeframe of Bitcoin close price 2020-2023', plot_bgcolor='white',\n",
        "                  font_size=15, font_color='black')\n",
        "fig.update_xaxes(showgrid=False)\n",
        "fig.update_yaxes(showgrid=False)\n",
        "fig.show()"
      ],
      "metadata": {
        "colab": {
          "base_uri": "https://localhost:8080/",
          "height": 542
        },
        "id": "Ci-yXBb2DeQ5",
        "outputId": "9ac7f0c8-0064-4158-b852-787b11c5be14"
      },
      "execution_count": 60,
      "outputs": [
        {
          "output_type": "display_data",
          "data": {
            "text/html": [
              "<html>\n",
              "<head><meta charset=\"utf-8\" /></head>\n",
              "<body>\n",
              "    <div>            <script src=\"https://cdnjs.cloudflare.com/ajax/libs/mathjax/2.7.5/MathJax.js?config=TeX-AMS-MML_SVG\"></script><script type=\"text/javascript\">if (window.MathJax && window.MathJax.Hub && window.MathJax.Hub.Config) {window.MathJax.Hub.Config({SVG: {font: \"STIX-Web\"}});}</script>                <script type=\"text/javascript\">window.PlotlyConfig = {MathJaxConfig: 'local'};</script>\n",
              "        <script src=\"https://cdn.plot.ly/plotly-2.18.2.min.js\"></script>                <div id=\"c47eabf3-4640-44ea-badb-345ff7a9c475\" class=\"plotly-graph-div\" style=\"height:525px; width:100%;\"></div>            <script type=\"text/javascript\">                                    window.PLOTLYENV=window.PLOTLYENV || {};                                    if (document.getElementById(\"c47eabf3-4640-44ea-badb-345ff7a9c475\")) {                    Plotly.newPlot(                        \"c47eabf3-4640-44ea-badb-345ff7a9c475\",                        [{\"hovertemplate\":\"Date=%{x}<br>Close=%{y}<extra></extra>\",\"legendgroup\":\"\",\"line\":{\"color\":\"#636efa\",\"dash\":\"solid\"},\"marker\":{\"symbol\":\"circle\",\"line\":{\"color\":\"orange\",\"width\":2}},\"mode\":\"lines\",\"name\":\"\",\"orientation\":\"v\",\"showlegend\":false,\"x\":[\"2020-10-01\",\"2020-10-02\",\"2020-10-05\",\"2020-10-06\",\"2020-10-07\",\"2020-10-08\",\"2020-10-09\",\"2020-10-12\",\"2020-10-13\",\"2020-10-14\",\"2020-10-15\",\"2020-10-16\",\"2020-10-19\",\"2020-10-20\",\"2020-10-21\",\"2020-10-22\",\"2020-10-23\",\"2020-10-26\",\"2020-10-27\",\"2020-10-28\",\"2020-10-29\",\"2020-10-30\",\"2020-11-02\",\"2020-11-03\",\"2020-11-04\",\"2020-11-05\",\"2020-11-06\",\"2020-11-09\",\"2020-11-10\",\"2020-11-11\",\"2020-11-12\",\"2020-11-13\",\"2020-11-16\",\"2020-11-17\",\"2020-11-18\",\"2020-11-19\",\"2020-11-20\",\"2020-11-23\",\"2020-11-24\",\"2020-11-25\",\"2020-11-27\",\"2020-11-30\",\"2020-12-01\",\"2020-12-02\",\"2020-12-03\",\"2020-12-04\",\"2020-12-07\",\"2020-12-08\",\"2020-12-09\",\"2020-12-10\",\"2020-12-11\",\"2020-12-14\",\"2020-12-15\",\"2020-12-16\",\"2020-12-17\",\"2020-12-18\",\"2020-12-21\",\"2020-12-22\",\"2020-12-23\",\"2020-12-24\",\"2020-12-28\",\"2020-12-29\",\"2020-12-30\",\"2020-12-31\",\"2021-01-04\",\"2021-01-05\",\"2021-01-06\",\"2021-01-07\",\"2021-01-08\",\"2021-01-11\",\"2021-01-12\",\"2021-01-13\",\"2021-01-14\",\"2021-01-15\",\"2021-01-19\",\"2021-01-20\",\"2021-01-21\",\"2021-01-22\",\"2021-01-25\",\"2021-01-26\",\"2021-01-27\",\"2021-01-28\",\"2021-01-29\",\"2021-02-01\",\"2021-02-02\",\"2021-02-03\",\"2021-02-04\",\"2021-02-05\",\"2021-02-08\",\"2021-02-09\",\"2021-02-10\",\"2021-02-11\",\"2021-02-12\",\"2021-02-16\",\"2021-02-17\",\"2021-02-18\",\"2021-02-19\",\"2021-02-22\",\"2021-02-23\",\"2021-02-24\",\"2021-02-25\",\"2021-02-26\",\"2021-03-01\",\"2021-03-02\",\"2021-03-03\",\"2021-03-04\",\"2021-03-05\",\"2021-03-08\",\"2021-03-09\",\"2021-03-10\",\"2021-03-11\",\"2021-03-12\",\"2021-03-15\",\"2021-03-16\",\"2021-03-17\",\"2021-03-18\",\"2021-03-19\",\"2021-03-22\",\"2021-03-23\",\"2021-03-24\",\"2021-03-25\",\"2021-03-26\",\"2021-03-29\",\"2021-03-30\",\"2021-03-31\",\"2021-04-01\",\"2021-04-05\",\"2021-04-06\",\"2021-04-07\",\"2021-04-08\",\"2021-04-09\",\"2021-04-12\",\"2021-04-13\",\"2021-04-14\",\"2021-04-15\",\"2021-04-16\",\"2021-04-19\",\"2021-04-20\",\"2021-04-21\",\"2021-04-22\",\"2021-04-23\",\"2021-04-26\",\"2021-04-27\",\"2021-04-28\",\"2021-04-29\",\"2021-04-30\",\"2021-05-03\",\"2021-05-04\",\"2021-05-05\",\"2021-05-06\",\"2021-05-07\",\"2021-05-10\",\"2021-05-11\",\"2021-05-12\",\"2021-05-13\",\"2021-05-14\",\"2021-05-17\",\"2021-05-18\",\"2021-05-19\",\"2021-05-20\",\"2021-05-21\",\"2021-05-24\",\"2021-05-25\",\"2021-05-26\",\"2021-05-27\",\"2021-05-28\",\"2021-06-01\",\"2021-06-02\",\"2021-06-03\",\"2021-06-04\",\"2021-06-07\",\"2021-06-08\",\"2021-06-09\",\"2021-06-10\",\"2021-06-11\",\"2021-06-14\",\"2021-06-15\",\"2021-06-16\",\"2021-06-17\",\"2021-06-18\",\"2021-06-21\",\"2021-06-22\",\"2021-06-23\",\"2021-06-24\",\"2021-06-25\",\"2021-06-28\",\"2021-06-29\",\"2021-06-30\",\"2021-07-01\",\"2021-07-02\",\"2021-07-06\",\"2021-07-07\",\"2021-07-08\",\"2021-07-09\",\"2021-07-12\",\"2021-07-13\",\"2021-07-14\",\"2021-07-15\",\"2021-07-16\",\"2021-07-19\",\"2021-07-20\",\"2021-07-21\",\"2021-07-22\",\"2021-07-23\",\"2021-07-26\",\"2021-07-27\",\"2021-07-28\",\"2021-07-29\",\"2021-07-30\",\"2021-08-02\",\"2021-08-03\",\"2021-08-04\",\"2021-08-05\",\"2021-08-06\",\"2021-08-09\",\"2021-08-10\",\"2021-08-11\",\"2021-08-12\",\"2021-08-13\",\"2021-08-16\",\"2021-08-17\",\"2021-08-18\",\"2021-08-19\",\"2021-08-20\",\"2021-08-23\",\"2021-08-24\",\"2021-08-25\",\"2021-08-26\",\"2021-08-27\",\"2021-08-30\",\"2021-08-31\",\"2021-09-01\",\"2021-09-02\",\"2021-09-03\",\"2021-09-07\",\"2021-09-08\",\"2021-09-09\",\"2021-09-10\",\"2021-09-13\",\"2021-09-14\",\"2021-09-15\",\"2021-09-16\",\"2021-09-17\",\"2021-09-20\",\"2021-09-21\",\"2021-09-22\",\"2021-09-23\",\"2021-09-24\",\"2021-09-27\",\"2021-09-28\",\"2021-09-29\",\"2021-09-30\",\"2021-10-01\",\"2021-10-04\",\"2021-10-05\",\"2021-10-06\",\"2021-10-07\",\"2021-10-08\",\"2021-10-11\",\"2021-10-12\",\"2021-10-13\",\"2021-10-14\",\"2021-10-15\",\"2021-10-18\",\"2021-10-19\",\"2021-10-20\",\"2021-10-21\",\"2021-10-22\",\"2021-10-25\",\"2021-10-26\",\"2021-10-27\",\"2021-10-28\",\"2021-10-29\",\"2021-11-01\",\"2021-11-02\",\"2021-11-03\",\"2021-11-04\",\"2021-11-05\",\"2021-11-08\",\"2021-11-09\",\"2021-11-10\",\"2021-11-11\",\"2021-11-12\",\"2021-11-15\",\"2021-11-16\",\"2021-11-17\",\"2021-11-18\",\"2021-11-19\",\"2021-11-22\",\"2021-11-23\",\"2021-11-24\",\"2021-11-26\",\"2021-11-29\",\"2021-11-30\",\"2021-12-01\",\"2021-12-02\",\"2021-12-03\",\"2021-12-06\",\"2021-12-07\",\"2021-12-08\",\"2021-12-09\",\"2021-12-10\",\"2021-12-13\",\"2021-12-14\",\"2021-12-15\",\"2021-12-16\",\"2021-12-17\",\"2021-12-20\",\"2021-12-21\",\"2021-12-22\",\"2021-12-23\",\"2021-12-27\",\"2021-12-28\",\"2021-12-29\",\"2021-12-30\",\"2021-12-31\",\"2022-01-03\",\"2022-01-04\",\"2022-01-05\",\"2022-01-06\",\"2022-01-07\",\"2022-01-10\",\"2022-01-11\",\"2022-01-12\",\"2022-01-13\",\"2022-01-14\",\"2022-01-18\",\"2022-01-19\",\"2022-01-20\",\"2022-01-21\",\"2022-01-24\",\"2022-01-25\",\"2022-01-26\",\"2022-01-27\",\"2022-01-28\",\"2022-01-31\",\"2022-02-01\",\"2022-02-02\",\"2022-02-03\",\"2022-02-04\",\"2022-02-07\",\"2022-02-08\",\"2022-02-09\",\"2022-02-10\",\"2022-02-11\",\"2022-02-14\",\"2022-02-15\",\"2022-02-16\",\"2022-02-17\",\"2022-02-18\",\"2022-02-22\",\"2022-02-23\",\"2022-02-24\",\"2022-02-25\",\"2022-02-28\",\"2022-03-01\",\"2022-03-02\",\"2022-03-03\",\"2022-03-04\",\"2022-03-07\",\"2022-03-08\",\"2022-03-09\",\"2022-03-10\",\"2022-03-11\",\"2022-03-14\",\"2022-03-15\",\"2022-03-16\",\"2022-03-17\",\"2022-03-18\",\"2022-03-21\",\"2022-03-22\",\"2022-03-23\",\"2022-03-24\",\"2022-03-25\",\"2022-03-28\",\"2022-03-29\",\"2022-03-30\",\"2022-03-31\",\"2022-04-01\",\"2022-04-04\",\"2022-04-05\",\"2022-04-06\",\"2022-04-07\",\"2022-04-08\",\"2022-04-11\",\"2022-04-12\",\"2022-04-13\",\"2022-04-14\",\"2022-04-18\",\"2022-04-19\",\"2022-04-20\",\"2022-04-21\",\"2022-04-22\",\"2022-04-25\",\"2022-04-26\",\"2022-04-27\",\"2022-04-28\",\"2022-04-29\",\"2022-05-02\",\"2022-05-03\",\"2022-05-04\",\"2022-05-05\",\"2022-05-06\",\"2022-05-09\",\"2022-05-10\",\"2022-05-11\",\"2022-05-12\",\"2022-05-13\",\"2022-05-16\",\"2022-05-17\",\"2022-05-18\",\"2022-05-19\",\"2022-05-20\",\"2022-05-23\",\"2022-05-24\",\"2022-05-25\",\"2022-05-26\",\"2022-05-27\",\"2022-05-31\",\"2022-06-01\",\"2022-06-02\",\"2022-06-03\",\"2022-06-06\",\"2022-06-07\",\"2022-06-08\",\"2022-06-09\",\"2022-06-10\",\"2022-06-13\",\"2022-06-14\",\"2022-06-15\",\"2022-06-16\",\"2022-06-17\",\"2022-06-21\",\"2022-06-22\",\"2022-06-23\",\"2022-06-24\",\"2022-06-27\",\"2022-06-28\",\"2022-06-29\",\"2022-06-30\",\"2022-07-01\",\"2022-07-05\",\"2022-07-06\",\"2022-07-07\",\"2022-07-08\",\"2022-07-11\",\"2022-07-12\",\"2022-07-13\",\"2022-07-14\",\"2022-07-15\",\"2022-07-18\",\"2022-07-19\",\"2022-07-20\",\"2022-07-21\",\"2022-07-22\",\"2022-07-25\",\"2022-07-26\",\"2022-07-27\",\"2022-07-28\",\"2022-07-29\",\"2022-08-01\",\"2022-08-02\",\"2022-08-03\",\"2022-08-04\",\"2022-08-05\",\"2022-08-08\",\"2022-08-09\",\"2022-08-10\",\"2022-08-11\",\"2022-08-12\",\"2022-08-15\",\"2022-08-16\",\"2022-08-17\",\"2022-08-18\",\"2022-08-19\",\"2022-08-22\",\"2022-08-23\",\"2022-08-24\",\"2022-08-25\",\"2022-08-26\",\"2022-08-29\",\"2022-08-30\",\"2022-08-31\",\"2022-09-01\",\"2022-09-02\",\"2022-09-06\",\"2022-09-07\",\"2022-09-08\",\"2022-09-09\",\"2022-09-12\",\"2022-09-13\",\"2022-09-14\",\"2022-09-15\",\"2022-09-16\",\"2022-09-19\",\"2022-09-20\",\"2022-09-21\",\"2022-09-22\",\"2022-09-23\",\"2022-09-26\",\"2022-09-27\",\"2022-09-28\",\"2022-09-29\",\"2022-09-30\",\"2022-10-03\",\"2022-10-04\",\"2022-10-05\",\"2022-10-06\",\"2022-10-07\",\"2022-10-10\",\"2022-10-11\",\"2022-10-12\",\"2022-10-13\",\"2022-10-14\",\"2022-10-17\",\"2022-10-18\",\"2022-10-19\",\"2022-10-20\",\"2022-10-21\",\"2022-10-24\",\"2022-10-25\",\"2022-10-26\",\"2022-10-27\",\"2022-10-28\",\"2022-10-31\",\"2022-11-01\",\"2022-11-02\",\"2022-11-03\",\"2022-11-04\",\"2022-11-07\",\"2022-11-08\",\"2022-11-09\",\"2022-11-10\",\"2022-11-11\",\"2022-11-14\",\"2022-11-15\",\"2022-11-16\",\"2022-11-17\",\"2022-11-18\",\"2022-11-21\",\"2022-11-22\",\"2022-11-23\",\"2022-11-25\",\"2022-11-28\",\"2022-11-29\",\"2022-11-30\",\"2022-12-01\",\"2022-12-02\",\"2022-12-05\",\"2022-12-06\",\"2022-12-07\",\"2022-12-08\",\"2022-12-09\",\"2022-12-12\",\"2022-12-13\",\"2022-12-14\",\"2022-12-15\",\"2022-12-16\",\"2022-12-19\",\"2022-12-20\",\"2022-12-21\",\"2022-12-22\",\"2022-12-23\",\"2022-12-27\",\"2022-12-28\",\"2022-12-29\",\"2022-12-30\",\"2023-01-03\",\"2023-01-04\",\"2023-01-05\",\"2023-01-06\",\"2023-01-09\",\"2023-01-10\",\"2023-01-11\",\"2023-01-12\",\"2023-01-13\",\"2023-01-17\",\"2023-01-18\",\"2023-01-19\",\"2023-01-20\",\"2023-01-23\",\"2023-01-24\",\"2023-01-25\",\"2023-01-26\",\"2023-01-27\",\"2023-01-30\",\"2023-01-31\",\"2023-02-01\",\"2023-02-02\",\"2023-02-03\",\"2023-02-06\",\"2023-02-07\",\"2023-02-08\",\"2023-02-09\",\"2023-02-10\",\"2023-02-13\",\"2023-02-14\",\"2023-02-15\",\"2023-02-16\",\"2023-02-17\",\"2023-02-21\",\"2023-02-22\",\"2023-02-23\",\"2023-02-24\",\"2023-02-27\",\"2023-02-28\",\"2023-03-01\",\"2023-03-02\",\"2023-03-03\",\"2023-03-06\",\"2023-03-07\",\"2023-03-08\",\"2023-03-09\",\"2023-03-10\",\"2023-03-13\",\"2023-03-14\",\"2023-03-15\",\"2023-03-16\",\"2023-03-17\",\"2023-03-20\",\"2023-03-21\",\"2023-03-22\",\"2023-03-23\",\"2023-03-24\",\"2023-03-27\",\"2023-03-28\",\"2023-03-29\",\"2023-03-30\",\"2023-03-31\",\"2023-04-03\",\"2023-04-04\",\"2023-04-05\",\"2023-04-06\",\"2023-04-10\",\"2023-04-11\",\"2023-04-12\",\"2023-04-13\",\"2023-04-14\",\"2023-04-17\",\"2023-04-18\",\"2023-04-19\",\"2023-04-20\",\"2023-04-21\",\"2023-04-24\",\"2023-04-25\",\"2023-04-26\",\"2023-04-27\",\"2023-04-28\",\"2023-05-01\",\"2023-05-02\",\"2023-05-03\",\"2023-05-04\",\"2023-05-05\",\"2023-05-08\",\"2023-05-09\",\"2023-05-10\",\"2023-05-11\",\"2023-05-12\",\"2023-05-15\",\"2023-05-16\",\"2023-05-17\",\"2023-05-18\",\"2023-05-19\",\"2023-05-22\",\"2023-05-23\",\"2023-05-24\",\"2023-05-25\",\"2023-05-26\",\"2023-05-30\",\"2023-05-31\",\"2023-06-01\",\"2023-06-02\",\"2023-06-05\",\"2023-06-06\",\"2023-06-07\",\"2023-06-08\",\"2023-06-09\",\"2023-06-12\",\"2023-06-13\",\"2023-06-14\",\"2023-06-15\",\"2023-06-16\",\"2023-06-20\",\"2023-06-21\",\"2023-06-22\",\"2023-06-23\",\"2023-06-26\",\"2023-06-27\",\"2023-06-28\",\"2023-06-29\",\"2023-06-30\",\"2023-07-03\",\"2023-07-05\",\"2023-07-06\",\"2023-07-07\",\"2023-07-10\",\"2023-07-11\",\"2023-07-12\",\"2023-07-13\",\"2023-07-14\",\"2023-07-17\",\"2023-07-18\",\"2023-07-19\",\"2023-07-20\",\"2023-07-21\",\"2023-07-24\",\"2023-07-25\",\"2023-07-26\",\"2023-07-27\",\"2023-07-28\",\"2023-07-31\",\"2023-08-01\",\"2023-08-02\",\"2023-08-03\",\"2023-08-04\",\"2023-08-07\",\"2023-08-08\"],\"xaxis\":\"x\",\"y\":[100.0,100.0,99.99500274658205,100.02999877929688,99.91999816894533,99.99500274658205,99.94000244140624,99.94000244140624,99.96499633789062,99.9749984741211,99.94499969482422,99.9250030517578,99.88999938964844,99.84709930419922,99.82430267333984,99.75,99.79000091552734,99.86000061035156,99.91500091552734,99.88500213623048,99.7699966430664,99.69989776611328,99.70240020751952,99.66500091552734,99.97480010986328,99.99870300292967,99.90480041503906,99.74629974365234,99.63999938964844,99.6552963256836,99.77410125732422,99.77059936523438,99.7699966430664,99.8499984741211,99.8499984741211,99.88999938964844,99.91500091552734,99.88500213623048,99.88500213623048,99.91000366210938,99.98999786376952,100.04499816894533,99.90059661865234,99.875,99.9749984741211,99.86080169677734,99.95500183105467,99.97000122070312,99.8550033569336,99.93000030517578,100.01609802246094,99.99500274658205,100.00499725341795,100.00499725341795,99.99500274658205,99.98500061035156,99.96009826660156,100.02999877929688,99.99009704589844,100.02670288085938,100.06300354003906,100.06500244140624,100.10459899902344,100.15499877929688,100.1229019165039,100.0500030517578,99.87460327148438,99.8136978149414,99.7249984741211,99.66500091552734,99.66470336914062,99.75689697265624,99.72699737548828,99.80770111083984,99.83499908447266,99.83570098876952,99.79499816894533,99.83489990234376,99.91719818115234,99.91500091552734,99.89630126953124,99.85489654541016,99.84929656982422,99.87100219726562,99.80960083007812,99.76499938964844,99.78500366210938,99.7615966796875,99.75240325927734,99.78500366210938,99.87139892578124,99.86509704589844,99.78459930419922,99.5290985107422,99.56500244140624,99.58499908447266,99.45500183105467,99.3550033569336,99.3988037109375,99.3644027709961,98.7531967163086,98.98310089111328,99.10759735107422,99.18000030517578,99.01180267333984,98.84500122070312,98.76000213623048,98.53050231933594,98.625,98.73919677734376,98.8416976928711,98.59259796142578,98.61830139160156,98.62940216064452,98.70149993896484,98.48979949951172,98.47730255126952,98.56500244140624,98.6876983642578,98.72579956054688,98.73179626464844,98.63500213623048,98.5365982055664,98.51280212402344,98.5146026611328,98.6449966430664,98.52320098876952,98.71089935302734,98.72160339355467,98.81500244140624,98.75569915771484,98.70919799804688,98.8228988647461,98.81089782714844,99.00830078125,99.24469757080078,99.1011962890625,99.04409790039062,98.97049713134766,99.0009994506836,98.9800033569336,98.97000122070312,98.83260345458984,98.88639831542967,98.8550033569336,98.88929748535156,98.9446029663086,98.98500061035156,99.05999755859376,99.0749969482422,99.14749908447266,99.11000061035156,99.11000061035156,99.11000061035156,99.11000061035156,99.11000061035156,99.11000061035156,99.11000061035156,99.11000061035156,99.11000061035156,99.11000061035156,99.11000061035156,99.11000061035156,99.11000061035156,99.11000061035156,99.11000061035156,99.11000061035156,99.11000061035156,99.11000061035156,99.11000061035156,99.11000061035156,99.11000061035156,99.11000061035156,99.11000061035156,99.11000061035156,99.11000061035156,99.11000061035156,99.11000061035156,99.11000061035156,99.11000061035156,99.11000061035156,99.11000061035156,99.11000061035156,99.11000061035156,99.11000061035156,99.11000061035156,99.11000061035156,99.11000061035156,99.11000061035156,99.11000061035156,99.11000061035156,99.11000061035156,99.11000061035156,99.11000061035156,99.11000061035156,99.11000061035156,99.11000061035156,99.11000061035156,99.11000061035156,99.65029907226562,99.7073974609375,99.54830169677734,99.63819885253906,99.64099884033205,99.65249633789062,99.71540069580078,99.75499725341795,99.70369720458984,99.77670288085938,99.9010009765625,99.90470123291016,99.84660339355467,99.73500061035156,99.55850219726562,99.47740173339844,99.38929748535156,99.46929931640624,99.44499969482422,99.5824966430664,99.64959716796876,99.5999984741211,99.5500030517578,99.6050033569336,99.5696029663086,99.59320068359376,99.53500366210938,99.44499969482422,99.45850372314452,99.5864028930664,99.68499755859376,99.69499969482422,99.68000030517578,99.72019958496094,99.69000244140624,99.55509948730467,99.61000061035156,99.7249984741211,99.63500213623048,99.61499786376952,99.73500061035156,99.66000366210938,99.58000183105467,99.46499633789062,99.625,99.58999633789062,99.5500030517578,99.2947006225586,99.19000244140624,99.18000030517578,98.96499633789062,98.98490142822266,99.0199966430664,99.18000030517578,99.1500015258789,99.06500244140624,99.05999755859376,98.91500091552734,98.86000061035156,98.72440338134766,98.8249969482422,98.83699798583984,98.94000244140624,98.7750015258789,98.66999816894533,98.59500122070312,98.67449951171876,98.4749984741211,98.51180267333984,98.56999969482422,98.62999725341795,98.7699966430664,98.6500015258789,98.68060302734376,98.61720275878906,98.75,98.69499969482422,98.91010284423828,99.11000061035156,98.9250030517578,99.06400299072266,98.6999969482422,98.58499908447266,98.6343002319336,98.5071029663086,98.4499969482422,98.52999877929688,98.58000183105467,98.6050033569336,98.2699966430664,98.17250061035156,98.18499755859376,98.5479965209961,98.56500244140624,98.6405029296875,98.61270141601562,98.5824966430664,98.76809692382812,98.59500122070312,98.51000213623048,98.44499969482422,98.46880340576172,98.51000213623048,98.63500213623048,98.54499816894533,98.443603515625,98.65119934082033,98.63999938964844,98.6449966430664,98.5,98.591796875,98.5417022705078,98.5500030517578,98.58999633789062,98.48500061035156,98.6094970703125,98.58499908447266,98.2947006225586,98.29149627685548,98.09639739990234,97.98500061035156,97.89459991455078,97.84510040283205,97.92230224609376,97.91999816894533,97.99099731445312,97.73500061035156,97.41069793701172,97.49420166015624,97.50260162353516,97.69000244140624,97.71019744873048,97.63159942626952,97.3395004272461,97.30999755859376,97.41210174560548,97.41739654541016,97.4000015258789,97.47419738769533,97.30989837646484,96.9250030517578,96.96839904785156,96.82769775390624,96.8550033569336,96.28379821777344,96.6854019165039,96.42430114746094,96.3550033569336,96.43409729003906,96.56719970703124,96.64230346679688,96.5239028930664,96.3904037475586,96.48159790039062,96.49500274658205,96.93910217285156,97.29209899902344,96.7510986328125,96.7938003540039,97.056396484375,96.81780242919922,96.46499633789062,96.26190185546876,96.08499908447266,96.03009796142578,95.5593032836914,95.54080200195312,95.48580169677734,95.59980010986328,95.70169830322266,95.15119934082033,94.99700164794922,95.2136001586914,95.08650207519533,94.62090301513672,94.64620208740234,94.64700317382812,94.83920288085938,94.87149810791016,94.51000213623048,94.61000061035156,94.16500091552734,94.0999984741211,94.07530212402344,93.86509704589844,93.68350219726562,94.03130340576172,94.05560302734376,93.71499633789062,93.66500091552734,93.27539825439452,93.4000015258789,93.2292022705078,93.1636962890625,93.4499969482422,93.68060302734376,93.51490020751952,93.40280151367188,93.23870086669922,92.88860321044922,92.94519805908205,93.27670288085938,92.96050262451172,92.79000091552734,93.08080291748048,93.19170379638672,93.30999755859376,93.47969818115234,93.30500030517578,93.4749984741211,93.0896987915039,93.24500274658205,93.44429779052734,93.6095962524414,93.41999816894533,93.8124008178711,94.00789642333984,94.08999633789062,94.13999938964844,93.7925033569336,93.49500274658205,93.54499816894533,93.45439910888672,93.1990966796875,93.31790161132812,93.1750030517578,93.0500030517578,92.43260192871094,91.5270004272461,91.17839813232422,91.86000061035156,92.07510375976562,92.03780364990234,91.90499877929688,92.39469909667967,92.59760284423828,92.54499816894533,92.31700134277344,92.2145004272461,92.5,92.87789916992188,93.4250030517578,93.5500030517578,93.10140228271484,92.91500091552734,92.76000213623048,92.9521026611328,93.0999984741211,93.12580108642578,92.99669647216795,93.09500122070312,93.04499816894533,92.83670043945312,92.78500366210938,93.31610107421876,93.78109741210938,93.6500015258789,93.59880065917967,93.91000366210938,94.33499908447266,94.41500091552734,94.49500274658205,93.84500122070312,93.9832000732422,94.1843032836914,93.59480285644533,93.7750015258789,93.61160278320312,93.8949966430664,93.55609893798828,93.71299743652344,93.87429809570312,93.74230194091795,93.427001953125,93.5251007080078,93.3000030517578,93.05500030517578,93.0072021484375,92.8583984375,93.11239624023438,93.00499725341795,92.73999786376952,92.69660186767578,92.66500091552734,92.28399658203124,92.57009887695312,92.11740112304688,92.41419982910156,92.27429962158205,92.22119903564452,92.17330169677734,91.75879669189452,91.72840118408205,91.54499816894533,91.6449966430664,91.44889831542967,91.22660064697266,91.31500244140624,90.73500061035156,90.5999984741211,89.95999908447266,89.70999908447266,90.0740966796875,89.81279754638672,89.67220306396484,90.25659942626952,90.4456024169922,90.07209777832033,89.94000244140625,89.6104965209961,89.47840118408203,89.46849822998047,89.55269622802734,89.30599975585938,89.14409637451172,89.21289825439453,89.3302001953125,88.89179992675781,88.60900115966797,88.8895034790039,88.88009643554688,89.26629638671875,89.44049835205078,89.75299835205078,89.54440307617188,89.2936019897461,89.32689666748047,89.21160125732422,89.00340270996094,89.10160064697266,88.9572982788086,89.17980194091797,89.26000213623047,90.42440032958984,90.375,90.25489807128906,90.6168975830078,90.83100128173828,90.56529998779295,90.385498046875,90.34490203857422,90.47000122070312,90.74500274658205,90.779296875,90.80960083007812,90.61509704589844,90.95999908447266,91.51609802246094,91.60009765625,91.15489959716795,91.30999755859376,91.69490051269533,91.51210021972656,91.31390380859376,91.2197036743164,91.63490295410156,91.74210357666016,91.78459930419922,91.74710083007812,91.4354019165039,91.18489837646484,90.9656982421875,90.94519805908205,90.80449676513672,90.50959777832033,90.43470001220705,90.59230041503906,90.43170166015624,90.6187973022461,90.87920379638672,90.75140380859376,91.4083023071289,91.5999984741211,91.38610076904295,91.64070129394533,92.06929779052734,91.83519744873048,91.81159973144533,92.3550033569336,92.27519989013672,92.03500366210938,91.95999908447266,92.0656967163086,92.0999984741211,91.98580169677734,91.90029907226562,91.76499938964844,91.9625015258789,92.3676986694336,92.4040985107422,91.86180114746094,91.40399932861328,91.36299896240234,91.4760971069336,91.2751007080078,91.09500122070312,91.12100219726562,90.8772964477539,90.83499908447266,90.83000183105467,90.81770324707033,90.5,90.43150329589844,90.59100341796876,90.29499816894533,90.40670013427734,90.435302734375,90.20999908447266,90.08499908447266,90.3585968017578,90.4000015258789,90.20999908447266,90.01899719238281,90.42630004882812,91.12529754638672,91.82430267333984,91.4084014892578,92.06700134277344,91.63600158691406,92.34459686279295,92.08000183105467,91.7655029296875,92.47509765625,92.80979919433594,92.83589935302734,92.2666015625,92.16310119628906,91.81520080566406,91.87560272216795,92.18499755859376,92.47219848632812,92.81500244140624,92.93920135498048,92.92120361328124,92.4915008544922,92.46890258789062,92.6168975830078,92.60919952392578,92.36499786376952,92.11499786376952,92.16000366210938,92.01110076904295,92.2852020263672,92.26499938964844,92.40350341796876,92.90619659423828,92.76499938964844,92.44499969482422,92.68229675292967,92.33489990234376,92.77459716796876,93.10369873046876,93.16000366210938,92.86399841308594,92.58419799804688,92.59500122070312,92.93579864501952,93.13999938964844,92.7938003540039,92.72350311279295,92.56320190429688,92.37090301513672,92.0999984741211,91.96929931640624,91.91329956054688,91.97760009765624,91.83200073242188,91.481201171875,91.49140167236328,91.89959716796876,92.10060119628906,92.24240112304688,91.86979675292967,91.90750122070312,91.85690307617188,91.57460021972656,91.86699676513672,91.6406021118164,91.73090362548828,91.375,91.45999908447266,91.8249969482422,91.61499786376952,91.77660369873048,91.76480102539062,91.5270004272461,91.65499877929688,91.7645034790039,91.56490325927734,91.60189819335938,91.15969848632812,91.27189636230467,91.12000274658205,90.91529846191406,90.57109832763672,90.6050033569336,90.88629913330078,90.9499969482422,91.44539642333984,91.87999725341795,91.71700286865234,91.6540985107422,91.69529724121094,91.83399963378906,91.51419830322266,91.55419921875,91.41739654541016,91.3447036743164,91.47000122070312,91.0947036743164,91.3000030517578,91.34750366210938,91.11799621582033,91.05290222167967,90.8062973022461,91.32530212402344,91.25550079345705,91.42769622802734],\"yaxis\":\"y\",\"type\":\"scatter\",\"opacity\":0.8}],                        {\"template\":{\"data\":{\"histogram2dcontour\":[{\"type\":\"histogram2dcontour\",\"colorbar\":{\"outlinewidth\":0,\"ticks\":\"\"},\"colorscale\":[[0.0,\"#0d0887\"],[0.1111111111111111,\"#46039f\"],[0.2222222222222222,\"#7201a8\"],[0.3333333333333333,\"#9c179e\"],[0.4444444444444444,\"#bd3786\"],[0.5555555555555556,\"#d8576b\"],[0.6666666666666666,\"#ed7953\"],[0.7777777777777778,\"#fb9f3a\"],[0.8888888888888888,\"#fdca26\"],[1.0,\"#f0f921\"]]}],\"choropleth\":[{\"type\":\"choropleth\",\"colorbar\":{\"outlinewidth\":0,\"ticks\":\"\"}}],\"histogram2d\":[{\"type\":\"histogram2d\",\"colorbar\":{\"outlinewidth\":0,\"ticks\":\"\"},\"colorscale\":[[0.0,\"#0d0887\"],[0.1111111111111111,\"#46039f\"],[0.2222222222222222,\"#7201a8\"],[0.3333333333333333,\"#9c179e\"],[0.4444444444444444,\"#bd3786\"],[0.5555555555555556,\"#d8576b\"],[0.6666666666666666,\"#ed7953\"],[0.7777777777777778,\"#fb9f3a\"],[0.8888888888888888,\"#fdca26\"],[1.0,\"#f0f921\"]]}],\"heatmap\":[{\"type\":\"heatmap\",\"colorbar\":{\"outlinewidth\":0,\"ticks\":\"\"},\"colorscale\":[[0.0,\"#0d0887\"],[0.1111111111111111,\"#46039f\"],[0.2222222222222222,\"#7201a8\"],[0.3333333333333333,\"#9c179e\"],[0.4444444444444444,\"#bd3786\"],[0.5555555555555556,\"#d8576b\"],[0.6666666666666666,\"#ed7953\"],[0.7777777777777778,\"#fb9f3a\"],[0.8888888888888888,\"#fdca26\"],[1.0,\"#f0f921\"]]}],\"heatmapgl\":[{\"type\":\"heatmapgl\",\"colorbar\":{\"outlinewidth\":0,\"ticks\":\"\"},\"colorscale\":[[0.0,\"#0d0887\"],[0.1111111111111111,\"#46039f\"],[0.2222222222222222,\"#7201a8\"],[0.3333333333333333,\"#9c179e\"],[0.4444444444444444,\"#bd3786\"],[0.5555555555555556,\"#d8576b\"],[0.6666666666666666,\"#ed7953\"],[0.7777777777777778,\"#fb9f3a\"],[0.8888888888888888,\"#fdca26\"],[1.0,\"#f0f921\"]]}],\"contourcarpet\":[{\"type\":\"contourcarpet\",\"colorbar\":{\"outlinewidth\":0,\"ticks\":\"\"}}],\"contour\":[{\"type\":\"contour\",\"colorbar\":{\"outlinewidth\":0,\"ticks\":\"\"},\"colorscale\":[[0.0,\"#0d0887\"],[0.1111111111111111,\"#46039f\"],[0.2222222222222222,\"#7201a8\"],[0.3333333333333333,\"#9c179e\"],[0.4444444444444444,\"#bd3786\"],[0.5555555555555556,\"#d8576b\"],[0.6666666666666666,\"#ed7953\"],[0.7777777777777778,\"#fb9f3a\"],[0.8888888888888888,\"#fdca26\"],[1.0,\"#f0f921\"]]}],\"surface\":[{\"type\":\"surface\",\"colorbar\":{\"outlinewidth\":0,\"ticks\":\"\"},\"colorscale\":[[0.0,\"#0d0887\"],[0.1111111111111111,\"#46039f\"],[0.2222222222222222,\"#7201a8\"],[0.3333333333333333,\"#9c179e\"],[0.4444444444444444,\"#bd3786\"],[0.5555555555555556,\"#d8576b\"],[0.6666666666666666,\"#ed7953\"],[0.7777777777777778,\"#fb9f3a\"],[0.8888888888888888,\"#fdca26\"],[1.0,\"#f0f921\"]]}],\"mesh3d\":[{\"type\":\"mesh3d\",\"colorbar\":{\"outlinewidth\":0,\"ticks\":\"\"}}],\"scatter\":[{\"fillpattern\":{\"fillmode\":\"overlay\",\"size\":10,\"solidity\":0.2},\"type\":\"scatter\"}],\"parcoords\":[{\"type\":\"parcoords\",\"line\":{\"colorbar\":{\"outlinewidth\":0,\"ticks\":\"\"}}}],\"scatterpolargl\":[{\"type\":\"scatterpolargl\",\"marker\":{\"colorbar\":{\"outlinewidth\":0,\"ticks\":\"\"}}}],\"bar\":[{\"error_x\":{\"color\":\"#2a3f5f\"},\"error_y\":{\"color\":\"#2a3f5f\"},\"marker\":{\"line\":{\"color\":\"#E5ECF6\",\"width\":0.5},\"pattern\":{\"fillmode\":\"overlay\",\"size\":10,\"solidity\":0.2}},\"type\":\"bar\"}],\"scattergeo\":[{\"type\":\"scattergeo\",\"marker\":{\"colorbar\":{\"outlinewidth\":0,\"ticks\":\"\"}}}],\"scatterpolar\":[{\"type\":\"scatterpolar\",\"marker\":{\"colorbar\":{\"outlinewidth\":0,\"ticks\":\"\"}}}],\"histogram\":[{\"marker\":{\"pattern\":{\"fillmode\":\"overlay\",\"size\":10,\"solidity\":0.2}},\"type\":\"histogram\"}],\"scattergl\":[{\"type\":\"scattergl\",\"marker\":{\"colorbar\":{\"outlinewidth\":0,\"ticks\":\"\"}}}],\"scatter3d\":[{\"type\":\"scatter3d\",\"line\":{\"colorbar\":{\"outlinewidth\":0,\"ticks\":\"\"}},\"marker\":{\"colorbar\":{\"outlinewidth\":0,\"ticks\":\"\"}}}],\"scattermapbox\":[{\"type\":\"scattermapbox\",\"marker\":{\"colorbar\":{\"outlinewidth\":0,\"ticks\":\"\"}}}],\"scatterternary\":[{\"type\":\"scatterternary\",\"marker\":{\"colorbar\":{\"outlinewidth\":0,\"ticks\":\"\"}}}],\"scattercarpet\":[{\"type\":\"scattercarpet\",\"marker\":{\"colorbar\":{\"outlinewidth\":0,\"ticks\":\"\"}}}],\"carpet\":[{\"aaxis\":{\"endlinecolor\":\"#2a3f5f\",\"gridcolor\":\"white\",\"linecolor\":\"white\",\"minorgridcolor\":\"white\",\"startlinecolor\":\"#2a3f5f\"},\"baxis\":{\"endlinecolor\":\"#2a3f5f\",\"gridcolor\":\"white\",\"linecolor\":\"white\",\"minorgridcolor\":\"white\",\"startlinecolor\":\"#2a3f5f\"},\"type\":\"carpet\"}],\"table\":[{\"cells\":{\"fill\":{\"color\":\"#EBF0F8\"},\"line\":{\"color\":\"white\"}},\"header\":{\"fill\":{\"color\":\"#C8D4E3\"},\"line\":{\"color\":\"white\"}},\"type\":\"table\"}],\"barpolar\":[{\"marker\":{\"line\":{\"color\":\"#E5ECF6\",\"width\":0.5},\"pattern\":{\"fillmode\":\"overlay\",\"size\":10,\"solidity\":0.2}},\"type\":\"barpolar\"}],\"pie\":[{\"automargin\":true,\"type\":\"pie\"}]},\"layout\":{\"autotypenumbers\":\"strict\",\"colorway\":[\"#636efa\",\"#EF553B\",\"#00cc96\",\"#ab63fa\",\"#FFA15A\",\"#19d3f3\",\"#FF6692\",\"#B6E880\",\"#FF97FF\",\"#FECB52\"],\"font\":{\"color\":\"#2a3f5f\"},\"hovermode\":\"closest\",\"hoverlabel\":{\"align\":\"left\"},\"paper_bgcolor\":\"white\",\"plot_bgcolor\":\"#E5ECF6\",\"polar\":{\"bgcolor\":\"#E5ECF6\",\"angularaxis\":{\"gridcolor\":\"white\",\"linecolor\":\"white\",\"ticks\":\"\"},\"radialaxis\":{\"gridcolor\":\"white\",\"linecolor\":\"white\",\"ticks\":\"\"}},\"ternary\":{\"bgcolor\":\"#E5ECF6\",\"aaxis\":{\"gridcolor\":\"white\",\"linecolor\":\"white\",\"ticks\":\"\"},\"baxis\":{\"gridcolor\":\"white\",\"linecolor\":\"white\",\"ticks\":\"\"},\"caxis\":{\"gridcolor\":\"white\",\"linecolor\":\"white\",\"ticks\":\"\"}},\"coloraxis\":{\"colorbar\":{\"outlinewidth\":0,\"ticks\":\"\"}},\"colorscale\":{\"sequential\":[[0.0,\"#0d0887\"],[0.1111111111111111,\"#46039f\"],[0.2222222222222222,\"#7201a8\"],[0.3333333333333333,\"#9c179e\"],[0.4444444444444444,\"#bd3786\"],[0.5555555555555556,\"#d8576b\"],[0.6666666666666666,\"#ed7953\"],[0.7777777777777778,\"#fb9f3a\"],[0.8888888888888888,\"#fdca26\"],[1.0,\"#f0f921\"]],\"sequentialminus\":[[0.0,\"#0d0887\"],[0.1111111111111111,\"#46039f\"],[0.2222222222222222,\"#7201a8\"],[0.3333333333333333,\"#9c179e\"],[0.4444444444444444,\"#bd3786\"],[0.5555555555555556,\"#d8576b\"],[0.6666666666666666,\"#ed7953\"],[0.7777777777777778,\"#fb9f3a\"],[0.8888888888888888,\"#fdca26\"],[1.0,\"#f0f921\"]],\"diverging\":[[0,\"#8e0152\"],[0.1,\"#c51b7d\"],[0.2,\"#de77ae\"],[0.3,\"#f1b6da\"],[0.4,\"#fde0ef\"],[0.5,\"#f7f7f7\"],[0.6,\"#e6f5d0\"],[0.7,\"#b8e186\"],[0.8,\"#7fbc41\"],[0.9,\"#4d9221\"],[1,\"#276419\"]]},\"xaxis\":{\"gridcolor\":\"white\",\"linecolor\":\"white\",\"ticks\":\"\",\"title\":{\"standoff\":15},\"zerolinecolor\":\"white\",\"automargin\":true,\"zerolinewidth\":2},\"yaxis\":{\"gridcolor\":\"white\",\"linecolor\":\"white\",\"ticks\":\"\",\"title\":{\"standoff\":15},\"zerolinecolor\":\"white\",\"automargin\":true,\"zerolinewidth\":2},\"scene\":{\"xaxis\":{\"backgroundcolor\":\"#E5ECF6\",\"gridcolor\":\"white\",\"linecolor\":\"white\",\"showbackground\":true,\"ticks\":\"\",\"zerolinecolor\":\"white\",\"gridwidth\":2},\"yaxis\":{\"backgroundcolor\":\"#E5ECF6\",\"gridcolor\":\"white\",\"linecolor\":\"white\",\"showbackground\":true,\"ticks\":\"\",\"zerolinecolor\":\"white\",\"gridwidth\":2},\"zaxis\":{\"backgroundcolor\":\"#E5ECF6\",\"gridcolor\":\"white\",\"linecolor\":\"white\",\"showbackground\":true,\"ticks\":\"\",\"zerolinecolor\":\"white\",\"gridwidth\":2}},\"shapedefaults\":{\"line\":{\"color\":\"#2a3f5f\"}},\"annotationdefaults\":{\"arrowcolor\":\"#2a3f5f\",\"arrowhead\":0,\"arrowwidth\":1},\"geo\":{\"bgcolor\":\"white\",\"landcolor\":\"#E5ECF6\",\"subunitcolor\":\"white\",\"showland\":true,\"showlakes\":true,\"lakecolor\":\"white\"},\"title\":{\"x\":0.05},\"mapbox\":{\"style\":\"light\"}}},\"xaxis\":{\"anchor\":\"y\",\"domain\":[0.0,1.0],\"title\":{\"text\":\"Date\"},\"showgrid\":false},\"yaxis\":{\"anchor\":\"x\",\"domain\":[0.0,1.0],\"title\":{\"text\":\"Close\"},\"showgrid\":false},\"legend\":{\"tracegroupgap\":0},\"margin\":{\"t\":60},\"title\":{\"text\":\"Whole period of timeframe of Bitcoin close price 2020-2023\"},\"font\":{\"size\":15,\"color\":\"black\"},\"plot_bgcolor\":\"white\"},                        {\"responsive\": true}                    ).then(function(){\n",
              "                            \n",
              "var gd = document.getElementById('c47eabf3-4640-44ea-badb-345ff7a9c475');\n",
              "var x = new MutationObserver(function (mutations, observer) {{\n",
              "        var display = window.getComputedStyle(gd).display;\n",
              "        if (!display || display === 'none') {{\n",
              "            console.log([gd, 'removed!']);\n",
              "            Plotly.purge(gd);\n",
              "            observer.disconnect();\n",
              "        }}\n",
              "}});\n",
              "\n",
              "// Listen for the removal of the full notebook cells\n",
              "var notebookContainer = gd.closest('#notebook-container');\n",
              "if (notebookContainer) {{\n",
              "    x.observe(notebookContainer, {childList: true});\n",
              "}}\n",
              "\n",
              "// Listen for the clearing of the current output cell\n",
              "var outputEl = gd.closest('.output');\n",
              "if (outputEl) {{\n",
              "    x.observe(outputEl, {childList: true});\n",
              "}}\n",
              "\n",
              "                        })                };                            </script>        </div>\n",
              "</body>\n",
              "</html>"
            ]
          },
          "metadata": {}
        }
      ]
    },
    {
      "cell_type": "markdown",
      "source": [
        "Taking only 1 year of data owing to the fluctuations, that we confuse the model"
      ],
      "metadata": {
        "id": "_rAx0acgDtlm"
      }
    },
    {
      "cell_type": "code",
      "source": [
        "'''\n",
        "df = df[df['Date'] > '2022-08-09']\n",
        "close_stock = df.copy()\n",
        "print(\"Total data for prediction: \",df.shape[0])\n",
        "'''"
      ],
      "metadata": {
        "colab": {
          "base_uri": "https://localhost:8080/"
        },
        "id": "JBu1gSuXDjjX",
        "outputId": "0754d319-51d1-441a-a9dc-e06006825f33"
      },
      "execution_count": 8,
      "outputs": [
        {
          "output_type": "stream",
          "name": "stdout",
          "text": [
            "Total data for prediction:  251\n"
          ]
        }
      ]
    },
    {
      "cell_type": "code",
      "source": [
        "df = pd.read_csv('BTC-USD.csv')\n",
        "\n",
        "# dropping the unecessary columns\n",
        "df = df[['Close']]\n",
        "print(df)"
      ],
      "metadata": {
        "colab": {
          "base_uri": "https://localhost:8080/"
        },
        "id": "0HMbTMsJF8fO",
        "outputId": "fb3a8b17-140f-4822-9758-0e9b34567bac"
      },
      "execution_count": 9,
      "outputs": [
        {
          "output_type": "stream",
          "name": "stdout",
          "text": [
            "            Close\n",
            "0    23947.642578\n",
            "1    23957.529297\n",
            "2    24402.818359\n",
            "3    24424.068359\n",
            "4    24319.333984\n",
            "..            ...\n",
            "360  29042.126953\n",
            "361  29041.855469\n",
            "362  29180.578125\n",
            "363  29765.492188\n",
            "364  29480.964844\n",
            "\n",
            "[365 rows x 1 columns]\n"
          ]
        }
      ]
    },
    {
      "cell_type": "markdown",
      "source": [
        "Normalizing the Data"
      ],
      "metadata": {
        "id": "QdNY07_CEke2"
      }
    },
    {
      "cell_type": "code",
      "source": [
        "scaler=MinMaxScaler(feature_range=(0,1))\n",
        "df=scaler.fit_transform(np.array(df).reshape(-1,1))\n",
        "print(df.shape)"
      ],
      "metadata": {
        "colab": {
          "base_uri": "https://localhost:8080/"
        },
        "id": "jAmXbchDEDKD",
        "outputId": "353184ba-1544-43ac-eeb5-1f6823a7533b"
      },
      "execution_count": 10,
      "outputs": [
        {
          "output_type": "stream",
          "name": "stdout",
          "text": [
            "(365, 1)\n"
          ]
        }
      ]
    },
    {
      "cell_type": "markdown",
      "source": [
        "Train Test Split"
      ],
      "metadata": {
        "id": "6SHqJn-U6Oxw"
      }
    },
    {
      "cell_type": "code",
      "source": [
        "training_size = int(len(df)*0.60)\n",
        "test_size = len(df)-training_size\n",
        "train_data,test_data=df[0:training_size,:],df[training_size:len(df),:1]\n",
        "print(\"train_data: \", train_data.shape)\n",
        "print(\"test_data: \", test_data.shape)"
      ],
      "metadata": {
        "colab": {
          "base_uri": "https://localhost:8080/"
        },
        "id": "4oFThD8FFPw6",
        "outputId": "060ad6d3-2c07-4ed2-dcd5-3f2949cd1667"
      },
      "execution_count": 12,
      "outputs": [
        {
          "output_type": "stream",
          "name": "stdout",
          "text": [
            "train_data:  (219, 1)\n",
            "test_data:  (146, 1)\n"
          ]
        }
      ]
    },
    {
      "cell_type": "markdown",
      "source": [
        "# Creating time series data"
      ],
      "metadata": {
        "id": "layBgGRJOkL1"
      }
    },
    {
      "cell_type": "markdown",
      "source": [
        "The function below is very important in LSTM model training.\n",
        "\n",
        "Here we have to create a time series analysis sequence of data\n",
        "\n",
        "Input:\n",
        "\n",
        "time_step=3, dataset=[1,2,3,4,5,6,7,8,9,10]\n",
        "\n",
        "Output:\n",
        "\n",
        "dataX: [[1,2,3],[2,3,4],[3,4,5]...[7,8,9]]\n",
        "\n",
        "dataY: [4,5,6...10]\n",
        "\n",
        "As you can see above in dataX closing price for 3 days is taken and it's corresponding dataY value is the prediction value, i.e., value of the next day, i.e., 4th day."
      ],
      "metadata": {
        "id": "sRgNy_edNWa2"
      }
    },
    {
      "cell_type": "code",
      "source": [
        "def create_dataset(dataset, time_step=1):\n",
        "    dataX, dataY = [], []\n",
        "    for i in range(len(dataset)-time_step-1):\n",
        "        a = dataset[i:(i+time_step), 0]   ###i=0, 0,1,2,3-----99   100\n",
        "        dataX.append(a)\n",
        "        dataY.append(dataset[i + time_step, 0])\n",
        "    return np.array(dataX), np.array(dataY)"
      ],
      "metadata": {
        "id": "ZM0C1aR3NJZu"
      },
      "execution_count": 19,
      "outputs": []
    },
    {
      "cell_type": "code",
      "source": [
        "time_step = 15\n",
        "X_train, y_train = create_dataset(train_data, time_step)\n",
        "X_test, y_test = create_dataset(test_data, time_step)\n",
        "\n",
        "print(\"X_train: \", X_train.shape)\n",
        "print(\"y_train: \", y_train.shape)\n",
        "print(\"X_test: \", X_test.shape)\n",
        "print(\"y_test\", y_test.shape)"
      ],
      "metadata": {
        "colab": {
          "base_uri": "https://localhost:8080/"
        },
        "id": "ADIfB-bzNKmc",
        "outputId": "47bdc580-9354-4c95-8d81-329b3338274a"
      },
      "execution_count": 20,
      "outputs": [
        {
          "output_type": "stream",
          "name": "stdout",
          "text": [
            "X_train:  (203, 15)\n",
            "y_train:  (203,)\n",
            "X_test:  (130, 15)\n",
            "y_test (130,)\n"
          ]
        }
      ]
    },
    {
      "cell_type": "markdown",
      "source": [
        "In the below code, we take the X-train, X_test as it is, we just add one more dimension which is the necessary input shape of the LSTm model\n",
        "\n",
        "The 1 extra dimension defines the no of features in the dataset (I think in this case we take it as 1 because we consider only the closing price.)"
      ],
      "metadata": {
        "id": "nNRNPCQOPM5l"
      }
    },
    {
      "cell_type": "code",
      "source": [
        "# reshape input to be [samples, time steps, features] which is required for LSTM\n",
        "X_train =X_train.reshape(X_train.shape[0],X_train.shape[1] , 1)\n",
        "X_test = X_test.reshape(X_test.shape[0],X_test.shape[1] , 1)\n",
        "\n",
        "print(\"X_train: \", X_train.shape)\n",
        "print(\"X_test: \", X_test.shape)"
      ],
      "metadata": {
        "colab": {
          "base_uri": "https://localhost:8080/"
        },
        "id": "lQOta9jCOqzl",
        "outputId": "08aef5ad-51bc-4023-812e-17bb6d54201e"
      },
      "execution_count": 22,
      "outputs": [
        {
          "output_type": "stream",
          "name": "stdout",
          "text": [
            "X_train:  (203, 15, 1)\n",
            "X_test:  (130, 15, 1)\n"
          ]
        }
      ]
    },
    {
      "cell_type": "markdown",
      "source": [
        "# Building the Model"
      ],
      "metadata": {
        "id": "7EoxQe35Q4C2"
      }
    },
    {
      "cell_type": "code",
      "source": [
        "regressor=Sequential()\n",
        "\n",
        "regressor.add(LSTM(10,input_shape=(None,1),activation=\"relu\"))\n",
        "\n",
        "regressor.add(Dense(1))\n",
        "\n",
        "regressor.compile(loss=\"mean_squared_error\",optimizer=\"adamax\")\n",
        "history = regressor.fit(X_train,y_train,validation_data=(X_test,y_test),epochs=200,batch_size=32,verbose=1)"
      ],
      "metadata": {
        "colab": {
          "base_uri": "https://localhost:8080/"
        },
        "id": "r4Yc8_deQVVL",
        "outputId": "088084a2-9daf-425c-d36c-047cf13516f4"
      },
      "execution_count": 51,
      "outputs": [
        {
          "output_type": "stream",
          "name": "stdout",
          "text": [
            "Epoch 1/200\n",
            "7/7 [==============================] - 2s 62ms/step - loss: 0.1439 - val_loss: 0.9972\n",
            "Epoch 2/200\n",
            "7/7 [==============================] - 0s 16ms/step - loss: 0.1208 - val_loss: 0.8975\n",
            "Epoch 3/200\n",
            "7/7 [==============================] - 0s 18ms/step - loss: 0.1034 - val_loss: 0.8140\n",
            "Epoch 4/200\n",
            "7/7 [==============================] - 0s 19ms/step - loss: 0.0901 - val_loss: 0.7463\n",
            "Epoch 5/200\n",
            "7/7 [==============================] - 0s 18ms/step - loss: 0.0792 - val_loss: 0.6911\n",
            "Epoch 6/200\n",
            "7/7 [==============================] - 0s 17ms/step - loss: 0.0704 - val_loss: 0.6441\n",
            "Epoch 7/200\n",
            "7/7 [==============================] - 0s 20ms/step - loss: 0.0622 - val_loss: 0.5995\n",
            "Epoch 8/200\n",
            "7/7 [==============================] - 0s 17ms/step - loss: 0.0545 - val_loss: 0.5536\n",
            "Epoch 9/200\n",
            "7/7 [==============================] - 0s 17ms/step - loss: 0.0478 - val_loss: 0.5101\n",
            "Epoch 10/200\n",
            "7/7 [==============================] - 0s 19ms/step - loss: 0.0420 - val_loss: 0.4685\n",
            "Epoch 11/200\n",
            "7/7 [==============================] - 0s 18ms/step - loss: 0.0368 - val_loss: 0.4291\n",
            "Epoch 12/200\n",
            "7/7 [==============================] - 0s 15ms/step - loss: 0.0322 - val_loss: 0.3917\n",
            "Epoch 13/200\n",
            "7/7 [==============================] - 0s 17ms/step - loss: 0.0282 - val_loss: 0.3558\n",
            "Epoch 14/200\n",
            "7/7 [==============================] - 0s 16ms/step - loss: 0.0243 - val_loss: 0.3237\n",
            "Epoch 15/200\n",
            "7/7 [==============================] - 0s 15ms/step - loss: 0.0214 - val_loss: 0.2909\n",
            "Epoch 16/200\n",
            "7/7 [==============================] - 0s 20ms/step - loss: 0.0186 - val_loss: 0.2611\n",
            "Epoch 17/200\n",
            "7/7 [==============================] - 0s 17ms/step - loss: 0.0162 - val_loss: 0.2323\n",
            "Epoch 18/200\n",
            "7/7 [==============================] - 0s 16ms/step - loss: 0.0142 - val_loss: 0.2060\n",
            "Epoch 19/200\n",
            "7/7 [==============================] - 0s 15ms/step - loss: 0.0125 - val_loss: 0.1825\n",
            "Epoch 20/200\n",
            "7/7 [==============================] - 0s 18ms/step - loss: 0.0111 - val_loss: 0.1606\n",
            "Epoch 21/200\n",
            "7/7 [==============================] - 0s 15ms/step - loss: 0.0099 - val_loss: 0.1406\n",
            "Epoch 22/200\n",
            "7/7 [==============================] - 0s 14ms/step - loss: 0.0089 - val_loss: 0.1225\n",
            "Epoch 23/200\n",
            "7/7 [==============================] - 0s 18ms/step - loss: 0.0081 - val_loss: 0.1063\n",
            "Epoch 24/200\n",
            "7/7 [==============================] - 0s 16ms/step - loss: 0.0073 - val_loss: 0.0921\n",
            "Epoch 25/200\n",
            "7/7 [==============================] - 0s 17ms/step - loss: 0.0066 - val_loss: 0.0811\n",
            "Epoch 26/200\n",
            "7/7 [==============================] - 0s 15ms/step - loss: 0.0060 - val_loss: 0.0708\n",
            "Epoch 27/200\n",
            "7/7 [==============================] - 0s 15ms/step - loss: 0.0056 - val_loss: 0.0613\n",
            "Epoch 28/200\n",
            "7/7 [==============================] - 0s 16ms/step - loss: 0.0051 - val_loss: 0.0536\n",
            "Epoch 29/200\n",
            "7/7 [==============================] - 0s 19ms/step - loss: 0.0048 - val_loss: 0.0473\n",
            "Epoch 30/200\n",
            "7/7 [==============================] - 0s 17ms/step - loss: 0.0045 - val_loss: 0.0418\n",
            "Epoch 31/200\n",
            "7/7 [==============================] - 0s 15ms/step - loss: 0.0043 - val_loss: 0.0366\n",
            "Epoch 32/200\n",
            "7/7 [==============================] - 0s 16ms/step - loss: 0.0041 - val_loss: 0.0317\n",
            "Epoch 33/200\n",
            "7/7 [==============================] - 0s 24ms/step - loss: 0.0040 - val_loss: 0.0281\n",
            "Epoch 34/200\n",
            "7/7 [==============================] - 0s 16ms/step - loss: 0.0039 - val_loss: 0.0254\n",
            "Epoch 35/200\n",
            "7/7 [==============================] - 0s 15ms/step - loss: 0.0038 - val_loss: 0.0226\n",
            "Epoch 36/200\n",
            "7/7 [==============================] - 0s 14ms/step - loss: 0.0037 - val_loss: 0.0208\n",
            "Epoch 37/200\n",
            "7/7 [==============================] - 0s 16ms/step - loss: 0.0037 - val_loss: 0.0194\n",
            "Epoch 38/200\n",
            "7/7 [==============================] - 0s 17ms/step - loss: 0.0036 - val_loss: 0.0181\n",
            "Epoch 39/200\n",
            "7/7 [==============================] - 0s 15ms/step - loss: 0.0036 - val_loss: 0.0169\n",
            "Epoch 40/200\n",
            "7/7 [==============================] - 0s 16ms/step - loss: 0.0036 - val_loss: 0.0161\n",
            "Epoch 41/200\n",
            "7/7 [==============================] - 0s 14ms/step - loss: 0.0036 - val_loss: 0.0154\n",
            "Epoch 42/200\n",
            "7/7 [==============================] - 0s 19ms/step - loss: 0.0036 - val_loss: 0.0142\n",
            "Epoch 43/200\n",
            "7/7 [==============================] - 0s 14ms/step - loss: 0.0036 - val_loss: 0.0136\n",
            "Epoch 44/200\n",
            "7/7 [==============================] - 0s 15ms/step - loss: 0.0035 - val_loss: 0.0139\n",
            "Epoch 45/200\n",
            "7/7 [==============================] - 0s 15ms/step - loss: 0.0035 - val_loss: 0.0136\n",
            "Epoch 46/200\n",
            "7/7 [==============================] - 0s 17ms/step - loss: 0.0035 - val_loss: 0.0127\n",
            "Epoch 47/200\n",
            "7/7 [==============================] - 0s 16ms/step - loss: 0.0035 - val_loss: 0.0120\n",
            "Epoch 48/200\n",
            "7/7 [==============================] - 0s 16ms/step - loss: 0.0035 - val_loss: 0.0114\n",
            "Epoch 49/200\n",
            "7/7 [==============================] - 0s 16ms/step - loss: 0.0034 - val_loss: 0.0117\n",
            "Epoch 50/200\n",
            "7/7 [==============================] - 0s 19ms/step - loss: 0.0034 - val_loss: 0.0116\n",
            "Epoch 51/200\n",
            "7/7 [==============================] - 0s 20ms/step - loss: 0.0034 - val_loss: 0.0114\n",
            "Epoch 52/200\n",
            "7/7 [==============================] - 0s 15ms/step - loss: 0.0034 - val_loss: 0.0107\n",
            "Epoch 53/200\n",
            "7/7 [==============================] - 0s 16ms/step - loss: 0.0034 - val_loss: 0.0102\n",
            "Epoch 54/200\n",
            "7/7 [==============================] - 0s 14ms/step - loss: 0.0034 - val_loss: 0.0102\n",
            "Epoch 55/200\n",
            "7/7 [==============================] - 0s 15ms/step - loss: 0.0034 - val_loss: 0.0097\n",
            "Epoch 56/200\n",
            "7/7 [==============================] - 0s 24ms/step - loss: 0.0033 - val_loss: 0.0096\n",
            "Epoch 57/200\n",
            "7/7 [==============================] - 0s 30ms/step - loss: 0.0033 - val_loss: 0.0097\n",
            "Epoch 58/200\n",
            "7/7 [==============================] - 0s 27ms/step - loss: 0.0033 - val_loss: 0.0096\n",
            "Epoch 59/200\n",
            "7/7 [==============================] - 0s 31ms/step - loss: 0.0033 - val_loss: 0.0094\n",
            "Epoch 60/200\n",
            "7/7 [==============================] - 0s 29ms/step - loss: 0.0033 - val_loss: 0.0090\n",
            "Epoch 61/200\n",
            "7/7 [==============================] - 0s 35ms/step - loss: 0.0033 - val_loss: 0.0088\n",
            "Epoch 62/200\n",
            "7/7 [==============================] - 0s 36ms/step - loss: 0.0033 - val_loss: 0.0084\n",
            "Epoch 63/200\n",
            "7/7 [==============================] - 0s 39ms/step - loss: 0.0033 - val_loss: 0.0086\n",
            "Epoch 64/200\n",
            "7/7 [==============================] - 0s 29ms/step - loss: 0.0033 - val_loss: 0.0083\n",
            "Epoch 65/200\n",
            "7/7 [==============================] - 0s 34ms/step - loss: 0.0033 - val_loss: 0.0085\n",
            "Epoch 66/200\n",
            "7/7 [==============================] - 0s 35ms/step - loss: 0.0032 - val_loss: 0.0080\n",
            "Epoch 67/200\n",
            "7/7 [==============================] - 0s 42ms/step - loss: 0.0032 - val_loss: 0.0078\n",
            "Epoch 68/200\n",
            "7/7 [==============================] - 0s 25ms/step - loss: 0.0032 - val_loss: 0.0080\n",
            "Epoch 69/200\n",
            "7/7 [==============================] - 0s 46ms/step - loss: 0.0032 - val_loss: 0.0081\n",
            "Epoch 70/200\n",
            "7/7 [==============================] - 0s 34ms/step - loss: 0.0032 - val_loss: 0.0079\n",
            "Epoch 71/200\n",
            "7/7 [==============================] - 0s 35ms/step - loss: 0.0032 - val_loss: 0.0082\n",
            "Epoch 72/200\n",
            "7/7 [==============================] - 0s 29ms/step - loss: 0.0032 - val_loss: 0.0084\n",
            "Epoch 73/200\n",
            "7/7 [==============================] - 0s 34ms/step - loss: 0.0032 - val_loss: 0.0082\n",
            "Epoch 74/200\n",
            "7/7 [==============================] - 0s 23ms/step - loss: 0.0032 - val_loss: 0.0078\n",
            "Epoch 75/200\n",
            "7/7 [==============================] - 0s 35ms/step - loss: 0.0032 - val_loss: 0.0075\n",
            "Epoch 76/200\n",
            "7/7 [==============================] - 0s 37ms/step - loss: 0.0032 - val_loss: 0.0071\n",
            "Epoch 77/200\n",
            "7/7 [==============================] - 0s 27ms/step - loss: 0.0032 - val_loss: 0.0076\n",
            "Epoch 78/200\n",
            "7/7 [==============================] - 0s 16ms/step - loss: 0.0032 - val_loss: 0.0080\n",
            "Epoch 79/200\n",
            "7/7 [==============================] - 0s 18ms/step - loss: 0.0032 - val_loss: 0.0074\n",
            "Epoch 80/200\n",
            "7/7 [==============================] - 0s 16ms/step - loss: 0.0031 - val_loss: 0.0072\n",
            "Epoch 81/200\n",
            "7/7 [==============================] - 0s 17ms/step - loss: 0.0031 - val_loss: 0.0072\n",
            "Epoch 82/200\n",
            "7/7 [==============================] - 0s 15ms/step - loss: 0.0031 - val_loss: 0.0071\n",
            "Epoch 83/200\n",
            "7/7 [==============================] - 0s 16ms/step - loss: 0.0031 - val_loss: 0.0076\n",
            "Epoch 84/200\n",
            "7/7 [==============================] - 0s 17ms/step - loss: 0.0031 - val_loss: 0.0075\n",
            "Epoch 85/200\n",
            "7/7 [==============================] - 0s 17ms/step - loss: 0.0031 - val_loss: 0.0071\n",
            "Epoch 86/200\n",
            "7/7 [==============================] - 0s 17ms/step - loss: 0.0031 - val_loss: 0.0067\n",
            "Epoch 87/200\n",
            "7/7 [==============================] - 0s 16ms/step - loss: 0.0031 - val_loss: 0.0066\n",
            "Epoch 88/200\n",
            "7/7 [==============================] - 0s 15ms/step - loss: 0.0031 - val_loss: 0.0068\n",
            "Epoch 89/200\n",
            "7/7 [==============================] - 0s 16ms/step - loss: 0.0031 - val_loss: 0.0072\n",
            "Epoch 90/200\n",
            "7/7 [==============================] - 0s 18ms/step - loss: 0.0031 - val_loss: 0.0066\n",
            "Epoch 91/200\n",
            "7/7 [==============================] - 0s 16ms/step - loss: 0.0031 - val_loss: 0.0062\n",
            "Epoch 92/200\n",
            "7/7 [==============================] - 0s 17ms/step - loss: 0.0030 - val_loss: 0.0066\n",
            "Epoch 93/200\n",
            "7/7 [==============================] - 0s 17ms/step - loss: 0.0030 - val_loss: 0.0064\n",
            "Epoch 94/200\n",
            "7/7 [==============================] - 0s 16ms/step - loss: 0.0030 - val_loss: 0.0063\n",
            "Epoch 95/200\n",
            "7/7 [==============================] - 0s 20ms/step - loss: 0.0030 - val_loss: 0.0068\n",
            "Epoch 96/200\n",
            "7/7 [==============================] - 0s 15ms/step - loss: 0.0030 - val_loss: 0.0068\n",
            "Epoch 97/200\n",
            "7/7 [==============================] - 0s 19ms/step - loss: 0.0030 - val_loss: 0.0071\n",
            "Epoch 98/200\n",
            "7/7 [==============================] - 0s 17ms/step - loss: 0.0030 - val_loss: 0.0065\n",
            "Epoch 99/200\n",
            "7/7 [==============================] - 0s 16ms/step - loss: 0.0030 - val_loss: 0.0060\n",
            "Epoch 100/200\n",
            "7/7 [==============================] - 0s 17ms/step - loss: 0.0030 - val_loss: 0.0062\n",
            "Epoch 101/200\n",
            "7/7 [==============================] - 0s 16ms/step - loss: 0.0030 - val_loss: 0.0065\n",
            "Epoch 102/200\n",
            "7/7 [==============================] - 0s 17ms/step - loss: 0.0030 - val_loss: 0.0069\n",
            "Epoch 103/200\n",
            "7/7 [==============================] - 0s 21ms/step - loss: 0.0030 - val_loss: 0.0060\n",
            "Epoch 104/200\n",
            "7/7 [==============================] - 0s 16ms/step - loss: 0.0030 - val_loss: 0.0059\n",
            "Epoch 105/200\n",
            "7/7 [==============================] - 0s 17ms/step - loss: 0.0029 - val_loss: 0.0064\n",
            "Epoch 106/200\n",
            "7/7 [==============================] - 0s 17ms/step - loss: 0.0029 - val_loss: 0.0065\n",
            "Epoch 107/200\n",
            "7/7 [==============================] - 0s 16ms/step - loss: 0.0029 - val_loss: 0.0064\n",
            "Epoch 108/200\n",
            "7/7 [==============================] - 0s 17ms/step - loss: 0.0029 - val_loss: 0.0059\n",
            "Epoch 109/200\n",
            "7/7 [==============================] - 0s 18ms/step - loss: 0.0029 - val_loss: 0.0060\n",
            "Epoch 110/200\n",
            "7/7 [==============================] - 0s 16ms/step - loss: 0.0029 - val_loss: 0.0064\n",
            "Epoch 111/200\n",
            "7/7 [==============================] - 0s 16ms/step - loss: 0.0029 - val_loss: 0.0070\n",
            "Epoch 112/200\n",
            "7/7 [==============================] - 0s 16ms/step - loss: 0.0029 - val_loss: 0.0065\n",
            "Epoch 113/200\n",
            "7/7 [==============================] - 0s 17ms/step - loss: 0.0029 - val_loss: 0.0063\n",
            "Epoch 114/200\n",
            "7/7 [==============================] - 0s 16ms/step - loss: 0.0029 - val_loss: 0.0057\n",
            "Epoch 115/200\n",
            "7/7 [==============================] - 0s 16ms/step - loss: 0.0029 - val_loss: 0.0055\n",
            "Epoch 116/200\n",
            "7/7 [==============================] - 0s 14ms/step - loss: 0.0029 - val_loss: 0.0057\n",
            "Epoch 117/200\n",
            "7/7 [==============================] - 0s 15ms/step - loss: 0.0029 - val_loss: 0.0066\n",
            "Epoch 118/200\n",
            "7/7 [==============================] - 0s 15ms/step - loss: 0.0029 - val_loss: 0.0063\n",
            "Epoch 119/200\n",
            "7/7 [==============================] - 0s 15ms/step - loss: 0.0029 - val_loss: 0.0057\n",
            "Epoch 120/200\n",
            "7/7 [==============================] - 0s 16ms/step - loss: 0.0028 - val_loss: 0.0062\n",
            "Epoch 121/200\n",
            "7/7 [==============================] - 0s 19ms/step - loss: 0.0028 - val_loss: 0.0066\n",
            "Epoch 122/200\n",
            "7/7 [==============================] - 0s 16ms/step - loss: 0.0028 - val_loss: 0.0066\n",
            "Epoch 123/200\n",
            "7/7 [==============================] - 0s 17ms/step - loss: 0.0028 - val_loss: 0.0061\n",
            "Epoch 124/200\n",
            "7/7 [==============================] - 0s 14ms/step - loss: 0.0028 - val_loss: 0.0064\n",
            "Epoch 125/200\n",
            "7/7 [==============================] - 0s 15ms/step - loss: 0.0028 - val_loss: 0.0066\n",
            "Epoch 126/200\n",
            "7/7 [==============================] - 0s 14ms/step - loss: 0.0028 - val_loss: 0.0066\n",
            "Epoch 127/200\n",
            "7/7 [==============================] - 0s 15ms/step - loss: 0.0028 - val_loss: 0.0061\n",
            "Epoch 128/200\n",
            "7/7 [==============================] - 0s 16ms/step - loss: 0.0028 - val_loss: 0.0062\n",
            "Epoch 129/200\n",
            "7/7 [==============================] - 0s 16ms/step - loss: 0.0028 - val_loss: 0.0068\n",
            "Epoch 130/200\n",
            "7/7 [==============================] - 0s 18ms/step - loss: 0.0028 - val_loss: 0.0069\n",
            "Epoch 131/200\n",
            "7/7 [==============================] - 0s 16ms/step - loss: 0.0028 - val_loss: 0.0066\n",
            "Epoch 132/200\n",
            "7/7 [==============================] - 0s 16ms/step - loss: 0.0028 - val_loss: 0.0062\n",
            "Epoch 133/200\n",
            "7/7 [==============================] - 0s 15ms/step - loss: 0.0028 - val_loss: 0.0063\n",
            "Epoch 134/200\n",
            "7/7 [==============================] - 0s 17ms/step - loss: 0.0028 - val_loss: 0.0069\n",
            "Epoch 135/200\n",
            "7/7 [==============================] - 0s 17ms/step - loss: 0.0028 - val_loss: 0.0072\n",
            "Epoch 136/200\n",
            "7/7 [==============================] - 0s 15ms/step - loss: 0.0028 - val_loss: 0.0063\n",
            "Epoch 137/200\n",
            "7/7 [==============================] - 0s 15ms/step - loss: 0.0027 - val_loss: 0.0071\n",
            "Epoch 138/200\n",
            "7/7 [==============================] - 0s 16ms/step - loss: 0.0027 - val_loss: 0.0078\n",
            "Epoch 139/200\n",
            "7/7 [==============================] - 0s 19ms/step - loss: 0.0027 - val_loss: 0.0074\n",
            "Epoch 140/200\n",
            "7/7 [==============================] - 0s 17ms/step - loss: 0.0028 - val_loss: 0.0063\n",
            "Epoch 141/200\n",
            "7/7 [==============================] - 0s 17ms/step - loss: 0.0027 - val_loss: 0.0071\n",
            "Epoch 142/200\n",
            "7/7 [==============================] - 0s 15ms/step - loss: 0.0027 - val_loss: 0.0080\n",
            "Epoch 143/200\n",
            "7/7 [==============================] - 0s 18ms/step - loss: 0.0027 - val_loss: 0.0079\n",
            "Epoch 144/200\n",
            "7/7 [==============================] - 0s 16ms/step - loss: 0.0027 - val_loss: 0.0073\n",
            "Epoch 145/200\n",
            "7/7 [==============================] - 0s 15ms/step - loss: 0.0027 - val_loss: 0.0072\n",
            "Epoch 146/200\n",
            "7/7 [==============================] - 0s 19ms/step - loss: 0.0027 - val_loss: 0.0076\n",
            "Epoch 147/200\n",
            "7/7 [==============================] - 0s 17ms/step - loss: 0.0027 - val_loss: 0.0084\n",
            "Epoch 148/200\n",
            "7/7 [==============================] - 0s 17ms/step - loss: 0.0027 - val_loss: 0.0077\n",
            "Epoch 149/200\n",
            "7/7 [==============================] - 0s 18ms/step - loss: 0.0027 - val_loss: 0.0078\n",
            "Epoch 150/200\n",
            "7/7 [==============================] - 0s 17ms/step - loss: 0.0027 - val_loss: 0.0083\n",
            "Epoch 151/200\n",
            "7/7 [==============================] - 0s 17ms/step - loss: 0.0027 - val_loss: 0.0076\n",
            "Epoch 152/200\n",
            "7/7 [==============================] - 0s 17ms/step - loss: 0.0027 - val_loss: 0.0076\n",
            "Epoch 153/200\n",
            "7/7 [==============================] - 0s 16ms/step - loss: 0.0027 - val_loss: 0.0069\n",
            "Epoch 154/200\n",
            "7/7 [==============================] - 0s 15ms/step - loss: 0.0027 - val_loss: 0.0076\n",
            "Epoch 155/200\n",
            "7/7 [==============================] - 0s 19ms/step - loss: 0.0027 - val_loss: 0.0073\n",
            "Epoch 156/200\n",
            "7/7 [==============================] - 0s 17ms/step - loss: 0.0027 - val_loss: 0.0084\n",
            "Epoch 157/200\n",
            "7/7 [==============================] - 0s 16ms/step - loss: 0.0027 - val_loss: 0.0070\n",
            "Epoch 158/200\n",
            "7/7 [==============================] - 0s 19ms/step - loss: 0.0027 - val_loss: 0.0077\n",
            "Epoch 159/200\n",
            "7/7 [==============================] - 0s 18ms/step - loss: 0.0026 - val_loss: 0.0082\n",
            "Epoch 160/200\n",
            "7/7 [==============================] - 0s 19ms/step - loss: 0.0026 - val_loss: 0.0089\n",
            "Epoch 161/200\n",
            "7/7 [==============================] - 0s 16ms/step - loss: 0.0026 - val_loss: 0.0087\n",
            "Epoch 162/200\n",
            "7/7 [==============================] - 0s 20ms/step - loss: 0.0026 - val_loss: 0.0083\n",
            "Epoch 163/200\n",
            "7/7 [==============================] - 0s 26ms/step - loss: 0.0026 - val_loss: 0.0082\n",
            "Epoch 164/200\n",
            "7/7 [==============================] - 0s 23ms/step - loss: 0.0026 - val_loss: 0.0084\n",
            "Epoch 165/200\n",
            "7/7 [==============================] - 0s 37ms/step - loss: 0.0026 - val_loss: 0.0092\n",
            "Epoch 166/200\n",
            "7/7 [==============================] - 0s 23ms/step - loss: 0.0026 - val_loss: 0.0083\n",
            "Epoch 167/200\n",
            "7/7 [==============================] - 0s 22ms/step - loss: 0.0026 - val_loss: 0.0081\n",
            "Epoch 168/200\n",
            "7/7 [==============================] - 0s 29ms/step - loss: 0.0026 - val_loss: 0.0083\n",
            "Epoch 169/200\n",
            "7/7 [==============================] - 0s 22ms/step - loss: 0.0026 - val_loss: 0.0085\n",
            "Epoch 170/200\n",
            "7/7 [==============================] - 0s 25ms/step - loss: 0.0026 - val_loss: 0.0089\n",
            "Epoch 171/200\n",
            "7/7 [==============================] - 0s 23ms/step - loss: 0.0026 - val_loss: 0.0093\n",
            "Epoch 172/200\n",
            "7/7 [==============================] - 0s 26ms/step - loss: 0.0026 - val_loss: 0.0086\n",
            "Epoch 173/200\n",
            "7/7 [==============================] - 0s 21ms/step - loss: 0.0026 - val_loss: 0.0084\n",
            "Epoch 174/200\n",
            "7/7 [==============================] - 0s 25ms/step - loss: 0.0026 - val_loss: 0.0080\n",
            "Epoch 175/200\n",
            "7/7 [==============================] - 0s 25ms/step - loss: 0.0026 - val_loss: 0.0083\n",
            "Epoch 176/200\n",
            "7/7 [==============================] - 0s 32ms/step - loss: 0.0026 - val_loss: 0.0084\n",
            "Epoch 177/200\n",
            "7/7 [==============================] - 0s 29ms/step - loss: 0.0026 - val_loss: 0.0088\n",
            "Epoch 178/200\n",
            "7/7 [==============================] - 0s 26ms/step - loss: 0.0026 - val_loss: 0.0093\n",
            "Epoch 179/200\n",
            "7/7 [==============================] - 0s 19ms/step - loss: 0.0026 - val_loss: 0.0084\n",
            "Epoch 180/200\n",
            "7/7 [==============================] - 0s 16ms/step - loss: 0.0026 - val_loss: 0.0091\n",
            "Epoch 181/200\n",
            "7/7 [==============================] - 0s 17ms/step - loss: 0.0026 - val_loss: 0.0092\n",
            "Epoch 182/200\n",
            "7/7 [==============================] - 0s 14ms/step - loss: 0.0026 - val_loss: 0.0088\n",
            "Epoch 183/200\n",
            "7/7 [==============================] - 0s 15ms/step - loss: 0.0026 - val_loss: 0.0091\n",
            "Epoch 184/200\n",
            "7/7 [==============================] - 0s 15ms/step - loss: 0.0026 - val_loss: 0.0098\n",
            "Epoch 185/200\n",
            "7/7 [==============================] - 0s 18ms/step - loss: 0.0026 - val_loss: 0.0096\n",
            "Epoch 186/200\n",
            "7/7 [==============================] - 0s 15ms/step - loss: 0.0025 - val_loss: 0.0088\n",
            "Epoch 187/200\n",
            "7/7 [==============================] - 0s 14ms/step - loss: 0.0025 - val_loss: 0.0081\n",
            "Epoch 188/200\n",
            "7/7 [==============================] - 0s 18ms/step - loss: 0.0025 - val_loss: 0.0086\n",
            "Epoch 189/200\n",
            "7/7 [==============================] - 0s 17ms/step - loss: 0.0025 - val_loss: 0.0092\n",
            "Epoch 190/200\n",
            "7/7 [==============================] - 0s 16ms/step - loss: 0.0025 - val_loss: 0.0092\n",
            "Epoch 191/200\n",
            "7/7 [==============================] - 0s 15ms/step - loss: 0.0025 - val_loss: 0.0099\n",
            "Epoch 192/200\n",
            "7/7 [==============================] - 0s 18ms/step - loss: 0.0025 - val_loss: 0.0090\n",
            "Epoch 193/200\n",
            "7/7 [==============================] - 0s 16ms/step - loss: 0.0025 - val_loss: 0.0088\n",
            "Epoch 194/200\n",
            "7/7 [==============================] - 0s 14ms/step - loss: 0.0025 - val_loss: 0.0094\n",
            "Epoch 195/200\n",
            "7/7 [==============================] - 0s 14ms/step - loss: 0.0025 - val_loss: 0.0086\n",
            "Epoch 196/200\n",
            "7/7 [==============================] - 0s 14ms/step - loss: 0.0025 - val_loss: 0.0089\n",
            "Epoch 197/200\n",
            "7/7 [==============================] - 0s 16ms/step - loss: 0.0025 - val_loss: 0.0088\n",
            "Epoch 198/200\n",
            "7/7 [==============================] - 0s 18ms/step - loss: 0.0025 - val_loss: 0.0089\n",
            "Epoch 199/200\n",
            "7/7 [==============================] - 0s 16ms/step - loss: 0.0025 - val_loss: 0.0105\n",
            "Epoch 200/200\n",
            "7/7 [==============================] - 0s 17ms/step - loss: 0.0025 - val_loss: 0.0098\n"
          ]
        }
      ]
    },
    {
      "cell_type": "code",
      "source": [
        "#regressor.compile(loss=\"mean_squared_error\",optimizer=\"adamax\")"
      ],
      "metadata": {
        "id": "Dakt_I8KUx2G"
      },
      "execution_count": 49,
      "outputs": []
    },
    {
      "cell_type": "code",
      "source": [
        "#history = regressor.fit(X_train,y_train,validation_data=(X_test,y_test),epochs=200,batch_size=32,verbose=1)"
      ],
      "metadata": {
        "id": "X35uABZyUqwe"
      },
      "execution_count": 50,
      "outputs": []
    },
    {
      "cell_type": "markdown",
      "source": [
        "# Plotting training and validation loss graphs"
      ],
      "metadata": {
        "id": "rzyKs9SHVIwN"
      }
    },
    {
      "cell_type": "code",
      "source": [
        "import matplotlib.pyplot as plt\n",
        "\n",
        "loss = history.history['loss']\n",
        "val_loss = history.history['val_loss']\n",
        "\n",
        "epochs = range(len(loss))\n",
        "\n",
        "plt.plot(epochs, loss, 'r', label='Training loss')\n",
        "plt.plot(epochs, val_loss, 'b', label='Validation loss')\n",
        "plt.title('Training and validation loss')\n",
        "plt.legend(loc=0)\n",
        "plt.figure()"
      ],
      "metadata": {
        "colab": {
          "base_uri": "https://localhost:8080/",
          "height": 487
        },
        "id": "9l3acs0hU3v2",
        "outputId": "498cba6c-a817-4440-8554-685e8dcf07b7"
      },
      "execution_count": 52,
      "outputs": [
        {
          "output_type": "execute_result",
          "data": {
            "text/plain": [
              "<Figure size 640x480 with 0 Axes>"
            ]
          },
          "metadata": {},
          "execution_count": 52
        },
        {
          "output_type": "display_data",
          "data": {
            "text/plain": [
              "<Figure size 640x480 with 1 Axes>"
            ],
            "image/png": "[encoded data removed]"
          },
          "metadata": {}
        },
        {
          "output_type": "display_data",
          "data": {
            "text/plain": [
              "<Figure size 640x480 with 0 Axes>"
            ]
          },
          "metadata": {}
        }
      ]
    },
    {
      "cell_type": "markdown",
      "source": [
        "Predicting from the trained model"
      ],
      "metadata": {
        "id": "-bmQJdaMVbVW"
      }
    },
    {
      "cell_type": "code",
      "source": [
        "### Lets Do the prediction and check performance metrics\n",
        "train_predict=regressor.predict(X_train)\n",
        "test_predict=regressor.predict(X_test)\n",
        "train_predict.shape, test_predict.shape"
      ],
      "metadata": {
        "colab": {
          "base_uri": "https://localhost:8080/"
        },
        "id": "jDLG46QmVVO5",
        "outputId": "91c842f0-bb93-4e0f-9589-470eb5e7779b"
      },
      "execution_count": 53,
      "outputs": [
        {
          "output_type": "stream",
          "name": "stdout",
          "text": [
            "7/7 [==============================] - 0s 3ms/step\n",
            "5/5 [==============================] - 0s 5ms/step\n"
          ]
        },
        {
          "output_type": "execute_result",
          "data": {
            "text/plain": [
              "((203, 1), (130, 1))"
            ]
          },
          "metadata": {},
          "execution_count": 53
        }
      ]
    },
    {
      "cell_type": "markdown",
      "source": [
        "Model Evaluation"
      ],
      "metadata": {
        "id": "7jnqE59IVljl"
      }
    },
    {
      "cell_type": "code",
      "source": [
        "# Transform back to original form\n",
        "\n",
        "train_predict = scaler.inverse_transform(train_predict)\n",
        "test_predict = scaler.inverse_transform(test_predict)\n",
        "original_ytrain = scaler.inverse_transform(y_train.reshape(-1,1))\n",
        "original_ytest = scaler.inverse_transform(y_test.reshape(-1,1))"
      ],
      "metadata": {
        "id": "HtJh3eAAViMY"
      },
      "execution_count": 54,
      "outputs": []
    },
    {
      "cell_type": "code",
      "source": [
        "# Evaluation metrices RMSE and MAE\n",
        "print(\"Train data RMSE: \", math.sqrt(mean_squared_error(original_ytrain,train_predict)))\n",
        "print(\"Train data MSE: \", mean_squared_error(original_ytrain,train_predict))\n",
        "print(\"Train data MAE: \", mean_absolute_error(original_ytrain,train_predict))\n",
        "print(\"-------------------------------------------------------------------------------------\")\n",
        "print(\"Test data RMSE: \", math.sqrt(mean_squared_error(original_ytest,test_predict)))\n",
        "print(\"Test data MSE: \", mean_squared_error(original_ytest,test_predict))\n",
        "print(\"Test data MAE: \", mean_absolute_error(original_ytest,test_predict))"
      ],
      "metadata": {
        "colab": {
          "base_uri": "https://localhost:8080/"
        },
        "id": "j-L_QJlbVsAq",
        "outputId": "5348e195-8934-4c4b-cb3a-cb484ca4b625"
      },
      "execution_count": 55,
      "outputs": [
        {
          "output_type": "stream",
          "name": "stdout",
          "text": [
            "Train data RMSE:  782.5749642227598\n",
            "Train data MSE:  612423.5746282538\n",
            "Train data MAE:  499.53975525492615\n",
            "-------------------------------------------------------------------------------------\n",
            "Test data RMSE:  1549.9958601252456\n",
            "Test data MSE:  2402487.1664054\n",
            "Test data MAE:  1365.4835938009614\n"
          ]
        }
      ]
    },
    {
      "cell_type": "markdown",
      "source": [
        "Variance regression score"
      ],
      "metadata": {
        "id": "yhaI83UCV5kd"
      }
    },
    {
      "cell_type": "code",
      "source": [
        "print(\"Train data explained variance regression score:\",\n",
        "      explained_variance_score(original_ytrain, train_predict))\n",
        "print(\"Test data explained variance regression score:\",\n",
        "      explained_variance_score(original_ytest, test_predict))"
      ],
      "metadata": {
        "colab": {
          "base_uri": "https://localhost:8080/"
        },
        "id": "SYwidZ6mV2sp",
        "outputId": "51d95414-aa04-480c-bd93-c33aa2739490"
      },
      "execution_count": 56,
      "outputs": [
        {
          "output_type": "stream",
          "name": "stdout",
          "text": [
            "Train data explained variance regression score: 0.9010895677749977\n",
            "Test data explained variance regression score: 0.7354187009541288\n"
          ]
        }
      ]
    },
    {
      "cell_type": "markdown",
      "source": [
        "R square score for regression"
      ],
      "metadata": {
        "id": "zujyETZVWGIV"
      }
    },
    {
      "cell_type": "code",
      "source": [
        "print(\"Train data R2 score:\", r2_score(original_ytrain, train_predict))\n",
        "print(\"Test data R2 score:\", r2_score(original_ytest, test_predict))"
      ],
      "metadata": {
        "colab": {
          "base_uri": "https://localhost:8080/"
        },
        "id": "BSkqlEMYV-AZ",
        "outputId": "f7dad095-657c-41e3-b8d8-11a1e3446691"
      },
      "execution_count": 57,
      "outputs": [
        {
          "output_type": "stream",
          "name": "stdout",
          "text": [
            "Train data R2 score: 0.901073836751646\n",
            "Test data R2 score: -0.025720869475355235\n"
          ]
        }
      ]
    },
    {
      "cell_type": "markdown",
      "source": [
        "Regression Loss Mean Gamma deviance regression loss (MGD) and Mean Poisson deviance regression loss (MPD)\n"
      ],
      "metadata": {
        "id": "UB6gsLMmWQb-"
      }
    },
    {
      "cell_type": "code",
      "source": [
        "print(\"Train data MGD: \", mean_gamma_deviance(original_ytrain, train_predict))\n",
        "print(\"Test data MGD: \", mean_gamma_deviance(original_ytest, test_predict))\n",
        "print(\"----------------------------------------------------------------------\")\n",
        "print(\"Train data MPD: \", mean_poisson_deviance(original_ytrain, train_predict))\n",
        "print(\"Test data MPD: \", mean_poisson_deviance(original_ytest, test_predict))"
      ],
      "metadata": {
        "colab": {
          "base_uri": "https://localhost:8080/"
        },
        "id": "B5ImdVtjWIvm",
        "outputId": "6e05eec7-012f-407a-c33b-52932840042b"
      },
      "execution_count": 58,
      "outputs": [
        {
          "output_type": "stream",
          "name": "stdout",
          "text": [
            "Train data MGD:  0.0014838221296965542\n",
            "Test data MGD:  0.003135216831837542\n",
            "----------------------------------------------------------------------\n",
            "Train data MPD:  30.004497730480374\n",
            "Test data MPD:  86.68948140599365\n"
          ]
        }
      ]
    },
    {
      "cell_type": "code",
      "source": [
        "close_stock = pd.read_csv('BTC-USD.csv')\n",
        "close_stock = close_stock[['Date', 'Close']]"
      ],
      "metadata": {
        "id": "RbDjzn8IZ8Dw"
      },
      "execution_count": 59,
      "outputs": []
    },
    {
      "cell_type": "code",
      "source": [
        "# shift train predictions for plotting\n",
        "\n",
        "look_back=time_step\n",
        "trainPredictPlot = np.empty_like(df)\n",
        "trainPredictPlot[:, :] = np.nan\n",
        "trainPredictPlot[look_back:len(train_predict)+look_back, :] = train_predict\n",
        "print(\"Train predicted data: \", trainPredictPlot.shape)\n",
        "\n",
        "# shift test predictions for plotting\n",
        "testPredictPlot = np.empty_like(df)\n",
        "testPredictPlot[:, :] = np.nan\n",
        "testPredictPlot[len(train_predict)+(look_back*2)+1:len(df)-1, :] = test_predict\n",
        "print(\"Test predicted data: \", testPredictPlot.shape)\n",
        "\n",
        "names = cycle(['Original close price','Train predicted close price','Test predicted close price'])\n",
        "\n",
        "\n",
        "plotdf = pd.DataFrame({'date': close_stock['Date'],\n",
        "                       'original_close': close_stock['Close'],\n",
        "                      'train_predicted_close': trainPredictPlot.reshape(1,-1)[0].tolist(),\n",
        "                      'test_predicted_close': testPredictPlot.reshape(1,-1)[0].tolist()})\n",
        "\n",
        "fig = px.line(plotdf,x=plotdf['date'], y=[plotdf['original_close'],plotdf['train_predicted_close'],\n",
        "                                          plotdf['test_predicted_close']],\n",
        "              labels={'value':'Stock price','date': 'Date'})\n",
        "fig.update_layout(title_text='Comparision between original close price vs predicted close price',\n",
        "                  plot_bgcolor='white', font_size=15, font_color='black', legend_title_text='Close Price')\n",
        "fig.for_each_trace(lambda t:  t.update(name = next(names)))\n",
        "\n",
        "fig.update_xaxes(showgrid=False)\n",
        "fig.update_yaxes(showgrid=False)\n",
        "fig.show()"
      ],
      "metadata": {
        "colab": {
          "base_uri": "https://localhost:8080/",
          "height": 577
        },
        "id": "ykAsOrqhWRUV",
        "outputId": "9d60b25d-f6ca-4eed-a617-7debfbeaddab"
      },
      "execution_count": 60,
      "outputs": [
        {
          "output_type": "stream",
          "name": "stdout",
          "text": [
            "Train predicted data:  (365, 1)\n",
            "Test predicted data:  (365, 1)\n"
          ]
        },
        {
          "output_type": "display_data",
          "data": {
            "text/html": [
              "<html>\n",
              "<head><meta charset=\"utf-8\" /></head>\n",
              "<body>\n",
              "    <div>            <script src=\"https://cdnjs.cloudflare.com/ajax/libs/mathjax/2.7.5/MathJax.js?config=TeX-AMS-MML_SVG\"></script><script type=\"text/javascript\">if (window.MathJax && window.MathJax.Hub && window.MathJax.Hub.Config) {window.MathJax.Hub.Config({SVG: {font: \"STIX-Web\"}});}</script>                <script type=\"text/javascript\">window.PlotlyConfig = {MathJaxConfig: 'local'};</script>\n",
              "        <script src=\"https://cdn.plot.ly/plotly-2.18.2.min.js\"></script>                <div id=\"01a485d6-8522-40d5-9538-dc02ff54d9b9\" class=\"plotly-graph-div\" style=\"height:525px; width:100%;\"></div>            <script type=\"text/javascript\">                                    window.PLOTLYENV=window.PLOTLYENV || {};                                    if (document.getElementById(\"01a485d6-8522-40d5-9538-dc02ff54d9b9\")) {                    Plotly.newPlot(                        \"01a485d6-8522-40d5-9538-dc02ff54d9b9\",                        [{\"hovertemplate\":\"variable=original_close<br>Date=%{x}<br>Stock price=%{y}<extra></extra>\",\"legendgroup\":\"original_close\",\"line\":{\"color\":\"#636efa\",\"dash\":\"solid\"},\"marker\":{\"symbol\":\"circle\"},\"mode\":\"lines\",\"name\":\"Original close price\",\"showlegend\":true,\"x\":[\"2022-08-10\",\"2022-08-11\",\"2022-08-12\",\"2022-08-13\",\"2022-08-14\",\"2022-08-15\",\"2022-08-16\",\"2022-08-17\",\"2022-08-18\",\"2022-08-19\",\"2022-08-20\",\"2022-08-21\",\"2022-08-22\",\"2022-08-23\",\"2022-08-24\",\"2022-08-25\",\"2022-08-26\",\"2022-08-27\",\"2022-08-28\",\"2022-08-29\",\"2022-08-30\",\"2022-08-31\",\"2022-09-01\",\"2022-09-02\",\"2022-09-03\",\"2022-09-04\",\"2022-09-05\",\"2022-09-06\",\"2022-09-07\",\"2022-09-08\",\"2022-09-09\",\"2022-09-10\",\"2022-09-11\",\"2022-09-12\",\"2022-09-13\",\"2022-09-14\",\"2022-09-15\",\"2022-09-16\",\"2022-09-17\",\"2022-09-18\",\"2022-09-19\",\"2022-09-20\",\"2022-09-21\",\"2022-09-22\",\"2022-09-23\",\"2022-09-24\",\"2022-09-25\",\"2022-09-26\",\"2022-09-27\",\"2022-09-28\",\"2022-09-29\",\"2022-09-30\",\"2022-10-01\",\"2022-10-02\",\"2022-10-03\",\"2022-10-04\",\"2022-10-05\",\"2022-10-06\",\"2022-10-07\",\"2022-10-08\",\"2022-10-09\",\"2022-10-10\",\"2022-10-11\",\"2022-10-12\",\"2022-10-13\",\"2022-10-14\",\"2022-10-15\",\"2022-10-16\",\"2022-10-17\",\"2022-10-18\",\"2022-10-19\",\"2022-10-20\",\"2022-10-21\",\"2022-10-22\",\"2022-10-23\",\"2022-10-24\",\"2022-10-25\",\"2022-10-26\",\"2022-10-27\",\"2022-10-28\",\"2022-10-29\",\"2022-10-30\",\"2022-10-31\",\"2022-11-01\",\"2022-11-02\",\"2022-11-03\",\"2022-11-04\",\"2022-11-05\",\"2022-11-06\",\"2022-11-07\",\"2022-11-08\",\"2022-11-09\",\"2022-11-10\",\"2022-11-11\",\"2022-11-12\",\"2022-11-13\",\"2022-11-14\",\"2022-11-15\",\"2022-11-16\",\"2022-11-17\",\"2022-11-18\",\"2022-11-19\",\"2022-11-20\",\"2022-11-21\",\"2022-11-22\",\"2022-11-23\",\"2022-11-24\",\"2022-11-25\",\"2022-11-26\",\"2022-11-27\",\"2022-11-28\",\"2022-11-29\",\"2022-11-30\",\"2022-12-01\",\"2022-12-02\",\"2022-12-03\",\"2022-12-04\",\"2022-12-05\",\"2022-12-06\",\"2022-12-07\",\"2022-12-08\",\"2022-12-09\",\"2022-12-10\",\"2022-12-11\",\"2022-12-12\",\"2022-12-13\",\"2022-12-14\",\"2022-12-15\",\"2022-12-16\",\"2022-12-17\",\"2022-12-18\",\"2022-12-19\",\"2022-12-20\",\"2022-12-21\",\"2022-12-22\",\"2022-12-23\",\"2022-12-24\",\"2022-12-25\",\"2022-12-26\",\"2022-12-27\",\"2022-12-28\",\"2022-12-29\",\"2022-12-30\",\"2022-12-31\",\"2023-01-01\",\"2023-01-02\",\"2023-01-03\",\"2023-01-04\",\"2023-01-05\",\"2023-01-06\",\"2023-01-07\",\"2023-01-08\",\"2023-01-09\",\"2023-01-10\",\"2023-01-11\",\"2023-01-12\",\"2023-01-13\",\"2023-01-14\",\"2023-01-15\",\"2023-01-16\",\"2023-01-17\",\"2023-01-18\",\"2023-01-19\",\"2023-01-20\",\"2023-01-21\",\"2023-01-22\",\"2023-01-23\",\"2023-01-24\",\"2023-01-25\",\"2023-01-26\",\"2023-01-27\",\"2023-01-28\",\"2023-01-29\",\"2023-01-30\",\"2023-01-31\",\"2023-02-01\",\"2023-02-02\",\"2023-02-03\",\"2023-02-04\",\"2023-02-05\",\"2023-02-06\",\"2023-02-07\",\"2023-02-08\",\"2023-02-09\",\"2023-02-10\",\"2023-02-11\",\"2023-02-12\",\"2023-02-13\",\"2023-02-14\",\"2023-02-15\",\"2023-02-16\",\"2023-02-17\",\"2023-02-18\",\"2023-02-19\",\"2023-02-20\",\"2023-02-21\",\"2023-02-22\",\"2023-02-23\",\"2023-02-24\",\"2023-02-25\",\"2023-02-26\",\"2023-02-27\",\"2023-02-28\",\"2023-03-01\",\"2023-03-02\",\"2023-03-03\",\"2023-03-04\",\"2023-03-05\",\"2023-03-06\",\"2023-03-07\",\"2023-03-08\",\"2023-03-09\",\"2023-03-10\",\"2023-03-11\",\"2023-03-12\",\"2023-03-13\",\"2023-03-14\",\"2023-03-15\",\"2023-03-16\",\"2023-03-17\",\"2023-03-18\",\"2023-03-19\",\"2023-03-20\",\"2023-03-21\",\"2023-03-22\",\"2023-03-23\",\"2023-03-24\",\"2023-03-25\",\"2023-03-26\",\"2023-03-27\",\"2023-03-28\",\"2023-03-29\",\"2023-03-30\",\"2023-03-31\",\"2023-04-01\",\"2023-04-02\",\"2023-04-03\",\"2023-04-04\",\"2023-04-05\",\"2023-04-06\",\"2023-04-07\",\"2023-04-08\",\"2023-04-09\",\"2023-04-10\",\"2023-04-11\",\"2023-04-12\",\"2023-04-13\",\"2023-04-14\",\"2023-04-15\",\"2023-04-16\",\"2023-04-17\",\"2023-04-18\",\"2023-04-19\",\"2023-04-20\",\"2023-04-21\",\"2023-04-22\",\"2023-04-23\",\"2023-04-24\",\"2023-04-25\",\"2023-04-26\",\"2023-04-27\",\"2023-04-28\",\"2023-04-29\",\"2023-04-30\",\"2023-05-01\",\"2023-05-02\",\"2023-05-03\",\"2023-05-04\",\"2023-05-05\",\"2023-05-06\",\"2023-05-07\",\"2023-05-08\",\"2023-05-09\",\"2023-05-10\",\"2023-05-11\",\"2023-05-12\",\"2023-05-13\",\"2023-05-14\",\"2023-05-15\",\"2023-05-16\",\"2023-05-17\",\"2023-05-18\",\"2023-05-19\",\"2023-05-20\",\"2023-05-21\",\"2023-05-22\",\"2023-05-23\",\"2023-05-24\",\"2023-05-25\",\"2023-05-26\",\"2023-05-27\",\"2023-05-28\",\"2023-05-29\",\"2023-05-30\",\"2023-05-31\",\"2023-06-01\",\"2023-06-02\",\"2023-06-03\",\"2023-06-04\",\"2023-06-05\",\"2023-06-06\",\"2023-06-07\",\"2023-06-08\",\"2023-06-09\",\"2023-06-10\",\"2023-06-11\",\"2023-06-12\",\"2023-06-13\",\"2023-06-14\",\"2023-06-15\",\"2023-06-16\",\"2023-06-17\",\"2023-06-18\",\"2023-06-19\",\"2023-06-20\",\"2023-06-21\",\"2023-06-22\",\"2023-06-23\",\"2023-06-24\",\"2023-06-25\",\"2023-06-26\",\"2023-06-27\",\"2023-06-28\",\"2023-06-29\",\"2023-06-30\",\"2023-07-01\",\"2023-07-02\",\"2023-07-03\",\"2023-07-04\",\"2023-07-05\",\"2023-07-06\",\"2023-07-07\",\"2023-07-08\",\"2023-07-09\",\"2023-07-10\",\"2023-07-11\",\"2023-07-12\",\"2023-07-13\",\"2023-07-14\",\"2023-07-15\",\"2023-07-16\",\"2023-07-17\",\"2023-07-18\",\"2023-07-19\",\"2023-07-20\",\"2023-07-21\",\"2023-07-22\",\"2023-07-23\",\"2023-07-24\",\"2023-07-25\",\"2023-07-26\",\"2023-07-27\",\"2023-07-28\",\"2023-07-29\",\"2023-07-30\",\"2023-07-31\",\"2023-08-01\",\"2023-08-02\",\"2023-08-03\",\"2023-08-04\",\"2023-08-05\",\"2023-08-06\",\"2023-08-07\",\"2023-08-08\",\"2023-08-09\"],\"xaxis\":\"x\",\"y\":[23947.642578,23957.529297,24402.818359,24424.068359,24319.333984,24136.972656,23883.291016,23335.998047,23212.738281,20877.552734,21166.060547,21534.121094,21398.908203,21528.087891,21395.019531,21600.904297,20260.019531,20041.738281,19616.814453,20297.994141,19796.808594,20049.763672,20127.140625,19969.771484,19832.087891,19986.712891,19812.371094,18837.667969,19290.324219,19329.833984,21381.152344,21680.539063,21769.255859,22370.449219,20296.707031,20241.089844,19701.210938,19772.583984,20127.576172,19419.505859,19544.128906,18890.789063,18547.400391,19413.550781,19297.638672,18937.011719,18802.097656,19222.671875,19110.546875,19426.720703,19573.050781,19431.789063,19312.095703,19044.107422,19623.580078,20336.84375,20160.716797,19955.443359,19546.849609,19416.568359,19446.425781,19141.484375,19051.417969,19157.445313,19382.904297,19185.65625,19067.634766,19268.09375,19550.757813,19334.416016,19139.535156,19053.740234,19172.46875,19208.189453,19567.007813,19345.572266,20095.857422,20770.441406,20285.835938,20595.351563,20818.476563,20635.603516,20495.773438,20485.273438,20159.503906,20209.988281,21147.230469,21282.691406,20926.486328,20602.816406,18541.271484,15880.780273,17586.771484,17034.292969,16799.185547,16353.365234,16618.199219,16884.613281,16669.439453,16687.517578,16697.777344,16711.546875,16291.832031,15787.28418,16189.769531,16610.707031,16604.464844,16521.841797,16464.28125,16444.626953,16217.322266,16444.982422,17168.566406,16967.132813,17088.660156,16908.236328,17130.486328,16974.826172,17089.503906,16848.126953,17233.474609,17133.152344,17128.724609,17104.193359,17206.4375,17781.318359,17815.650391,17364.865234,16647.484375,16795.091797,16757.976563,16439.679688,16906.304688,16817.535156,16830.341797,16796.953125,16847.755859,16841.986328,16919.804688,16717.173828,16552.572266,16642.341797,16602.585938,16547.496094,16625.080078,16688.470703,16679.857422,16863.238281,16836.736328,16951.96875,16955.078125,17091.144531,17196.554688,17446.292969,17934.896484,18869.587891,19909.574219,20976.298828,20880.798828,21169.632813,21161.519531,20688.78125,21086.792969,22676.552734,22777.625,22720.416016,22934.431641,22636.46875,23117.859375,23032.777344,23078.728516,23031.089844,23774.566406,22840.138672,23139.283203,23723.769531,23471.871094,23449.322266,23331.847656,22955.666016,22760.109375,23264.291016,22939.398438,21819.039063,21651.183594,21870.875,21788.203125,21808.101563,22220.804688,24307.841797,23623.474609,24565.601563,24641.277344,24327.642578,24829.148438,24436.353516,24188.84375,23947.492188,23198.126953,23175.375,23561.212891,23522.871094,23147.353516,23646.550781,23475.466797,22362.679688,22353.349609,22435.513672,22429.757813,22219.769531,21718.080078,20363.021484,20187.244141,20632.410156,22163.949219,24197.533203,24746.074219,24375.960938,25052.789063,27423.929688,26965.878906,28038.675781,27767.236328,28175.816406,27307.4375,28333.972656,27493.285156,27494.707031,27994.330078,27139.888672,27268.130859,28348.441406,28033.5625,28478.484375,28411.035156,28199.308594,27790.220703,28168.089844,28177.984375,28044.140625,27925.859375,27947.794922,28333.050781,29652.980469,30235.058594,30139.052734,30399.066406,30485.699219,30318.496094,30315.355469,29445.044922,30397.552734,28822.679688,28245.988281,27276.910156,27817.5,27591.384766,27525.339844,28307.597656,28422.701172,29473.787109,29340.261719,29248.488281,29268.806641,28091.568359,28680.537109,29006.308594,28847.710938,29534.384766,28904.623047,28454.978516,27694.273438,27658.775391,27621.755859,27000.789063,26804.990234,26784.078125,26930.638672,27192.693359,27036.650391,27398.802734,26832.208984,26890.128906,27129.585938,26753.826172,26851.277344,27225.726563,26334.818359,26476.207031,26719.291016,26868.353516,28085.646484,27745.884766,27702.349609,27219.658203,26819.972656,27249.589844,27075.128906,27119.066406,25760.097656,27238.783203,26345.998047,26508.216797,26480.375,25851.240234,25940.167969,25902.5,25918.728516,25124.675781,25576.394531,26327.462891,26510.675781,26336.212891,26851.029297,28327.488281,30027.296875,29912.28125,30695.46875,30548.695313,30480.261719,30271.130859,30688.164063,30086.246094,30445.351563,30477.251953,30590.078125,30620.769531,31156.439453,30777.582031,30514.166016,29909.337891,30342.265625,30292.541016,30171.234375,30414.470703,30620.951172,30391.646484,31476.048828,30334.068359,30295.806641,30249.132813,30145.888672,29856.5625,29913.923828,29792.015625,29908.744141,29771.802734,30084.539063,29176.916016,29227.390625,29354.972656,29210.689453,29319.246094,29356.917969,29275.308594,29230.111328,29675.732422,29151.958984,29178.679688,29074.091797,29042.126953,29041.855469,29180.578125,29765.492188,29480.964844],\"yaxis\":\"y\",\"type\":\"scattergl\"},{\"hovertemplate\":\"variable=train_predicted_close<br>Date=%{x}<br>Stock price=%{y}<extra></extra>\",\"legendgroup\":\"train_predicted_close\",\"line\":{\"color\":\"#EF553B\",\"dash\":\"solid\"},\"marker\":{\"symbol\":\"circle\"},\"mode\":\"lines\",\"name\":\"Train predicted close price\",\"showlegend\":true,\"x\":[\"2022-08-10\",\"2022-08-11\",\"2022-08-12\",\"2022-08-13\",\"2022-08-14\",\"2022-08-15\",\"2022-08-16\",\"2022-08-17\",\"2022-08-18\",\"2022-08-19\",\"2022-08-20\",\"2022-08-21\",\"2022-08-22\",\"2022-08-23\",\"2022-08-24\",\"2022-08-25\",\"2022-08-26\",\"2022-08-27\",\"2022-08-28\",\"2022-08-29\",\"2022-08-30\",\"2022-08-31\",\"2022-09-01\",\"2022-09-02\",\"2022-09-03\",\"2022-09-04\",\"2022-09-05\",\"2022-09-06\",\"2022-09-07\",\"2022-09-08\",\"2022-09-09\",\"2022-09-10\",\"2022-09-11\",\"2022-09-12\",\"2022-09-13\",\"2022-09-14\",\"2022-09-15\",\"2022-09-16\",\"2022-09-17\",\"2022-09-18\",\"2022-09-19\",\"2022-09-20\",\"2022-09-21\",\"2022-09-22\",\"2022-09-23\",\"2022-09-24\",\"2022-09-25\",\"2022-09-26\",\"2022-09-27\",\"2022-09-28\",\"2022-09-29\",\"2022-09-30\",\"2022-10-01\",\"2022-10-02\",\"2022-10-03\",\"2022-10-04\",\"2022-10-05\",\"2022-10-06\",\"2022-10-07\",\"2022-10-08\",\"2022-10-09\",\"2022-10-10\",\"2022-10-11\",\"2022-10-12\",\"2022-10-13\",\"2022-10-14\",\"2022-10-15\",\"2022-10-16\",\"2022-10-17\",\"2022-10-18\",\"2022-10-19\",\"2022-10-20\",\"2022-10-21\",\"2022-10-22\",\"2022-10-23\",\"2022-10-24\",\"2022-10-25\",\"2022-10-26\",\"2022-10-27\",\"2022-10-28\",\"2022-10-29\",\"2022-10-30\",\"2022-10-31\",\"2022-11-01\",\"2022-11-02\",\"2022-11-03\",\"2022-11-04\",\"2022-11-05\",\"2022-11-06\",\"2022-11-07\",\"2022-11-08\",\"2022-11-09\",\"2022-11-10\",\"2022-11-11\",\"2022-11-12\",\"2022-11-13\",\"2022-11-14\",\"2022-11-15\",\"2022-11-16\",\"2022-11-17\",\"2022-11-18\",\"2022-11-19\",\"2022-11-20\",\"2022-11-21\",\"2022-11-22\",\"2022-11-23\",\"2022-11-24\",\"2022-11-25\",\"2022-11-26\",\"2022-11-27\",\"2022-11-28\",\"2022-11-29\",\"2022-11-30\",\"2022-12-01\",\"2022-12-02\",\"2022-12-03\",\"2022-12-04\",\"2022-12-05\",\"2022-12-06\",\"2022-12-07\",\"2022-12-08\",\"2022-12-09\",\"2022-12-10\",\"2022-12-11\",\"2022-12-12\",\"2022-12-13\",\"2022-12-14\",\"2022-12-15\",\"2022-12-16\",\"2022-12-17\",\"2022-12-18\",\"2022-12-19\",\"2022-12-20\",\"2022-12-21\",\"2022-12-22\",\"2022-12-23\",\"2022-12-24\",\"2022-12-25\",\"2022-12-26\",\"2022-12-27\",\"2022-12-28\",\"2022-12-29\",\"2022-12-30\",\"2022-12-31\",\"2023-01-01\",\"2023-01-02\",\"2023-01-03\",\"2023-01-04\",\"2023-01-05\",\"2023-01-06\",\"2023-01-07\",\"2023-01-08\",\"2023-01-09\",\"2023-01-10\",\"2023-01-11\",\"2023-01-12\",\"2023-01-13\",\"2023-01-14\",\"2023-01-15\",\"2023-01-16\",\"2023-01-17\",\"2023-01-18\",\"2023-01-19\",\"2023-01-20\",\"2023-01-21\",\"2023-01-22\",\"2023-01-23\",\"2023-01-24\",\"2023-01-25\",\"2023-01-26\",\"2023-01-27\",\"2023-01-28\",\"2023-01-29\",\"2023-01-30\",\"2023-01-31\",\"2023-02-01\",\"2023-02-02\",\"2023-02-03\",\"2023-02-04\",\"2023-02-05\",\"2023-02-06\",\"2023-02-07\",\"2023-02-08\",\"2023-02-09\",\"2023-02-10\",\"2023-02-11\",\"2023-02-12\",\"2023-02-13\",\"2023-02-14\",\"2023-02-15\",\"2023-02-16\",\"2023-02-17\",\"2023-02-18\",\"2023-02-19\",\"2023-02-20\",\"2023-02-21\",\"2023-02-22\",\"2023-02-23\",\"2023-02-24\",\"2023-02-25\",\"2023-02-26\",\"2023-02-27\",\"2023-02-28\",\"2023-03-01\",\"2023-03-02\",\"2023-03-03\",\"2023-03-04\",\"2023-03-05\",\"2023-03-06\",\"2023-03-07\",\"2023-03-08\",\"2023-03-09\",\"2023-03-10\",\"2023-03-11\",\"2023-03-12\",\"2023-03-13\",\"2023-03-14\",\"2023-03-15\",\"2023-03-16\",\"2023-03-17\",\"2023-03-18\",\"2023-03-19\",\"2023-03-20\",\"2023-03-21\",\"2023-03-22\",\"2023-03-23\",\"2023-03-24\",\"2023-03-25\",\"2023-03-26\",\"2023-03-27\",\"2023-03-28\",\"2023-03-29\",\"2023-03-30\",\"2023-03-31\",\"2023-04-01\",\"2023-04-02\",\"2023-04-03\",\"2023-04-04\",\"2023-04-05\",\"2023-04-06\",\"2023-04-07\",\"2023-04-08\",\"2023-04-09\",\"2023-04-10\",\"2023-04-11\",\"2023-04-12\",\"2023-04-13\",\"2023-04-14\",\"2023-04-15\",\"2023-04-16\",\"2023-04-17\",\"2023-04-18\",\"2023-04-19\",\"2023-04-20\",\"2023-04-21\",\"2023-04-22\",\"2023-04-23\",\"2023-04-24\",\"2023-04-25\",\"2023-04-26\",\"2023-04-27\",\"2023-04-28\",\"2023-04-29\",\"2023-04-30\",\"2023-05-01\",\"2023-05-02\",\"2023-05-03\",\"2023-05-04\",\"2023-05-05\",\"2023-05-06\",\"2023-05-07\",\"2023-05-08\",\"2023-05-09\",\"2023-05-10\",\"2023-05-11\",\"2023-05-12\",\"2023-05-13\",\"2023-05-14\",\"2023-05-15\",\"2023-05-16\",\"2023-05-17\",\"2023-05-18\",\"2023-05-19\",\"2023-05-20\",\"2023-05-21\",\"2023-05-22\",\"2023-05-23\",\"2023-05-24\",\"2023-05-25\",\"2023-05-26\",\"2023-05-27\",\"2023-05-28\",\"2023-05-29\",\"2023-05-30\",\"2023-05-31\",\"2023-06-01\",\"2023-06-02\",\"2023-06-03\",\"2023-06-04\",\"2023-06-05\",\"2023-06-06\",\"2023-06-07\",\"2023-06-08\",\"2023-06-09\",\"2023-06-10\",\"2023-06-11\",\"2023-06-12\",\"2023-06-13\",\"2023-06-14\",\"2023-06-15\",\"2023-06-16\",\"2023-06-17\",\"2023-06-18\",\"2023-06-19\",\"2023-06-20\",\"2023-06-21\",\"2023-06-22\",\"2023-06-23\",\"2023-06-24\",\"2023-06-25\",\"2023-06-26\",\"2023-06-27\",\"2023-06-28\",\"2023-06-29\",\"2023-06-30\",\"2023-07-01\",\"2023-07-02\",\"2023-07-03\",\"2023-07-04\",\"2023-07-05\",\"2023-07-06\",\"2023-07-07\",\"2023-07-08\",\"2023-07-09\",\"2023-07-10\",\"2023-07-11\",\"2023-07-12\",\"2023-07-13\",\"2023-07-14\",\"2023-07-15\",\"2023-07-16\",\"2023-07-17\",\"2023-07-18\",\"2023-07-19\",\"2023-07-20\",\"2023-07-21\",\"2023-07-22\",\"2023-07-23\",\"2023-07-24\",\"2023-07-25\",\"2023-07-26\",\"2023-07-27\",\"2023-07-28\",\"2023-07-29\",\"2023-07-30\",\"2023-07-31\",\"2023-08-01\",\"2023-08-02\",\"2023-08-03\",\"2023-08-04\",\"2023-08-05\",\"2023-08-06\",\"2023-08-07\",\"2023-08-08\",\"2023-08-09\"],\"xaxis\":\"x\",\"y\":[null,null,null,null,null,null,null,null,null,null,null,null,null,null,null,20904.767578125,20967.9609375,20585.57421875,20281.794921875,19966.2265625,20012.982421875,19878.23828125,19885.5703125,19921.166015625,19907.01953125,19829.8984375,19855.287109375,19841.74609375,19525.072265625,19458.5703125,19413.208984375,20075.5078125,20638.134765625,21098.3046875,21625.326171875,21345.52734375,21110.44140625,20743.912109375,20469.2734375,20355.853515625,19991.4765625,19771.185546875,19402.94140625,19020.60546875,19045.228515625,19032.966796875,18963.787109375,18905.80859375,19014.982421875,19075.369140625,19210.103515625,19358.7265625,19426.181640625,19447.505859375,19380.119140625,19502.083984375,19827.037109375,19999.515625,20053.51171875,19969.9765625,19853.73828125,19760.701171875,19586.056640625,19433.638671875,19354.32421875,19352.33203125,19292.681640625,19218.20703125,19230.447265625,19333.94140625,19355.162109375,19325.205078125,19281.630859375,19287.138671875,19294.8359375,19411.9140625,19430.505859375,19688.056640625,20091.345703125,20228.36328125,20439.654296875,20661.650390625,20757.69921875,20775.9609375,20779.72265625,20657.548828125,20552.912109375,20773.935546875,20977.19140625,20999.3359375,20909.666015625,20158.61328125,18769.701171875,18301.736328125,17760.91796875,17310.158203125,16845.22265625,16621.3359375,16561.8359375,16481.70703125,16457.517578125,16480.845703125,16557.890625,16519.1328125,16361.2900390625,16380.2998046875,16492.041015625,16535.916015625,16575.84765625,16596.65625,16601.05859375,16524.595703125,16544.029296875,16779.484375,16885.935546875,17011.123046875,17053.271484375,17157.482421875,17175.439453125,17206.43359375,17153.169921875,17234.865234375,17259.412109375,17275.7890625,17279.8828125,17304.11328125,17495.21875,17644.5546875,17626.78515625,17386.623046875,17257.40234375,17138.232421875,16954.623046875,16958.513671875,16931.658203125,16918.9453125,16909.34765625,16918.56640625,16922.080078125,16952.30859375,16917.54296875,16855.265625,16845.548828125,16818.255859375,16771.62890625,16766.287109375,16777.490234375,16781.1953125,16850.0,16891.21484375,16959.54296875,17010.5625,17090.5234375,17182.671875,17330.6328125,17585.62109375,18062.60546875,18743.212890625,19585.8828125,20174.916015625,20699.6328125,21064.451171875,21158.54296875,21328.640625,21907.259765625,22340.06640625,22616.03125,22863.02734375,22927.6484375,23087.91015625,23147.1171875,23179.76953125,23166.052734375,23386.32421875,23221.583984375,23198.568359375,23339.888671875,23344.65234375,23336.8671875,23306.111328125,23138.388671875,22957.302734375,22997.625,22890.908203125,22437.525390625,22060.4765625,21862.771484375,21694.65234375,21621.927734375,21715.119140625,22510.728515625,22886.111328125,23491.794921875,23964.037109375,24201.60546875,24497.130859375,24554.380859375,24465.193359375,24271.44921875,23841.439453125,23498.908203125,23342.8671875,23205.30078125,22983.796875,23011.189453125,23020.73828125,22644.087890625,22425.66015625,22312.548828125,22221.50390625,22114.0390625,21878.68359375,21237.30078125,20726.765625,20525.55859375,20929.41796875,21961.458984375,22896.6875,null,null,null,null,null,null,null,null,null,null,null,null,null,null,null,null,null,null,null,null,null,null,null,null,null,null,null,null,null,null,null,null,null,null,null,null,null,null,null,null,null,null,null,null,null,null,null,null,null,null,null,null,null,null,null,null,null,null,null,null,null,null,null,null,null,null,null,null,null,null,null,null,null,null,null,null,null,null,null,null,null,null,null,null,null,null,null,null,null,null,null,null,null,null,null,null,null,null,null,null,null,null,null,null,null,null,null,null,null,null,null,null,null,null,null,null,null,null,null,null,null,null,null,null,null,null,null,null,null,null,null,null,null,null,null,null,null,null,null,null,null,null,null,null,null,null,null],\"yaxis\":\"y\",\"type\":\"scattergl\"},{\"hovertemplate\":\"variable=test_predicted_close<br>Date=%{x}<br>Stock price=%{y}<extra></extra>\",\"legendgroup\":\"test_predicted_close\",\"line\":{\"color\":\"#00cc96\",\"dash\":\"solid\"},\"marker\":{\"symbol\":\"circle\"},\"mode\":\"lines\",\"name\":\"Test predicted close price\",\"showlegend\":true,\"x\":[\"2022-08-10\",\"2022-08-11\",\"2022-08-12\",\"2022-08-13\",\"2022-08-14\",\"2022-08-15\",\"2022-08-16\",\"2022-08-17\",\"2022-08-18\",\"2022-08-19\",\"2022-08-20\",\"2022-08-21\",\"2022-08-22\",\"2022-08-23\",\"2022-08-24\",\"2022-08-25\",\"2022-08-26\",\"2022-08-27\",\"2022-08-28\",\"2022-08-29\",\"2022-08-30\",\"2022-08-31\",\"2022-09-01\",\"2022-09-02\",\"2022-09-03\",\"2022-09-04\",\"2022-09-05\",\"2022-09-06\",\"2022-09-07\",\"2022-09-08\",\"2022-09-09\",\"2022-09-10\",\"2022-09-11\",\"2022-09-12\",\"2022-09-13\",\"2022-09-14\",\"2022-09-15\",\"2022-09-16\",\"2022-09-17\",\"2022-09-18\",\"2022-09-19\",\"2022-09-20\",\"2022-09-21\",\"2022-09-22\",\"2022-09-23\",\"2022-09-24\",\"2022-09-25\",\"2022-09-26\",\"2022-09-27\",\"2022-09-28\",\"2022-09-29\",\"2022-09-30\",\"2022-10-01\",\"2022-10-02\",\"2022-10-03\",\"2022-10-04\",\"2022-10-05\",\"2022-10-06\",\"2022-10-07\",\"2022-10-08\",\"2022-10-09\",\"2022-10-10\",\"2022-10-11\",\"2022-10-12\",\"2022-10-13\",\"2022-10-14\",\"2022-10-15\",\"2022-10-16\",\"2022-10-17\",\"2022-10-18\",\"2022-10-19\",\"2022-10-20\",\"2022-10-21\",\"2022-10-22\",\"2022-10-23\",\"2022-10-24\",\"2022-10-25\",\"2022-10-26\",\"2022-10-27\",\"2022-10-28\",\"2022-10-29\",\"2022-10-30\",\"2022-10-31\",\"2022-11-01\",\"2022-11-02\",\"2022-11-03\",\"2022-11-04\",\"2022-11-05\",\"2022-11-06\",\"2022-11-07\",\"2022-11-08\",\"2022-11-09\",\"2022-11-10\",\"2022-11-11\",\"2022-11-12\",\"2022-11-13\",\"2022-11-14\",\"2022-11-15\",\"2022-11-16\",\"2022-11-17\",\"2022-11-18\",\"2022-11-19\",\"2022-11-20\",\"2022-11-21\",\"2022-11-22\",\"2022-11-23\",\"2022-11-24\",\"2022-11-25\",\"2022-11-26\",\"2022-11-27\",\"2022-11-28\",\"2022-11-29\",\"2022-11-30\",\"2022-12-01\",\"2022-12-02\",\"2022-12-03\",\"2022-12-04\",\"2022-12-05\",\"2022-12-06\",\"2022-12-07\",\"2022-12-08\",\"2022-12-09\",\"2022-12-10\",\"2022-12-11\",\"2022-12-12\",\"2022-12-13\",\"2022-12-14\",\"2022-12-15\",\"2022-12-16\",\"2022-12-17\",\"2022-12-18\",\"2022-12-19\",\"2022-12-20\",\"2022-12-21\",\"2022-12-22\",\"2022-12-23\",\"2022-12-24\",\"2022-12-25\",\"2022-12-26\",\"2022-12-27\",\"2022-12-28\",\"2022-12-29\",\"2022-12-30\",\"2022-12-31\",\"2023-01-01\",\"2023-01-02\",\"2023-01-03\",\"2023-01-04\",\"2023-01-05\",\"2023-01-06\",\"2023-01-07\",\"2023-01-08\",\"2023-01-09\",\"2023-01-10\",\"2023-01-11\",\"2023-01-12\",\"2023-01-13\",\"2023-01-14\",\"2023-01-15\",\"2023-01-16\",\"2023-01-17\",\"2023-01-18\",\"2023-01-19\",\"2023-01-20\",\"2023-01-21\",\"2023-01-22\",\"2023-01-23\",\"2023-01-24\",\"2023-01-25\",\"2023-01-26\",\"2023-01-27\",\"2023-01-28\",\"2023-01-29\",\"2023-01-30\",\"2023-01-31\",\"2023-02-01\",\"2023-02-02\",\"2023-02-03\",\"2023-02-04\",\"2023-02-05\",\"2023-02-06\",\"2023-02-07\",\"2023-02-08\",\"2023-02-09\",\"2023-02-10\",\"2023-02-11\",\"2023-02-12\",\"2023-02-13\",\"2023-02-14\",\"2023-02-15\",\"2023-02-16\",\"2023-02-17\",\"2023-02-18\",\"2023-02-19\",\"2023-02-20\",\"2023-02-21\",\"2023-02-22\",\"2023-02-23\",\"2023-02-24\",\"2023-02-25\",\"2023-02-26\",\"2023-02-27\",\"2023-02-28\",\"2023-03-01\",\"2023-03-02\",\"2023-03-03\",\"2023-03-04\",\"2023-03-05\",\"2023-03-06\",\"2023-03-07\",\"2023-03-08\",\"2023-03-09\",\"2023-03-10\",\"2023-03-11\",\"2023-03-12\",\"2023-03-13\",\"2023-03-14\",\"2023-03-15\",\"2023-03-16\",\"2023-03-17\",\"2023-03-18\",\"2023-03-19\",\"2023-03-20\",\"2023-03-21\",\"2023-03-22\",\"2023-03-23\",\"2023-03-24\",\"2023-03-25\",\"2023-03-26\",\"2023-03-27\",\"2023-03-28\",\"2023-03-29\",\"2023-03-30\",\"2023-03-31\",\"2023-04-01\",\"2023-04-02\",\"2023-04-03\",\"2023-04-04\",\"2023-04-05\",\"2023-04-06\",\"2023-04-07\",\"2023-04-08\",\"2023-04-09\",\"2023-04-10\",\"2023-04-11\",\"2023-04-12\",\"2023-04-13\",\"2023-04-14\",\"2023-04-15\",\"2023-04-16\",\"2023-04-17\",\"2023-04-18\",\"2023-04-19\",\"2023-04-20\",\"2023-04-21\",\"2023-04-22\",\"2023-04-23\",\"2023-04-24\",\"2023-04-25\",\"2023-04-26\",\"2023-04-27\",\"2023-04-28\",\"2023-04-29\",\"2023-04-30\",\"2023-05-01\",\"2023-05-02\",\"2023-05-03\",\"2023-05-04\",\"2023-05-05\",\"2023-05-06\",\"2023-05-07\",\"2023-05-08\",\"2023-05-09\",\"2023-05-10\",\"2023-05-11\",\"2023-05-12\",\"2023-05-13\",\"2023-05-14\",\"2023-05-15\",\"2023-05-16\",\"2023-05-17\",\"2023-05-18\",\"2023-05-19\",\"2023-05-20\",\"2023-05-21\",\"2023-05-22\",\"2023-05-23\",\"2023-05-24\",\"2023-05-25\",\"2023-05-26\",\"2023-05-27\",\"2023-05-28\",\"2023-05-29\",\"2023-05-30\",\"2023-05-31\",\"2023-06-01\",\"2023-06-02\",\"2023-06-03\",\"2023-06-04\",\"2023-06-05\",\"2023-06-06\",\"2023-06-07\",\"2023-06-08\",\"2023-06-09\",\"2023-06-10\",\"2023-06-11\",\"2023-06-12\",\"2023-06-13\",\"2023-06-14\",\"2023-06-15\",\"2023-06-16\",\"2023-06-17\",\"2023-06-18\",\"2023-06-19\",\"2023-06-20\",\"2023-06-21\",\"2023-06-22\",\"2023-06-23\",\"2023-06-24\",\"2023-06-25\",\"2023-06-26\",\"2023-06-27\",\"2023-06-28\",\"2023-06-29\",\"2023-06-30\",\"2023-07-01\",\"2023-07-02\",\"2023-07-03\",\"2023-07-04\",\"2023-07-05\",\"2023-07-06\",\"2023-07-07\",\"2023-07-08\",\"2023-07-09\",\"2023-07-10\",\"2023-07-11\",\"2023-07-12\",\"2023-07-13\",\"2023-07-14\",\"2023-07-15\",\"2023-07-16\",\"2023-07-17\",\"2023-07-18\",\"2023-07-19\",\"2023-07-20\",\"2023-07-21\",\"2023-07-22\",\"2023-07-23\",\"2023-07-24\",\"2023-07-25\",\"2023-07-26\",\"2023-07-27\",\"2023-07-28\",\"2023-07-29\",\"2023-07-30\",\"2023-07-31\",\"2023-08-01\",\"2023-08-02\",\"2023-08-03\",\"2023-08-04\",\"2023-08-05\",\"2023-08-06\",\"2023-08-07\",\"2023-08-08\",\"2023-08-09\"],\"xaxis\":\"x\",\"y\":[null,null,null,null,null,null,null,null,null,null,null,null,null,null,null,null,null,null,null,null,null,null,null,null,null,null,null,null,null,null,null,null,null,null,null,null,null,null,null,null,null,null,null,null,null,null,null,null,null,null,null,null,null,null,null,null,null,null,null,null,null,null,null,null,null,null,null,null,null,null,null,null,null,null,null,null,null,null,null,null,null,null,null,null,null,null,null,null,null,null,null,null,null,null,null,null,null,null,null,null,null,null,null,null,null,null,null,null,null,null,null,null,null,null,null,null,null,null,null,null,null,null,null,null,null,null,null,null,null,null,null,null,null,null,null,null,null,null,null,null,null,null,null,null,null,null,null,null,null,null,null,null,null,null,null,null,null,null,null,null,null,null,null,null,null,null,null,null,null,null,null,null,null,null,null,null,null,null,null,null,null,null,null,null,null,null,null,null,null,null,null,null,null,null,null,null,null,null,null,null,null,null,null,null,null,null,null,null,null,null,null,null,null,null,null,null,null,null,null,null,null,null,null,null,null,null,null,null,null,null,null,null,null,null,27052.72265625,27226.65625,27237.765625,27120.6640625,27186.140625,27177.53125,27094.177734375,26983.197265625,26884.904296875,26970.138671875,27588.91796875,28241.08203125,28687.390625,29154.896484375,29500.537109375,29668.111328125,29684.857421875,29201.697265625,29187.17578125,28449.189453125,27628.255859375,26583.58203125,26042.935546875,25563.265625,25255.89453125,25494.953125,25793.9375,26568.859375,27166.09375,27631.125,27998.724609375,27780.013671875,27792.162109375,27867.677734375,27780.677734375,27962.9453125,27799.646484375,27515.791015625,27012.1640625,26638.375,26333.287109375,25878.193359375,25495.1328125,25271.287109375,25208.6953125,25335.33203125,25399.404296875,25651.69140625,25659.55078125,25738.40234375,25930.92578125,25922.533203125,25937.5234375,26070.787109375,25819.310546875,25720.3515625,25723.27734375,25768.98046875,26281.72265625,26541.05078125,26715.455078125,26667.8984375,26504.533203125,26501.818359375,26383.47265625,26290.162109375,25692.240234375,25820.720703125,25600.12109375,25502.396484375,25439.921875,25167.048828125,25027.1015625,24956.806640625,24949.79296875,24655.99609375,24636.19140625,24887.23828125,25169.046875,25352.251953125,25689.904296875,26455.52734375,27696.982421875,28572.125,29486.654296875,30055.333984375,30312.34375,30292.28515625,30324.193359375,29979.201171875,29785.716796875,29552.701171875,29393.58203125,29219.67578125,29272.32421875,29103.6328125,28911.087890625,28570.12109375,28468.552734375,28384.330078125,28256.001953125,28242.40625,28346.46875,28354.083984375,28838.875,28735.619140625,28644.201171875,28546.267578125,28421.337890625,28204.71875,28051.822265625,27833.384765625,27755.9296875,27690.005859375,27803.58203125,27512.9921875,27372.880859375,27355.15234375,27287.955078125,27367.4375,27408.470703125,27421.267578125,27438.875,27685.93359375,27645.099609375,27641.193359375,27596.421875,27553.169921875,27519.740234375,27577.029296875,null],\"yaxis\":\"y\",\"type\":\"scattergl\"}],                        {\"template\":{\"data\":{\"histogram2dcontour\":[{\"type\":\"histogram2dcontour\",\"colorbar\":{\"outlinewidth\":0,\"ticks\":\"\"},\"colorscale\":[[0.0,\"#0d0887\"],[0.1111111111111111,\"#46039f\"],[0.2222222222222222,\"#7201a8\"],[0.3333333333333333,\"#9c179e\"],[0.4444444444444444,\"#bd3786\"],[0.5555555555555556,\"#d8576b\"],[0.6666666666666666,\"#ed7953\"],[0.7777777777777778,\"#fb9f3a\"],[0.8888888888888888,\"#fdca26\"],[1.0,\"#f0f921\"]]}],\"choropleth\":[{\"type\":\"choropleth\",\"colorbar\":{\"outlinewidth\":0,\"ticks\":\"\"}}],\"histogram2d\":[{\"type\":\"histogram2d\",\"colorbar\":{\"outlinewidth\":0,\"ticks\":\"\"},\"colorscale\":[[0.0,\"#0d0887\"],[0.1111111111111111,\"#46039f\"],[0.2222222222222222,\"#7201a8\"],[0.3333333333333333,\"#9c179e\"],[0.4444444444444444,\"#bd3786\"],[0.5555555555555556,\"#d8576b\"],[0.6666666666666666,\"#ed7953\"],[0.7777777777777778,\"#fb9f3a\"],[0.8888888888888888,\"#fdca26\"],[1.0,\"#f0f921\"]]}],\"heatmap\":[{\"type\":\"heatmap\",\"colorbar\":{\"outlinewidth\":0,\"ticks\":\"\"},\"colorscale\":[[0.0,\"#0d0887\"],[0.1111111111111111,\"#46039f\"],[0.2222222222222222,\"#7201a8\"],[0.3333333333333333,\"#9c179e\"],[0.4444444444444444,\"#bd3786\"],[0.5555555555555556,\"#d8576b\"],[0.6666666666666666,\"#ed7953\"],[0.7777777777777778,\"#fb9f3a\"],[0.8888888888888888,\"#fdca26\"],[1.0,\"#f0f921\"]]}],\"heatmapgl\":[{\"type\":\"heatmapgl\",\"colorbar\":{\"outlinewidth\":0,\"ticks\":\"\"},\"colorscale\":[[0.0,\"#0d0887\"],[0.1111111111111111,\"#46039f\"],[0.2222222222222222,\"#7201a8\"],[0.3333333333333333,\"#9c179e\"],[0.4444444444444444,\"#bd3786\"],[0.5555555555555556,\"#d8576b\"],[0.6666666666666666,\"#ed7953\"],[0.7777777777777778,\"#fb9f3a\"],[0.8888888888888888,\"#fdca26\"],[1.0,\"#f0f921\"]]}],\"contourcarpet\":[{\"type\":\"contourcarpet\",\"colorbar\":{\"outlinewidth\":0,\"ticks\":\"\"}}],\"contour\":[{\"type\":\"contour\",\"colorbar\":{\"outlinewidth\":0,\"ticks\":\"\"},\"colorscale\":[[0.0,\"#0d0887\"],[0.1111111111111111,\"#46039f\"],[0.2222222222222222,\"#7201a8\"],[0.3333333333333333,\"#9c179e\"],[0.4444444444444444,\"#bd3786\"],[0.5555555555555556,\"#d8576b\"],[0.6666666666666666,\"#ed7953\"],[0.7777777777777778,\"#fb9f3a\"],[0.8888888888888888,\"#fdca26\"],[1.0,\"#f0f921\"]]}],\"surface\":[{\"type\":\"surface\",\"colorbar\":{\"outlinewidth\":0,\"ticks\":\"\"},\"colorscale\":[[0.0,\"#0d0887\"],[0.1111111111111111,\"#46039f\"],[0.2222222222222222,\"#7201a8\"],[0.3333333333333333,\"#9c179e\"],[0.4444444444444444,\"#bd3786\"],[0.5555555555555556,\"#d8576b\"],[0.6666666666666666,\"#ed7953\"],[0.7777777777777778,\"#fb9f3a\"],[0.8888888888888888,\"#fdca26\"],[1.0,\"#f0f921\"]]}],\"mesh3d\":[{\"type\":\"mesh3d\",\"colorbar\":{\"outlinewidth\":0,\"ticks\":\"\"}}],\"scatter\":[{\"fillpattern\":{\"fillmode\":\"overlay\",\"size\":10,\"solidity\":0.2},\"type\":\"scatter\"}],\"parcoords\":[{\"type\":\"parcoords\",\"line\":{\"colorbar\":{\"outlinewidth\":0,\"ticks\":\"\"}}}],\"scatterpolargl\":[{\"type\":\"scatterpolargl\",\"marker\":{\"colorbar\":{\"outlinewidth\":0,\"ticks\":\"\"}}}],\"bar\":[{\"error_x\":{\"color\":\"#2a3f5f\"},\"error_y\":{\"color\":\"#2a3f5f\"},\"marker\":{\"line\":{\"color\":\"#E5ECF6\",\"width\":0.5},\"pattern\":{\"fillmode\":\"overlay\",\"size\":10,\"solidity\":0.2}},\"type\":\"bar\"}],\"scattergeo\":[{\"type\":\"scattergeo\",\"marker\":{\"colorbar\":{\"outlinewidth\":0,\"ticks\":\"\"}}}],\"scatterpolar\":[{\"type\":\"scatterpolar\",\"marker\":{\"colorbar\":{\"outlinewidth\":0,\"ticks\":\"\"}}}],\"histogram\":[{\"marker\":{\"pattern\":{\"fillmode\":\"overlay\",\"size\":10,\"solidity\":0.2}},\"type\":\"histogram\"}],\"scattergl\":[{\"type\":\"scattergl\",\"marker\":{\"colorbar\":{\"outlinewidth\":0,\"ticks\":\"\"}}}],\"scatter3d\":[{\"type\":\"scatter3d\",\"line\":{\"colorbar\":{\"outlinewidth\":0,\"ticks\":\"\"}},\"marker\":{\"colorbar\":{\"outlinewidth\":0,\"ticks\":\"\"}}}],\"scattermapbox\":[{\"type\":\"scattermapbox\",\"marker\":{\"colorbar\":{\"outlinewidth\":0,\"ticks\":\"\"}}}],\"scatterternary\":[{\"type\":\"scatterternary\",\"marker\":{\"colorbar\":{\"outlinewidth\":0,\"ticks\":\"\"}}}],\"scattercarpet\":[{\"type\":\"scattercarpet\",\"marker\":{\"colorbar\":{\"outlinewidth\":0,\"ticks\":\"\"}}}],\"carpet\":[{\"aaxis\":{\"endlinecolor\":\"#2a3f5f\",\"gridcolor\":\"white\",\"linecolor\":\"white\",\"minorgridcolor\":\"white\",\"startlinecolor\":\"#2a3f5f\"},\"baxis\":{\"endlinecolor\":\"#2a3f5f\",\"gridcolor\":\"white\",\"linecolor\":\"white\",\"minorgridcolor\":\"white\",\"startlinecolor\":\"#2a3f5f\"},\"type\":\"carpet\"}],\"table\":[{\"cells\":{\"fill\":{\"color\":\"#EBF0F8\"},\"line\":{\"color\":\"white\"}},\"header\":{\"fill\":{\"color\":\"#C8D4E3\"},\"line\":{\"color\":\"white\"}},\"type\":\"table\"}],\"barpolar\":[{\"marker\":{\"line\":{\"color\":\"#E5ECF6\",\"width\":0.5},\"pattern\":{\"fillmode\":\"overlay\",\"size\":10,\"solidity\":0.2}},\"type\":\"barpolar\"}],\"pie\":[{\"automargin\":true,\"type\":\"pie\"}]},\"layout\":{\"autotypenumbers\":\"strict\",\"colorway\":[\"#636efa\",\"#EF553B\",\"#00cc96\",\"#ab63fa\",\"#FFA15A\",\"#19d3f3\",\"#FF6692\",\"#B6E880\",\"#FF97FF\",\"#FECB52\"],\"font\":{\"color\":\"#2a3f5f\"},\"hovermode\":\"closest\",\"hoverlabel\":{\"align\":\"left\"},\"paper_bgcolor\":\"white\",\"plot_bgcolor\":\"#E5ECF6\",\"polar\":{\"bgcolor\":\"#E5ECF6\",\"angularaxis\":{\"gridcolor\":\"white\",\"linecolor\":\"white\",\"ticks\":\"\"},\"radialaxis\":{\"gridcolor\":\"white\",\"linecolor\":\"white\",\"ticks\":\"\"}},\"ternary\":{\"bgcolor\":\"#E5ECF6\",\"aaxis\":{\"gridcolor\":\"white\",\"linecolor\":\"white\",\"ticks\":\"\"},\"baxis\":{\"gridcolor\":\"white\",\"linecolor\":\"white\",\"ticks\":\"\"},\"caxis\":{\"gridcolor\":\"white\",\"linecolor\":\"white\",\"ticks\":\"\"}},\"coloraxis\":{\"colorbar\":{\"outlinewidth\":0,\"ticks\":\"\"}},\"colorscale\":{\"sequential\":[[0.0,\"#0d0887\"],[0.1111111111111111,\"#46039f\"],[0.2222222222222222,\"#7201a8\"],[0.3333333333333333,\"#9c179e\"],[0.4444444444444444,\"#bd3786\"],[0.5555555555555556,\"#d8576b\"],[0.6666666666666666,\"#ed7953\"],[0.7777777777777778,\"#fb9f3a\"],[0.8888888888888888,\"#fdca26\"],[1.0,\"#f0f921\"]],\"sequentialminus\":[[0.0,\"#0d0887\"],[0.1111111111111111,\"#46039f\"],[0.2222222222222222,\"#7201a8\"],[0.3333333333333333,\"#9c179e\"],[0.4444444444444444,\"#bd3786\"],[0.5555555555555556,\"#d8576b\"],[0.6666666666666666,\"#ed7953\"],[0.7777777777777778,\"#fb9f3a\"],[0.8888888888888888,\"#fdca26\"],[1.0,\"#f0f921\"]],\"diverging\":[[0,\"#8e0152\"],[0.1,\"#c51b7d\"],[0.2,\"#de77ae\"],[0.3,\"#f1b6da\"],[0.4,\"#fde0ef\"],[0.5,\"#f7f7f7\"],[0.6,\"#e6f5d0\"],[0.7,\"#b8e186\"],[0.8,\"#7fbc41\"],[0.9,\"#4d9221\"],[1,\"#276419\"]]},\"xaxis\":{\"gridcolor\":\"white\",\"linecolor\":\"white\",\"ticks\":\"\",\"title\":{\"standoff\":15},\"zerolinecolor\":\"white\",\"automargin\":true,\"zerolinewidth\":2},\"yaxis\":{\"gridcolor\":\"white\",\"linecolor\":\"white\",\"ticks\":\"\",\"title\":{\"standoff\":15},\"zerolinecolor\":\"white\",\"automargin\":true,\"zerolinewidth\":2},\"scene\":{\"xaxis\":{\"backgroundcolor\":\"#E5ECF6\",\"gridcolor\":\"white\",\"linecolor\":\"white\",\"showbackground\":true,\"ticks\":\"\",\"zerolinecolor\":\"white\",\"gridwidth\":2},\"yaxis\":{\"backgroundcolor\":\"#E5ECF6\",\"gridcolor\":\"white\",\"linecolor\":\"white\",\"showbackground\":true,\"ticks\":\"\",\"zerolinecolor\":\"white\",\"gridwidth\":2},\"zaxis\":{\"backgroundcolor\":\"#E5ECF6\",\"gridcolor\":\"white\",\"linecolor\":\"white\",\"showbackground\":true,\"ticks\":\"\",\"zerolinecolor\":\"white\",\"gridwidth\":2}},\"shapedefaults\":{\"line\":{\"color\":\"#2a3f5f\"}},\"annotationdefaults\":{\"arrowcolor\":\"#2a3f5f\",\"arrowhead\":0,\"arrowwidth\":1},\"geo\":{\"bgcolor\":\"white\",\"landcolor\":\"#E5ECF6\",\"subunitcolor\":\"white\",\"showland\":true,\"showlakes\":true,\"lakecolor\":\"white\"},\"title\":{\"x\":0.05},\"mapbox\":{\"style\":\"light\"}}},\"xaxis\":{\"anchor\":\"y\",\"domain\":[0.0,1.0],\"title\":{\"text\":\"Date\"},\"showgrid\":false},\"yaxis\":{\"anchor\":\"x\",\"domain\":[0.0,1.0],\"title\":{\"text\":\"Stock price\"},\"showgrid\":false},\"legend\":{\"title\":{\"text\":\"Close Price\"},\"tracegroupgap\":0},\"margin\":{\"t\":60},\"title\":{\"text\":\"Comparision between original close price vs predicted close price\"},\"font\":{\"size\":15,\"color\":\"black\"},\"plot_bgcolor\":\"white\"},                        {\"responsive\": true}                    ).then(function(){\n",
              "                            \n",
              "var gd = document.getElementById('01a485d6-8522-40d5-9538-dc02ff54d9b9');\n",
              "var x = new MutationObserver(function (mutations, observer) {{\n",
              "        var display = window.getComputedStyle(gd).display;\n",
              "        if (!display || display === 'none') {{\n",
              "            console.log([gd, 'removed!']);\n",
              "            Plotly.purge(gd);\n",
              "            observer.disconnect();\n",
              "        }}\n",
              "}});\n",
              "\n",
              "// Listen for the removal of the full notebook cells\n",
              "var notebookContainer = gd.closest('#notebook-container');\n",
              "if (notebookContainer) {{\n",
              "    x.observe(notebookContainer, {childList: true});\n",
              "}}\n",
              "\n",
              "// Listen for the clearing of the current output cell\n",
              "var outputEl = gd.closest('.output');\n",
              "if (outputEl) {{\n",
              "    x.observe(outputEl, {childList: true});\n",
              "}}\n",
              "\n",
              "                        })                };                            </script>        </div>\n",
              "</body>\n",
              "</html>"
            ]
          },
          "metadata": {}
        }
      ]
    },
    {
      "cell_type": "markdown",
      "source": [
        "Predicting the next 30 days"
      ],
      "metadata": {
        "id": "kK3luwxMWkDW"
      }
    },
    {
      "cell_type": "code",
      "source": [
        "x_input=test_data[len(test_data)-time_step:].reshape(1,-1)\n",
        "temp_input=list(x_input)\n",
        "temp_input=temp_input[0].tolist()\n",
        "\n",
        "from numpy import array\n",
        "\n",
        "lst_output=[]\n",
        "n_steps=time_step\n",
        "i=0\n",
        "pred_days = 30\n",
        "while(i<pred_days):\n",
        "\n",
        "    if(len(temp_input)>time_step):\n",
        "\n",
        "        x_input=np.array(temp_input[1:])\n",
        "        #print(\"{} day input {}\".format(i,x_input))\n",
        "        x_input = x_input.reshape(1,-1)\n",
        "        x_input = x_input.reshape((1, n_steps, 1))\n",
        "\n",
        "        yhat = regressor.predict(x_input, verbose=0)\n",
        "        #print(\"{} day output {}\".format(i,yhat))\n",
        "        temp_input.extend(yhat[0].tolist())\n",
        "        temp_input=temp_input[1:]\n",
        "        #print(temp_input)\n",
        "\n",
        "        lst_output.extend(yhat.tolist())\n",
        "        i=i+1\n",
        "\n",
        "    else:\n",
        "\n",
        "        x_input = x_input.reshape((1, n_steps,1))\n",
        "        yhat = regressor.predict(x_input, verbose=0)\n",
        "        temp_input.extend(yhat[0].tolist())\n",
        "\n",
        "        lst_output.extend(yhat.tolist())\n",
        "        i=i+1\n",
        "\n",
        "print(\"Output of predicted next days: \", len(lst_output))"
      ],
      "metadata": {
        "colab": {
          "base_uri": "https://localhost:8080/"
        },
        "id": "WVaEF4XpWbEa",
        "outputId": "7648c4cb-ae5f-4fd6-8a99-56b31d1127b8"
      },
      "execution_count": 61,
      "outputs": [
        {
          "output_type": "stream",
          "name": "stdout",
          "text": [
            "Output of predicted next days:  30\n"
          ]
        }
      ]
    },
    {
      "cell_type": "code",
      "source": [
        "last_days=np.arange(1,time_step+1)\n",
        "day_pred=np.arange(time_step+1,time_step+pred_days+1)\n",
        "print(last_days)\n",
        "print(day_pred)"
      ],
      "metadata": {
        "colab": {
          "base_uri": "https://localhost:8080/"
        },
        "id": "a5TMpwkIWrXG",
        "outputId": "47e2c5c0-9c6d-471c-fbd8-33a64ecd7653"
      },
      "execution_count": 62,
      "outputs": [
        {
          "output_type": "stream",
          "name": "stdout",
          "text": [
            "[ 1  2  3  4  5  6  7  8  9 10 11 12 13 14 15]\n",
            "[16 17 18 19 20 21 22 23 24 25 26 27 28 29 30 31 32 33 34 35 36 37 38 39\n",
            " 40 41 42 43 44 45]\n"
          ]
        }
      ]
    },
    {
      "cell_type": "code",
      "source": [
        "temp_mat = np.empty((len(last_days)+pred_days+1,1))\n",
        "temp_mat[:] = np.nan\n",
        "temp_mat = temp_mat.reshape(1,-1).tolist()[0]\n",
        "\n",
        "last_original_days_value = temp_mat\n",
        "next_predicted_days_value = temp_mat\n",
        "\n",
        "last_original_days_value[0:time_step+1] = scaler.inverse_transform(df[len(df)-time_step:]).reshape(1,-1).tolist()[0]\n",
        "next_predicted_days_value[time_step+1:] = scaler.inverse_transform(np.array(lst_output).reshape(-1,1)).reshape(1,-1).tolist()[0]\n",
        "\n",
        "new_pred_plot = pd.DataFrame({\n",
        "    'last_original_days_value':last_original_days_value,\n",
        "    'next_predicted_days_value':next_predicted_days_value\n",
        "})\n",
        "\n",
        "names = cycle(['Last 15 days close price','Predicted next 30 days close price'])\n",
        "\n",
        "fig = px.line(new_pred_plot,x=new_pred_plot.index, y=[new_pred_plot['last_original_days_value'],\n",
        "                                                      new_pred_plot['next_predicted_days_value']],\n",
        "              labels={'value': 'Stock price','index': 'Timestamp'})\n",
        "fig.update_layout(title_text='Compare last 15 days vs next 30 days',\n",
        "                  plot_bgcolor='white', font_size=15, font_color='black',legend_title_text='Close Price')\n",
        "\n",
        "fig.for_each_trace(lambda t:  t.update(name = next(names)))\n",
        "fig.update_xaxes(showgrid=False)\n",
        "fig.update_yaxes(showgrid=False)\n",
        "fig.show()"
      ],
      "metadata": {
        "colab": {
          "base_uri": "https://localhost:8080/",
          "height": 542
        },
        "id": "zYqtKjCsWyfJ",
        "outputId": "8f17a8e9-b392-4a7e-bb75-d06dd562d085"
      },
      "execution_count": 63,
      "outputs": [
        {
          "output_type": "display_data",
          "data": {
            "text/html": [
              "<html>\n",
              "<head><meta charset=\"utf-8\" /></head>\n",
              "<body>\n",
              "    <div>            <script src=\"https://cdnjs.cloudflare.com/ajax/libs/mathjax/2.7.5/MathJax.js?config=TeX-AMS-MML_SVG\"></script><script type=\"text/javascript\">if (window.MathJax && window.MathJax.Hub && window.MathJax.Hub.Config) {window.MathJax.Hub.Config({SVG: {font: \"STIX-Web\"}});}</script>                <script type=\"text/javascript\">window.PlotlyConfig = {MathJaxConfig: 'local'};</script>\n",
              "        <script src=\"https://cdn.plot.ly/plotly-2.18.2.min.js\"></script>                <div id=\"e352f8b6-fc88-47e0-866c-2bdeee71e56a\" class=\"plotly-graph-div\" style=\"height:525px; width:100%;\"></div>            <script type=\"text/javascript\">                                    window.PLOTLYENV=window.PLOTLYENV || {};                                    if (document.getElementById(\"e352f8b6-fc88-47e0-866c-2bdeee71e56a\")) {                    Plotly.newPlot(                        \"e352f8b6-fc88-47e0-866c-2bdeee71e56a\",                        [{\"hovertemplate\":\"variable=last_original_days_value<br>Timestamp=%{x}<br>Stock price=%{y}<extra></extra>\",\"legendgroup\":\"last_original_days_value\",\"line\":{\"color\":\"#636efa\",\"dash\":\"solid\"},\"marker\":{\"symbol\":\"circle\"},\"mode\":\"lines\",\"name\":\"Last 15 days close price\",\"orientation\":\"v\",\"showlegend\":true,\"x\":[0,1,2,3,4,5,6,7,8,9,10,11,12,13,14,15,16,17,18,19,20,21,22,23,24,25,26,27,28,29,30,31,32,33,34,35,36,37,38,39,40,41,42,43,44,45],\"xaxis\":\"x\",\"y\":[29354.972656,29210.689453,29319.246094,29356.917969,29275.308594,29230.111328,29675.732422,29151.958984,29178.679688,29074.091797,29042.126953,29041.855469,29180.578125,29765.492188,29480.964844,null,27885.85353612617,27312.162907035457,26664.70040524067,25930.98400568345,25106.251125683084,24181.99027347442,23154.129454892296,22115.15843705048,21069.78416279668,20103.652232223238,19208.9001290962,18397.418880583846,17687.185880377183,17090.905595976183,16632.330976006433,16275.525877105594,15967.459167891255,15721.711818568858,15538.463080575204,15405.238292947475,15316.798427712236,15259.884956847549,15236.35877560859,15234.91494532015,15243.64058030813,15265.794468186798,15298.188423146792,15332.701016706042,15372.681860323868,15416.694487807377],\"yaxis\":\"y\",\"type\":\"scatter\"},{\"hovertemplate\":\"variable=next_predicted_days_value<br>Timestamp=%{x}<br>Stock price=%{y}<extra></extra>\",\"legendgroup\":\"next_predicted_days_value\",\"line\":{\"color\":\"#EF553B\",\"dash\":\"solid\"},\"marker\":{\"symbol\":\"circle\"},\"mode\":\"lines\",\"name\":\"Predicted next 30 days close price\",\"orientation\":\"v\",\"showlegend\":true,\"x\":[0,1,2,3,4,5,6,7,8,9,10,11,12,13,14,15,16,17,18,19,20,21,22,23,24,25,26,27,28,29,30,31,32,33,34,35,36,37,38,39,40,41,42,43,44,45],\"xaxis\":\"x\",\"y\":[29354.972656,29210.689453,29319.246094,29356.917969,29275.308594,29230.111328,29675.732422,29151.958984,29178.679688,29074.091797,29042.126953,29041.855469,29180.578125,29765.492188,29480.964844,null,27885.85353612617,27312.162907035457,26664.70040524067,25930.98400568345,25106.251125683084,24181.99027347442,23154.129454892296,22115.15843705048,21069.78416279668,20103.652232223238,19208.9001290962,18397.418880583846,17687.185880377183,17090.905595976183,16632.330976006433,16275.525877105594,15967.459167891255,15721.711818568858,15538.463080575204,15405.238292947475,15316.798427712236,15259.884956847549,15236.35877560859,15234.91494532015,15243.64058030813,15265.794468186798,15298.188423146792,15332.701016706042,15372.681860323868,15416.694487807377],\"yaxis\":\"y\",\"type\":\"scatter\"}],                        {\"template\":{\"data\":{\"histogram2dcontour\":[{\"type\":\"histogram2dcontour\",\"colorbar\":{\"outlinewidth\":0,\"ticks\":\"\"},\"colorscale\":[[0.0,\"#0d0887\"],[0.1111111111111111,\"#46039f\"],[0.2222222222222222,\"#7201a8\"],[0.3333333333333333,\"#9c179e\"],[0.4444444444444444,\"#bd3786\"],[0.5555555555555556,\"#d8576b\"],[0.6666666666666666,\"#ed7953\"],[0.7777777777777778,\"#fb9f3a\"],[0.8888888888888888,\"#fdca26\"],[1.0,\"#f0f921\"]]}],\"choropleth\":[{\"type\":\"choropleth\",\"colorbar\":{\"outlinewidth\":0,\"ticks\":\"\"}}],\"histogram2d\":[{\"type\":\"histogram2d\",\"colorbar\":{\"outlinewidth\":0,\"ticks\":\"\"},\"colorscale\":[[0.0,\"#0d0887\"],[0.1111111111111111,\"#46039f\"],[0.2222222222222222,\"#7201a8\"],[0.3333333333333333,\"#9c179e\"],[0.4444444444444444,\"#bd3786\"],[0.5555555555555556,\"#d8576b\"],[0.6666666666666666,\"#ed7953\"],[0.7777777777777778,\"#fb9f3a\"],[0.8888888888888888,\"#fdca26\"],[1.0,\"#f0f921\"]]}],\"heatmap\":[{\"type\":\"heatmap\",\"colorbar\":{\"outlinewidth\":0,\"ticks\":\"\"},\"colorscale\":[[0.0,\"#0d0887\"],[0.1111111111111111,\"#46039f\"],[0.2222222222222222,\"#7201a8\"],[0.3333333333333333,\"#9c179e\"],[0.4444444444444444,\"#bd3786\"],[0.5555555555555556,\"#d8576b\"],[0.6666666666666666,\"#ed7953\"],[0.7777777777777778,\"#fb9f3a\"],[0.8888888888888888,\"#fdca26\"],[1.0,\"#f0f921\"]]}],\"heatmapgl\":[{\"type\":\"heatmapgl\",\"colorbar\":{\"outlinewidth\":0,\"ticks\":\"\"},\"colorscale\":[[0.0,\"#0d0887\"],[0.1111111111111111,\"#46039f\"],[0.2222222222222222,\"#7201a8\"],[0.3333333333333333,\"#9c179e\"],[0.4444444444444444,\"#bd3786\"],[0.5555555555555556,\"#d8576b\"],[0.6666666666666666,\"#ed7953\"],[0.7777777777777778,\"#fb9f3a\"],[0.8888888888888888,\"#fdca26\"],[1.0,\"#f0f921\"]]}],\"contourcarpet\":[{\"type\":\"contourcarpet\",\"colorbar\":{\"outlinewidth\":0,\"ticks\":\"\"}}],\"contour\":[{\"type\":\"contour\",\"colorbar\":{\"outlinewidth\":0,\"ticks\":\"\"},\"colorscale\":[[0.0,\"#0d0887\"],[0.1111111111111111,\"#46039f\"],[0.2222222222222222,\"#7201a8\"],[0.3333333333333333,\"#9c179e\"],[0.4444444444444444,\"#bd3786\"],[0.5555555555555556,\"#d8576b\"],[0.6666666666666666,\"#ed7953\"],[0.7777777777777778,\"#fb9f3a\"],[0.8888888888888888,\"#fdca26\"],[1.0,\"#f0f921\"]]}],\"surface\":[{\"type\":\"surface\",\"colorbar\":{\"outlinewidth\":0,\"ticks\":\"\"},\"colorscale\":[[0.0,\"#0d0887\"],[0.1111111111111111,\"#46039f\"],[0.2222222222222222,\"#7201a8\"],[0.3333333333333333,\"#9c179e\"],[0.4444444444444444,\"#bd3786\"],[0.5555555555555556,\"#d8576b\"],[0.6666666666666666,\"#ed7953\"],[0.7777777777777778,\"#fb9f3a\"],[0.8888888888888888,\"#fdca26\"],[1.0,\"#f0f921\"]]}],\"mesh3d\":[{\"type\":\"mesh3d\",\"colorbar\":{\"outlinewidth\":0,\"ticks\":\"\"}}],\"scatter\":[{\"fillpattern\":{\"fillmode\":\"overlay\",\"size\":10,\"solidity\":0.2},\"type\":\"scatter\"}],\"parcoords\":[{\"type\":\"parcoords\",\"line\":{\"colorbar\":{\"outlinewidth\":0,\"ticks\":\"\"}}}],\"scatterpolargl\":[{\"type\":\"scatterpolargl\",\"marker\":{\"colorbar\":{\"outlinewidth\":0,\"ticks\":\"\"}}}],\"bar\":[{\"error_x\":{\"color\":\"#2a3f5f\"},\"error_y\":{\"color\":\"#2a3f5f\"},\"marker\":{\"line\":{\"color\":\"#E5ECF6\",\"width\":0.5},\"pattern\":{\"fillmode\":\"overlay\",\"size\":10,\"solidity\":0.2}},\"type\":\"bar\"}],\"scattergeo\":[{\"type\":\"scattergeo\",\"marker\":{\"colorbar\":{\"outlinewidth\":0,\"ticks\":\"\"}}}],\"scatterpolar\":[{\"type\":\"scatterpolar\",\"marker\":{\"colorbar\":{\"outlinewidth\":0,\"ticks\":\"\"}}}],\"histogram\":[{\"marker\":{\"pattern\":{\"fillmode\":\"overlay\",\"size\":10,\"solidity\":0.2}},\"type\":\"histogram\"}],\"scattergl\":[{\"type\":\"scattergl\",\"marker\":{\"colorbar\":{\"outlinewidth\":0,\"ticks\":\"\"}}}],\"scatter3d\":[{\"type\":\"scatter3d\",\"line\":{\"colorbar\":{\"outlinewidth\":0,\"ticks\":\"\"}},\"marker\":{\"colorbar\":{\"outlinewidth\":0,\"ticks\":\"\"}}}],\"scattermapbox\":[{\"type\":\"scattermapbox\",\"marker\":{\"colorbar\":{\"outlinewidth\":0,\"ticks\":\"\"}}}],\"scatterternary\":[{\"type\":\"scatterternary\",\"marker\":{\"colorbar\":{\"outlinewidth\":0,\"ticks\":\"\"}}}],\"scattercarpet\":[{\"type\":\"scattercarpet\",\"marker\":{\"colorbar\":{\"outlinewidth\":0,\"ticks\":\"\"}}}],\"carpet\":[{\"aaxis\":{\"endlinecolor\":\"#2a3f5f\",\"gridcolor\":\"white\",\"linecolor\":\"white\",\"minorgridcolor\":\"white\",\"startlinecolor\":\"#2a3f5f\"},\"baxis\":{\"endlinecolor\":\"#2a3f5f\",\"gridcolor\":\"white\",\"linecolor\":\"white\",\"minorgridcolor\":\"white\",\"startlinecolor\":\"#2a3f5f\"},\"type\":\"carpet\"}],\"table\":[{\"cells\":{\"fill\":{\"color\":\"#EBF0F8\"},\"line\":{\"color\":\"white\"}},\"header\":{\"fill\":{\"color\":\"#C8D4E3\"},\"line\":{\"color\":\"white\"}},\"type\":\"table\"}],\"barpolar\":[{\"marker\":{\"line\":{\"color\":\"#E5ECF6\",\"width\":0.5},\"pattern\":{\"fillmode\":\"overlay\",\"size\":10,\"solidity\":0.2}},\"type\":\"barpolar\"}],\"pie\":[{\"automargin\":true,\"type\":\"pie\"}]},\"layout\":{\"autotypenumbers\":\"strict\",\"colorway\":[\"#636efa\",\"#EF553B\",\"#00cc96\",\"#ab63fa\",\"#FFA15A\",\"#19d3f3\",\"#FF6692\",\"#B6E880\",\"#FF97FF\",\"#FECB52\"],\"font\":{\"color\":\"#2a3f5f\"},\"hovermode\":\"closest\",\"hoverlabel\":{\"align\":\"left\"},\"paper_bgcolor\":\"white\",\"plot_bgcolor\":\"#E5ECF6\",\"polar\":{\"bgcolor\":\"#E5ECF6\",\"angularaxis\":{\"gridcolor\":\"white\",\"linecolor\":\"white\",\"ticks\":\"\"},\"radialaxis\":{\"gridcolor\":\"white\",\"linecolor\":\"white\",\"ticks\":\"\"}},\"ternary\":{\"bgcolor\":\"#E5ECF6\",\"aaxis\":{\"gridcolor\":\"white\",\"linecolor\":\"white\",\"ticks\":\"\"},\"baxis\":{\"gridcolor\":\"white\",\"linecolor\":\"white\",\"ticks\":\"\"},\"caxis\":{\"gridcolor\":\"white\",\"linecolor\":\"white\",\"ticks\":\"\"}},\"coloraxis\":{\"colorbar\":{\"outlinewidth\":0,\"ticks\":\"\"}},\"colorscale\":{\"sequential\":[[0.0,\"#0d0887\"],[0.1111111111111111,\"#46039f\"],[0.2222222222222222,\"#7201a8\"],[0.3333333333333333,\"#9c179e\"],[0.4444444444444444,\"#bd3786\"],[0.5555555555555556,\"#d8576b\"],[0.6666666666666666,\"#ed7953\"],[0.7777777777777778,\"#fb9f3a\"],[0.8888888888888888,\"#fdca26\"],[1.0,\"#f0f921\"]],\"sequentialminus\":[[0.0,\"#0d0887\"],[0.1111111111111111,\"#46039f\"],[0.2222222222222222,\"#7201a8\"],[0.3333333333333333,\"#9c179e\"],[0.4444444444444444,\"#bd3786\"],[0.5555555555555556,\"#d8576b\"],[0.6666666666666666,\"#ed7953\"],[0.7777777777777778,\"#fb9f3a\"],[0.8888888888888888,\"#fdca26\"],[1.0,\"#f0f921\"]],\"diverging\":[[0,\"#8e0152\"],[0.1,\"#c51b7d\"],[0.2,\"#de77ae\"],[0.3,\"#f1b6da\"],[0.4,\"#fde0ef\"],[0.5,\"#f7f7f7\"],[0.6,\"#e6f5d0\"],[0.7,\"#b8e186\"],[0.8,\"#7fbc41\"],[0.9,\"#4d9221\"],[1,\"#276419\"]]},\"xaxis\":{\"gridcolor\":\"white\",\"linecolor\":\"white\",\"ticks\":\"\",\"title\":{\"standoff\":15},\"zerolinecolor\":\"white\",\"automargin\":true,\"zerolinewidth\":2},\"yaxis\":{\"gridcolor\":\"white\",\"linecolor\":\"white\",\"ticks\":\"\",\"title\":{\"standoff\":15},\"zerolinecolor\":\"white\",\"automargin\":true,\"zerolinewidth\":2},\"scene\":{\"xaxis\":{\"backgroundcolor\":\"#E5ECF6\",\"gridcolor\":\"white\",\"linecolor\":\"white\",\"showbackground\":true,\"ticks\":\"\",\"zerolinecolor\":\"white\",\"gridwidth\":2},\"yaxis\":{\"backgroundcolor\":\"#E5ECF6\",\"gridcolor\":\"white\",\"linecolor\":\"white\",\"showbackground\":true,\"ticks\":\"\",\"zerolinecolor\":\"white\",\"gridwidth\":2},\"zaxis\":{\"backgroundcolor\":\"#E5ECF6\",\"gridcolor\":\"white\",\"linecolor\":\"white\",\"showbackground\":true,\"ticks\":\"\",\"zerolinecolor\":\"white\",\"gridwidth\":2}},\"shapedefaults\":{\"line\":{\"color\":\"#2a3f5f\"}},\"annotationdefaults\":{\"arrowcolor\":\"#2a3f5f\",\"arrowhead\":0,\"arrowwidth\":1},\"geo\":{\"bgcolor\":\"white\",\"landcolor\":\"#E5ECF6\",\"subunitcolor\":\"white\",\"showland\":true,\"showlakes\":true,\"lakecolor\":\"white\"},\"title\":{\"x\":0.05},\"mapbox\":{\"style\":\"light\"}}},\"xaxis\":{\"anchor\":\"y\",\"domain\":[0.0,1.0],\"title\":{\"text\":\"Timestamp\"},\"showgrid\":false},\"yaxis\":{\"anchor\":\"x\",\"domain\":[0.0,1.0],\"title\":{\"text\":\"Stock price\"},\"showgrid\":false},\"legend\":{\"title\":{\"text\":\"Close Price\"},\"tracegroupgap\":0},\"margin\":{\"t\":60},\"title\":{\"text\":\"Compare last 15 days vs next 30 days\"},\"font\":{\"size\":15,\"color\":\"black\"},\"plot_bgcolor\":\"white\"},                        {\"responsive\": true}                    ).then(function(){\n",
              "                            \n",
              "var gd = document.getElementById('e352f8b6-fc88-47e0-866c-2bdeee71e56a');\n",
              "var x = new MutationObserver(function (mutations, observer) {{\n",
              "        var display = window.getComputedStyle(gd).display;\n",
              "        if (!display || display === 'none') {{\n",
              "            console.log([gd, 'removed!']);\n",
              "            Plotly.purge(gd);\n",
              "            observer.disconnect();\n",
              "        }}\n",
              "}});\n",
              "\n",
              "// Listen for the removal of the full notebook cells\n",
              "var notebookContainer = gd.closest('#notebook-container');\n",
              "if (notebookContainer) {{\n",
              "    x.observe(notebookContainer, {childList: true});\n",
              "}}\n",
              "\n",
              "// Listen for the clearing of the current output cell\n",
              "var outputEl = gd.closest('.output');\n",
              "if (outputEl) {{\n",
              "    x.observe(outputEl, {childList: true});\n",
              "}}\n",
              "\n",
              "                        })                };                            </script>        </div>\n",
              "</body>\n",
              "</html>"
            ]
          },
          "metadata": {}
        }
      ]
    },
    {
      "cell_type": "markdown",
      "source": [
        "Plotting entire Closing Stock Price with next 30 days period of prediction\n"
      ],
      "metadata": {
        "id": "ULqCrpIMXIXN"
      }
    },
    {
      "cell_type": "code",
      "source": [
        "lstmdf=df.tolist()\n",
        "lstmdf.extend((np.array(lst_output).reshape(-1,1)).tolist())\n",
        "lstmdf=scaler.inverse_transform(lstmdf).reshape(1,-1).tolist()[0]\n",
        "\n",
        "names = cycle(['Close price'])\n",
        "\n",
        "fig = px.line(lstmdf,labels={'value': 'Stock price','index': 'Timestamp'})\n",
        "fig.update_layout(title_text='Plotting whole closing stock price with prediction',\n",
        "                  plot_bgcolor='white', font_size=15, font_color='black',legend_title_text='Stock')\n",
        "\n",
        "fig.for_each_trace(lambda t:  t.update(name = next(names)))\n",
        "\n",
        "fig.update_xaxes(showgrid=False)\n",
        "fig.update_yaxes(showgrid=False)\n",
        "fig.show()"
      ],
      "metadata": {
        "colab": {
          "base_uri": "https://localhost:8080/",
          "height": 542
        },
        "id": "F0VbdvWqXHN-",
        "outputId": "392736ea-da44-479e-e6d1-a12fa00051dc"
      },
      "execution_count": 64,
      "outputs": [
        {
          "output_type": "display_data",
          "data": {
            "text/html": [
              "<html>\n",
              "<head><meta charset=\"utf-8\" /></head>\n",
              "<body>\n",
              "    <div>            <script src=\"https://cdnjs.cloudflare.com/ajax/libs/mathjax/2.7.5/MathJax.js?config=TeX-AMS-MML_SVG\"></script><script type=\"text/javascript\">if (window.MathJax && window.MathJax.Hub && window.MathJax.Hub.Config) {window.MathJax.Hub.Config({SVG: {font: \"STIX-Web\"}});}</script>                <script type=\"text/javascript\">window.PlotlyConfig = {MathJaxConfig: 'local'};</script>\n",
              "        <script src=\"https://cdn.plot.ly/plotly-2.18.2.min.js\"></script>                <div id=\"3466a703-6c86-43a8-9778-16d6762e2705\" class=\"plotly-graph-div\" style=\"height:525px; width:100%;\"></div>            <script type=\"text/javascript\">                                    window.PLOTLYENV=window.PLOTLYENV || {};                                    if (document.getElementById(\"3466a703-6c86-43a8-9778-16d6762e2705\")) {                    Plotly.newPlot(                        \"3466a703-6c86-43a8-9778-16d6762e2705\",                        [{\"hovertemplate\":\"variable=0<br>Timestamp=%{x}<br>Stock price=%{y}<extra></extra>\",\"legendgroup\":\"0\",\"line\":{\"color\":\"#636efa\",\"dash\":\"solid\"},\"marker\":{\"symbol\":\"circle\"},\"mode\":\"lines\",\"name\":\"Close price\",\"orientation\":\"v\",\"showlegend\":true,\"x\":[0,1,2,3,4,5,6,7,8,9,10,11,12,13,14,15,16,17,18,19,20,21,22,23,24,25,26,27,28,29,30,31,32,33,34,35,36,37,38,39,40,41,42,43,44,45,46,47,48,49,50,51,52,53,54,55,56,57,58,59,60,61,62,63,64,65,66,67,68,69,70,71,72,73,74,75,76,77,78,79,80,81,82,83,84,85,86,87,88,89,90,91,92,93,94,95,96,97,98,99,100,101,102,103,104,105,106,107,108,109,110,111,112,113,114,115,116,117,118,119,120,121,122,123,124,125,126,127,128,129,130,131,132,133,134,135,136,137,138,139,140,141,142,143,144,145,146,147,148,149,150,151,152,153,154,155,156,157,158,159,160,161,162,163,164,165,166,167,168,169,170,171,172,173,174,175,176,177,178,179,180,181,182,183,184,185,186,187,188,189,190,191,192,193,194,195,196,197,198,199,200,201,202,203,204,205,206,207,208,209,210,211,212,213,214,215,216,217,218,219,220,221,222,223,224,225,226,227,228,229,230,231,232,233,234,235,236,237,238,239,240,241,242,243,244,245,246,247,248,249,250,251,252,253,254,255,256,257,258,259,260,261,262,263,264,265,266,267,268,269,270,271,272,273,274,275,276,277,278,279,280,281,282,283,284,285,286,287,288,289,290,291,292,293,294,295,296,297,298,299,300,301,302,303,304,305,306,307,308,309,310,311,312,313,314,315,316,317,318,319,320,321,322,323,324,325,326,327,328,329,330,331,332,333,334,335,336,337,338,339,340,341,342,343,344,345,346,347,348,349,350,351,352,353,354,355,356,357,358,359,360,361,362,363,364,365,366,367,368,369,370,371,372,373,374,375,376,377,378,379,380,381,382,383,384,385,386,387,388,389,390,391,392,393,394],\"xaxis\":\"x\",\"y\":[23947.642578,23957.529297,24402.818359,24424.068359,24319.333984,24136.972656,23883.291016,23335.998047,23212.738281,20877.552734,21166.060547,21534.121094,21398.908203,21528.087891,21395.019531,21600.904297,20260.019531,20041.738281,19616.814453,20297.994141,19796.808594,20049.763672,20127.140625,19969.771484,19832.087891,19986.712891,19812.371094,18837.667969,19290.324219,19329.833984,21381.152344,21680.539063,21769.255859,22370.449219,20296.707031,20241.089844,19701.210938,19772.583984,20127.576172,19419.505859,19544.128906,18890.789063,18547.400391,19413.550781,19297.638672,18937.011719,18802.097656,19222.671875,19110.546875,19426.720703,19573.050781,19431.789063,19312.095703,19044.107422,19623.580078,20336.84375,20160.716797,19955.443359,19546.849609,19416.568359,19446.425781,19141.484375,19051.417969,19157.445313,19382.904297,19185.65625,19067.634766,19268.09375,19550.757813,19334.416016,19139.535156,19053.740234,19172.46875,19208.189453,19567.007813,19345.572266,20095.857422,20770.441406,20285.835938,20595.351563,20818.476563,20635.603516,20495.773438,20485.273438,20159.503906,20209.988281,21147.230469,21282.691406,20926.486328,20602.816406,18541.271484,15880.780273,17586.771484,17034.292969,16799.185547,16353.365234,16618.199219,16884.613281,16669.439453,16687.517578,16697.777344,16711.546875,16291.832031000002,15787.284179999999,16189.769531000002,16610.707031,16604.464844,16521.841797,16464.28125,16444.626953,16217.322266,16444.982422,17168.566406,16967.132813,17088.660156,16908.236328,17130.486328,16974.826172,17089.503906,16848.126953,17233.474609,17133.152344,17128.724609,17104.193359,17206.4375,17781.318359,17815.650391,17364.865234,16647.484375,16795.091797,16757.976563,16439.679688,16906.304688,16817.535156,16830.341797,16796.953125,16847.755859,16841.986328,16919.804688,16717.173828,16552.572266,16642.341797,16602.585938,16547.496094,16625.080078,16688.470703,16679.857422,16863.238281,16836.736328,16951.96875,16955.078125,17091.144531,17196.554688,17446.292969,17934.896484,18869.587891,19909.574219,20976.298828,20880.798828,21169.632813,21161.519531,20688.78125,21086.792969,22676.552734,22777.625,22720.416016,22934.431641,22636.46875,23117.859375,23032.777344,23078.728516,23031.089844,23774.566406,22840.138672,23139.283203,23723.769531,23471.871094,23449.322266,23331.847656,22955.666016,22760.109375,23264.291016,22939.398438,21819.039063,21651.183594,21870.875,21788.203125,21808.101563,22220.804688,24307.841797,23623.474609,24565.601563,24641.277344,24327.642578,24829.148438,24436.353516,24188.84375,23947.492188,23198.126953,23175.375,23561.212891,23522.871094,23147.353516,23646.550781,23475.466797,22362.679688,22353.349609,22435.513672,22429.757813,22219.769531,21718.080078,20363.021484,20187.244141,20632.410156,22163.949219,24197.533203,24746.074219,24375.960938,25052.789063,27423.929688,26965.878906,28038.675781,27767.236328,28175.816406,27307.4375,28333.972656,27493.285156,27494.707031,27994.330078,27139.888672,27268.130859,28348.441406,28033.5625,28478.484375,28411.035156,28199.308594,27790.220703,28168.089844,28177.984375,28044.140625,27925.859375,27947.794922,28333.050781,29652.980469,30235.058594,30139.052734,30399.066406,30485.699219,30318.496094,30315.355469,29445.044922,30397.552734,28822.679688,28245.988281,27276.910156,27817.5,27591.384766,27525.339844,28307.597656,28422.701172,29473.787109,29340.261719,29248.488281,29268.806641,28091.568359,28680.537109,29006.308594,28847.710938,29534.384766,28904.623047,28454.978516,27694.273438,27658.775391,27621.755859,27000.789063,26804.990234,26784.078125,26930.638672,27192.693359,27036.650391,27398.802734,26832.208984,26890.128906,27129.585938,26753.826172,26851.277344,27225.726563,26334.818359,26476.207031,26719.291016,26868.353516,28085.646484,27745.884766,27702.349609,27219.658203,26819.972656,27249.589844,27075.128906,27119.066406,25760.097656,27238.783203,26345.998047,26508.216797,26480.375,25851.240234,25940.167969,25902.5,25918.728516,25124.675781,25576.394531,26327.462891,26510.675781,26336.212891,26851.029297,28327.488281,30027.296875,29912.28125,30695.46875,30548.695313,30480.261719,30271.130859,30688.164063,30086.246094,30445.351563,30477.251953,30590.078125,30620.769531,31156.439453,30777.582031,30514.166016,29909.337891,30342.265625,30292.541016,30171.234375,30414.470703,30620.951172,30391.646484,31476.048827999995,30334.068359,30295.806641,30249.132813,30145.888672,29856.5625,29913.923828,29792.015625,29908.744141,29771.802734,30084.539063,29176.916016,29227.390625,29354.972656,29210.689453,29319.246094,29356.917969,29275.308594,29230.111328,29675.732422,29151.958984,29178.679688,29074.091797,29042.126953,29041.855469,29180.578125,29765.492188,29480.964844,27885.85353612617,27312.162907035457,26664.70040524067,25930.98400568345,25106.251125683084,24181.99027347442,23154.129454892296,22115.15843705048,21069.78416279668,20103.652232223238,19208.9001290962,18397.418880583846,17687.185880377183,17090.905595976183,16632.330976006433,16275.525877105594,15967.459167891255,15721.711818568858,15538.463080575204,15405.238292947475,15316.798427712236,15259.884956847549,15236.35877560859,15234.91494532015,15243.64058030813,15265.794468186798,15298.188423146792,15332.701016706042,15372.681860323868,15416.694487807377],\"yaxis\":\"y\",\"type\":\"scatter\"}],                        {\"template\":{\"data\":{\"histogram2dcontour\":[{\"type\":\"histogram2dcontour\",\"colorbar\":{\"outlinewidth\":0,\"ticks\":\"\"},\"colorscale\":[[0.0,\"#0d0887\"],[0.1111111111111111,\"#46039f\"],[0.2222222222222222,\"#7201a8\"],[0.3333333333333333,\"#9c179e\"],[0.4444444444444444,\"#bd3786\"],[0.5555555555555556,\"#d8576b\"],[0.6666666666666666,\"#ed7953\"],[0.7777777777777778,\"#fb9f3a\"],[0.8888888888888888,\"#fdca26\"],[1.0,\"#f0f921\"]]}],\"choropleth\":[{\"type\":\"choropleth\",\"colorbar\":{\"outlinewidth\":0,\"ticks\":\"\"}}],\"histogram2d\":[{\"type\":\"histogram2d\",\"colorbar\":{\"outlinewidth\":0,\"ticks\":\"\"},\"colorscale\":[[0.0,\"#0d0887\"],[0.1111111111111111,\"#46039f\"],[0.2222222222222222,\"#7201a8\"],[0.3333333333333333,\"#9c179e\"],[0.4444444444444444,\"#bd3786\"],[0.5555555555555556,\"#d8576b\"],[0.6666666666666666,\"#ed7953\"],[0.7777777777777778,\"#fb9f3a\"],[0.8888888888888888,\"#fdca26\"],[1.0,\"#f0f921\"]]}],\"heatmap\":[{\"type\":\"heatmap\",\"colorbar\":{\"outlinewidth\":0,\"ticks\":\"\"},\"colorscale\":[[0.0,\"#0d0887\"],[0.1111111111111111,\"#46039f\"],[0.2222222222222222,\"#7201a8\"],[0.3333333333333333,\"#9c179e\"],[0.4444444444444444,\"#bd3786\"],[0.5555555555555556,\"#d8576b\"],[0.6666666666666666,\"#ed7953\"],[0.7777777777777778,\"#fb9f3a\"],[0.8888888888888888,\"#fdca26\"],[1.0,\"#f0f921\"]]}],\"heatmapgl\":[{\"type\":\"heatmapgl\",\"colorbar\":{\"outlinewidth\":0,\"ticks\":\"\"},\"colorscale\":[[0.0,\"#0d0887\"],[0.1111111111111111,\"#46039f\"],[0.2222222222222222,\"#7201a8\"],[0.3333333333333333,\"#9c179e\"],[0.4444444444444444,\"#bd3786\"],[0.5555555555555556,\"#d8576b\"],[0.6666666666666666,\"#ed7953\"],[0.7777777777777778,\"#fb9f3a\"],[0.8888888888888888,\"#fdca26\"],[1.0,\"#f0f921\"]]}],\"contourcarpet\":[{\"type\":\"contourcarpet\",\"colorbar\":{\"outlinewidth\":0,\"ticks\":\"\"}}],\"contour\":[{\"type\":\"contour\",\"colorbar\":{\"outlinewidth\":0,\"ticks\":\"\"},\"colorscale\":[[0.0,\"#0d0887\"],[0.1111111111111111,\"#46039f\"],[0.2222222222222222,\"#7201a8\"],[0.3333333333333333,\"#9c179e\"],[0.4444444444444444,\"#bd3786\"],[0.5555555555555556,\"#d8576b\"],[0.6666666666666666,\"#ed7953\"],[0.7777777777777778,\"#fb9f3a\"],[0.8888888888888888,\"#fdca26\"],[1.0,\"#f0f921\"]]}],\"surface\":[{\"type\":\"surface\",\"colorbar\":{\"outlinewidth\":0,\"ticks\":\"\"},\"colorscale\":[[0.0,\"#0d0887\"],[0.1111111111111111,\"#46039f\"],[0.2222222222222222,\"#7201a8\"],[0.3333333333333333,\"#9c179e\"],[0.4444444444444444,\"#bd3786\"],[0.5555555555555556,\"#d8576b\"],[0.6666666666666666,\"#ed7953\"],[0.7777777777777778,\"#fb9f3a\"],[0.8888888888888888,\"#fdca26\"],[1.0,\"#f0f921\"]]}],\"mesh3d\":[{\"type\":\"mesh3d\",\"colorbar\":{\"outlinewidth\":0,\"ticks\":\"\"}}],\"scatter\":[{\"fillpattern\":{\"fillmode\":\"overlay\",\"size\":10,\"solidity\":0.2},\"type\":\"scatter\"}],\"parcoords\":[{\"type\":\"parcoords\",\"line\":{\"colorbar\":{\"outlinewidth\":0,\"ticks\":\"\"}}}],\"scatterpolargl\":[{\"type\":\"scatterpolargl\",\"marker\":{\"colorbar\":{\"outlinewidth\":0,\"ticks\":\"\"}}}],\"bar\":[{\"error_x\":{\"color\":\"#2a3f5f\"},\"error_y\":{\"color\":\"#2a3f5f\"},\"marker\":{\"line\":{\"color\":\"#E5ECF6\",\"width\":0.5},\"pattern\":{\"fillmode\":\"overlay\",\"size\":10,\"solidity\":0.2}},\"type\":\"bar\"}],\"scattergeo\":[{\"type\":\"scattergeo\",\"marker\":{\"colorbar\":{\"outlinewidth\":0,\"ticks\":\"\"}}}],\"scatterpolar\":[{\"type\":\"scatterpolar\",\"marker\":{\"colorbar\":{\"outlinewidth\":0,\"ticks\":\"\"}}}],\"histogram\":[{\"marker\":{\"pattern\":{\"fillmode\":\"overlay\",\"size\":10,\"solidity\":0.2}},\"type\":\"histogram\"}],\"scattergl\":[{\"type\":\"scattergl\",\"marker\":{\"colorbar\":{\"outlinewidth\":0,\"ticks\":\"\"}}}],\"scatter3d\":[{\"type\":\"scatter3d\",\"line\":{\"colorbar\":{\"outlinewidth\":0,\"ticks\":\"\"}},\"marker\":{\"colorbar\":{\"outlinewidth\":0,\"ticks\":\"\"}}}],\"scattermapbox\":[{\"type\":\"scattermapbox\",\"marker\":{\"colorbar\":{\"outlinewidth\":0,\"ticks\":\"\"}}}],\"scatterternary\":[{\"type\":\"scatterternary\",\"marker\":{\"colorbar\":{\"outlinewidth\":0,\"ticks\":\"\"}}}],\"scattercarpet\":[{\"type\":\"scattercarpet\",\"marker\":{\"colorbar\":{\"outlinewidth\":0,\"ticks\":\"\"}}}],\"carpet\":[{\"aaxis\":{\"endlinecolor\":\"#2a3f5f\",\"gridcolor\":\"white\",\"linecolor\":\"white\",\"minorgridcolor\":\"white\",\"startlinecolor\":\"#2a3f5f\"},\"baxis\":{\"endlinecolor\":\"#2a3f5f\",\"gridcolor\":\"white\",\"linecolor\":\"white\",\"minorgridcolor\":\"white\",\"startlinecolor\":\"#2a3f5f\"},\"type\":\"carpet\"}],\"table\":[{\"cells\":{\"fill\":{\"color\":\"#EBF0F8\"},\"line\":{\"color\":\"white\"}},\"header\":{\"fill\":{\"color\":\"#C8D4E3\"},\"line\":{\"color\":\"white\"}},\"type\":\"table\"}],\"barpolar\":[{\"marker\":{\"line\":{\"color\":\"#E5ECF6\",\"width\":0.5},\"pattern\":{\"fillmode\":\"overlay\",\"size\":10,\"solidity\":0.2}},\"type\":\"barpolar\"}],\"pie\":[{\"automargin\":true,\"type\":\"pie\"}]},\"layout\":{\"autotypenumbers\":\"strict\",\"colorway\":[\"#636efa\",\"#EF553B\",\"#00cc96\",\"#ab63fa\",\"#FFA15A\",\"#19d3f3\",\"#FF6692\",\"#B6E880\",\"#FF97FF\",\"#FECB52\"],\"font\":{\"color\":\"#2a3f5f\"},\"hovermode\":\"closest\",\"hoverlabel\":{\"align\":\"left\"},\"paper_bgcolor\":\"white\",\"plot_bgcolor\":\"#E5ECF6\",\"polar\":{\"bgcolor\":\"#E5ECF6\",\"angularaxis\":{\"gridcolor\":\"white\",\"linecolor\":\"white\",\"ticks\":\"\"},\"radialaxis\":{\"gridcolor\":\"white\",\"linecolor\":\"white\",\"ticks\":\"\"}},\"ternary\":{\"bgcolor\":\"#E5ECF6\",\"aaxis\":{\"gridcolor\":\"white\",\"linecolor\":\"white\",\"ticks\":\"\"},\"baxis\":{\"gridcolor\":\"white\",\"linecolor\":\"white\",\"ticks\":\"\"},\"caxis\":{\"gridcolor\":\"white\",\"linecolor\":\"white\",\"ticks\":\"\"}},\"coloraxis\":{\"colorbar\":{\"outlinewidth\":0,\"ticks\":\"\"}},\"colorscale\":{\"sequential\":[[0.0,\"#0d0887\"],[0.1111111111111111,\"#46039f\"],[0.2222222222222222,\"#7201a8\"],[0.3333333333333333,\"#9c179e\"],[0.4444444444444444,\"#bd3786\"],[0.5555555555555556,\"#d8576b\"],[0.6666666666666666,\"#ed7953\"],[0.7777777777777778,\"#fb9f3a\"],[0.8888888888888888,\"#fdca26\"],[1.0,\"#f0f921\"]],\"sequentialminus\":[[0.0,\"#0d0887\"],[0.1111111111111111,\"#46039f\"],[0.2222222222222222,\"#7201a8\"],[0.3333333333333333,\"#9c179e\"],[0.4444444444444444,\"#bd3786\"],[0.5555555555555556,\"#d8576b\"],[0.6666666666666666,\"#ed7953\"],[0.7777777777777778,\"#fb9f3a\"],[0.8888888888888888,\"#fdca26\"],[1.0,\"#f0f921\"]],\"diverging\":[[0,\"#8e0152\"],[0.1,\"#c51b7d\"],[0.2,\"#de77ae\"],[0.3,\"#f1b6da\"],[0.4,\"#fde0ef\"],[0.5,\"#f7f7f7\"],[0.6,\"#e6f5d0\"],[0.7,\"#b8e186\"],[0.8,\"#7fbc41\"],[0.9,\"#4d9221\"],[1,\"#276419\"]]},\"xaxis\":{\"gridcolor\":\"white\",\"linecolor\":\"white\",\"ticks\":\"\",\"title\":{\"standoff\":15},\"zerolinecolor\":\"white\",\"automargin\":true,\"zerolinewidth\":2},\"yaxis\":{\"gridcolor\":\"white\",\"linecolor\":\"white\",\"ticks\":\"\",\"title\":{\"standoff\":15},\"zerolinecolor\":\"white\",\"automargin\":true,\"zerolinewidth\":2},\"scene\":{\"xaxis\":{\"backgroundcolor\":\"#E5ECF6\",\"gridcolor\":\"white\",\"linecolor\":\"white\",\"showbackground\":true,\"ticks\":\"\",\"zerolinecolor\":\"white\",\"gridwidth\":2},\"yaxis\":{\"backgroundcolor\":\"#E5ECF6\",\"gridcolor\":\"white\",\"linecolor\":\"white\",\"showbackground\":true,\"ticks\":\"\",\"zerolinecolor\":\"white\",\"gridwidth\":2},\"zaxis\":{\"backgroundcolor\":\"#E5ECF6\",\"gridcolor\":\"white\",\"linecolor\":\"white\",\"showbackground\":true,\"ticks\":\"\",\"zerolinecolor\":\"white\",\"gridwidth\":2}},\"shapedefaults\":{\"line\":{\"color\":\"#2a3f5f\"}},\"annotationdefaults\":{\"arrowcolor\":\"#2a3f5f\",\"arrowhead\":0,\"arrowwidth\":1},\"geo\":{\"bgcolor\":\"white\",\"landcolor\":\"#E5ECF6\",\"subunitcolor\":\"white\",\"showland\":true,\"showlakes\":true,\"lakecolor\":\"white\"},\"title\":{\"x\":0.05},\"mapbox\":{\"style\":\"light\"}}},\"xaxis\":{\"anchor\":\"y\",\"domain\":[0.0,1.0],\"title\":{\"text\":\"Timestamp\"},\"showgrid\":false},\"yaxis\":{\"anchor\":\"x\",\"domain\":[0.0,1.0],\"title\":{\"text\":\"Stock price\"},\"showgrid\":false},\"legend\":{\"title\":{\"text\":\"Stock\"},\"tracegroupgap\":0},\"margin\":{\"t\":60},\"title\":{\"text\":\"Plotting whole closing stock price with prediction\"},\"font\":{\"size\":15,\"color\":\"black\"},\"plot_bgcolor\":\"white\"},                        {\"responsive\": true}                    ).then(function(){\n",
              "                            \n",
              "var gd = document.getElementById('3466a703-6c86-43a8-9778-16d6762e2705');\n",
              "var x = new MutationObserver(function (mutations, observer) {{\n",
              "        var display = window.getComputedStyle(gd).display;\n",
              "        if (!display || display === 'none') {{\n",
              "            console.log([gd, 'removed!']);\n",
              "            Plotly.purge(gd);\n",
              "            observer.disconnect();\n",
              "        }}\n",
              "}});\n",
              "\n",
              "// Listen for the removal of the full notebook cells\n",
              "var notebookContainer = gd.closest('#notebook-container');\n",
              "if (notebookContainer) {{\n",
              "    x.observe(notebookContainer, {childList: true});\n",
              "}}\n",
              "\n",
              "// Listen for the clearing of the current output cell\n",
              "var outputEl = gd.closest('.output');\n",
              "if (outputEl) {{\n",
              "    x.observe(outputEl, {childList: true});\n",
              "}}\n",
              "\n",
              "                        })                };                            </script>        </div>\n",
              "</body>\n",
              "</html>"
            ]
          },
          "metadata": {}
        }
      ]
    },
    {
      "cell_type": "code",
      "source": [],
      "metadata": {
        "id": "2Z5BzFwkeTNe"
      },
      "execution_count": null,
      "outputs": []
    }
  ]
}