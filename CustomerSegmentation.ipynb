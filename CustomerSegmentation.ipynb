{
  "nbformat": 4,
  "nbformat_minor": 0,
  "metadata": {
    "colab": {
      "provenance": [],
      "authorship_tag": "ABX9TyOYGRoPG7nuLZy9kgXM6wlN",
      "include_colab_link": true
    },
    "kernelspec": {
      "name": "python3",
      "display_name": "Python 3"
    },
    "language_info": {
      "name": "python"
    }
  },
  "cells": [
    {
      "cell_type": "markdown",
      "metadata": {
        "id": "view-in-github",
        "colab_type": "text"
      },
      "source": [
        "<a href=\"https://colab.research.google.com/github/DarkLord-13/Machine-Learning-01/blob/main/CustomerSegmentation.ipynb\" target=\"_parent\"><img src=\"https://colab.research.google.com/assets/colab-badge.svg\" alt=\"Open In Colab\"/></a>"
      ]
    },
    {
      "cell_type": "markdown",
      "source": [
        "**UNSUPERVISED** learning model -> clustering\n",
        "\n",
        "**SUPERVISED** learning models -> classification and regression"
      ],
      "metadata": {
        "id": "Ua7jQGHPfL1l"
      }
    },
    {
      "cell_type": "markdown",
      "source": [
        "**Problem Statement:**\n",
        "\n",
        "We are given dataset of customers shopping in mall, our job is to group the customers in k groups based on certain aspects to help make the mall informed and targetted business decisions.*italicized text*"
      ],
      "metadata": {
        "id": "WRYj5iire7fe"
      }
    },
    {
      "cell_type": "markdown",
      "source": [
        "**Workflow:**\n",
        "\n",
        "data -> data pre-processing -> data analysis -> wcss ![image.png](data:image/png;base64,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) (to find the no. of suitable clusters) -> K-Means Clustering -> Visualizing the clusters"
      ],
      "metadata": {
        "id": "ENrAVSSXggNW"
      }
    },
    {
      "cell_type": "markdown",
      "source": [
        "-> first centroid is plotted randomly\n",
        "\n",
        "-> then datapoints are plotted and centroid is shifted accordingly to be the    midpoint of the datapoints\n",
        "\n",
        "-> this process continues till centroid of each cluster is plotted accurately"
      ],
      "metadata": {
        "id": "JFHKfeWFDPQg"
      }
    },
    {
      "cell_type": "code",
      "execution_count": 18,
      "metadata": {
        "id": "_Hi9EBNCetBN"
      },
      "outputs": [],
      "source": [
        "# Importing the dependencies\n",
        "import numpy as np\n",
        "import pandas as pd\n",
        "import matplotlib.pyplot as plt\n",
        "import seaborn as sns\n",
        "from sklearn.cluster import KMeans"
      ]
    },
    {
      "cell_type": "markdown",
      "source": [
        "Data Collection and Analysis"
      ],
      "metadata": {
        "id": "k37z9sTdii-r"
      }
    },
    {
      "cell_type": "code",
      "source": [
        "dataset = pd.read_csv('/content/Mall_Customers.csv')"
      ],
      "metadata": {
        "id": "9Q41pAT6ihkL"
      },
      "execution_count": 19,
      "outputs": []
    },
    {
      "cell_type": "code",
      "source": [
        "dataset.head()"
      ],
      "metadata": {
        "colab": {
          "base_uri": "https://localhost:8080/",
          "height": 206
        },
        "id": "2dDnOAKqjfCC",
        "outputId": "6bb0eb88-ef8e-4e38-f4f6-4aeb3ce28270"
      },
      "execution_count": 20,
      "outputs": [
        {
          "output_type": "execute_result",
          "data": {
            "text/plain": [
              "   CustomerID  Gender  Age  Annual Income (k$)  Spending Score (1-100)\n",
              "0           1    Male   19                  15                      39\n",
              "1           2    Male   21                  15                      81\n",
              "2           3  Female   20                  16                       6\n",
              "3           4  Female   23                  16                      77\n",
              "4           5  Female   31                  17                      40"
            ],
            "text/html": [
              "\n",
              "  <div id=\"df-96b886f3-4839-425e-a673-dd18c0a38478\">\n",
              "    <div class=\"colab-df-container\">\n",
              "      <div>\n",
              "<style scoped>\n",
              "    .dataframe tbody tr th:only-of-type {\n",
              "        vertical-align: middle;\n",
              "    }\n",
              "\n",
              "    .dataframe tbody tr th {\n",
              "        vertical-align: top;\n",
              "    }\n",
              "\n",
              "    .dataframe thead th {\n",
              "        text-align: right;\n",
              "    }\n",
              "</style>\n",
              "<table border=\"1\" class=\"dataframe\">\n",
              "  <thead>\n",
              "    <tr style=\"text-align: right;\">\n",
              "      <th></th>\n",
              "      <th>CustomerID</th>\n",
              "      <th>Gender</th>\n",
              "      <th>Age</th>\n",
              "      <th>Annual Income (k$)</th>\n",
              "      <th>Spending Score (1-100)</th>\n",
              "    </tr>\n",
              "  </thead>\n",
              "  <tbody>\n",
              "    <tr>\n",
              "      <th>0</th>\n",
              "      <td>1</td>\n",
              "      <td>Male</td>\n",
              "      <td>19</td>\n",
              "      <td>15</td>\n",
              "      <td>39</td>\n",
              "    </tr>\n",
              "    <tr>\n",
              "      <th>1</th>\n",
              "      <td>2</td>\n",
              "      <td>Male</td>\n",
              "      <td>21</td>\n",
              "      <td>15</td>\n",
              "      <td>81</td>\n",
              "    </tr>\n",
              "    <tr>\n",
              "      <th>2</th>\n",
              "      <td>3</td>\n",
              "      <td>Female</td>\n",
              "      <td>20</td>\n",
              "      <td>16</td>\n",
              "      <td>6</td>\n",
              "    </tr>\n",
              "    <tr>\n",
              "      <th>3</th>\n",
              "      <td>4</td>\n",
              "      <td>Female</td>\n",
              "      <td>23</td>\n",
              "      <td>16</td>\n",
              "      <td>77</td>\n",
              "    </tr>\n",
              "    <tr>\n",
              "      <th>4</th>\n",
              "      <td>5</td>\n",
              "      <td>Female</td>\n",
              "      <td>31</td>\n",
              "      <td>17</td>\n",
              "      <td>40</td>\n",
              "    </tr>\n",
              "  </tbody>\n",
              "</table>\n",
              "</div>\n",
              "      <button class=\"colab-df-convert\" onclick=\"convertToInteractive('df-96b886f3-4839-425e-a673-dd18c0a38478')\"\n",
              "              title=\"Convert this dataframe to an interactive table.\"\n",
              "              style=\"display:none;\">\n",
              "        \n",
              "  <svg xmlns=\"http://www.w3.org/2000/svg\" height=\"24px\"viewBox=\"0 0 24 24\"\n",
              "       width=\"24px\">\n",
              "    <path d=\"M0 0h24v24H0V0z\" fill=\"none\"/>\n",
              "    <path d=\"M18.56 5.44l.94 2.06.94-2.06 2.06-.94-2.06-.94-.94-2.06-.94 2.06-2.06.94zm-11 1L8.5 8.5l.94-2.06 2.06-.94-2.06-.94L8.5 2.5l-.94 2.06-2.06.94zm10 10l.94 2.06.94-2.06 2.06-.94-2.06-.94-.94-2.06-.94 2.06-2.06.94z\"/><path d=\"M17.41 7.96l-1.37-1.37c-.4-.4-.92-.59-1.43-.59-.52 0-1.04.2-1.43.59L10.3 9.45l-7.72 7.72c-.78.78-.78 2.05 0 2.83L4 21.41c.39.39.9.59 1.41.59.51 0 1.02-.2 1.41-.59l7.78-7.78 2.81-2.81c.8-.78.8-2.07 0-2.86zM5.41 20L4 18.59l7.72-7.72 1.47 1.35L5.41 20z\"/>\n",
              "  </svg>\n",
              "      </button>\n",
              "      \n",
              "  <style>\n",
              "    .colab-df-container {\n",
              "      display:flex;\n",
              "      flex-wrap:wrap;\n",
              "      gap: 12px;\n",
              "    }\n",
              "\n",
              "    .colab-df-convert {\n",
              "      background-color: #E8F0FE;\n",
              "      border: none;\n",
              "      border-radius: 50%;\n",
              "      cursor: pointer;\n",
              "      display: none;\n",
              "      fill: #1967D2;\n",
              "      height: 32px;\n",
              "      padding: 0 0 0 0;\n",
              "      width: 32px;\n",
              "    }\n",
              "\n",
              "    .colab-df-convert:hover {\n",
              "      background-color: #E2EBFA;\n",
              "      box-shadow: 0px 1px 2px rgba(60, 64, 67, 0.3), 0px 1px 3px 1px rgba(60, 64, 67, 0.15);\n",
              "      fill: #174EA6;\n",
              "    }\n",
              "\n",
              "    [theme=dark] .colab-df-convert {\n",
              "      background-color: #3B4455;\n",
              "      fill: #D2E3FC;\n",
              "    }\n",
              "\n",
              "    [theme=dark] .colab-df-convert:hover {\n",
              "      background-color: #434B5C;\n",
              "      box-shadow: 0px 1px 3px 1px rgba(0, 0, 0, 0.15);\n",
              "      filter: drop-shadow(0px 1px 2px rgba(0, 0, 0, 0.3));\n",
              "      fill: #FFFFFF;\n",
              "    }\n",
              "  </style>\n",
              "\n",
              "      <script>\n",
              "        const buttonEl =\n",
              "          document.querySelector('#df-96b886f3-4839-425e-a673-dd18c0a38478 button.colab-df-convert');\n",
              "        buttonEl.style.display =\n",
              "          google.colab.kernel.accessAllowed ? 'block' : 'none';\n",
              "\n",
              "        async function convertToInteractive(key) {\n",
              "          const element = document.querySelector('#df-96b886f3-4839-425e-a673-dd18c0a38478');\n",
              "          const dataTable =\n",
              "            await google.colab.kernel.invokeFunction('convertToInteractive',\n",
              "                                                     [key], {});\n",
              "          if (!dataTable) return;\n",
              "\n",
              "          const docLinkHtml = 'Like what you see? Visit the ' +\n",
              "            '<a target=\"_blank\" href=https://colab.research.google.com/notebooks/data_table.ipynb>data table notebook</a>'\n",
              "            + ' to learn more about interactive tables.';\n",
              "          element.innerHTML = '';\n",
              "          dataTable['output_type'] = 'display_data';\n",
              "          await google.colab.output.renderOutput(dataTable, element);\n",
              "          const docLink = document.createElement('div');\n",
              "          docLink.innerHTML = docLinkHtml;\n",
              "          element.appendChild(docLink);\n",
              "        }\n",
              "      </script>\n",
              "    </div>\n",
              "  </div>\n",
              "  "
            ]
          },
          "metadata": {},
          "execution_count": 20
        }
      ]
    },
    {
      "cell_type": "code",
      "source": [
        "dataset.shape"
      ],
      "metadata": {
        "colab": {
          "base_uri": "https://localhost:8080/"
        },
        "id": "IMOef5V8jiyI",
        "outputId": "c683af0c-9c9f-4456-c970-97e953c580a9"
      },
      "execution_count": 21,
      "outputs": [
        {
          "output_type": "execute_result",
          "data": {
            "text/plain": [
              "(200, 5)"
            ]
          },
          "metadata": {},
          "execution_count": 21
        }
      ]
    },
    {
      "cell_type": "code",
      "source": [
        "dataset.info()"
      ],
      "metadata": {
        "colab": {
          "base_uri": "https://localhost:8080/"
        },
        "id": "-RNc0Qd9lBrX",
        "outputId": "ae352ef4-47a7-4394-d673-6ec8a8d6e18d"
      },
      "execution_count": 22,
      "outputs": [
        {
          "output_type": "stream",
          "name": "stdout",
          "text": [
            "<class 'pandas.core.frame.DataFrame'>\n",
            "RangeIndex: 200 entries, 0 to 199\n",
            "Data columns (total 5 columns):\n",
            " #   Column                  Non-Null Count  Dtype \n",
            "---  ------                  --------------  ----- \n",
            " 0   CustomerID              200 non-null    int64 \n",
            " 1   Gender                  200 non-null    object\n",
            " 2   Age                     200 non-null    int64 \n",
            " 3   Annual Income (k$)      200 non-null    int64 \n",
            " 4   Spending Score (1-100)  200 non-null    int64 \n",
            "dtypes: int64(4), object(1)\n",
            "memory usage: 7.9+ KB\n"
          ]
        }
      ]
    },
    {
      "cell_type": "code",
      "source": [
        "dataset.describe()"
      ],
      "metadata": {
        "colab": {
          "base_uri": "https://localhost:8080/",
          "height": 300
        },
        "id": "CNC8nPs6lDwv",
        "outputId": "15b61b05-2a30-4951-eefc-a2c7344026fb"
      },
      "execution_count": 23,
      "outputs": [
        {
          "output_type": "execute_result",
          "data": {
            "text/plain": [
              "       CustomerID         Age  Annual Income (k$)  Spending Score (1-100)\n",
              "count  200.000000  200.000000          200.000000              200.000000\n",
              "mean   100.500000   38.850000           60.560000               50.200000\n",
              "std     57.879185   13.969007           26.264721               25.823522\n",
              "min      1.000000   18.000000           15.000000                1.000000\n",
              "25%     50.750000   28.750000           41.500000               34.750000\n",
              "50%    100.500000   36.000000           61.500000               50.000000\n",
              "75%    150.250000   49.000000           78.000000               73.000000\n",
              "max    200.000000   70.000000          137.000000               99.000000"
            ],
            "text/html": [
              "\n",
              "  <div id=\"df-74f8dbe5-f2c9-423e-9a49-1bd9c3bc649b\">\n",
              "    <div class=\"colab-df-container\">\n",
              "      <div>\n",
              "<style scoped>\n",
              "    .dataframe tbody tr th:only-of-type {\n",
              "        vertical-align: middle;\n",
              "    }\n",
              "\n",
              "    .dataframe tbody tr th {\n",
              "        vertical-align: top;\n",
              "    }\n",
              "\n",
              "    .dataframe thead th {\n",
              "        text-align: right;\n",
              "    }\n",
              "</style>\n",
              "<table border=\"1\" class=\"dataframe\">\n",
              "  <thead>\n",
              "    <tr style=\"text-align: right;\">\n",
              "      <th></th>\n",
              "      <th>CustomerID</th>\n",
              "      <th>Age</th>\n",
              "      <th>Annual Income (k$)</th>\n",
              "      <th>Spending Score (1-100)</th>\n",
              "    </tr>\n",
              "  </thead>\n",
              "  <tbody>\n",
              "    <tr>\n",
              "      <th>count</th>\n",
              "      <td>200.000000</td>\n",
              "      <td>200.000000</td>\n",
              "      <td>200.000000</td>\n",
              "      <td>200.000000</td>\n",
              "    </tr>\n",
              "    <tr>\n",
              "      <th>mean</th>\n",
              "      <td>100.500000</td>\n",
              "      <td>38.850000</td>\n",
              "      <td>60.560000</td>\n",
              "      <td>50.200000</td>\n",
              "    </tr>\n",
              "    <tr>\n",
              "      <th>std</th>\n",
              "      <td>57.879185</td>\n",
              "      <td>13.969007</td>\n",
              "      <td>26.264721</td>\n",
              "      <td>25.823522</td>\n",
              "    </tr>\n",
              "    <tr>\n",
              "      <th>min</th>\n",
              "      <td>1.000000</td>\n",
              "      <td>18.000000</td>\n",
              "      <td>15.000000</td>\n",
              "      <td>1.000000</td>\n",
              "    </tr>\n",
              "    <tr>\n",
              "      <th>25%</th>\n",
              "      <td>50.750000</td>\n",
              "      <td>28.750000</td>\n",
              "      <td>41.500000</td>\n",
              "      <td>34.750000</td>\n",
              "    </tr>\n",
              "    <tr>\n",
              "      <th>50%</th>\n",
              "      <td>100.500000</td>\n",
              "      <td>36.000000</td>\n",
              "      <td>61.500000</td>\n",
              "      <td>50.000000</td>\n",
              "    </tr>\n",
              "    <tr>\n",
              "      <th>75%</th>\n",
              "      <td>150.250000</td>\n",
              "      <td>49.000000</td>\n",
              "      <td>78.000000</td>\n",
              "      <td>73.000000</td>\n",
              "    </tr>\n",
              "    <tr>\n",
              "      <th>max</th>\n",
              "      <td>200.000000</td>\n",
              "      <td>70.000000</td>\n",
              "      <td>137.000000</td>\n",
              "      <td>99.000000</td>\n",
              "    </tr>\n",
              "  </tbody>\n",
              "</table>\n",
              "</div>\n",
              "      <button class=\"colab-df-convert\" onclick=\"convertToInteractive('df-74f8dbe5-f2c9-423e-9a49-1bd9c3bc649b')\"\n",
              "              title=\"Convert this dataframe to an interactive table.\"\n",
              "              style=\"display:none;\">\n",
              "        \n",
              "  <svg xmlns=\"http://www.w3.org/2000/svg\" height=\"24px\"viewBox=\"0 0 24 24\"\n",
              "       width=\"24px\">\n",
              "    <path d=\"M0 0h24v24H0V0z\" fill=\"none\"/>\n",
              "    <path d=\"M18.56 5.44l.94 2.06.94-2.06 2.06-.94-2.06-.94-.94-2.06-.94 2.06-2.06.94zm-11 1L8.5 8.5l.94-2.06 2.06-.94-2.06-.94L8.5 2.5l-.94 2.06-2.06.94zm10 10l.94 2.06.94-2.06 2.06-.94-2.06-.94-.94-2.06-.94 2.06-2.06.94z\"/><path d=\"M17.41 7.96l-1.37-1.37c-.4-.4-.92-.59-1.43-.59-.52 0-1.04.2-1.43.59L10.3 9.45l-7.72 7.72c-.78.78-.78 2.05 0 2.83L4 21.41c.39.39.9.59 1.41.59.51 0 1.02-.2 1.41-.59l7.78-7.78 2.81-2.81c.8-.78.8-2.07 0-2.86zM5.41 20L4 18.59l7.72-7.72 1.47 1.35L5.41 20z\"/>\n",
              "  </svg>\n",
              "      </button>\n",
              "      \n",
              "  <style>\n",
              "    .colab-df-container {\n",
              "      display:flex;\n",
              "      flex-wrap:wrap;\n",
              "      gap: 12px;\n",
              "    }\n",
              "\n",
              "    .colab-df-convert {\n",
              "      background-color: #E8F0FE;\n",
              "      border: none;\n",
              "      border-radius: 50%;\n",
              "      cursor: pointer;\n",
              "      display: none;\n",
              "      fill: #1967D2;\n",
              "      height: 32px;\n",
              "      padding: 0 0 0 0;\n",
              "      width: 32px;\n",
              "    }\n",
              "\n",
              "    .colab-df-convert:hover {\n",
              "      background-color: #E2EBFA;\n",
              "      box-shadow: 0px 1px 2px rgba(60, 64, 67, 0.3), 0px 1px 3px 1px rgba(60, 64, 67, 0.15);\n",
              "      fill: #174EA6;\n",
              "    }\n",
              "\n",
              "    [theme=dark] .colab-df-convert {\n",
              "      background-color: #3B4455;\n",
              "      fill: #D2E3FC;\n",
              "    }\n",
              "\n",
              "    [theme=dark] .colab-df-convert:hover {\n",
              "      background-color: #434B5C;\n",
              "      box-shadow: 0px 1px 3px 1px rgba(0, 0, 0, 0.15);\n",
              "      filter: drop-shadow(0px 1px 2px rgba(0, 0, 0, 0.3));\n",
              "      fill: #FFFFFF;\n",
              "    }\n",
              "  </style>\n",
              "\n",
              "      <script>\n",
              "        const buttonEl =\n",
              "          document.querySelector('#df-74f8dbe5-f2c9-423e-9a49-1bd9c3bc649b button.colab-df-convert');\n",
              "        buttonEl.style.display =\n",
              "          google.colab.kernel.accessAllowed ? 'block' : 'none';\n",
              "\n",
              "        async function convertToInteractive(key) {\n",
              "          const element = document.querySelector('#df-74f8dbe5-f2c9-423e-9a49-1bd9c3bc649b');\n",
              "          const dataTable =\n",
              "            await google.colab.kernel.invokeFunction('convertToInteractive',\n",
              "                                                     [key], {});\n",
              "          if (!dataTable) return;\n",
              "\n",
              "          const docLinkHtml = 'Like what you see? Visit the ' +\n",
              "            '<a target=\"_blank\" href=https://colab.research.google.com/notebooks/data_table.ipynb>data table notebook</a>'\n",
              "            + ' to learn more about interactive tables.';\n",
              "          element.innerHTML = '';\n",
              "          dataTable['output_type'] = 'display_data';\n",
              "          await google.colab.output.renderOutput(dataTable, element);\n",
              "          const docLink = document.createElement('div');\n",
              "          docLink.innerHTML = docLinkHtml;\n",
              "          element.appendChild(docLink);\n",
              "        }\n",
              "      </script>\n",
              "    </div>\n",
              "  </div>\n",
              "  "
            ]
          },
          "metadata": {},
          "execution_count": 23
        }
      ]
    },
    {
      "cell_type": "code",
      "source": [
        "dataset.isnull().sum()"
      ],
      "metadata": {
        "colab": {
          "base_uri": "https://localhost:8080/"
        },
        "id": "f3J1iw9zlGpB",
        "outputId": "5b413e0d-d688-4913-8fd5-0246c971647a"
      },
      "execution_count": 24,
      "outputs": [
        {
          "output_type": "execute_result",
          "data": {
            "text/plain": [
              "CustomerID                0\n",
              "Gender                    0\n",
              "Age                       0\n",
              "Annual Income (k$)        0\n",
              "Spending Score (1-100)    0\n",
              "dtype: int64"
            ]
          },
          "metadata": {},
          "execution_count": 24
        }
      ]
    },
    {
      "cell_type": "code",
      "source": [
        "# taking the 3rd and 4th column seperately as list datatype as only these 2 columns are of interest to us, we are not targeting gender-wise or age wise\n",
        "x = dataset.iloc[:, [3,4]].values # ':' means all the rows\n",
        "print(x)"
      ],
      "metadata": {
        "colab": {
          "base_uri": "https://localhost:8080/"
        },
        "id": "_O99mEDCmRou",
        "outputId": "a51c8dfd-aa7f-4a58-81d2-8bb00efc322c"
      },
      "execution_count": 25,
      "outputs": [
        {
          "output_type": "stream",
          "name": "stdout",
          "text": [
            "[[ 15  39]\n",
            " [ 15  81]\n",
            " [ 16   6]\n",
            " [ 16  77]\n",
            " [ 17  40]\n",
            " [ 17  76]\n",
            " [ 18   6]\n",
            " [ 18  94]\n",
            " [ 19   3]\n",
            " [ 19  72]\n",
            " [ 19  14]\n",
            " [ 19  99]\n",
            " [ 20  15]\n",
            " [ 20  77]\n",
            " [ 20  13]\n",
            " [ 20  79]\n",
            " [ 21  35]\n",
            " [ 21  66]\n",
            " [ 23  29]\n",
            " [ 23  98]\n",
            " [ 24  35]\n",
            " [ 24  73]\n",
            " [ 25   5]\n",
            " [ 25  73]\n",
            " [ 28  14]\n",
            " [ 28  82]\n",
            " [ 28  32]\n",
            " [ 28  61]\n",
            " [ 29  31]\n",
            " [ 29  87]\n",
            " [ 30   4]\n",
            " [ 30  73]\n",
            " [ 33   4]\n",
            " [ 33  92]\n",
            " [ 33  14]\n",
            " [ 33  81]\n",
            " [ 34  17]\n",
            " [ 34  73]\n",
            " [ 37  26]\n",
            " [ 37  75]\n",
            " [ 38  35]\n",
            " [ 38  92]\n",
            " [ 39  36]\n",
            " [ 39  61]\n",
            " [ 39  28]\n",
            " [ 39  65]\n",
            " [ 40  55]\n",
            " [ 40  47]\n",
            " [ 40  42]\n",
            " [ 40  42]\n",
            " [ 42  52]\n",
            " [ 42  60]\n",
            " [ 43  54]\n",
            " [ 43  60]\n",
            " [ 43  45]\n",
            " [ 43  41]\n",
            " [ 44  50]\n",
            " [ 44  46]\n",
            " [ 46  51]\n",
            " [ 46  46]\n",
            " [ 46  56]\n",
            " [ 46  55]\n",
            " [ 47  52]\n",
            " [ 47  59]\n",
            " [ 48  51]\n",
            " [ 48  59]\n",
            " [ 48  50]\n",
            " [ 48  48]\n",
            " [ 48  59]\n",
            " [ 48  47]\n",
            " [ 49  55]\n",
            " [ 49  42]\n",
            " [ 50  49]\n",
            " [ 50  56]\n",
            " [ 54  47]\n",
            " [ 54  54]\n",
            " [ 54  53]\n",
            " [ 54  48]\n",
            " [ 54  52]\n",
            " [ 54  42]\n",
            " [ 54  51]\n",
            " [ 54  55]\n",
            " [ 54  41]\n",
            " [ 54  44]\n",
            " [ 54  57]\n",
            " [ 54  46]\n",
            " [ 57  58]\n",
            " [ 57  55]\n",
            " [ 58  60]\n",
            " [ 58  46]\n",
            " [ 59  55]\n",
            " [ 59  41]\n",
            " [ 60  49]\n",
            " [ 60  40]\n",
            " [ 60  42]\n",
            " [ 60  52]\n",
            " [ 60  47]\n",
            " [ 60  50]\n",
            " [ 61  42]\n",
            " [ 61  49]\n",
            " [ 62  41]\n",
            " [ 62  48]\n",
            " [ 62  59]\n",
            " [ 62  55]\n",
            " [ 62  56]\n",
            " [ 62  42]\n",
            " [ 63  50]\n",
            " [ 63  46]\n",
            " [ 63  43]\n",
            " [ 63  48]\n",
            " [ 63  52]\n",
            " [ 63  54]\n",
            " [ 64  42]\n",
            " [ 64  46]\n",
            " [ 65  48]\n",
            " [ 65  50]\n",
            " [ 65  43]\n",
            " [ 65  59]\n",
            " [ 67  43]\n",
            " [ 67  57]\n",
            " [ 67  56]\n",
            " [ 67  40]\n",
            " [ 69  58]\n",
            " [ 69  91]\n",
            " [ 70  29]\n",
            " [ 70  77]\n",
            " [ 71  35]\n",
            " [ 71  95]\n",
            " [ 71  11]\n",
            " [ 71  75]\n",
            " [ 71   9]\n",
            " [ 71  75]\n",
            " [ 72  34]\n",
            " [ 72  71]\n",
            " [ 73   5]\n",
            " [ 73  88]\n",
            " [ 73   7]\n",
            " [ 73  73]\n",
            " [ 74  10]\n",
            " [ 74  72]\n",
            " [ 75   5]\n",
            " [ 75  93]\n",
            " [ 76  40]\n",
            " [ 76  87]\n",
            " [ 77  12]\n",
            " [ 77  97]\n",
            " [ 77  36]\n",
            " [ 77  74]\n",
            " [ 78  22]\n",
            " [ 78  90]\n",
            " [ 78  17]\n",
            " [ 78  88]\n",
            " [ 78  20]\n",
            " [ 78  76]\n",
            " [ 78  16]\n",
            " [ 78  89]\n",
            " [ 78   1]\n",
            " [ 78  78]\n",
            " [ 78   1]\n",
            " [ 78  73]\n",
            " [ 79  35]\n",
            " [ 79  83]\n",
            " [ 81   5]\n",
            " [ 81  93]\n",
            " [ 85  26]\n",
            " [ 85  75]\n",
            " [ 86  20]\n",
            " [ 86  95]\n",
            " [ 87  27]\n",
            " [ 87  63]\n",
            " [ 87  13]\n",
            " [ 87  75]\n",
            " [ 87  10]\n",
            " [ 87  92]\n",
            " [ 88  13]\n",
            " [ 88  86]\n",
            " [ 88  15]\n",
            " [ 88  69]\n",
            " [ 93  14]\n",
            " [ 93  90]\n",
            " [ 97  32]\n",
            " [ 97  86]\n",
            " [ 98  15]\n",
            " [ 98  88]\n",
            " [ 99  39]\n",
            " [ 99  97]\n",
            " [101  24]\n",
            " [101  68]\n",
            " [103  17]\n",
            " [103  85]\n",
            " [103  23]\n",
            " [103  69]\n",
            " [113   8]\n",
            " [113  91]\n",
            " [120  16]\n",
            " [120  79]\n",
            " [126  28]\n",
            " [126  74]\n",
            " [137  18]\n",
            " [137  83]]\n"
          ]
        }
      ]
    },
    {
      "cell_type": "code",
      "source": [
        "# scatter plot of annual income and spending score to give us an idea of the number of groups we can make\n",
        "plt.scatter(x=dataset['Annual Income (k$)'], y=dataset['Spending Score (1-100)'])\n",
        "plt.xlabel(\"Annual Income (k$)\")\n",
        "plt.ylabel(\"Spending Score (1-100)\")\n",
        "plt.show()"
      ],
      "metadata": {
        "colab": {
          "base_uri": "https://localhost:8080/",
          "height": 458
        },
        "id": "hWU56Y6kzd5T",
        "outputId": "a610a117-5ec4-4345-e3fa-720a22eba48c"
      },
      "execution_count": 26,
      "outputs": [
        {
          "output_type": "display_data",
          "data": {
            "text/plain": [
              "<Figure size 640x480 with 1 Axes>"
            ],
            "image/png": "[encoded data removed]"
          },
          "metadata": {}
        }
      ]
    },
    {
      "cell_type": "markdown",
      "source": [
        "Choosing the number of clusters\n",
        "\n"
      ],
      "metadata": {
        "id": "PgaYoltroLD9"
      }
    },
    {
      "cell_type": "markdown",
      "source": [
        "In the Elbow method, we are actually varying the number of clusters (K) from 1 – 10. For each value of K, we are calculating WCSS (Within-Cluster Sum of Square). WCSS is the sum of the squared distance between each point and the centroid in a cluster. When we plot the WCSS with the K value, the plot looks like an Elbow. As the number of clusters increases, the WCSS value will start to decrease. WCSS value is largest when K = 1. When we analyze the graph, we can see that the graph will rapidly change at a point and thus creating an elbow shape. From this point, the graph moves almost parallel to the X-axis. The K value corresponding to this point is the optimal value of K or an optimal number of clusters.\n",
        "\n",
        "![image.png](data:image/png;base64,iVBORw0KGgoAAAANSUhEUgAAAZcAAAEGCAIAAAAmPk+8AAAgAElEQVR4nO3deVwTZ/4H8GeSkHCFQIRgICCEBIwQQAkg3mARqi3Uo4rVH1ixuFarrXd3uz1ttV3XG+1SsYWu1a5HoSuK1BsFxSBaRUVAohyR+wqQQMj8/hjLUkBFSBhCvu/Xvn6v5MnMM9/xx3z6zMyTCYbjOAIAAL1FIbsAAADoF0gxAIB+gxQDAOg3SDEAgH6DFAMA6Dca2QVoh7W1tZOTE9lVAAB0TiaTVVVVdW4ZIinm5OQklUrJrgIAoHMSiaRLC5xRAgD0G6QYAEC/QYoBAPQbpBgAQL9BigEA9BukGABAv0GKAQD0m8GlWEZB1d4LBWRXAQDQGoNLsQsPKreezntU3UR2IQAA7TC4FFsy0ZlGpey7UEh2IQAA7TC4FOMwjef7Ohy7UVJW10J2LQAALTC4FEMIxUx2wXEUd+kh2YUAALTAEFPM3tJk9hjeoazHFY1KsmsBAPSXIaYYQmjZFJe2dk18ehHZhQAA+stAU8zJ2izMy+7Hq49qm1rJrgUA0C8GmmIIoXcDBc2t7d9nyMguBADQL4abYq62zFD34T9cKWpQtpFdCwCg7ww3xRBCK4IEDUr1j5mPyC4EANB3Bp1iHvasQDeb+MtFza1qsmsBAPSRQacYQmhFkKCmqfVQVjHZhQAA+sjQU8xnBDuAPyzuUqGyrZ3sWgAAfaGFFCsuLg4MDBSJRO7u7jt37kQIffrpp/b29t7e3t7e3idPniQW27x5s0AgcHNzO336NNGSmprq5uYmEAi2bNlCtBQVFfn7+wuFwnnz5rW2tiKEVCrVvHnzBAKBv7+/TKaT+4nvBQnKG1RHs0t00TkAQOfwfisrK8vOzsZxvKGhQSgU5ubmfvLJJ//4xz86L5Obm+vp6alUKh8+fMjn89VqtVqt5vP5hYWFKpXK09MzNzcXx/E333zz0KFDOI4vXbp07969OI7HxsYuXboUx/FDhw7NnTv3WTX4+Pj0uX6NRvNG7OVxm8+2qtv73AkAYGB0P9i1MBbjcrljxoxBCDGZTJFIVFpa2n2Z5OTkiIgIBoPh7OwsEAiysrKysrIEAgGfz6fT6REREcnJyTiOnzt3bs6cOQihqKiopKQkYsWoqCiE0Jw5c86ePYvjeP8L7gLDsPeCBKV1Lck3y7TeOQBA17R5XUwmk+Xk5Pj7+yOE9uzZ4+npuXjx4traWoRQaWmpg4MDsRiPxystLe3eUl1dbWlpSaPROlo6r0ij0VgsVnV1dectxsXFSSQSiURSWVnZn8oD3TijuBZ7zxe0a7SfkgAAndJaiikUitmzZ+/YscPCwmLZsmWFhYU3b97kcrlr1qxBCHUZQ2EY1puWHlfs/DYmJkYqlUqlUhsbm/4UTwzHHlY1nbwt708/AICBp50Ua2trmz179oIFC2bNmoUQsrW1pVKpFArlnXfeycrKQgjxeLzi4qezGUpKSuzs7Lq3WFtb19XVqdXqjpbOK6rV6vr6ejabrZWCuwtxHy7gmMeeL9DAcAwAvaKFFMNxPDo6WiQSrV69mmiRy5+OaH755RcPDw+EUFhY2OHDh1UqVVFRUX5+vp+fn6+vb35+flFRUWtr6+HDh8PCwjAMCwwMPHr0KEIoISEhPDycWDEhIQEhdPTo0aCgoC5jMS2iULDlgS73nzSevV+ho00AAHSi/7cM0tPTEUJisdjLy8vLyyslJWXhwoUeHh5isfj1118vKysjFtu0aROfz3d1dT158iTRkpKSIhQK+Xz+pk2biJbCwkJfX18XF5c5c+YolUocx1taWubMmePi4uLr61tYWNj72xZ90KZun/j1ubDd6RqNpv+9AQB0ofvB3vVqlJ6SSCRSqbT//RzOerzx+O3ExX6TXPt1oQ0AoCPdD3ZDn7vfxawxPC7LeM85+Kk3APQGpNif0GmUpZP4WbKaaw+rX7w0AGAQgBTrKsLP0dqcvuc8DMcA0A+QYl0ZG1GXTOSn51fdKq4juxYAwItBivVg4dgRLBMjGI4BoBcgxXpgzqAtHu/8293ye/IGsmsBALwApFjPFo1zMmfQYmE4BsCgBynWM5ap0f8FjEi5LS+sVJBdCwDgeSDFnil6gjODRtl3oZDsQgAAzwMp9kzW5oy3/Eb8klNaXNNMdi0AgGeCFHuemEl8KoZ9exGGYwAMXpBizzOcZTxHwjsiLXlSryS7FgBAzyDFXmDZZJd2HP8u/SHZhQAAegYp9gIObNM3vO0PXntUrVCRXQsAoAeQYi/2bqCLSq2Jv1xEdiEAgB5Air2Yi435dDE3MfNRfXMb2bUAALqCFOuVFYEChUqdkKmTn/UFAPQHpFiviLgWr4hsD1wpUqjUZNcCAPgTSLHeWhEkqGtuO3j1EdmFAAD+BFKst7wdLCcKrb9LL1K2tZNdCwDgfyDFXsKKQEGVQvXz9WKyCwEA/A+k2Evw5w/zc2J/e7GwVa0huxYAwFOQYi9neZBAXq88fqOE7EIAAE9Bir2cSUJrTx5r38VCdTsMxwAYFCDFXg6GYSsCBY+qm0/8Lie7FgAAQpBiffCKyNbNlrnnfIFGMxR+Vh0AfQcp9tIoFGx5kKCgQnE69wnZtQAAIMX6ZIaY62xttud8AY7DcAwAkkGK9QWVgr07xSW3rOFCXiXZtQBg6CDF+uiN0fb2lia7zuXDcAwAcmkhxYqLiwMDA0Uikbu7+86dOxFCNTU1wcHBQqEwODi4trYWIYTj+MqVKwUCgaen540bN4gVExIShEKhUChMSEggWrKzs8VisUAgWLlyJZEO3bsaJIyolL9Mccl5XJdZWE12LQAYNrzfysrKsrOzcRxvaGgQCoW5ubnr1q3bvHkzjuObN29ev349juMpKSmhoaEajSYzM9PPzw/H8erqamdn5+rq6pqaGmdn55qaGhzHfX19MzIyNBpNaGjoyZMncRzv3lWPfHx8+r8jL6ulVe276bf5cZkDv2kADFb3g10LYzEulztmzBiEEJPJFIlEpaWlycnJUVFRCKGoqKikpCSEUHJycmRkJIZhY8eOraurk8vlp0+fDg4OZrPZVlZWwcHBqampcrm8oaEhICAAw7DIyMiOFbt0NXgYG1FjJvEzCquzH9WQXQsAhkub18VkMllOTo6/v395eTmXy0UIcbnciooKhFBpaamDgwOxGI/HKy0t7bGFx+N1bkEIde9qUHnL35FtRt9zroDsQgAwXFpLMYVCMXv27B07dlhYWHT/FP/zJXAMw3rT8sKNxsXFSSQSiURSWUnOvUJTOi16gvP5vMo7pfWkFAAA0E6KtbW1zZ49e8GCBbNmzUII2drayuVyhJBcLudwOAghHo9XXPz0gTYlJSV2dnY9tpSUlHRu6bGrzmJiYqRSqVQqtbGx0cqO9MH/BYxgGtNiz8NwDAByaCHFcByPjo4WiUSrV68mWsLCwojbjgkJCeHh4URLYmIijuNXr15lsVhcLjckJCQtLa22tra2tjYtLS0kJITL5TKZzKtXr+I4npiY2LFil64GGwtjo0XjnE7defKgvJHsWgAwSP2/ZZCeno4QEovFXl5eXl5eKSkpVVVVQUFBAoEgKCiouroax3GNRvPuu+/y+XwPD4/r168TK8bHx7u4uLi4uBw4cIBouX79uru7O5/PX758uUajwXG8e1e9vG0xkKoVKtHfT606dIPEGgAwEN0P9q5Xo/SURCKRSqUkFvDVyXv70x+eWzPFydqMxDIAGPK6H+wwd187lkx0plEp314sJLsQAAwOpJh2cJjGEb4Ox26UlNa1kF0LAIYFUkxrlk52wXEUB8MxAAYWpJjW2FuazB7DO3S9uKJRSXYtABgQSDFtWjbFRd2uiU8vIrsQAAwIpJg2OVmbve5l9+PVR7VNrWTXAoChgBTTsuWBgubW9u+vwHAMgAECKaZlrrbMUPfhP2TIGpRtZNcCgEGAFNO+5YGCBqX6x8xHZBcCgEGAFNM+MY8VNJLz7cXCGrg6BoDuQYrpxIevjmxubd/+2wOyCwFg6IMU0wmhLXOhv+PBa4/ynsCDLgDQLUgxXXn/FVdzBm1Tyt2h8X17AAYtSDFdsTKjv/+Ka3p+1bn7g+5B2wAMJZBiOvR/ASP4NmZfptxrVWvIrgWAIQtSTIeMqJS/zxj1sKrpx6sw6wIAXYEU060pbjaTXG12nnkAsy4A0BFIMd3CMOyjGaKm1vYdZ2DWBQA6ASmmc662zAX+jgevPYafFwFAFyDFBsL7r7ia0alfnIBZFwBoH6TYQGCb0Ve94pqeX3U+D2ZdAKBlkGIDJDJgBN/GbNOJe23tMOsCAG2CFBsgRlTKRzNED6ua4FkXAGgXpNjACXTjTBRa7zjzAJ4EC4AWQYoNHAzD/v7aKIVKDbMuANAiSLEB5WrLXOA/4t/XHufDrAsAtARSbKB9EOxqSqd+kXIPZl0AoBU9p9j169efPHlCvE5MTAwPD1+5cmVNTc0AFjZksc3oq6YKLz2ovJBXSXYtAAwFPafY0qVL6XQ6QujSpUsbN26MjIxksVgxMTEDW9uQFRngxLc2+yLlLsy6AKD/ek6x9vZ2NpuNEPr5559jYmJmz579xRdfFBQUDGxtQxadRvnbDNHDyqZ/w7MuAOi3Z6aYWq1GCJ09ezYoKIhoJFqAVgSNJGZd5MOsCwD6qecUmz9//uTJk8PDw01MTCZOnIgQKigoYLFYPS68ePFiDofj4eFBvP3000/t7e29vb29vb1PnjxJNG7evFkgELi5uZ0+fZpoSU1NdXNzEwgEW7ZsIVqKior8/f2FQuG8efNaW1sRQiqVat68eQKBwN/fXyaTaW+vyYdh2EczRjUq23aezSe7FgD0HP4MmZmZx48fVygUxNu8vLzs7Owel7x48WJ2dra7uzvx9pNPPvnHP/7ReYHc3FxPT0+lUvnw4UM+n69Wq9VqNZ/PLywsVKlUnp6eubm5OI6/+eabhw4dwnF86dKle/fuxXE8NjZ26dKlOI4fOnRo7ty5zyoVx3EfH5/nfDpo/e2X3/kfpuSXN5BdCAB6o/vB3vNYrLm52cfHZ+bMmWZmZnl5edu3b79z586YMWN6XHjSpEnERbRnSU5OjoiIYDAYzs7OAoEgKysrKytLIBDw+Xw6nR4REZGcnIzj+Llz5+bMmYMQioqKSkpKIlaMiopCCM2ZM+fs2bP4kJua8MErrqZ06hcn7pFdCAB6rOcUCw0NJc7gCgoKAgICHj58GBsb++GHH/ay0z179nh6ei5evLi2thYhVFpa6uDgQHzE4/FKS0u7t1RXV1taWtJotI6WzivSaDQWi1VdXd1lQ3FxcRKJRCKRVFbq5ayFYeaMVVOFFx9UwrMuDEd7e/vZs2e9vLwQQvX19RYWFiReLVEoFN99993o0aOJI05P9ZxitbW1QqEQIZSQkDB//vzdu3efOnXqxIkTvelx2bJlhYWFN2/e5HK5a9asQQh1GUNhGNablh5X7LKtmJgYqVQqlUptbGx6U9sgFBng5GxttukEzLoYslxcXDAMwzCMQqGIxeIB2OK9e/ewP3C53O+///5ZS5qbm7/zzjs5OTn29vY9LqBUKpOSkhYuXKizYrWg5xTryItz584FBwcjhOh0OoXSq4n+tra2VCqVQqG88847WVlZCCEej1dcXEx8WlJSYmdn173F2tq6rq6OuA1KtHReUa1W19fXP/+8VU/RaZS/TRcVVjYdhFkXQ5SRkdGVK1dwHNdoNLdv3x6YjQoEguLiYhzHf/vtt08++SQ1NXVgtkuKnoPJ09Nz7dq127dvLygomDZtGkKorq6ulz3K5XLixS+//ELcuAwLCzt8+LBKpSoqKsrPz/fz8/P19c3Pzy8qKmptbT18+HBYWBiGYYGBgUePHkUIJSQkhIeHEysmJCQghI4ePRoUFNR9LDY0TBVxJgist5/Jr2uGWRcGR6PR3L9/H8MwKpUqkUiIxra2tl9//ZUYTFlYWOzdu1etVmdkZDg6OiKE1Gr1pUuXHB0dHz9+rFQq//vf/y5evPhZ/Q8fPjwmJiY7O7u1tTUlJYXok8PhEHMDFApFYmLi7NmzVSrVsWPHxGLxvn37MAyzs7Pbtm1bfX39/v37Z86cefDgQR6Pt3PnzoH5N3lZPafYd999Z21tLZPJ0tLSTE1NEUJ3795du3ZtjwvPnz8/ICAgLy+Px+PFx8evX79eLBZ7enqeP39++/btCCF3d/e5c+eOGjUqNDQ0NjaWSqXSaLQ9e/aEhISIRKK5c+e6u7sjhL7++utt27YJBILq6uro6GiEUHR0dHV1tUAg2LZtW8eEjKEHw7CPXhM1Ktt2nIFZFwanpaXlr3/9K47jDQ0Nfn5+69evb29vv3nzZnR0tEwmw3E8Ly/vo48+SklJcXV1HTt27PXr15ubm0+dOqVSqW7duqVUKu/duxcQEPCcTdDpdDs7u3v37n3wwQc5OTnEnbSkpKTExMQuS5aUlOTn57e0tOzYsePw4cNNTU1Lliz55ZdfFixYUFJSsmrVKl3+S/RDj/cyKyoq7ty507nl9u3bFRUVWr1hqk16OtOis78eh1kXQxOfzyeONRqNtmrVKrVafebMGU9PTxzH6+rqzMzMMjMzcRxvb2/PycmRSCRNTU1ff/31nj17iNWbm5sTEhI+/PDDhoaGr7/+et++feXl5eHh4V9++eVHH30kl8sXLlz4+PHjzlu8e/cucUapUqlOnTrF5/PPnTu3f//+L7/8kligsbHxP//5z4oVKxobGxMSEmbNmqVUKo8ePTpu3DhigTt37kRGRp45c6alpYVIsYH793qR3s60eO+996qqqjq3lJaWDt4kHhJWB7ua0qmbUmDWxVDTcV2sra1tx44dXT6lUCjDhw8nXms0GplMptFoSktLO19uV6vVjx8/ptPpHh4eGRkZbW1tlZWVU6ZMSU9Pb2tr63zHv0NBQYGDgwODwVi+fPnRo0c9PDyqq6uJy80ElUpVUlKimz0eaD2n2O3btydPnty5JSQk5Pfffx+QkgwUMeviQh7MujBQGo2moqLCycmJQqHY29t3nvpAo9EcHR0ZDMbo0aPz8vLu378fGRnp6OjY1NR09uxZ4ts1XXRc3S8sLBw9erSRkdGwYcPKyso6FmAwGDwebyB2TPd6TrG2trZeNgItigxwchpm+mUK/MKIAVGpVLt370YItbS0xMbGRkZGMhiMwMDATz/99NGjRwihurq6NWvWvPHGGwghY2NjLy+vuLg4Hx8fJpMZGhq6d+9eX1/fF27F0tJSIpH88MMPN2/eRAjJZLLdu3e//vrrvamwpaWlc/wNQj2nmFAo7PgKJIE4ux6QkgwXnUb524xRBRWKn649JrsWoDVtbW3jx48nbg6amZl1+ZRCoVhYWGAYZmNjM3LkyPfee49KpXp7e8fHxzs5OWEYNmrUqP379/v5+SGEGAyGp6fntWvXJBIJ8frJkyfEBNoXEolE27dvHz16NIZhoaGhS5YsIaYfPJ+xsbG7u7tCoRjM9yi7Tjcl5Ofnz5gxY9y4cT4+PgghqVSamZl54sQJV1fXAa+wVyQSiVQqJbsKLcBxfGH8tdyyhgtrp1ia0skuB4BBp/vB3vNYLCUlJT4+fvz48Y8ePXr06NHkyZN///33QRthQwnxrIuGFnjWBQC91XOKlZSUbNiwYf369VKplE6n29raNjc3D3BlBkvEtYjwc/wx81FBhYLsWkBfDNXp2YNWzym2devWjIyM8vLyr776is1mHzhwwMPDY9SoUQNcnMFaHexqYkT9MuUu2YWAl9b9S8FA15731ciWlpaGhob6+vr6+no7Ozt/f/8BK8vAWZszVk4Vns+rvACzLvQKRBgpaD22xsTE5ObmMplMf3//cePGrV692srKaoArM3BR45wOXnu0KeXeBIE1jQo/uKcHIMLI0vPh8fjxY5VKNXz4cHt7ex6PZ2lpOcBlATqN8tfpooIKxU9ZMOtCD0CEkajnsVhqaiqO47m5uRkZGf/85z/v3LnDZrMDAgI+++yzAa7PkAWPsh3nMmzbbw/CvexZpkZklwOeCSKMXM88VcEwzMPDY/r06a+++ur48eMLCwsH7Zy3oQrDsL+/BrMuBjuIMNL1nGK7du2KiIhwcHCYNGnSiRMn3Nzcjh8/Dr8NPvBEXIt5vo6JmbLCSph1MRhBhA0GPZ9RymSyOXPmbN++ncvlDnBBoIs101xP3Cr7MuXegUUv/rocGEgQYYNEzym2bdu2Aa4DPIu1OeO9qYKvTt6/+KBysqu+/rzA0AMRNnjALXw9EDXOacQw000n7qrhWReDA0TYoAIppgcYNOpfp4vyKxSHYNbFIAARNthAiumHaaNsA/jDtv32oL4ZnvJGJoiwQQhSTD8Qsy7qWtp2nYNZF6SBCBucIMX0xig7iwhfh4QM2UOYdUEGiLBBC1JMn6yZ5mZsRP0SfmFkwEGEDWaQYvrE2pzxXpDg7P2KSw8qya7FgECEDXKQYnpm0XgnR7bpphSYdTFAIMIGP0gxPUPMunhQrjh0vZjsWoY+iDC9ACmmf0Lcbcfy2dvS8upbYNaFDkGE6QtIMf3TMetiNzzrQmcgwvQIpJhecrdjzZM4/ACzLnQDIky/QIrpqzXT3EyMqAv2X8t+VEt2LUMKRJjegRTTVzZMxqGYsXQaZd6/MuMvF8GBpxUQYfpICym2ePFiDofj4eFBvK2pqQkODhYKhcHBwbW1tQghHMdXrlwpEAg8PT1v3LhBLJaQkCAUCoVCYUJCAtGSnZ0tFosFAsHKlSuJv6TuXYHOPOxZv66YEDSS88WJu+8evNGghIv9/QIRpqe0kGKLFi1KTU3teLtly5apU6fm5+dPnTp1y5YtCKFTp07l5+fn5+fHxcUtW7YMIVRTU/PZZ59du3YtKyvrs88+IxJq2bJlcXFxxJJEh927Al2wTIz+9X8+H80Q/Xa3PGz35dyyerIr0lcQYfpLCyk2adIkNpvd8TY5OTkqKgohFBUVlZSURLRERkZiGDZ27Ni6ujq5XH769Ong4GA2m21lZRUcHJyamiqXyxsaGgICAjAMi4yM7FixS1egOwzDlkzkH44Zq2zTzNyb8fP1x3A0viyIML2m/eti5eXlxHOuuVxuRUUFQqi0tNTBwYH4lMfjlZaW9tjC4/E6t/TYVRdxcXESiUQikVRWGvo3ciRO7JSVE/yd2RuO3V575PeW1nayK9IbEGH6biCu7nf5E+n+R9NjS296jomJkUqlUqnUxgYe5YyGmTN+eNvv/VeEx3NK3oi9Aj840hsQYUOA9lPM1tZWLpcjhORyOYfDQQjxeLzi4qdflykpKbGzs+uxpaSkpHNLj12B56NSsPdfcU1c7FepUIXtvvzfW2VkVzSoQYQNDdpPsbCwMOK2Y0JCQnh4ONGSmJiI4/jVq1dZLBaXyw0JCUlLS6utra2trU1LSwsJCeFyuUwm8+rVqziOJyYmdqzYpSvQGxOFNikrJ4zkWrx3KOeT5DsqNZxd9gAibOjA+y0iImL48OE0Gs3e3n7//v1VVVVBQUECgSAoKKi6uhrHcY1G8+677/L5fA8Pj+vXrxNrxcfHu7i4uLi4HDhwgGi5fv26u7s7n89fvny5RqPBcbx7V8/i4+PT/x0ZYlrV7ZtO5I7YcCJsd3pxTRPZ5QwuWvnLB6TofrAPkf8cSSQSqVRKdhWDUeqdJ+uO3KJQsO3zvIJG2pJdzqAAozC91v1gh7n7Q1yox/ATKyfwrEwW/yD9JvU+PJUMImzogRQb+kYMMzu2bNx8P8e9FwoX7L9W0aAkuyLSQIQNSZBiBsHYiLp5lnjbXK/fS+qn77qcWVhNdkUkgAgbqiDFDMisMbzkFeMtTGgL9l+NPV+g0RjQIQ0RNoRBihkWV1vmrysmzPC0+8fpvOiE67VNrWRXNBAgwoY2SDGDY86g7Yrw/iLc/XJB1Wu7L98sriO7It2CCBvyIMUMEYZh/xfgdPQv4xBCb36bkZAhG6rHOUSYIYAUM1xeDpYpKydMEtp88mvuikM5CpWa7Iq0DCLMQECKGTRLU/p3kZINoSNP3ZaH7b58/0kD2RVpDUSY4YAUM3QUCrZsistP74xtVKnfiL1yNLuE7Iq0ACLMoECKAYQQGssflrJywmgHq7VHbm04+ruyTY+/QA4RZmggxcBTHKbxj9F+ywNdfpYWz9ybUVTVRHZFfQERZoAgxcD/0KiUdSEjv1/kK69veX335VO35WRX9HIgwgwTpBjoKnAkJ2XlRBeO+bKDNz7/791WtX58gRwizGBBioEe2FuaHFkasGic04ErRfPiMotrmsmu6AUgwgwZpBjoGZ1G+TTMPfatMfnlild3pg/mn1aCCDNwkGLgeWZ4ck+tmuhhb7Hh2O3oBOkgfKoPRBiAFAMv4MA2/WnJ2I9fG3WloGrajkuD6hdJIMIAghQDvUGhYIsnOKesnDhimNl7h3JW/HRjMDwMAyIMECDFQG8JOObH/hKwdprr6dwn03ZcOne/nMRiIMJAB0gx8BJoVMqKIGHS8vHDzOiLf5CuP3qrUdk28GVAhIHOIMXAS3O3YyWvGL9sisvR7JLQHekZhVUDuXWIMNAFpBjoCwaNuiF05JG/BBhRsbe+u/bZf3MH5quXEGGgO0gx0Hc+I9gnV02MChjx/RXZ9F3pOY9rdbo5iDDQI0gx0C+mdNpn4R7/jvZXtrbP3pex9XSejr6xBBEGngVSDGjBBKF16geTZo3h7Tlf8EbsFa0/bREiDDwHpBjQDgtjo61ven0XKaloVL6++/LeCwXtWvqlOIgw8HyQYkCbgkfZpn0wOXiU7TepeW9+q4WHlEGEgReCFANaxjajx741ZmeEd0GFYvrO9MRMWZ9/vhciDPQGpBjQPgzDwr3t0z6Y7OfM/jg5N/JAVlldSx86gQgDvQEpBnRlOMv4h7d9v5opvvG4NmT7paPZJb1PJYgw0Hu6SjEnJyexWOzt7S2RSFCw25AAABCmSURBVBBCNTU1wcHBQqEwODi4trYWIYTj+MqVKwUCgaen540bN4i1EhIShEKhUChMSEggWrKzs8VisUAgWLlyJfxZ6x0Mw97yd0xdNUnEtVh75FbMj9mVjarerAX/vwYvAdeNESNGVFZWdrxdt27d5s2bcRzfvHnz+vXrcRxPSUkJDQ3VaDSZmZl+fn44jldXVzs7O1dXV9fU1Dg7O9fU1OA47uvrm5GRodFoQkNDT548+azN+fj46GhHgFao2zXfXSoU/u3k6M/TTv5eRnY5QI91P9gH6IwyOTk5KioKIRQVFZWUlES0REZGYhg2duzYuro6uVx++vTp4OBgNpttZWUVHBycmpoql8sbGhoCAgIwDIuMjCRWBPqISsGWTOSnvDfB3tJk2cEbqw7n1DeT8DVyMCTpKsUwDJs2bZqPj09cXBxCqLy8nMvlIoS4XG5FRQVCqLS01MHBgViYx+OVlpb22MLj8Tq3dNlKXFycRCKRSCSVlZU62hGgRUJb5vF3x33wimvK7/JpOy5eyKsguyIwFNB01O+VK1fs7OwqKiqCg4NHjhzZfQH8zxc+ul8K6bGlSycxMTExMTEIIeLqGxj8jKiUVa8Ig0ZyVv/n5qLvr7/l7/i36SIzhq7+DoEh0NVYzM7ODiHE4XBmzpyZlZVla2srl8sRQnK5nMPhIIR4PF5xcTGxcElJiZ2dXY8tJSUlnVt0VC0YYGIe67/vTVg6iX8o63HozktZRTVkVwT0mE5SrKmpqbGxkXiRlpbm4eERFhZG3HZMSEgIDw9HCIWFhSUmJuI4fvXqVRaLxeVyQ0JC0tLSamtra2tr09LSQkJCuFwuk8m8evUqjuOJiYnEimBoMDaifjhd9J+lARjC5sVlfvpr7uX8qooGJQ53J8FL0slIvry8fObMmQghtVr91ltvhYaG+vr6zp07Nz4+3tHR8ciRIwih6dOnnzx5UiAQmJqafv/99wghNpv997//3dfXFyH08ccfs9lshNC+ffsWLVrU0tLy6quvvvrqq7qoFpDI14l9atXEzafu/ZAh+yFDhhBimRi52poLbZmuHHNXW6bQlmltTu9+MQGADkNkYo5EIpFKpWRXAfquslH1oLzxQXnjg3JFfnnjg/LGBqWa+MjK1Ehoy3S1NXe1ZQo5TKGtubU5g9xqAYm6H+xwVRUMCjZMhg2TMV5gTbzFcbyyUfWgXPGgvDG/ovFBuSL5ZlnjH7nGNqMLOeautsynozZbJtuMTl7tgGSQYmAwwjCMY2HMsTCeIPxfrpU3PB2v5ZcrHlQ0/pJTqlA9zTVrc7qQ879Qc7U1tzSFXDMUkGJAP2AYNpxlPJxlPMnVhmjBcVxeryRCjRivHc0uaWp9+vh/GybD1dacOAN1tWW6cpgsUyPyygc6BCkG9BWGYXaWJnaWJlPcOEQLjuNlT3Pt6fW1/0iLm//INQ6T4WrLFHDMhUS6ccyt4Dx0SIAUA0MHhmH2lib2liaBf+SaRoOX1rUQIzVi1NY516zN6QLO0/Ea8QLuh+ojSDEwlFEomAPb1IFtGjTSlmjRaPCy+pb8CkVBuSK/ojG/QpGUU9r4x/U1S1MjIcdcwGEK/xiy2VowINcGOUgxYFgoFIxnZcqzMg3sdB5a3qDKryCurykKKhpP3pbXtzz9sjqTQRPYmgs55kIOk3hhxzKhUCDXBhFIMWDoOu4bTBT+775BlaI1v6KxoEJB3Do4d7/iP9KnX4YzpVMFnKdnoMSQjWdlSoVcIw+kGABdYRhGzF8b52Ld0VjT1FpQoSCGbAUViisFVcdvPH3ICoNGcbEhzkDNBRwm38aMyzJmGsMt0QECKQZAr7DN6H7ObD9ndkdLfUtbQYWi4I9TUamsNvlmWcenTAbNztKEa2nMZZnYWxpzWSZcS2N7S5PhLGMGjUrGHgxZkGIA9BHLxMhnhJXPCKuOFoVKXVCheFzTXFbXIq9rKatXltW1/F5SX9PU2nlFa3O6naUJl0UEXEfSmdgwGXBm2geQYgBojTmD5u1g6e1g2aW9pbVdXt8ir1eW1T39v2X1yoeVTZfzqzqm6SKEaBTM1sLYrtPAjcsy4bKM7SxNrEyN4Fbps0CKAaBzJnQq38acb2PepR3H8QalWl7fIq9Tlta1dLy4WVyXekfZ2q7pWNLYiGLHMuFaGtuxTLiWJnYsY44Fg23GGGZGZ5vRTelUQ844SDEASINhGMvEiGViNHK4RZePNBq8qkklr1PK61tK65TyuhZ5vbK0ruVSfmVFo6rLk2gYNArbjE78b5gZnW3GGGZOtzKls83ow8yfNloYGw3VCSKQYgAMRhQKxmEac5jGXt3OT9vaNeUNyspGVU1Ta3VTa01Ta+0fL6qbWmXVTTWK1s4nqgQqBbMyNfoj6RhsM7rV08ijDzOjs83pbDO6lSndiKp/v1ELKQaAnjGiUoiJu89ZRtnWXtvcWq1orfkj3f5IOlVNU+u9Jw01Ta11Pf0MlYUxbZg5o2NYxzSmmTFo5gyaOePpi05vqWYMGoNGIf1kFlIMgCHI2IjKZZlwWSbPWUbdrqlraatp6gg7VU1TW02TihjWFdc03yyuUyjVLW1dh3WdGVExMwbNjE4zZ9DMn0Ye1YxOMzd+GnlmDBrz6QuqeadA1OK1PEgxAAwUjUqxNmdYmzOQ7fMWa9fgTa1qhVLdpFIrVOomVbtC1aZQtRNvFaqOdrVCpa5vaSura2lSqRVKtaJV/ZwnSVMwZEZ/mm5fzRT784f1fUf6vCYAwBBQKZiFsZHFy38VAcfxlrZ2hYpIwPaOpCNeNKnUjU9ftPfzew6QYgAAncAwzJROM6XTOEzdbkj/7kcAAEBnkGIAAP0GKQYA0G+QYgAA/QYpBgDQb5BiAAD9BikGANBvkGIAAP2G4c/5joD+sLa2dnJyIruKP6msrLSxsSG7Cu0YMvsyZHYEGfC+yGSyqqqqzi1DJMUGIYlEIpVKya5CO4bMvgyZHUGwL53AGSUAQL9BigEA9Bv1008/JbuGIcvHx4fsErRmyOzLkNkRBPvyB7guBgDQb3BGCQDQb5BiAAD9BimmfcXFxYGBgSKRyN3dfefOnWSX01/t7e2jR49+7bXXyC6kv+rq6ubMmTNy5EiRSJSZmUl2OX23fft2d3d3Dw+P+fPnK5VKsst5aYsXL+ZwOB4eHsTbmpqa4OBgoVAYHBxcW1vbhw4hxbSPRqP985//vHfv3tWrV2NjY+/evUt2Rf2yc+dOkUhEdhVasGrVqtDQ0Pv379+6dUt/96i0tHTXrl1SqfTOnTvt7e2HDx8mu6KXtmjRotTU1I63W7ZsmTp1an5+/tSpU7ds2dKHDiHFtI/L5Y4ZMwYhxGQyRSJRaWkp2RX1XUlJSUpKypIlS8gupL8aGhouXboUHR2NEKLT6ZaWXX/kUY+o1eqWlha1Wt3c3GxnZ0d2OS9t0qRJbDa7421ycnJUVBRCKCoqKikpqQ8dQorpkEwmy8nJ8ff3J7uQvnv//fe/+eYbCkXv/04ePnxoY2Pz9ttvjx49esmSJU1NTWRX1Ef29vZr1651dHTkcrksFmvatGlkV9Rf5eXlXC4XIcTlcisqKvrQg97/dQ5aCoVi9uzZO3bssLDo+uP1+uLEiRMcDmdoTEpSq9U3btxYtmxZTk6OmZlZ385cBoPa2trk5OSioqKysrKmpqZ///vfZFdEPkgxnWhra5s9e/aCBQtmzZpFdi19d+XKlV9//dXJySkiIuLcuXMLFy4ku6K+4/F4PB6PGBfPmTPnxo0bZFfUR2fOnHF2draxsTEyMpo1a1ZGRgbZFfWXra2tXC5HCMnlcg6H04ceIMW0D8fx6OhokUi0evVqsmvpl82bN5eUlMhkssOHDwcFBen1f/aHDx/u4OCQl5eHEDp79uyoUaPIrqiPHB0dr1692tzcjOP42bNn9fc2RYewsLCEhASEUEJCQnh4eF+6wIG2paenI4TEYrGXl5eXl1dKSgrZFfXX+fPnZ8yYQXYV/ZWTk+Pj4yMWi8PDw2tqasgup+8+/vhjNzc3d3f3hQsXKpVKsst5aREREcOHD6fRaPb29vv376+qqgoKChIIBEFBQdXV1X3oEL6BBADQb3BGCQDQb5BiAAD9BikGANBvkGIAAP0GKQYA0G+QYuDlYBi2Zs0a4vXWrVv79qzgRYsWHT16VFslHTlyRCQSBQYGamWLMpnsp59+0lJpYCBAioGXw2Awjh8/3uWntHSqvb39+QvEx8fv3bv3/PnzWtlcL1PshVWBAQMpBl4OjUaLiYnZvn1758bOIx1zc3OE0IULFyZPnjx37lxXV9eNGzcePHjQz89PLBYXFhYSi505c2bixImurq4nTpxACLW3t69bt87X19fT0/Nf//oX0UNgYOBbb70lFos7b+vQoUNisdjDw2PDhg0Ioc8///zy5ct/+ctf1q1b13mxb775hph4vHHjxs7tTk5ORARLpdIpU6YghC5evOjt7e3t7T169OjGxsaNGzemp6d7e3tv3779+VU1NTXNmDHDy8vLw8Pj559/1uI/MngpNLILAPpn+fLlnp6e69evf/5it27dunfvHpvN5vP5S5YsycrK2rlz5+7du3fs2IEQkslkFy9eLCwsDAwMLCgoSExMZLFY169fV6lU48ePJx7VkJWVdefOHWdn544+y8rKNmzYkJ2dbWVlNW3atKSkpI8//vjcuXNbt26VSCQdi506dSopKenatWumpqY1NTXPr3Pr1q2xsbHjx49XKBTGxsZbtmzZunUrka1xcXHPqerYsWN2dnYpKSkIofr6+j7+a4J+g7EYeGkWFhaRkZG7du16/mK+vr5cLpfBYLi4uBDHv1gslslkxKdz586lUChCoZDP59+/fz8tLS0xMdHb29vf37+6ujo/Px8h5Ofn1znCEELXr1+fMmWKjY0NjUZbsGDBpUuXetz0mTNn3n77bVNTU4RQ50dZ9Wj8+PGrV6/etWtXXV0djfan/64/vyqxWHzmzJkNGzakp6ezWKznbwXoDqQY6Iv3338/Pj6+4yldNBpNo9EghHAcb21tJRoZDAbxgkKhEK8pFIparSYaMQzr6A3DMBzHd+/effPmzZs3bxYVFRGpZ2Zm1mW7vfzCHI7jnfvvrKPUjmc9b9y4cf/+/S0tLWPHjr1//36Xfp5Tlaura3Z2tlgs/vDDDz///PPeFAZ0AVIM9AWbzZ47d258fDzx1snJKTs7GyGUnJzc1tbWmx6OHDmi0WgKCwsfPnzo5uYWEhKyb98+Yt0HDx486ymG/v7+Fy9erKqqam9vP3To0OTJk3tcbNq0aQcOHGhubkYIdTmj7Cj12LFjREthYaFYLN6wYYNEIrl//z6TyWxsbCQ+en5VZWVlpqamCxcuXLt2rf4+6mcIgOtioI/WrFmzZ88e4vU777wTHh7u5+c3derU7gOoHrm5uU2ePLm8vPzbb781NjZesmSJTCYbM2YMjuM2NjbPenIxl8vdvHlzYGAgjuPTp09/1oNcQkNDb968KZFI6HT69OnTv/rqq46PPvnkk+jo6K+++qrjGbw7duw4f/48lUodNWrUq6++SqFQaDSal5fXokWLVq1a9Zyqbt++vW7dOgqFYmRktG/fvt7sNdAFeKYFAEC/wRklAEC/QYoBAPQbpBgAQL9BigEA9BukGABAv0GKAQD0G6QYAEC//T+bdgFnIFUvmQAAAABJRU5ErkJggg==)"
      ],
      "metadata": {
        "id": "1Jq7PSmn60_5"
      }
    },
    {
      "cell_type": "code",
      "source": [
        "# finding WCSS value for different number of clusters\n",
        "# our aim is to find for which no of clusters there is minimum WCSS value\n",
        "wcss=[]\n",
        "\n",
        "for i in range(1, 11): # finding the best 'no of cluster' from 1 upto 10\n",
        "  kmeans = KMeans(n_clusters=i, init='k-means++', random_state=42)\n",
        "  kmeans.fit(x) # fitting the x, containing relevant features to kmeans\n",
        "  wcss.append(kmeans.inertia_) # this will give us the WCSS value"
      ],
      "metadata": {
        "id": "oObXH2kaoCuF"
      },
      "execution_count": null,
      "outputs": []
    },
    {
      "cell_type": "code",
      "source": [
        "# plotting the elbow graph to find the most optimum k value\n",
        "sns.set()\n",
        "plt.plot(range(1, 11), wcss) # (x-axis, y-axis)\n",
        "plt.title('The Elbow Point Graph')\n",
        "plt.xlabel('Number of Clusters')\n",
        "plt.ylabel('WCSS')\n",
        "plt.show()"
      ],
      "metadata": {
        "colab": {
          "base_uri": "https://localhost:8080/",
          "height": 480
        },
        "id": "r9Bm41bg_7Cd",
        "outputId": "5424cb8c-63c0-4292-ed6e-08ba5f3d594e"
      },
      "execution_count": 28,
      "outputs": [
        {
          "output_type": "display_data",
          "data": {
            "text/plain": [
              "<Figure size 640x480 with 1 Axes>"
            ],
            "image/png": "[encoded data removed]"
          },
          "metadata": {}
        }
      ]
    },
    {
      "cell_type": "markdown",
      "source": [
        "In the above figure you can observe 2 elbow points at 3 and 5, we will choose 5 since both the points show similar drop, therefore we take 5 as after 5 there is no further drop.\n",
        "\n",
        "Optimal no. of clusters = 5"
      ],
      "metadata": {
        "id": "Zp9_-99eAuy6"
      }
    },
    {
      "cell_type": "code",
      "source": [
        "#Training the K-Means clustering model\n",
        "kmeans = KMeans(n_clusters=5, init='k-means++', random_state=0)\n",
        "\n",
        "# return a label for each datapoint based on their cluster\n",
        "y = kmeans.fit_predict(x) # this will assign a label to each datapoint according to the cluster it belongs to (0,1,2,3,4)\n",
        "print(y)"
      ],
      "metadata": {
        "colab": {
          "base_uri": "https://localhost:8080/"
        },
        "id": "e_v6v9IYAdRV",
        "outputId": "f0b6a0b3-fce4-4ed8-ed46-e05ad89e5f1f"
      },
      "execution_count": 29,
      "outputs": [
        {
          "output_type": "stream",
          "name": "stdout",
          "text": [
            "[4 3 4 3 4 3 4 3 4 3 4 3 4 3 4 3 4 3 4 3 4 3 4 3 4 3 4 3 4 3 4 3 4 3 4 3 4\n",
            " 3 4 3 4 3 4 1 4 3 1 1 1 1 1 1 1 1 1 1 1 1 1 1 1 1 1 1 1 1 1 1 1 1 1 1 1 1\n",
            " 1 1 1 1 1 1 1 1 1 1 1 1 1 1 1 1 1 1 1 1 1 1 1 1 1 1 1 1 1 1 1 1 1 1 1 1 1\n",
            " 1 1 1 1 1 1 1 1 1 1 1 1 2 0 2 1 2 0 2 0 2 1 2 0 2 0 2 0 2 0 2 1 2 0 2 0 2\n",
            " 0 2 0 2 0 2 0 2 0 2 0 2 0 2 0 2 0 2 0 2 0 2 0 2 0 2 0 2 0 2 0 2 0 2 0 2 0\n",
            " 2 0 2 0 2 0 2 0 2 0 2 0 2 0 2]\n"
          ]
        },
        {
          "output_type": "stream",
          "name": "stderr",
          "text": [
            "/usr/local/lib/python3.10/dist-packages/sklearn/cluster/_kmeans.py:870: FutureWarning: The default value of `n_init` will change from 10 to 'auto' in 1.4. Set the value of `n_init` explicitly to suppress the warning\n",
            "  warnings.warn(\n"
          ]
        }
      ]
    },
    {
      "cell_type": "markdown",
      "source": [
        "Visualizing all the clusters"
      ],
      "metadata": {
        "id": "cUZOELmCD8x7"
      }
    },
    {
      "cell_type": "code",
      "source": [
        "# plotting all the clusters and their Centroids\n",
        "\n",
        "plt.figure(figsize=(5, 5))\n",
        "plt.scatter(x[y==0,0], x[y==0,1], s=50, c='green', label='Cluster 1')\n",
        "plt.scatter(x[y==1,0], x[y==1,1], s=50, c='red', label='Cluster 2')\n",
        "plt.scatter(x[y==2,0], x[y==2,1], s=50, c='yellow', label='Cluster 3')\n",
        "plt.scatter(x[y==3,0], x[y==3,1], s=50, c='violet', label='Cluster 4')\n",
        "plt.scatter(x[y==4,0], x[y==4,1], s=50, c='blue', label='Cluster 5')\n",
        "\n",
        "# plot the centroids\n",
        "plt.scatter(kmeans.cluster_centers_[:,0], kmeans.cluster_centers_[:,1], s=100, c='black', label='Centroids')\n",
        "\n",
        "plt.title('Customer Groups')\n",
        "plt.xlabel('Annual Income')\n",
        "plt.ylabel('Spending Score')\n",
        "plt.show()"
      ],
      "metadata": {
        "colab": {
          "base_uri": "https://localhost:8080/",
          "height": 496
        },
        "id": "CzbYwYkfB3Jf",
        "outputId": "0d4df373-33d9-4aaa-d86e-87ae3d9f6190"
      },
      "execution_count": 30,
      "outputs": [
        {
          "output_type": "display_data",
          "data": {
            "text/plain": [
              "<Figure size 500x500 with 1 Axes>"
            ],
            "image/png": "[encoded data removed]"
          },
          "metadata": {}
        }
      ]
    }
  ]
}